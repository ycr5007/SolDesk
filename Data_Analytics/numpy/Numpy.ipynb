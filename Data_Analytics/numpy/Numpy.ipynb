{
 "cells": [
  {
   "cell_type": "markdown",
   "metadata": {},
   "source": [
    "### 빅데이터 분석을 위한 파이썬 라이브러리"
   ]
  },
  {
   "cell_type": "markdown",
   "metadata": {},
   "source": [
    "- <b>Numpy : 과학계산 및 수학계산</b>\n",
    "- <b>pandas : 데이터 처리 및 분석</b>\n",
    "- <b>matplotlib, seaborn : 데이터 시각화</b>\n",
    "- <b>plotly : 오픈 소스인 대화형의 고품질 도면 및 인터렉티브한 그래픽 라이브러리</b>\n",
    "- SciPy : 신초 처리, 최적화, 과학 계산 및 통계 처리\n",
    "- <b>BeautifulSoup : HTML과 XML 에서 정보를 수집</b>\n",
    "- Scrapy : 웹 크롤링 및 데이터 수집\n",
    "- TensorFlow : 머신러닝 및 딥러닝\n",
    "- Keras : 신경망 라이브러리 및 딥러닝\n",
    "- NLTK : 자연어 처리"
   ]
  },
  {
   "cell_type": "markdown",
   "metadata": {},
   "source": [
    "---"
   ]
  },
  {
   "cell_type": "markdown",
   "metadata": {},
   "source": [
    "### Numpy (Numerical Python)\n",
    "\n",
    "- 파이썬의 수치 해석 프로그램인 Numeric 를 개선, 보완한 패키지\n",
    "- 산술 계산을 위한 가장 중요한 필수 패키지\n",
    "- 효율적인 다차원 배열인 ndarray는 빠른 배열 계산과 유연한 브로트캐스팅 기능 제공\n",
    "- 반복문을 작성할 필요 없이 전체 데이터 배열을 빠르게 계산할 수 있는 표준 수학 함수\n",
    "- 배열 데이터를 디스크에 쓰거나 읽을 수 있는 도구와 메모리에 적재된 파일을 다루는 도구\n",
    "- 선형대수, 난수 생성기, 푸리에 변환 기능\n",
    "- 이미지와 컴퓨터 그래픽을 빠르게 처리\n",
    "- C, C++, 포트란으로 작성한 코드를 연결할 수 있는 C API 제공"
   ]
  },
  {
   "cell_type": "markdown",
   "metadata": {},
   "source": [
    "###  [참고] <a href='https://s3.amazonaws.com/assets.datacamp.com/blog_assets/Numpy_Python_Cheat_Sheet.pdf'>NumPy Cheat Sheet</a>\n",
    ">> [Numpy 공식] <a href='https://numpy.org/doc/stable/user/index.html#user'>Numpy Documents</a>"
   ]
  },
  {
   "cell_type": "markdown",
   "metadata": {},
   "source": [
    "### 1. 넘파이 배열\n",
    "    - 벡터와 매트릭스를 배열이라고 함\n",
    "    - 벡터( 1차원 ), 매트릭스( 2차원 ), 텐서 플로우( 3차원 이상 )\n",
    "    - 논리적이고 통계적인 연산과 푸리에 변환 같은 연산을 매우 효율적으로 처리\n",
    "    - 머신러닝에서 사용되는 주요 데이터 구조"
   ]
  },
  {
   "cell_type": "markdown",
   "metadata": {},
   "source": [
    "### 2. ndarray 클래스 - 넘파이 배열 클래스 타입\n",
    "\n",
    "- 다차원 배열을 쉽게 생성하고 다양한 연산 수행\n",
    "- np.array(ndarray로 변환을 원하는 객체)\n",
    "- shape - 차원과 크기를 튜플 형태로 돌려줌\n",
    "- ndim - n dimesion(차원 확인)"
   ]
  },
  {
   "cell_type": "markdown",
   "metadata": {},
   "source": [
    "<img src=\"https://velog.velcdn.com/images%2Fbotry%2Fpost%2F592b114f-145e-47dd-8d5e-bd5ddb179864%2Farray.png\" width=\"720\" height=\"404\">"
   ]
  },
  {
   "cell_type": "markdown",
   "metadata": {},
   "source": [
    "***"
   ]
  },
  {
   "cell_type": "code",
   "execution_count": 6,
   "metadata": {},
   "outputs": [],
   "source": [
    "# import Module\n",
    "import numpy as np # numpy 는 np 라는 별칭을 기본적으로 사용한다"
   ]
  },
  {
   "cell_type": "markdown",
   "metadata": {},
   "source": [
    "#### 1 ) np.array([List]) : python의 List를 이용해 배열 생성"
   ]
  },
  {
   "cell_type": "markdown",
   "metadata": {},
   "source": [
    "**>> 1차원 배열 ( 벡터 )**"
   ]
  },
  {
   "cell_type": "code",
   "execution_count": 3,
   "metadata": {},
   "outputs": [
    {
     "data": {
      "text/plain": [
       "array([1, 2, 3, 4, 5, 6])"
      ]
     },
     "execution_count": 3,
     "metadata": {},
     "output_type": "execute_result"
    }
   ],
   "source": [
    "array1 = np.array([1,2,3,4,5,6])\n",
    "array1 # 셀 마지막 줄의 경우, print() 를 생략하더라도 결과가 출력 된다."
   ]
  },
  {
   "cell_type": "code",
   "execution_count": 12,
   "metadata": {},
   "outputs": [
    {
     "name": "stdout",
     "output_type": "stream",
     "text": [
      "type : <class 'numpy.ndarray'>\n",
      "shape : (6,)\n"
     ]
    }
   ],
   "source": [
    "print(f'type : {type(array1)}')\n",
    "print(f'shape : {array1.shape}')"
   ]
  },
  {
   "cell_type": "markdown",
   "metadata": {},
   "source": [
    "**>> 2차원 배열 ( 매트릭스 )**"
   ]
  },
  {
   "cell_type": "code",
   "execution_count": 9,
   "metadata": {},
   "outputs": [
    {
     "data": {
      "text/plain": [
       "array([[1, 2, 3],\n",
       "       [4, 5, 6]])"
      ]
     },
     "execution_count": 9,
     "metadata": {},
     "output_type": "execute_result"
    }
   ],
   "source": [
    "array2 = np.array([[1,2,3], [4,5,6]])\n",
    "array2"
   ]
  },
  {
   "cell_type": "code",
   "execution_count": 13,
   "metadata": {},
   "outputs": [
    {
     "name": "stdout",
     "output_type": "stream",
     "text": [
      "type : <class 'numpy.ndarray'>\n",
      "shape : (2, 3)\n"
     ]
    }
   ],
   "source": [
    "print(f'type : {type(array2)}')\n",
    "print(f'shape : {array2.shape}')"
   ]
  },
  {
   "cell_type": "code",
   "execution_count": 14,
   "metadata": {},
   "outputs": [
    {
     "data": {
      "text/plain": [
       "array([[1, 2, 3]])"
      ]
     },
     "execution_count": 14,
     "metadata": {},
     "output_type": "execute_result"
    }
   ],
   "source": [
    "array2 = np.array([[1,2,3]])\n",
    "array2"
   ]
  },
  {
   "cell_type": "code",
   "execution_count": 15,
   "metadata": {},
   "outputs": [
    {
     "name": "stdout",
     "output_type": "stream",
     "text": [
      "type : <class 'numpy.ndarray'>\n",
      "shape : (1, 3)\n"
     ]
    }
   ],
   "source": [
    "print(f'type : {type(array2)}')\n",
    "print(f'shape : {array2.shape}')"
   ]
  },
  {
   "cell_type": "markdown",
   "metadata": {},
   "source": [
    "#### 2) .ndim .shape .dtype : 배열의 정보 확인"
   ]
  },
  {
   "cell_type": "code",
   "execution_count": 24,
   "metadata": {},
   "outputs": [],
   "source": [
    "array3 = np.array([1,2.0,3,'4','5',6])\n",
    "array4 = np.array([1,2,3,4.0,5,6])"
   ]
  },
  {
   "cell_type": "code",
   "execution_count": 25,
   "metadata": {},
   "outputs": [
    {
     "name": "stdout",
     "output_type": "stream",
     "text": [
      "array1 : (6,) / array2 : (1, 3)\n",
      "array1 : 1 차원 / array2 : 2 차원\n",
      "array1 : int32 / array2 : int32 / array3 : <U32 / array4 : float64\n"
     ]
    }
   ],
   "source": [
    "print(f'array1 : {array1.shape} / array2 : {array2.shape}') # 배열의 최대 크기\n",
    "print(f'array1 : {array1.ndim} 차원 / array2 : {array2.ndim} 차원') # 배열의 차원 수\n",
    "print(f'array1 : {array1.dtype} / array2 : {array2.dtype} / array3 : {array3.dtype} / array4 : {array4.dtype}') # 데이터 타입"
   ]
  },
  {
   "cell_type": "markdown",
   "metadata": {},
   "source": [
    "> Python 의 리스트와 달리 Numpy 의 배열은 자료형이 같은 타입으로만 구성되어야만 한다."
   ]
  },
  {
   "cell_type": "markdown",
   "metadata": {},
   "source": [
    "#### 3) astype(변환할 타입)"
   ]
  },
  {
   "cell_type": "code",
   "execution_count": 26,
   "metadata": {},
   "outputs": [
    {
     "name": "stdout",
     "output_type": "stream",
     "text": [
      "int32\n"
     ]
    }
   ],
   "source": [
    "array1 = np.array([1,2,3])\n",
    "print(array1.dtype)"
   ]
  },
  {
   "cell_type": "code",
   "execution_count": 28,
   "metadata": {},
   "outputs": [
    {
     "name": "stdout",
     "output_type": "stream",
     "text": [
      "array1 : [1. 2. 3.], type : float64\n"
     ]
    }
   ],
   "source": [
    "array1_float = array1.astype('float64')\n",
    "print(f'array1 : {array1_float}, type : {array1_float.dtype}')"
   ]
  },
  {
   "cell_type": "code",
   "execution_count": 29,
   "metadata": {},
   "outputs": [
    {
     "name": "stdout",
     "output_type": "stream",
     "text": [
      "array1 : [1 2 3], type : int32\n"
     ]
    }
   ],
   "source": [
    "array1_float_int = array1.astype('int32')\n",
    "print(f'array1 : {array1_float_int}, type : {array1_float_int.dtype}')"
   ]
  },
  {
   "cell_type": "code",
   "execution_count": 31,
   "metadata": {},
   "outputs": [
    {
     "name": "stdout",
     "output_type": "stream",
     "text": [
      "array2 : [1 2 3], type : int32\n"
     ]
    }
   ],
   "source": [
    "array2 = np.array([1.2, 2.2, 3.2])\n",
    "array2_int = array2.astype('int32') # 형변환 과정에서 소수점 아래 데이터 손실 발생\n",
    "print(f'array2 : {array2_int}, type : {array2_int.dtype}')"
   ]
  },
  {
   "cell_type": "markdown",
   "metadata": {},
   "source": [
    "## Numpy 배열 생성 함수\n",
    "#### 1) arange(n) : 0 ~ n - 1 까지 값을 순차적으로 ndarray 값으로 생성 ( range 와 같은 양식 )"
   ]
  },
  {
   "cell_type": "code",
   "execution_count": 35,
   "metadata": {},
   "outputs": [
    {
     "name": "stdout",
     "output_type": "stream",
     "text": [
      "[0 1 2 3 4 5 6 7 8 9]\n",
      "[5 6 7 8 9]\n",
      "[1 3 5 7 9]\n"
     ]
    }
   ],
   "source": [
    "print(np.arange(10))\n",
    "print(np.arange(5,10))\n",
    "print(np.arange(1,11,2))"
   ]
  },
  {
   "cell_type": "markdown",
   "metadata": {},
   "source": [
    "**[ Question ] 5의 배수 ( 1 ~ 100 )**"
   ]
  },
  {
   "cell_type": "code",
   "execution_count": 36,
   "metadata": {},
   "outputs": [
    {
     "data": {
      "text/plain": [
       "array([ 1,  6, 11, 16, 21, 26, 31, 36, 41, 46, 51, 56, 61, 66, 71, 76, 81,\n",
       "       86, 91, 96])"
      ]
     },
     "execution_count": 36,
     "metadata": {},
     "output_type": "execute_result"
    }
   ],
   "source": [
    "np.arange(1,101,5)"
   ]
  },
  {
   "cell_type": "markdown",
   "metadata": {},
   "source": [
    "#### 2) zeros((row, col)) : 0 으로 채워서 ndarray 반환"
   ]
  },
  {
   "cell_type": "code",
   "execution_count": 44,
   "metadata": {},
   "outputs": [
    {
     "name": "stdout",
     "output_type": "stream",
     "text": [
      "[0. 0. 0.]\n",
      "[0 0 0]\n",
      "[[0.]\n",
      " [0.]]\n",
      "[[[0. 0. 0.]\n",
      "  [0. 0. 0.]]\n",
      "\n",
      " [[0. 0. 0.]\n",
      "  [0. 0. 0.]]\n",
      "\n",
      " [[0. 0. 0.]\n",
      "  [0. 0. 0.]]]\n"
     ]
    }
   ],
   "source": [
    "print(np.zeros(3)) # [0. 0. 0.] > float 타입으로 반환\n",
    "print(np.zeros(3, dtype='int32')) # [0 0 0] int형 지정\n",
    "print(np.zeros((2,1))) # 2 차원\n",
    "print(np.zeros((3,2,3))) # 3 차원"
   ]
  },
  {
   "cell_type": "markdown",
   "metadata": {},
   "source": [
    "#### 3) ones((row, col)) : 1 로 채워서 ndarray 반환 ( zeros 와 같은 구조 )"
   ]
  },
  {
   "cell_type": "code",
   "execution_count": 46,
   "metadata": {},
   "outputs": [
    {
     "name": "stdout",
     "output_type": "stream",
     "text": [
      "[1. 1. 1.]\n",
      "[[1. 1. 1.]\n",
      " [1. 1. 1.]]\n"
     ]
    }
   ],
   "source": [
    "print(np.ones(3)) # zeros 와 마찬가지로 float 타입을 반환한다.\n",
    "print(np.ones((2,3))) # 2 차원"
   ]
  },
  {
   "cell_type": "markdown",
   "metadata": {},
   "source": [
    "#### 4) empty((row, col)) : 무작위 값으로 ndarray 반환"
   ]
  },
  {
   "cell_type": "code",
   "execution_count": 52,
   "metadata": {},
   "outputs": [
    {
     "name": "stdout",
     "output_type": "stream",
     "text": [
      "[6.23042070e-307 4.67296746e-307 1.69121096e-306 8.01106037e-307]\n",
      "[[9.18998682e-312 3.16202013e-322 0.00000000e+000 0.00000000e+000]\n",
      " [6.23054293e-307 1.02964479e-071 1.80101709e+185 9.30589212e+165]\n",
      " [6.58873642e-066 5.05690897e-038 9.95656910e-043 3.12301048e-033]]\n",
      "[[         0 1072693248          0 1072693248]\n",
      " [         0 1072693248          0 1072693248]\n",
      " [         0 1072693248          0 1072693248]]\n"
     ]
    }
   ],
   "source": [
    "print(np.empty(4)) # [6.23042070e-307 4.67296746e-307 1.69121096e-306 8.01106037e-307] > 지수형태로 랜덤 값\n",
    "print(np.empty((3,4)))\n",
    "print(np.empty((3,4), dtype='int'))"
   ]
  },
  {
   "cell_type": "code",
   "execution_count": 53,
   "metadata": {},
   "outputs": [
    {
     "name": "stdout",
     "output_type": "stream",
     "text": [
      "512 ns ± 11 ns per loop (mean ± std. dev. of 7 runs, 1,000,000 loops each)\n"
     ]
    }
   ],
   "source": [
    "# 시간비교 : 512 ns ± 11 ns per loop (mean ± std. dev. of 7 runs, 1,000,000 loops each)\n",
    "%timeit np.zeros(4)"
   ]
  },
  {
   "cell_type": "code",
   "execution_count": 54,
   "metadata": {},
   "outputs": [
    {
     "name": "stdout",
     "output_type": "stream",
     "text": [
      "2.27 µs ± 76.9 ns per loop (mean ± std. dev. of 7 runs, 100,000 loops each)\n"
     ]
    }
   ],
   "source": [
    "# 시간비교 : 2.27 µs ± 76.9 ns per loop (mean ± std. dev. of 7 runs, 100,000 loops each)\n",
    "%timeit np.ones(4)"
   ]
  },
  {
   "cell_type": "code",
   "execution_count": 55,
   "metadata": {},
   "outputs": [
    {
     "name": "stdout",
     "output_type": "stream",
     "text": [
      "505 ns ± 15 ns per loop (mean ± std. dev. of 7 runs, 1,000,000 loops each)\n"
     ]
    }
   ],
   "source": [
    "# 시간비교 : 505 ns ± 15 ns per loop (mean ± std. dev. of 7 runs, 1,000,000 loops each)\n",
    "%timeit np.empty(4)"
   ]
  },
  {
   "cell_type": "markdown",
   "metadata": {},
   "source": [
    "#### 5) full((row, col), value) : value 값으로 채운 후 ndarray 반환 ( dtype 은 value를 따라간다 )"
   ]
  },
  {
   "cell_type": "code",
   "execution_count": 60,
   "metadata": {},
   "outputs": [
    {
     "name": "stdout",
     "output_type": "stream",
     "text": [
      "[[2 2 2 2]\n",
      " [2 2 2 2]\n",
      " [2 2 2 2]]\n"
     ]
    }
   ],
   "source": [
    "print(np.full((3,4), 2))"
   ]
  },
  {
   "cell_type": "markdown",
   "metadata": {},
   "source": [
    "#### 6) eye(size, k = val) : size 만큼의 정사각형 배열을 생성하여 k( 기준 ) 을 갖는 단위행렬을 생성한다. "
   ]
  },
  {
   "cell_type": "code",
   "execution_count": 62,
   "metadata": {},
   "outputs": [
    {
     "name": "stdout",
     "output_type": "stream",
     "text": [
      "[[1. 0. 0. 0. 0.]\n",
      " [0. 1. 0. 0. 0.]\n",
      " [0. 0. 1. 0. 0.]\n",
      " [0. 0. 0. 1. 0.]\n",
      " [0. 0. 0. 0. 1.]]\n",
      "[[0. 0. 0. 0. 0.]\n",
      " [1. 0. 0. 0. 0.]\n",
      " [0. 1. 0. 0. 0.]\n",
      " [0. 0. 1. 0. 0.]\n",
      " [0. 0. 0. 1. 0.]]\n"
     ]
    }
   ],
   "source": [
    "print(np.eye(5))\n",
    "print(np.eye(5, k = -1))"
   ]
  },
  {
   "cell_type": "markdown",
   "metadata": {},
   "source": [
    "#### 7) linspace(start, end, totalCnt) : 명시된 간격으로 균등하게 분할된 ndarray 생성"
   ]
  },
  {
   "cell_type": "code",
   "execution_count": 63,
   "metadata": {},
   "outputs": [
    {
     "name": "stdout",
     "output_type": "stream",
     "text": [
      "[ 1.    3.25  5.5   7.75 10.  ]\n"
     ]
    }
   ],
   "source": [
    "print(np.linspace(1,10,5)) # [ 1.    3.25  5.5   7.75 10.  ] 동일한 간격으로 값을 배분 (1 ~ 10 :: 2.25)"
   ]
  },
  {
   "cell_type": "markdown",
   "metadata": {},
   "source": [
    "#### 8) random\n",
    "###### .rand(row, col) : 0 ~ 1 사이의 숫자가 랜덤으로 생성\n",
    "###### .randn(row, col) : 가우시안 표준 정규분포에 따른 random 변수 생성\n",
    "###### .randint(start, end, (row, col)) : 지정한 정수로 된 랜덤 ndarray 생성\n",
    "###### .seed(임의의 수) : 랜덤한 값을 동일하게 다시 생성하고자 할 때 사용"
   ]
  },
  {
   "cell_type": "code",
   "execution_count": 96,
   "metadata": {},
   "outputs": [
    {
     "name": "stdout",
     "output_type": "stream",
     "text": [
      "[[0.37454012 0.95071431 0.73199394]\n",
      " [0.59865848 0.15601864 0.15599452]]\n",
      "[[[ 1.57921282  0.76743473]\n",
      "  [-0.46947439  0.54256004]\n",
      "  [-0.46341769 -0.46572975]\n",
      "  [ 0.24196227 -1.91328024]]\n",
      "\n",
      " [[-1.72491783 -0.56228753]\n",
      "  [-1.01283112  0.31424733]\n",
      "  [-0.90802408 -1.4123037 ]\n",
      "  [ 1.46564877 -0.2257763 ]]\n",
      "\n",
      " [[ 0.0675282  -1.42474819]\n",
      "  [-0.54438272  0.11092259]\n",
      "  [-1.15099358  0.37569802]\n",
      "  [-0.60063869 -0.29169375]]]\n",
      "[[84 92 60]\n",
      " [71 44  8]]\n"
     ]
    }
   ],
   "source": [
    "np.random.seed(42) # seed 번호 :: random 값에 대한 좌표와 같은 개념 >> Random 변수는 Seed 를 통해서 결정된다.\n",
    "print(np.random.rand(2,3))\n",
    "print(np.random.randn(3,4,2))\n",
    "print(np.random.randint(1, 100, (2,3)))"
   ]
  },
  {
   "cell_type": "markdown",
   "metadata": {},
   "source": [
    "#### 9) choice(array, size=(row, col), replace=[True|False]) : 주어진 1차원 ndarray 로부터 랜덤하게 샘플링 ( replace : 중복여부 ( Default : True ) )"
   ]
  },
  {
   "cell_type": "code",
   "execution_count": 98,
   "metadata": {},
   "outputs": [
    {
     "name": "stdout",
     "output_type": "stream",
     "text": [
      "[[92 62 17 89]\n",
      " [43 33 73 61]\n",
      " [99 13 94 47]]\n"
     ]
    }
   ],
   "source": [
    "# 정수 : np.arange(100)\n",
    "# 1 차원 배열 : 배열내의 데이터를 추출하여 샘플링 반환\n",
    "print(np.random.choice(100, size=(3,4)))"
   ]
  },
  {
   "cell_type": "code",
   "execution_count": 100,
   "metadata": {},
   "outputs": [
    {
     "data": {
      "text/plain": [
       "array([[3, 1],\n",
       "       [6, 4]])"
      ]
     },
     "execution_count": 100,
     "metadata": {},
     "output_type": "execute_result"
    }
   ],
   "source": [
    "array1 = np.array([1,2,3,4,5,6,7,8,9])\n",
    "np.random.choice(array1, size = (2, 2), replace=False)"
   ]
  },
  {
   "cell_type": "markdown",
   "metadata": {},
   "source": [
    "## 인덱싱 (Indexing)\n",
    " * 특정한 데이터 추출 : 원하는 위치의 인덱스 값 지정\n",
    " * 슬라이싱(slicing) : 연속된 인덱싱 상의 ndarray 추출\n",
    " * 팬시 인덱싱(Fancy Indexing) : 일정한 인덱싱 집합을 리스트 또는 ndarray 형태로 지정해 해당 위치에 있는 데이터의 ndarray 반환\n",
    " * 불린 인덱싱(Boolean Indexing) : 특정 조건에 해당하는지 여부인 [True|False] 값 인덱싱 집합을 기반으로 True에 해당하는 인덱스 위치에 있는 데이터의 ndarray 반환"
   ]
  },
  {
   "cell_type": "code",
   "execution_count": 101,
   "metadata": {},
   "outputs": [
    {
     "data": {
      "text/plain": [
       "array([1, 2, 3, 4, 5, 6, 7, 8, 9])"
      ]
     },
     "execution_count": 101,
     "metadata": {},
     "output_type": "execute_result"
    }
   ],
   "source": [
    "array1 = np.arange(1, 10)\n",
    "array1"
   ]
  },
  {
   "cell_type": "code",
   "execution_count": 106,
   "metadata": {},
   "outputs": [
    {
     "name": "stdout",
     "output_type": "stream",
     "text": [
      "Type : <class 'numpy.int32'>\n",
      "인덱싱 :: array1[3] > 4\n",
      "인덱싱 :: array1[-3] > 7\n"
     ]
    }
   ],
   "source": [
    "print(f'Type : {type(array1[3])}')\n",
    "print(f'인덱싱 :: array1[3] > {array1[3]}') # 인덱스 번호는 0 부터 시작\n",
    "print(f'인덱싱 :: array1[-3] > {array1[-3]}') # 음수의 경우 뒤에서 인덱싱"
   ]
  },
  {
   "cell_type": "code",
   "execution_count": 108,
   "metadata": {},
   "outputs": [
    {
     "data": {
      "text/plain": [
       "array([[1, 2, 3],\n",
       "       [4, 5, 6],\n",
       "       [7, 8, 9]])"
      ]
     },
     "execution_count": 108,
     "metadata": {},
     "output_type": "execute_result"
    }
   ],
   "source": [
    "array_2d = array1.reshape(3,3) #  reshape : ndarray 의 차원을 변경할 때 사용\n",
    "array_2d"
   ]
  },
  {
   "cell_type": "code",
   "execution_count": 110,
   "metadata": {},
   "outputs": [
    {
     "name": "stdout",
     "output_type": "stream",
     "text": [
      "2차원 인덱싱 : array_2d[1] : [4 5 6]\n",
      "2차원 인덱싱 : array_2d[1][1] : 5\n",
      "2차원 인덱싱 : array_2d[2, -1] : 9\n"
     ]
    }
   ],
   "source": [
    "print(f'2차원 인덱싱 : array_2d[1] : {array_2d[1]}')\n",
    "print(f'2차원 인덱싱 : array_2d[1][1] : {array_2d[1][1]}')\n",
    "print(f'2차원 인덱싱 : array_2d[2, -1] : {array_2d[2, -1]}')"
   ]
  },
  {
   "cell_type": "code",
   "execution_count": 4,
   "metadata": {},
   "outputs": [
    {
     "data": {
      "text/plain": [
       "array([[[ 0,  1,  2],\n",
       "        [ 3,  4,  5],\n",
       "        [ 6,  7,  8]],\n",
       "\n",
       "       [[ 9, 10, 11],\n",
       "        [12, 13, 14],\n",
       "        [15, 16, 17]],\n",
       "\n",
       "       [[18, 19, 20],\n",
       "        [21, 22, 23],\n",
       "        [24, 25, 26]],\n",
       "\n",
       "       [[27, 28, 29],\n",
       "        [30, 31, 32],\n",
       "        [33, 34, 35]]])"
      ]
     },
     "execution_count": 4,
     "metadata": {},
     "output_type": "execute_result"
    }
   ],
   "source": [
    "array_3d = np.arange(36).reshape(4,3,3)\n",
    "array_3d"
   ]
  },
  {
   "cell_type": "code",
   "execution_count": 7,
   "metadata": {},
   "outputs": [
    {
     "name": "stdout",
     "output_type": "stream",
     "text": [
      "3차원 인덱싱 : array_3d[0] \n",
      " [[0 1 2]\n",
      " [3 4 5]\n",
      " [6 7 8]]\n",
      "\n",
      "3차원 인덱싱 : array_3d[0, 1] \n",
      " [3 4 5]\n",
      "\n",
      "3차원 인덱싱 : array_3d[0, 1, -1] \n",
      " 5\n",
      "\n",
      "[Q] 16 인덱싱 : array_3d[1, 2, 1] \n",
      " 16\n"
     ]
    }
   ],
   "source": [
    "print(f'3차원 인덱싱 : array_3d[0] \\n {array_3d[0]}\\n')\n",
    "print(f'3차원 인덱싱 : array_3d[0, 1] \\n {array_3d[0, 1]}\\n')\n",
    "print(f'3차원 인덱싱 : array_3d[0, 1, -1] \\n {array_3d[0, 1, -1]}\\n')\n",
    "print(f'[Q] 16 인덱싱 : array_3d[1, 2, 1] \\n {array_3d[1, 2, 1]}')"
   ]
  },
  {
   "cell_type": "markdown",
   "metadata": {},
   "source": [
    "## 슬라이싱 (Slicing) : 연속된 인덱싱 상의 ndarray 추출"
   ]
  },
  {
   "cell_type": "code",
   "execution_count": 8,
   "metadata": {},
   "outputs": [
    {
     "data": {
      "text/plain": [
       "array([1, 2, 3, 4, 5, 6, 7, 8, 9])"
      ]
     },
     "execution_count": 8,
     "metadata": {},
     "output_type": "execute_result"
    }
   ],
   "source": [
    "array1 = np.arange(1,10)\n",
    "array1"
   ]
  },
  {
   "cell_type": "code",
   "execution_count": 14,
   "metadata": {},
   "outputs": [
    {
     "name": "stdout",
     "output_type": "stream",
     "text": [
      "1차원 슬라이싱 : array1[:3] > [1 2 3]\n",
      "1차원 슬라이싱 : array1[3:] > [4 5 6 7 8 9]\n",
      "1차원 슬라이싱 : array1[1:5] > [2 3 4 5]\n",
      "1차원 슬라이싱 : array1[:] > [1 2 3 4 5 6 7 8 9]\n"
     ]
    }
   ],
   "source": [
    "# 뒷자리 인덱스 번호는 포함하지 않는다 ( 인덱스 0 ~ 2 까지만 추출 )\n",
    "# 앞자리는 시작 숫자, 포함한다\n",
    "print(f'1차원 슬라이싱 : array1[:3] > {array1[:3]}') \n",
    "print(f'1차원 슬라이싱 : array1[3:] > {array1[3:]}') \n",
    "print(f'1차원 슬라이싱 : array1[1:5] > {array1[1:5]}') \n",
    "print(f'1차원 슬라이싱 : array1[:] > {array1[:]}') "
   ]
  },
  {
   "cell_type": "code",
   "execution_count": 13,
   "metadata": {},
   "outputs": [
    {
     "data": {
      "text/plain": [
       "array([[1, 2, 3],\n",
       "       [4, 5, 6],\n",
       "       [7, 8, 9]])"
      ]
     },
     "execution_count": 13,
     "metadata": {},
     "output_type": "execute_result"
    }
   ],
   "source": [
    "array2 = array1.reshape(3,3)\n",
    "array2"
   ]
  },
  {
   "cell_type": "code",
   "execution_count": 19,
   "metadata": {},
   "outputs": [
    {
     "name": "stdout",
     "output_type": "stream",
     "text": [
      "2차원 슬라이싱 : array2[0:2, 0:1] \n",
      " [[1]\n",
      " [4]]\n",
      "2차원 슬라이싱 : array2[1:3, :] \n",
      " [[4 5 6]\n",
      " [7 8 9]]\n",
      "2차원 슬라이싱 : array2[0:2, 1:3] \n",
      " [[2 3]\n",
      " [5 6]]\n",
      "2차원 슬라이싱 : array2[:2, 1:] \n",
      " [[2 3]\n",
      " [5 6]]\n"
     ]
    }
   ],
   "source": [
    "# array[행슬라이싱, 열슬라이싱]\n",
    "print(f'2차원 슬라이싱 : array2[0:2, 0:1] \\n {array2[0:2, 0:1]}')\n",
    "print(f'2차원 슬라이싱 : array2[1:3, :] \\n {array2[1:3, :]}')\n",
    "print(f'2차원 슬라이싱 : array2[0:2, 1:3] \\n {array2[0:2, 1:3]}')\n",
    "print(f'2차원 슬라이싱 : array2[:2, 1:] \\n {array2[:2, 1:]}')"
   ]
  },
  {
   "cell_type": "markdown",
   "metadata": {},
   "source": [
    "## 팬시 인덱싱 (Fancy Indexing)"
   ]
  },
  {
   "cell_type": "code",
   "execution_count": 31,
   "metadata": {},
   "outputs": [
    {
     "name": "stdout",
     "output_type": "stream",
     "text": [
      "팬시 인덱싱 : array2[[0, 1], 2] \n",
      " [3 6]\n",
      "팬시 인덱싱 : array2[[0, 1], 0:2] \n",
      " [[1 2]\n",
      " [4 5]]\n",
      "팬시 인덱싱 : array2[[0, 1]] \n",
      " [[1 2 3]\n",
      " [4 5 6]]\n"
     ]
    }
   ],
   "source": [
    "print(f'팬시 인덱싱 : array2[[0, 1], 2] \\n {array2[[0, 1], 2]}')\n",
    "print(f'팬시 인덱싱 : array2[[0, 1], 0:2] \\n {array2[[0, 1], 0:2]}')\n",
    "print(f'팬시 인덱싱 : array2[[0, 1]] \\n {array2[[0, 1]]}')"
   ]
  },
  {
   "cell_type": "markdown",
   "metadata": {},
   "source": [
    "## 불린 인덱싱 (Boolean Indexing)"
   ]
  },
  {
   "cell_type": "code",
   "execution_count": 40,
   "metadata": {},
   "outputs": [
    {
     "name": "stdout",
     "output_type": "stream",
     "text": [
      "불린 인덱싱 : array1[array1 > 5] \n",
      " [6 7 8 9]\n",
      "불린 인덱싱 : array2[array2 % 2 == 0] \n",
      " [2 4 6 8]\n"
     ]
    }
   ],
   "source": [
    "print(f'불린 인덱싱 : array1[array1 > 5] \\n {array1[array1 > 5]}')\n",
    "print(f'불린 인덱싱 : array2[array2 % 2 == 0] \\n {array2[array2 % 2 == 0]}') # 2 차원 배열은 1차원 배열로 변환 반환"
   ]
  },
  {
   "cell_type": "code",
   "execution_count": 42,
   "metadata": {},
   "outputs": [
    {
     "data": {
      "text/plain": [
       "array([72, 30, 56, 25, 75, 46, 32,  9,  8, 15])"
      ]
     },
     "execution_count": 42,
     "metadata": {},
     "output_type": "execute_result"
    }
   ],
   "source": [
    "s = np.random.randint(1, 100, size = 10)\n",
    "s"
   ]
  },
  {
   "cell_type": "code",
   "execution_count": null,
   "metadata": {},
   "outputs": [],
   "source": [
    "print(f'불린 인덱싱 : s % 2 == 0 \\n {s % 2 == 0}') # 불린형태로 반환, True 인 경우만 배열에 append 하여 배열 반환\n",
    "print(f'불린 인덱싱 : s[s > 40] \\n {s[s > 40]}')\n",
    "print(f'불린 인덱싱 : s[(s % 2 == 0) & (s > 60)] \\n {s[(s % 2 == 0) & (s > 60)]}') # numpy ( and > (&) / or > (|) / not > (~) 사용 불가)\n",
    "print(f'불린 인덱싱 : s[(s == 72) | (s == 9)] \\n {s[(s == 72) | (s == 9)]}')\n",
    "print(f'불린 인덱싱 : s[~(s == 72)] \\n {s[~(s == 72)]}')\n",
    "print(f'불린 인덱싱 : {s[np.logical_and(s % 2 == 0, s > 60)]}')\n",
    "print(f'불린 인덱싱 : {s[np.logical_or(s == 72, s == 9)]}')\n",
    "print(f'불린 인덱싱 : {s[np.logical_not(s == 72)]}')"
   ]
  },
  {
   "cell_type": "markdown",
   "metadata": {},
   "source": [
    "\n",
    "## 배열의 형태 변환 ( 차원 변환 )\n",
    "* 다차원 배열을 1차원 배열로 변경\n",
    "    * ravel / flatten / reshape 등 활용\n",
    "    \n",
    "##### ravel / flatten / reshape 의 차이\n",
    "* ravel : 원본과 연결됨 ( 연결·연동 )\n",
    "    * numpy 함수\n",
    "* flatten : 원본과 연결되어있지 않음 ( 복제 )\n",
    "    * ndarray 함수\n",
    "* reshape : reshape 한 후의 결과의 전체 원소 개수와 이전 개수가 같아야 변환이 가능하다\n",
    "    * ndarray 함수"
   ]
  },
  {
   "cell_type": "code",
   "execution_count": 61,
   "metadata": {},
   "outputs": [
    {
     "data": {
      "text/plain": [
       "array([[ 0,  1,  2,  3,  4],\n",
       "       [ 5,  6,  7,  8,  9],\n",
       "       [10, 11, 12, 13, 14]])"
      ]
     },
     "execution_count": 61,
     "metadata": {},
     "output_type": "execute_result"
    }
   ],
   "source": [
    "x = np.arange(15).reshape(3,5)\n",
    "x"
   ]
  },
  {
   "cell_type": "code",
   "execution_count": 86,
   "metadata": {},
   "outputs": [
    {
     "data": {
      "text/plain": [
       "array([[[ 0,  1],\n",
       "        [ 2,  3]],\n",
       "\n",
       "       [[ 4,  5],\n",
       "        [ 6,  7]],\n",
       "\n",
       "       [[ 8,  9],\n",
       "        [10, 11]]])"
      ]
     },
     "execution_count": 86,
     "metadata": {},
     "output_type": "execute_result"
    }
   ],
   "source": [
    "y = np.arange(12).reshape(3,2,2)\n",
    "y"
   ]
  },
  {
   "cell_type": "code",
   "execution_count": 87,
   "metadata": {},
   "outputs": [
    {
     "name": "stdout",
     "output_type": "stream",
     "text": [
      "x.ravel() : [100   1   2   3   4   5   6   7   8   9  10  11  12  13  14]\n",
      "np.ravel(x) : [100   1   2   3   4   5   6   7   8   9  10  11  12  13  14]\n",
      "x.flatten() : [100   1   2   3   4   5   6   7   8   9  10  11  12  13  14]\n",
      "y.ravel() : [ 0  1  2  3  4  5  6  7  8  9 10 11]\n",
      "np.ravel(y) : [ 0  1  2  3  4  5  6  7  8  9 10 11]\n",
      "y.flatten() : [ 0  1  2  3  4  5  6  7  8  9 10 11]\n",
      "x.reshape(-1) : [100   1   2   3   4   5   6   7   8   9  10  11  12  13  14]\n"
     ]
    }
   ],
   "source": [
    "print(f'x.ravel() : {x.ravel()}')\n",
    "print(f'np.ravel(x) : {np.ravel(x)}')\n",
    "print(f'x.flatten() : {x.flatten()}') # np.flatten(x) :: 사용 X (numpy 에 없음, ndarray 함수)\n",
    "\n",
    "print(f'y.ravel() : {y.ravel()}')\n",
    "print(f'np.ravel(y) : {np.ravel(y)}')\n",
    "print(f'y.flatten() : {y.flatten()}') # np.flatten(x) :: 사용 X (numpy 에 없음, ndarray 함수)\n",
    "\n",
    "# reshape 를 활용한 flatten\n",
    "print(f'x.reshape(-1) : {x.reshape(-1)}')"
   ]
  },
  {
   "cell_type": "code",
   "execution_count": 80,
   "metadata": {},
   "outputs": [
    {
     "name": "stdout",
     "output_type": "stream",
     "text": [
      "x :: [[100   1   2   3   4]\n",
      " [  5   6   7   8   9]\n",
      " [ 10  11  12  13  14]]\n",
      "temp_x :: [100   1   2   3   4   5   6   7   8   9  10  11  12  13  14]\n"
     ]
    }
   ],
   "source": [
    "temp_x = x.ravel() # 원본과 연결되어있는 상태\n",
    "temp_x[0] = 100\n",
    "print(f'x :: {x}')\n",
    "print(f'temp_x :: {temp_x}')"
   ]
  },
  {
   "cell_type": "code",
   "execution_count": 83,
   "metadata": {},
   "outputs": [
    {
     "name": "stdout",
     "output_type": "stream",
     "text": [
      "x :: [[100   1   2   3   4]\n",
      " [  5   6   7   8   9]\n",
      " [ 10  11  12  13  14]]\n",
      "temp_y :: [ 0  1  2  3  4  5  6  7  8  9 10 11 12 13 14]\n"
     ]
    }
   ],
   "source": [
    "temp_y = x.flatten() # 원본과 연결되어있지 않음\n",
    "temp_y[0] = 0\n",
    "print(f'x :: {x}')\n",
    "print(f'temp_y :: {temp_y}')"
   ]
  },
  {
   "cell_type": "code",
   "execution_count": 85,
   "metadata": {},
   "outputs": [
    {
     "data": {
      "text/plain": [
       "array([100,   5,  10,   1,   6,  11,   2,   7,  12,   3,   8,  13,   4,\n",
       "         9,  14])"
      ]
     },
     "execution_count": 85,
     "metadata": {},
     "output_type": "execute_result"
    }
   ],
   "source": [
    "x.ravel(order='F')\n",
    "# [order] Type ( flatten 에도 존재한다)\n",
    "# C : 열 기준으로 읽어 옴 ( Default )\n",
    "# F : 행 기준으로 읽어 옴"
   ]
  },
  {
   "cell_type": "code",
   "execution_count": 89,
   "metadata": {},
   "outputs": [
    {
     "name": "stdout",
     "output_type": "stream",
     "text": [
      "y.reshape(-1) \n",
      " [ 0  1  2  3  4  5  6  7  8  9 10 11]\n",
      "y.reshape(-1, 4) \n",
      " [[ 0  1  2  3]\n",
      " [ 4  5  6  7]\n",
      " [ 8  9 10 11]]\n"
     ]
    }
   ],
   "source": [
    "print(f'y.reshape(-1) \\n {y.reshape(-1)}')\n",
    "print(f'y.reshape(-1, 4) \\n {y.reshape(-1, 4)}')"
   ]
  },
  {
   "cell_type": "markdown",
   "metadata": {},
   "source": [
    "## 기본함수 - 행렬 사칙연산\n",
    "1. 행렬 사칙연산 ( 연산기호 : + - * / 사용 가능 )\n",
    "    * np.add(x, y)\n",
    "    * np.subtract(x, y)\n",
    "    * np.multiply(x, y)\n",
    "    * np.divide(x, y)\n",
    "      \n",
    "      \n",
    "2. 행렬 통계함수\n",
    "    * arr.mean() : 최소 값\n",
    "    * arr.max() : 최대 값\n",
    "    * np.argmax(arr) : 최대 값 인덱스 번호 ( 1차원 배열로 변환한 후의 인덱스 번호 )\n",
    "    * np.var(arr) : 분산\n",
    "    * np.median(arr) : 중앙값\n",
    "    * arr.std() : 표준편차\n",
    "    \n",
    "    \n",
    "3. 행렬 집계함수 ( 합계, 누적합계 )\n",
    "    * np.sum(arr) : 합계\n",
    "    * np.cumsum(arr) : 누적 합계"
   ]
  },
  {
   "cell_type": "code",
   "execution_count": 90,
   "metadata": {},
   "outputs": [],
   "source": [
    "x = np.array([[4,4,4], [8,8,8]])\n",
    "y = np.array([[1,1,1], [2,2,2]])"
   ]
  },
  {
   "cell_type": "code",
   "execution_count": 93,
   "metadata": {},
   "outputs": [
    {
     "name": "stdout",
     "output_type": "stream",
     "text": [
      "np.add(x, y) \n",
      " [[ 5  5  5]\n",
      " [10 10 10]]\n",
      "x + y \n",
      " [[ 5  5  5]\n",
      " [10 10 10]]\n",
      "np.subtract(x, y) \n",
      " [[3 3 3]\n",
      " [6 6 6]]\n",
      "x - y \n",
      " [[3 3 3]\n",
      " [6 6 6]]\n",
      "np.multiply(x, y) \n",
      " [[ 4  4  4]\n",
      " [16 16 16]]\n",
      "x * y \n",
      " [[ 4  4  4]\n",
      " [16 16 16]]\n",
      "np.divide(x, y) \n",
      " [[4. 4. 4.]\n",
      " [4. 4. 4.]]\n",
      "x / y \n",
      " [[4. 4. 4.]\n",
      " [4. 4. 4.]]\n"
     ]
    }
   ],
   "source": [
    "print(f'np.add(x, y) \\n {np.add(x, y)}')\n",
    "print(f'x + y \\n {x + y}')\n",
    "print(f'np.subtract(x, y) \\n {np.subtract(x, y)}')\n",
    "print(f'x - y \\n {x - y}')\n",
    "print(f'np.multiply(x, y) \\n {np.multiply(x, y)}')\n",
    "print(f'x * y \\n {x * y}')\n",
    "print(f'np.divide(x, y) \\n {np.divide(x, y)}')\n",
    "print(f'x / y \\n {x / y}')"
   ]
  },
  {
   "cell_type": "markdown",
   "metadata": {},
   "source": [
    "---"
   ]
  },
  {
   "cell_type": "code",
   "execution_count": 104,
   "metadata": {},
   "outputs": [],
   "source": [
    "x = np.random.rand(15).reshape(3,5)"
   ]
  },
  {
   "cell_type": "code",
   "execution_count": 107,
   "metadata": {},
   "outputs": [
    {
     "name": "stdout",
     "output_type": "stream",
     "text": [
      "x.mean() : 0.37337484862813863\n",
      "x.max() : 0.6261861399005684\n",
      "np.argmax(x) : 1\n",
      "np.var(x) : 0.034174479869946074\n",
      "np.median(x) : 0.3480333523175865\n",
      "x.std() : 0.18486340868313036\n"
     ]
    }
   ],
   "source": [
    "print(f'x.mean() : {x.mean()}')\n",
    "print(f'x.max() : {x.max()}')\n",
    "print(f'np.argmax(x) : {np.argmax(x)}') # 1차원 배열로 바꾼 후의 최값의 index 값\n",
    "print(f'np.var(x) : {np.var(x)}') # 분산\n",
    "print(f'np.median(x) : {np.median(x)}') # 중앙 값\n",
    "print(f'x.std() : {x.std()}') # 표준편차"
   ]
  },
  {
   "cell_type": "markdown",
   "metadata": {},
   "source": [
    "---"
   ]
  },
  {
   "cell_type": "code",
   "execution_count": 108,
   "metadata": {},
   "outputs": [
    {
     "name": "stdout",
     "output_type": "stream",
     "text": [
      "np.sum(x) \n",
      " 5.60062272942208\n",
      "np.cumsum(x) \n",
      " [0.59844616 1.2246323  1.41786219 1.6184008  1.96643415 2.20428957\n",
      " 2.26120645 2.87316504 3.04486652 3.27873611 3.75529635 4.02717625\n",
      " 4.54353835 5.00149391 5.60062273]\n"
     ]
    }
   ],
   "source": [
    "print(f'np.sum(x) \\n {np.sum(x)}') # 총 합계 값\n",
    "print(f'np.cumsum(x) \\n {np.cumsum(x)}') # 누적 합계 배열"
   ]
  },
  {
   "cell_type": "code",
   "execution_count": 112,
   "metadata": {},
   "outputs": [],
   "source": [
    "array1 = x.reshape(3,5)"
   ]
  },
  {
   "cell_type": "code",
   "execution_count": 113,
   "metadata": {},
   "outputs": [
    {
     "name": "stdout",
     "output_type": "stream",
     "text": [
      "array1.sum() :: 5.60062272942208\n",
      "array1.sum(axis = 0) :: [1.31286183 0.95498292 1.32155057 0.83019566 1.18103176]\n",
      "array1.sum(axis = 1) :: [1.96643415 1.31230196 2.32188662]\n"
     ]
    }
   ],
   "source": [
    "print(f'array1.sum() :: {array1.sum()}')\n",
    "print(f'array1.sum(axis = 0) :: {array1.sum(axis = 0)}') # axis : 0 ( 행 ), 1 ( 열 )\n",
    "print(f'array1.sum(axis = 1) :: {array1.sum(axis = 1)}')"
   ]
  },
  {
   "cell_type": "code",
   "execution_count": 118,
   "metadata": {},
   "outputs": [
    {
     "data": {
      "text/plain": [
       "array([[[ 0,  1,  2],\n",
       "        [ 3,  4,  5],\n",
       "        [ 6,  7,  8],\n",
       "        [ 9, 10, 11]],\n",
       "\n",
       "       [[12, 13, 14],\n",
       "        [15, 16, 17],\n",
       "        [18, 19, 20],\n",
       "        [21, 22, 23]],\n",
       "\n",
       "       [[24, 25, 26],\n",
       "        [27, 28, 29],\n",
       "        [30, 31, 32],\n",
       "        [33, 34, 35]]])"
      ]
     },
     "execution_count": 118,
     "metadata": {},
     "output_type": "execute_result"
    }
   ],
   "source": [
    "array2 = np.arange(36).reshape(3,4,3)\n",
    "array2"
   ]
  },
  {
   "cell_type": "code",
   "execution_count": 119,
   "metadata": {},
   "outputs": [
    {
     "name": "stdout",
     "output_type": "stream",
     "text": [
      "array2.sum() \n",
      " 630\n",
      "array2.sum(axis = 0) \n",
      " [[36 39 42]\n",
      " [45 48 51]\n",
      " [54 57 60]\n",
      " [63 66 69]]\n",
      "array2.sum(axis = 1) \n",
      " [[ 18  22  26]\n",
      " [ 66  70  74]\n",
      " [114 118 122]]\n",
      "array2.sum(axis = 2) \n",
      " [[  3  12  21  30]\n",
      " [ 39  48  57  66]\n",
      " [ 75  84  93 102]]\n"
     ]
    }
   ],
   "source": [
    "print(f'array2.sum() \\n {array2.sum()}')\n",
    "print(f'array2.sum(axis = 0) \\n {array2.sum(axis = 0)}') # axis : 0 ( 행 ), 1 ( 열 ), 2 ( 면 )\n",
    "print(f'array2.sum(axis = 1) \\n {array2.sum(axis = 1)}')\n",
    "print(f'array2.sum(axis = 2) \\n {array2.sum(axis = 2)}')"
   ]
  },
  {
   "cell_type": "markdown",
   "metadata": {},
   "source": [
    "***"
   ]
  },
  {
   "cell_type": "markdown",
   "metadata": {},
   "source": [
    "### 브로드 캐스팅 rules\n",
    "- https://numpy.org/doc/stable/user/basics.broadcasting.html\n",
    "-  뒷 차원에서 부터 비교하여 Shape 이 같거나, 차원 중 값이 1인 것이 존재하면 가능\n",
    "<img src='https://numpy.org/doc/stable/_images/broadcasting_2.png'>\n",
    "<img src='https://numpy.org/doc/stable/_images/broadcasting_3.png'>"
   ]
  },
  {
   "cell_type": "code",
   "execution_count": 136,
   "metadata": {},
   "outputs": [],
   "source": [
    "x = np.arange(20).reshape(4,5)\n",
    "y = np.random.rand(20).reshape(4,5)"
   ]
  },
  {
   "cell_type": "code",
   "execution_count": 139,
   "metadata": {},
   "outputs": [
    {
     "name": "stdout",
     "output_type": "stream",
     "text": [
      "[[ 0.79096178  1.85228217  2.96895725  3.39401488  4.00630242]\n",
      " [ 5.3114187   6.5122186   7.30365129  8.98476881  9.80305163]\n",
      " [10.28341361 11.07589933 12.39545648 13.71428072 14.30554274]\n",
      " [15.23676764 16.31263158 17.27465505 18.83965483 19.41263272]]\n",
      "\n",
      "[[ 2  3  4  5  6]\n",
      " [ 7  8  9 10 11]\n",
      " [12 13 14 15 16]\n",
      " [17 18 19 20 21]]\n",
      "\n",
      "[[ 0  2  4  6  8]\n",
      " [10 12 14 16 18]\n",
      " [20 22 24 26 28]\n",
      " [30 32 34 36 38]]\n",
      "\n",
      "[[0.  0.5 1.  1.5 2. ]\n",
      " [2.5 3.  3.5 4.  4.5]\n",
      " [5.  5.5 6.  6.5 7. ]\n",
      " [7.5 8.  8.5 9.  9.5]]\n",
      "\n",
      "[[100 102 104 106 108]\n",
      " [105 107 109 111 113]\n",
      " [110 112 114 116 118]\n",
      " [115 117 119 121 123]]\n",
      "\n"
     ]
    }
   ],
   "source": [
    "print(x + y, end=\"\\n\\n\") # 배열이 일치한 행과 열을 갖고 있는경우 연산 가능\n",
    "print(x + 2, end=\"\\n\\n\")\n",
    "print(x * 2, end=\"\\n\\n\")\n",
    "print(x / 2, end=\"\\n\\n\")\n",
    "# print(x * np.arange(12).reshape(4,3), end=\"\\n\\n\") # ValueError: operands could not be broadcast together with shapes (3,5) (4,3)\n",
    "print(x + np.arange(100, 105), end=\"\\n\\n\") # broadcasting 성공 ( 연산할 배열의 행이 한 개이며, 열 개수가 일치할 경우 가능 )\n",
    "# print(x + np.arange(100, 110).reshape(2,5), end=\"\\n\\n\") # ValueError: operands could not be broadcast together with shapes (4,5) (2,5) "
   ]
  },
  {
   "cell_type": "markdown",
   "metadata": {},
   "source": [
    "## [실습]"
   ]
  },
  {
   "cell_type": "markdown",
   "metadata": {},
   "source": [
    "#### 1) 서울의 한달 온도에 대한 데이터 생성 ( 31개의 온도 데이터 20 ~ 32 사이 )"
   ]
  },
  {
   "cell_type": "code",
   "execution_count": 150,
   "metadata": {},
   "outputs": [
    {
     "data": {
      "text/plain": [
       "array([28.86953284, 24.4359786 , 30.0385067 , 24.922296  , 24.77989396,\n",
       "       28.82254675, 25.84930695, 26.60982763, 30.66374635, 20.84204118,\n",
       "       22.69518333, 30.56824106, 26.23652   , 20.50852297, 30.44730662,\n",
       "       30.47283213, 31.26768798, 25.08040704, 26.06173751, 25.92198606,\n",
       "       22.55919278, 29.13293204, 23.40168651, 20.77147166, 31.74933626,\n",
       "       26.0596308 , 27.4313065 , 27.08151198, 22.92061201, 21.30257766,\n",
       "       23.93547594])"
      ]
     },
     "execution_count": 150,
     "metadata": {},
     "output_type": "execute_result"
    }
   ],
   "source": [
    "temper = np.random.rand(31)  + np.random.randint(20, 32, 31)\n",
    "temper"
   ]
  },
  {
   "cell_type": "markdown",
   "metadata": {},
   "source": [
    "#### 2) 기온이 25도를 넘는 날의 수 출력"
   ]
  },
  {
   "cell_type": "code",
   "execution_count": 152,
   "metadata": {},
   "outputs": [],
   "source": [
    "day_cnt = len(temper[temper > 25])"
   ]
  },
  {
   "cell_type": "markdown",
   "metadata": {},
   "source": [
    "#### 3) 기온이 25도를 넘는 날의 평균 기온"
   ]
  },
  {
   "cell_type": "code",
   "execution_count": 153,
   "metadata": {},
   "outputs": [
    {
     "data": {
      "text/plain": [
       "28.33499490521251"
      ]
     },
     "execution_count": 153,
     "metadata": {},
     "output_type": "execute_result"
    }
   ],
   "source": [
    "np.sum(temper[temper > 25]) / day_cnt"
   ]
  },
  {
   "cell_type": "markdown",
   "metadata": {},
   "source": [
    "#### 행렬 정렬 - sort(), argsort()\n",
    "* np.sort(array) : 원본은 변경하지 않고 정렬된 배열을 반환\n",
    "* ndarray.sort() : 원본을 변경하지만, 반환값이 없음\n",
    "\n",
    "* np.argsort(array) : 정렬된 후의 인덱스 찾기"
   ]
  },
  {
   "cell_type": "code",
   "execution_count": 159,
   "metadata": {},
   "outputs": [
    {
     "name": "stdout",
     "output_type": "stream",
     "text": [
      "array1 : [3 1 9 5 2]\n",
      "np.sort(array1) : [1 2 3 5 9]\n",
      "np.sort(array1)[::-1] : [9 5 3 2 1]\n"
     ]
    }
   ],
   "source": [
    "array1 = np.array([3,1,9,5,2])\n",
    "array1_sort = np.sort(array1)\n",
    "print(f'array1 : {array1}')\n",
    "print(f'np.sort(array1) : {array1_sort}') # 원본 변화 X \n",
    "# print(f'array1.sort() : {array1.sort()}') # 원본에 변화를 주지만, 반환값 X\n",
    "# print(f'array1 : {array1}')\n",
    "sort_desc = np.sort(array1)[::-1]\n",
    "print(f'np.sort(array1)[::-1] : {sort_desc}') # 내림차순 정렬"
   ]
  },
  {
   "cell_type": "code",
   "execution_count": 163,
   "metadata": {},
   "outputs": [
    {
     "name": "stdout",
     "output_type": "stream",
     "text": [
      "array2 \n",
      " [[ 8 12]\n",
      " [ 7  1]]\n",
      "np.sort(array, axis=0) \n",
      " [[ 7  1]\n",
      " [ 8 12]]\n",
      "np.sort(array, axis=1) \n",
      " [[ 8 12]\n",
      " [ 1  7]]\n"
     ]
    }
   ],
   "source": [
    "array2 = np.array([[8,12], [7,1]])\n",
    "array2_sort0 = np.sort(array2, axis=0)\n",
    "array2_sort1 = np.sort(array2, axis=1)\n",
    "print(f'array2 \\n {array2}')\n",
    "print(f'np.sort(array, axis=0) \\n {array2_sort0}')\n",
    "print(f'np.sort(array, axis=1) \\n {array2_sort1}')"
   ]
  },
  {
   "cell_type": "code",
   "execution_count": 164,
   "metadata": {},
   "outputs": [
    {
     "data": {
      "text/plain": [
       "array([1, 4, 0, 3, 2], dtype=int64)"
      ]
     },
     "execution_count": 164,
     "metadata": {},
     "output_type": "execute_result"
    }
   ],
   "source": [
    "sort_indices = np.argsort(array1)\n",
    "sort_indices"
   ]
  },
  {
   "cell_type": "code",
   "execution_count": 169,
   "metadata": {},
   "outputs": [
    {
     "data": {
      "text/plain": [
       "array(['Kate', 'Mike', 'Samuel', 'Sarah', 'John'], dtype='<U6')"
      ]
     },
     "execution_count": 169,
     "metadata": {},
     "output_type": "execute_result"
    }
   ],
   "source": [
    "name_array = np.array(['John', 'Mike', 'Sarah', 'Kate', 'Samuel'])\n",
    "score_array = np.array([78, 95, 84, 98, 88])\n",
    "\n",
    "rank_array = np.argsort(score_array)[::-1]\n",
    "name_array[rank_array]"
   ]
  },
  {
   "cell_type": "markdown",
   "metadata": {},
   "source": [
    "### 행렬 내적(행렬 곱)\n",
    "<img src='https://miro.medium.com/max/1400/1*YGcMQSr0ge_DGn96WnEkZw.png'>"
   ]
  },
  {
   "cell_type": "code",
   "execution_count": 171,
   "metadata": {},
   "outputs": [],
   "source": [
    "a = np.array([[1,2,3], [4,5,6]])\n",
    "b = np.array([[10,11], [20,21], [30,31]])"
   ]
  },
  {
   "cell_type": "code",
   "execution_count": 172,
   "metadata": {},
   "outputs": [
    {
     "data": {
      "text/plain": [
       "array([[140, 146],\n",
       "       [320, 335]])"
      ]
     },
     "execution_count": 172,
     "metadata": {},
     "output_type": "execute_result"
    }
   ],
   "source": [
    "np.dot(a,b) # 행렬 곱 함수 dot(a, b)"
   ]
  },
  {
   "cell_type": "markdown",
   "metadata": {},
   "source": [
    "### 전치행렬 : 원 행렬에서 행과 열 위치를 교환한 원소\n",
    "<img src='https://www.w3resource.com/w3r_images/numpy-manipulation-transpose-function-image-a.png'>"
   ]
  },
  {
   "cell_type": "code",
   "execution_count": 173,
   "metadata": {},
   "outputs": [
    {
     "data": {
      "text/plain": [
       "array([[0, 1],\n",
       "       [2, 3],\n",
       "       [4, 5],\n",
       "       [6, 7]])"
      ]
     },
     "execution_count": 173,
     "metadata": {},
     "output_type": "execute_result"
    }
   ],
   "source": [
    "c = np.array([[0, 2, 4, 6], [1,3,5,7]])\n",
    "np.transpose(c)"
   ]
  }
 ],
 "metadata": {
  "hide_input": false,
  "kernelspec": {
   "display_name": "Python 3 (ipykernel)",
   "language": "python",
   "name": "python3"
  },
  "language_info": {
   "codemirror_mode": {
    "name": "ipython",
    "version": 3
   },
   "file_extension": ".py",
   "mimetype": "text/x-python",
   "name": "python",
   "nbconvert_exporter": "python",
   "pygments_lexer": "ipython3",
   "version": "3.9.12"
  },
  "toc": {
   "base_numbering": 1,
   "nav_menu": {},
   "number_sections": true,
   "sideBar": true,
   "skip_h1_title": false,
   "title_cell": "Table of Contents",
   "title_sidebar": "Contents",
   "toc_cell": false,
   "toc_position": {
    "height": "calc(100% - 180px)",
    "left": "10px",
    "top": "150px",
    "width": "349.091px"
   },
   "toc_section_display": true,
   "toc_window_display": false
  },
  "varInspector": {
   "cols": {
    "lenName": 16,
    "lenType": 16,
    "lenVar": 40
   },
   "kernels_config": {
    "python": {
     "delete_cmd_postfix": "",
     "delete_cmd_prefix": "del ",
     "library": "var_list.py",
     "varRefreshCmd": "print(var_dic_list())"
    },
    "r": {
     "delete_cmd_postfix": ") ",
     "delete_cmd_prefix": "rm(",
     "library": "var_list.r",
     "varRefreshCmd": "cat(var_dic_list()) "
    }
   },
   "types_to_exclude": [
    "module",
    "function",
    "builtin_function_or_method",
    "instance",
    "_Feature"
   ],
   "window_display": false
  }
 },
 "nbformat": 4,
 "nbformat_minor": 4
}
