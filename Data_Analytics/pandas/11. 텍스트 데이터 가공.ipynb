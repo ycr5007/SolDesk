{
 "cells": [
  {
   "cell_type": "markdown",
   "id": "3ca20a3b",
   "metadata": {},
   "source": [
    "### [참고] <a href=\"https://pandas.pydata.org/Pandas_Cheat_Sheet.pdf\">Pandas Cheat Sheet</a>\n",
    "\n",
    "#### https://pandas.pydata.org/docs/user_guide/text.html"
   ]
  },
  {
   "cell_type": "markdown",
   "id": "860888c6",
   "metadata": {},
   "source": [
    "**str 메소드**\n",
    "- pandas.core.strings.StringMethods 의 별칭\n",
    "- 호출할 수 없기 때문에 괄호를 사용하지 않음"
   ]
  },
  {
   "cell_type": "code",
   "execution_count": null,
   "id": "161fc435",
   "metadata": {},
   "outputs": [],
   "source": []
  },
  {
   "cell_type": "code",
   "execution_count": null,
   "id": "99fd1b63",
   "metadata": {},
   "outputs": [],
   "source": []
  },
  {
   "cell_type": "markdown",
   "id": "cefdaed3",
   "metadata": {},
   "source": [
    "#### 1) lower() / upper() / len()"
   ]
  },
  {
   "cell_type": "code",
   "execution_count": null,
   "id": "f57b4828",
   "metadata": {},
   "outputs": [],
   "source": []
  },
  {
   "cell_type": "code",
   "execution_count": null,
   "id": "99227444",
   "metadata": {},
   "outputs": [],
   "source": []
  },
  {
   "cell_type": "code",
   "execution_count": null,
   "id": "067d1e56",
   "metadata": {},
   "outputs": [],
   "source": []
  },
  {
   "cell_type": "markdown",
   "id": "62d969d8",
   "metadata": {},
   "source": [
    "#### 2) strip()"
   ]
  },
  {
   "cell_type": "code",
   "execution_count": null,
   "id": "947d5009",
   "metadata": {},
   "outputs": [],
   "source": []
  },
  {
   "cell_type": "code",
   "execution_count": null,
   "id": "d3477ef3",
   "metadata": {},
   "outputs": [],
   "source": []
  },
  {
   "cell_type": "code",
   "execution_count": null,
   "id": "60b6b2ae",
   "metadata": {},
   "outputs": [],
   "source": []
  },
  {
   "cell_type": "code",
   "execution_count": null,
   "id": "13c22054",
   "metadata": {},
   "outputs": [],
   "source": []
  },
  {
   "cell_type": "code",
   "execution_count": null,
   "id": "afd565fa",
   "metadata": {},
   "outputs": [],
   "source": []
  },
  {
   "cell_type": "code",
   "execution_count": null,
   "id": "06ddf7b0",
   "metadata": {},
   "outputs": [],
   "source": []
  },
  {
   "cell_type": "code",
   "execution_count": null,
   "id": "f3eb6e25",
   "metadata": {},
   "outputs": [],
   "source": []
  },
  {
   "cell_type": "code",
   "execution_count": null,
   "id": "fe8b54cb",
   "metadata": {},
   "outputs": [],
   "source": []
  },
  {
   "cell_type": "markdown",
   "id": "2cb7eb51",
   "metadata": {},
   "source": [
    "#### 3) split()"
   ]
  },
  {
   "cell_type": "code",
   "execution_count": null,
   "id": "7345597a",
   "metadata": {},
   "outputs": [],
   "source": []
  },
  {
   "cell_type": "code",
   "execution_count": null,
   "id": "a8e2bd68",
   "metadata": {},
   "outputs": [],
   "source": []
  },
  {
   "cell_type": "code",
   "execution_count": null,
   "id": "88e69e4d",
   "metadata": {},
   "outputs": [],
   "source": []
  },
  {
   "cell_type": "code",
   "execution_count": null,
   "id": "94c6a3ec",
   "metadata": {},
   "outputs": [],
   "source": []
  },
  {
   "cell_type": "code",
   "execution_count": null,
   "id": "fed6f7f5",
   "metadata": {},
   "outputs": [],
   "source": []
  },
  {
   "cell_type": "code",
   "execution_count": null,
   "id": "7222e7b0",
   "metadata": {},
   "outputs": [],
   "source": []
  },
  {
   "cell_type": "markdown",
   "id": "bdc563d1",
   "metadata": {},
   "source": [
    "* **expane=True** 결과를 데이터 프레임으로 돌려줌"
   ]
  },
  {
   "cell_type": "code",
   "execution_count": null,
   "id": "604a6dbf",
   "metadata": {
    "scrolled": true
   },
   "outputs": [],
   "source": [
    "ser1.str.split(\"_\",expand=True)"
   ]
  },
  {
   "cell_type": "markdown",
   "id": "cdc0af3b",
   "metadata": {},
   "source": [
    "#### 4) replace()"
   ]
  },
  {
   "cell_type": "code",
   "execution_count": null,
   "id": "367e4379",
   "metadata": {},
   "outputs": [],
   "source": [
    "ser = pd.Series(['Suho','bAAa',np.nan,'cute_dog'])\n",
    "ser"
   ]
  },
  {
   "cell_type": "code",
   "execution_count": null,
   "id": "f387433f",
   "metadata": {},
   "outputs": [],
   "source": [
    "ser.str.replace('^.a|dog','***',case=False,regex=True)"
   ]
  },
  {
   "cell_type": "markdown",
   "id": "25b10e19",
   "metadata": {},
   "source": [
    "- ^는 입력라인의 시작\n",
    "- .a 는 맨 첫 문자를 포함하고 a로 끝나는 부분을 매칭\n",
    "- | or 의 의미\n",
    "- dog에 해당하는 부분 매칭\n",
    "- case=False 대소문자 구분 안함\n",
    "- regex=True 전달된 패턴이 정규식"
   ]
  },
  {
   "cell_type": "markdown",
   "id": "2261148b",
   "metadata": {},
   "source": [
    "#### 5) cat : 텍스트 이어 붙이기 "
   ]
  },
  {
   "cell_type": "code",
   "execution_count": null,
   "id": "0809d870",
   "metadata": {},
   "outputs": [],
   "source": []
  },
  {
   "cell_type": "code",
   "execution_count": null,
   "id": "cc196bc4",
   "metadata": {},
   "outputs": [],
   "source": []
  },
  {
   "cell_type": "code",
   "execution_count": null,
   "id": "6c73d913",
   "metadata": {},
   "outputs": [],
   "source": []
  },
  {
   "cell_type": "markdown",
   "id": "ce489df6",
   "metadata": {},
   "source": [
    "* **손실값이 있다면 연결 안함**"
   ]
  },
  {
   "cell_type": "code",
   "execution_count": null,
   "id": "76f2f8a1",
   "metadata": {},
   "outputs": [],
   "source": []
  },
  {
   "cell_type": "code",
   "execution_count": null,
   "id": "f38bfba3",
   "metadata": {},
   "outputs": [],
   "source": []
  },
  {
   "cell_type": "code",
   "execution_count": null,
   "id": "80c0a52c",
   "metadata": {},
   "outputs": [],
   "source": []
  },
  {
   "cell_type": "code",
   "execution_count": null,
   "id": "843fd25e",
   "metadata": {},
   "outputs": [],
   "source": []
  },
  {
   "cell_type": "markdown",
   "id": "ac2f319a",
   "metadata": {},
   "source": [
    "### [실습2] 일기 형식의 데이터 가공"
   ]
  },
  {
   "cell_type": "code",
   "execution_count": null,
   "id": "e714ec90",
   "metadata": {},
   "outputs": [],
   "source": []
  },
  {
   "cell_type": "code",
   "execution_count": null,
   "id": "f26b381e",
   "metadata": {},
   "outputs": [],
   "source": []
  }
 ],
 "metadata": {
  "kernelspec": {
   "display_name": "Python 3 (ipykernel)",
   "language": "python",
   "name": "python3"
  },
  "language_info": {
   "codemirror_mode": {
    "name": "ipython",
    "version": 3
   },
   "file_extension": ".py",
   "mimetype": "text/x-python",
   "name": "python",
   "nbconvert_exporter": "python",
   "pygments_lexer": "ipython3",
   "version": "3.9.12"
  }
 },
 "nbformat": 4,
 "nbformat_minor": 5
}
