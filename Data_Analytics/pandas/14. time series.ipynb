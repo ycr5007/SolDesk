{
 "cells": [
  {
   "cell_type": "markdown",
   "id": "407ffb29",
   "metadata": {},
   "source": [
    "### 시계열\n",
    "* 시간상 여러 지점을 관측하거나 측정할 수 있도록 목록 또는 그래프로 표시한 일련의 데이터\n",
    "* 일정한 간격의 연속적이고 동등한 점들로 이루어진 시퀀스\n",
    "* 빅데이터에서 일반적으로 동등한 시간 간격으로 배치된 연속적 사건으로 나타남\n",
    "* ex) 금융시장 주가예측, 일기 예보, 전력에너지 소비추이, 웹 사이트 방문자 수 등 ..."
   ]
  },
  {
   "cell_type": "markdown",
   "id": "19a048cf",
   "metadata": {},
   "source": [
    "### pandas 로 날짜 데이터 다루기\n",
    "> #### 1) 시계열 자료와 pandas\n",
    "> * 년도별, 월별, 일별, 시별, 분별, 초별 등 시간의 흐름에 따라 관측된 자료\n",
    "> * pandas 에서 시계열 자료를 손쉽게 다룰 수 있도록 **datetime(datetime64)** 자료형 제공\n",
    ">  * pd.to_datetime() 함수를 사용해, 날짜와 시간을 나타내는 문자열을 datetime(datetime64) 자료형으로 변경"
   ]
  },
  {
   "cell_type": "code",
   "execution_count": 1,
   "id": "e1c01134",
   "metadata": {},
   "outputs": [],
   "source": [
    "import pandas as pd"
   ]
  },
  {
   "cell_type": "markdown",
   "id": "4256cf85",
   "metadata": {},
   "source": [
    "##### 1 - 날짜 인덱스 지정"
   ]
  },
  {
   "cell_type": "code",
   "execution_count": 3,
   "id": "2d46362d",
   "metadata": {},
   "outputs": [
    {
     "data": {
      "text/plain": [
       "2022-01-01    0\n",
       "2022-01-02    1\n",
       "2022-01-03    2\n",
       "Freq: D, dtype: int64"
      ]
     },
     "execution_count": 3,
     "metadata": {},
     "output_type": "execute_result"
    }
   ],
   "source": [
    "pd.Series(range(3), index=pd.date_range('2022', freq='D', periods=3))"
   ]
  },
  {
   "cell_type": "markdown",
   "id": "20915a18",
   "metadata": {},
   "source": [
    "##### 2 - 날짜 values 지정"
   ]
  },
  {
   "cell_type": "code",
   "execution_count": 4,
   "id": "a0ca3ad9",
   "metadata": {},
   "outputs": [
    {
     "data": {
      "text/plain": [
       "0   2022-07-01\n",
       "1   2022-07-02\n",
       "2   2022-07-03\n",
       "dtype: datetime64[ns]"
      ]
     },
     "execution_count": 4,
     "metadata": {},
     "output_type": "execute_result"
    }
   ],
   "source": [
    "pd.Series(pd.date_range('20220701', freq='D', periods=3))"
   ]
  },
  {
   "cell_type": "markdown",
   "id": "cd9c19c7",
   "metadata": {},
   "source": [
    "##### 3 - 날짜 + 시간 values"
   ]
  },
  {
   "cell_type": "code",
   "execution_count": 5,
   "id": "19cb2ffb",
   "metadata": {},
   "outputs": [
    {
     "data": {
      "text/plain": [
       "0   2022-07-01 09:10:12\n",
       "1   2022-07-01 10:10:12\n",
       "2   2022-07-01 11:10:12\n",
       "dtype: datetime64[ns]"
      ]
     },
     "execution_count": 5,
     "metadata": {},
     "output_type": "execute_result"
    }
   ],
   "source": [
    "pd.Series(pd.date_range('20220701 09:10:12', freq='H', periods=3))"
   ]
  },
  {
   "cell_type": "markdown",
   "id": "91edf78d",
   "metadata": {},
   "source": [
    "##### 4 - dt"
   ]
  },
  {
   "cell_type": "code",
   "execution_count": null,
   "id": "ae4b52dc",
   "metadata": {},
   "outputs": [],
   "source": []
  },
  {
   "cell_type": "code",
   "execution_count": 6,
   "id": "011bdbac",
   "metadata": {},
   "outputs": [
    {
     "data": {
      "text/plain": [
       "0   2022-07-01 09:10:12\n",
       "1   2022-07-02 09:10:12\n",
       "2   2022-07-03 09:10:12\n",
       "dtype: datetime64[ns]"
      ]
     },
     "execution_count": 6,
     "metadata": {},
     "output_type": "execute_result"
    }
   ],
   "source": [
    "ser1 = pd.Series(pd.date_range('20220701 09:10:12', periods=3))\n",
    "ser1"
   ]
  },
  {
   "cell_type": "code",
   "execution_count": 7,
   "id": "56317bdf",
   "metadata": {},
   "outputs": [
    {
     "data": {
      "text/plain": [
       "1   2022-07-02 09:10:12\n",
       "dtype: datetime64[ns]"
      ]
     },
     "execution_count": 7,
     "metadata": {},
     "output_type": "execute_result"
    }
   ],
   "source": [
    "# 2일 날짜 추출\n",
    "ser1[ser1.dt.day == 2]"
   ]
  },
  {
   "cell_type": "markdown",
   "id": "e74e8339",
   "metadata": {},
   "source": [
    "---"
   ]
  },
  {
   "cell_type": "code",
   "execution_count": 8,
   "id": "7af10c61",
   "metadata": {},
   "outputs": [
    {
     "data": {
      "text/html": [
       "<div>\n",
       "<style scoped>\n",
       "    .dataframe tbody tr th:only-of-type {\n",
       "        vertical-align: middle;\n",
       "    }\n",
       "\n",
       "    .dataframe tbody tr th {\n",
       "        vertical-align: top;\n",
       "    }\n",
       "\n",
       "    .dataframe thead th {\n",
       "        text-align: right;\n",
       "    }\n",
       "</style>\n",
       "<table border=\"1\" class=\"dataframe\">\n",
       "  <thead>\n",
       "    <tr style=\"text-align: right;\">\n",
       "      <th></th>\n",
       "      <th>order</th>\n",
       "    </tr>\n",
       "  </thead>\n",
       "  <tbody>\n",
       "    <tr>\n",
       "      <th>0</th>\n",
       "      <td>2020-01-01 07:10:00</td>\n",
       "    </tr>\n",
       "    <tr>\n",
       "      <th>1</th>\n",
       "      <td>2020-01-08 07:20:30</td>\n",
       "    </tr>\n",
       "    <tr>\n",
       "      <th>2</th>\n",
       "      <td>2020-02-20 11:20:00</td>\n",
       "    </tr>\n",
       "    <tr>\n",
       "      <th>3</th>\n",
       "      <td>2020-02-20 14:12:10</td>\n",
       "    </tr>\n",
       "    <tr>\n",
       "      <th>4</th>\n",
       "      <td>2020-03-01 06:19:30</td>\n",
       "    </tr>\n",
       "    <tr>\n",
       "      <th>5</th>\n",
       "      <td>2020-07-08 12:54:15</td>\n",
       "    </tr>\n",
       "  </tbody>\n",
       "</table>\n",
       "</div>"
      ],
      "text/plain": [
       "                 order\n",
       "0  2020-01-01 07:10:00\n",
       "1  2020-01-08 07:20:30\n",
       "2  2020-02-20 11:20:00\n",
       "3  2020-02-20 14:12:10\n",
       "4  2020-03-01 06:19:30\n",
       "5  2020-07-08 12:54:15"
      ]
     },
     "execution_count": 8,
     "metadata": {},
     "output_type": "execute_result"
    }
   ],
   "source": [
    "df = pd.DataFrame({\n",
    "    'order' : ['2020-01-01 07:10:00', '2020-01-08 07:20:30', '2020-02-20 11:20:00', '2020-02-20 14:12:10', '2020-03-01 06:19:30', '2020-07-08 12:54:15']\n",
    "})\n",
    "df"
   ]
  },
  {
   "cell_type": "code",
   "execution_count": 11,
   "id": "812c0266",
   "metadata": {},
   "outputs": [
    {
     "data": {
      "text/plain": [
       "0   2020-01-01 07:10:00\n",
       "1   2020-01-08 07:20:30\n",
       "2   2020-02-20 11:20:00\n",
       "3   2020-02-20 14:12:10\n",
       "4   2020-03-01 06:19:30\n",
       "5   2020-07-08 12:54:15\n",
       "Name: order, dtype: datetime64[ns]"
      ]
     },
     "execution_count": 11,
     "metadata": {},
     "output_type": "execute_result"
    }
   ],
   "source": [
    "pd.to_datetime(df['order'], format='%Y-%m-%d %H:%M:%S', errors)"
   ]
  }
 ],
 "metadata": {
  "kernelspec": {
   "display_name": "Python 3 (ipykernel)",
   "language": "python",
   "name": "python3"
  },
  "language_info": {
   "codemirror_mode": {
    "name": "ipython",
    "version": 3
   },
   "file_extension": ".py",
   "mimetype": "text/x-python",
   "name": "python",
   "nbconvert_exporter": "python",
   "pygments_lexer": "ipython3",
   "version": "3.9.12"
  }
 },
 "nbformat": 4,
 "nbformat_minor": 5
}
