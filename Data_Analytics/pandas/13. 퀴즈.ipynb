{
 "cells": [
  {
   "cell_type": "markdown",
   "id": "88dc70ce",
   "metadata": {},
   "source": [
    "### [퀴즈1]\n",
    "#### [문제] 다음은 대한민국 영화 중에서 관객 수가 가장 많은 상위 10 개의 데이터입니다.\n",
    "#### 주어진 코드를 이용하여 퀴즈를 풀어보세요"
   ]
  },
  {
   "cell_type": "code",
   "execution_count": 1,
   "id": "3754336a",
   "metadata": {},
   "outputs": [],
   "source": [
    "import pandas as pd\n",
    "import numpy as np"
   ]
  },
  {
   "cell_type": "code",
   "execution_count": 69,
   "id": "a7ac3552",
   "metadata": {},
   "outputs": [
    {
     "data": {
      "text/html": [
       "<div>\n",
       "<style scoped>\n",
       "    .dataframe tbody tr th:only-of-type {\n",
       "        vertical-align: middle;\n",
       "    }\n",
       "\n",
       "    .dataframe tbody tr th {\n",
       "        vertical-align: top;\n",
       "    }\n",
       "\n",
       "    .dataframe thead th {\n",
       "        text-align: right;\n",
       "    }\n",
       "</style>\n",
       "<table border=\"1\" class=\"dataframe\">\n",
       "  <thead>\n",
       "    <tr style=\"text-align: right;\">\n",
       "      <th></th>\n",
       "      <th>영화</th>\n",
       "      <th>개봉 연도</th>\n",
       "      <th>관객 수</th>\n",
       "      <th>평점</th>\n",
       "    </tr>\n",
       "  </thead>\n",
       "  <tbody>\n",
       "    <tr>\n",
       "      <th>0</th>\n",
       "      <td>명량</td>\n",
       "      <td>2014</td>\n",
       "      <td>1761</td>\n",
       "      <td>8.88</td>\n",
       "    </tr>\n",
       "    <tr>\n",
       "      <th>1</th>\n",
       "      <td>극한직업</td>\n",
       "      <td>2019</td>\n",
       "      <td>1626</td>\n",
       "      <td>9.20</td>\n",
       "    </tr>\n",
       "    <tr>\n",
       "      <th>2</th>\n",
       "      <td>신과함께-죄와 벌</td>\n",
       "      <td>2017</td>\n",
       "      <td>1441</td>\n",
       "      <td>8.73</td>\n",
       "    </tr>\n",
       "    <tr>\n",
       "      <th>3</th>\n",
       "      <td>국제시장</td>\n",
       "      <td>2014</td>\n",
       "      <td>1425</td>\n",
       "      <td>9.16</td>\n",
       "    </tr>\n",
       "    <tr>\n",
       "      <th>4</th>\n",
       "      <td>베테랑</td>\n",
       "      <td>2015</td>\n",
       "      <td>1341</td>\n",
       "      <td>9.24</td>\n",
       "    </tr>\n",
       "    <tr>\n",
       "      <th>5</th>\n",
       "      <td>괴물</td>\n",
       "      <td>2006</td>\n",
       "      <td>1301</td>\n",
       "      <td>8.62</td>\n",
       "    </tr>\n",
       "    <tr>\n",
       "      <th>6</th>\n",
       "      <td>도둑들</td>\n",
       "      <td>2012</td>\n",
       "      <td>1298</td>\n",
       "      <td>7.64</td>\n",
       "    </tr>\n",
       "    <tr>\n",
       "      <th>7</th>\n",
       "      <td>7번방의 선물</td>\n",
       "      <td>2013</td>\n",
       "      <td>1281</td>\n",
       "      <td>8.83</td>\n",
       "    </tr>\n",
       "    <tr>\n",
       "      <th>8</th>\n",
       "      <td>암살</td>\n",
       "      <td>2015</td>\n",
       "      <td>1270</td>\n",
       "      <td>9.10</td>\n",
       "    </tr>\n",
       "    <tr>\n",
       "      <th>9</th>\n",
       "      <td>광해, 왕이 된 남자</td>\n",
       "      <td>2012</td>\n",
       "      <td>1231</td>\n",
       "      <td>9.25</td>\n",
       "    </tr>\n",
       "  </tbody>\n",
       "</table>\n",
       "</div>"
      ],
      "text/plain": [
       "            영화 개봉 연도  관객 수    평점\n",
       "0           명량  2014  1761  8.88\n",
       "1         극한직업  2019  1626  9.20\n",
       "2    신과함께-죄와 벌  2017  1441  8.73\n",
       "3         국제시장  2014  1425  9.16\n",
       "4          베테랑  2015  1341  9.24\n",
       "5           괴물  2006  1301  8.62\n",
       "6          도둑들  2012  1298  7.64\n",
       "7      7번방의 선물  2013  1281  8.83\n",
       "8           암살  2015  1270  9.10\n",
       "9  광해, 왕이 된 남자  2012  1231  9.25"
      ]
     },
     "execution_count": 69,
     "metadata": {},
     "output_type": "execute_result"
    }
   ],
   "source": [
    "data = {\n",
    "    \"영화\" : ['명량', '극한직업', '신과함께-죄와 벌', '국제시장', '베테랑', '괴물', '도둑들', '7번방의 선물', '암살', '광해, 왕이 된 남자'],\n",
    "    \"개봉 연도\" : ['2014', '2019', '2017','2014' ,'2015', '2006', '2012', '2013', '2015', '2012'],\n",
    "    \"관객 수\" : [1761, 1626, 1441, 1425, 1341, 1301, 1298, 1281, 1270, 1231],\n",
    "    \"평점\" : [8.88, 9.20, 8.73, 9.16, 9.24, 8.62, 7.64, 8.83, 9.10, 9.25]\n",
    "}\n",
    "df = pd.DataFrame(data)\n",
    "df"
   ]
  },
  {
   "cell_type": "code",
   "execution_count": 75,
   "id": "cdeb5671",
   "metadata": {},
   "outputs": [],
   "source": [
    "df['개봉 연도'] = df['개봉 연도'].astype('int64')"
   ]
  },
  {
   "cell_type": "markdown",
   "id": "872fd378",
   "metadata": {},
   "source": [
    "#### 1) 전체 데이터 중에서 '영화' 정보만 출력하기"
   ]
  },
  {
   "cell_type": "code",
   "execution_count": 70,
   "id": "936edc77",
   "metadata": {},
   "outputs": [
    {
     "data": {
      "text/plain": [
       "['명량',\n",
       " '극한직업',\n",
       " '신과함께-죄와 벌',\n",
       " '국제시장',\n",
       " '베테랑',\n",
       " '괴물',\n",
       " '도둑들',\n",
       " '7번방의 선물',\n",
       " '암살',\n",
       " '광해, 왕이 된 남자']"
      ]
     },
     "execution_count": 70,
     "metadata": {},
     "output_type": "execute_result"
    }
   ],
   "source": [
    "df['영화'].to_list()"
   ]
  },
  {
   "cell_type": "markdown",
   "id": "f2ae0bfe",
   "metadata": {},
   "source": [
    "#### 2) 전체 데이터 중에서 '영화','평점' 정보 출력하기"
   ]
  },
  {
   "cell_type": "code",
   "execution_count": 5,
   "id": "3200063e",
   "metadata": {},
   "outputs": [
    {
     "data": {
      "text/html": [
       "<div>\n",
       "<style scoped>\n",
       "    .dataframe tbody tr th:only-of-type {\n",
       "        vertical-align: middle;\n",
       "    }\n",
       "\n",
       "    .dataframe tbody tr th {\n",
       "        vertical-align: top;\n",
       "    }\n",
       "\n",
       "    .dataframe thead th {\n",
       "        text-align: right;\n",
       "    }\n",
       "</style>\n",
       "<table border=\"1\" class=\"dataframe\">\n",
       "  <thead>\n",
       "    <tr style=\"text-align: right;\">\n",
       "      <th></th>\n",
       "      <th>영화</th>\n",
       "      <th>평점</th>\n",
       "    </tr>\n",
       "  </thead>\n",
       "  <tbody>\n",
       "    <tr>\n",
       "      <th>0</th>\n",
       "      <td>명량</td>\n",
       "      <td>8.88</td>\n",
       "    </tr>\n",
       "    <tr>\n",
       "      <th>1</th>\n",
       "      <td>극한직업</td>\n",
       "      <td>9.20</td>\n",
       "    </tr>\n",
       "    <tr>\n",
       "      <th>2</th>\n",
       "      <td>신과함께-죄와 벌</td>\n",
       "      <td>8.73</td>\n",
       "    </tr>\n",
       "    <tr>\n",
       "      <th>3</th>\n",
       "      <td>국제시장</td>\n",
       "      <td>9.16</td>\n",
       "    </tr>\n",
       "    <tr>\n",
       "      <th>4</th>\n",
       "      <td>베테랑</td>\n",
       "      <td>9.24</td>\n",
       "    </tr>\n",
       "    <tr>\n",
       "      <th>5</th>\n",
       "      <td>괴물</td>\n",
       "      <td>8.62</td>\n",
       "    </tr>\n",
       "    <tr>\n",
       "      <th>6</th>\n",
       "      <td>도둑들</td>\n",
       "      <td>7.64</td>\n",
       "    </tr>\n",
       "    <tr>\n",
       "      <th>7</th>\n",
       "      <td>7번방의 선물</td>\n",
       "      <td>8.83</td>\n",
       "    </tr>\n",
       "    <tr>\n",
       "      <th>8</th>\n",
       "      <td>암살</td>\n",
       "      <td>9.10</td>\n",
       "    </tr>\n",
       "    <tr>\n",
       "      <th>9</th>\n",
       "      <td>광해, 왕이 된 남자</td>\n",
       "      <td>9.25</td>\n",
       "    </tr>\n",
       "  </tbody>\n",
       "</table>\n",
       "</div>"
      ],
      "text/plain": [
       "            영화    평점\n",
       "0           명량  8.88\n",
       "1         극한직업  9.20\n",
       "2    신과함께-죄와 벌  8.73\n",
       "3         국제시장  9.16\n",
       "4          베테랑  9.24\n",
       "5           괴물  8.62\n",
       "6          도둑들  7.64\n",
       "7      7번방의 선물  8.83\n",
       "8           암살  9.10\n",
       "9  광해, 왕이 된 남자  9.25"
      ]
     },
     "execution_count": 5,
     "metadata": {},
     "output_type": "execute_result"
    }
   ],
   "source": [
    "df[['영화', '평점']]"
   ]
  },
  {
   "cell_type": "markdown",
   "id": "0c0b2172",
   "metadata": {},
   "source": [
    "#### 3) 2015년 이후에 개봉한 영화 데이터 중에서 '영화','개봉연도' 정보만 출력하기"
   ]
  },
  {
   "cell_type": "code",
   "execution_count": 77,
   "id": "d7e2a31b",
   "metadata": {},
   "outputs": [
    {
     "data": {
      "text/html": [
       "<div>\n",
       "<style scoped>\n",
       "    .dataframe tbody tr th:only-of-type {\n",
       "        vertical-align: middle;\n",
       "    }\n",
       "\n",
       "    .dataframe tbody tr th {\n",
       "        vertical-align: top;\n",
       "    }\n",
       "\n",
       "    .dataframe thead th {\n",
       "        text-align: right;\n",
       "    }\n",
       "</style>\n",
       "<table border=\"1\" class=\"dataframe\">\n",
       "  <thead>\n",
       "    <tr style=\"text-align: right;\">\n",
       "      <th></th>\n",
       "      <th>영화</th>\n",
       "      <th>개봉 연도</th>\n",
       "    </tr>\n",
       "  </thead>\n",
       "  <tbody>\n",
       "    <tr>\n",
       "      <th>1</th>\n",
       "      <td>극한직업</td>\n",
       "      <td>2019</td>\n",
       "    </tr>\n",
       "    <tr>\n",
       "      <th>2</th>\n",
       "      <td>신과함께-죄와 벌</td>\n",
       "      <td>2017</td>\n",
       "    </tr>\n",
       "  </tbody>\n",
       "</table>\n",
       "</div>"
      ],
      "text/plain": [
       "          영화  개봉 연도\n",
       "1       극한직업   2019\n",
       "2  신과함께-죄와 벌   2017"
      ]
     },
     "execution_count": 77,
     "metadata": {},
     "output_type": "execute_result"
    }
   ],
   "source": [
    "df.loc[df['개봉 연도'] > 2015, ['영화', '개봉 연도']]\n",
    "df[df['개봉 연도'] > 2015][['영화', '개봉 연도']]"
   ]
  },
  {
   "cell_type": "markdown",
   "id": "26dc19a6",
   "metadata": {},
   "source": [
    "#### 4) 주어진 계산식을 참고하여 '추천점수' 컬럼 추가\n",
    "> 추천점수 = (관객수 * 평점) // 100"
   ]
  },
  {
   "cell_type": "code",
   "execution_count": 23,
   "id": "5575fea7",
   "metadata": {},
   "outputs": [],
   "source": [
    "df['추천점수'] = (df['관객 수'] * df['평점']) // 100"
   ]
  },
  {
   "cell_type": "markdown",
   "id": "7992a850",
   "metadata": {},
   "source": [
    "#### 5) 전체 데이터를 '개봉 연도' 기준 내림차순으로 출력하기"
   ]
  },
  {
   "cell_type": "code",
   "execution_count": 24,
   "id": "9ea4d153",
   "metadata": {},
   "outputs": [
    {
     "data": {
      "text/html": [
       "<div>\n",
       "<style scoped>\n",
       "    .dataframe tbody tr th:only-of-type {\n",
       "        vertical-align: middle;\n",
       "    }\n",
       "\n",
       "    .dataframe tbody tr th {\n",
       "        vertical-align: top;\n",
       "    }\n",
       "\n",
       "    .dataframe thead th {\n",
       "        text-align: right;\n",
       "    }\n",
       "</style>\n",
       "<table border=\"1\" class=\"dataframe\">\n",
       "  <thead>\n",
       "    <tr style=\"text-align: right;\">\n",
       "      <th></th>\n",
       "      <th>영화</th>\n",
       "      <th>개봉 연도</th>\n",
       "      <th>관객 수</th>\n",
       "      <th>평점</th>\n",
       "      <th>추천점수</th>\n",
       "    </tr>\n",
       "  </thead>\n",
       "  <tbody>\n",
       "    <tr>\n",
       "      <th>1</th>\n",
       "      <td>극한직업</td>\n",
       "      <td>2019</td>\n",
       "      <td>1626</td>\n",
       "      <td>9.20</td>\n",
       "      <td>149.0</td>\n",
       "    </tr>\n",
       "    <tr>\n",
       "      <th>2</th>\n",
       "      <td>신과함께-죄와 벌</td>\n",
       "      <td>2017</td>\n",
       "      <td>1441</td>\n",
       "      <td>8.73</td>\n",
       "      <td>125.0</td>\n",
       "    </tr>\n",
       "    <tr>\n",
       "      <th>4</th>\n",
       "      <td>베테랑</td>\n",
       "      <td>2015</td>\n",
       "      <td>1341</td>\n",
       "      <td>9.24</td>\n",
       "      <td>123.0</td>\n",
       "    </tr>\n",
       "    <tr>\n",
       "      <th>8</th>\n",
       "      <td>암살</td>\n",
       "      <td>2015</td>\n",
       "      <td>1270</td>\n",
       "      <td>9.10</td>\n",
       "      <td>115.0</td>\n",
       "    </tr>\n",
       "    <tr>\n",
       "      <th>0</th>\n",
       "      <td>명량</td>\n",
       "      <td>2014</td>\n",
       "      <td>1761</td>\n",
       "      <td>8.88</td>\n",
       "      <td>156.0</td>\n",
       "    </tr>\n",
       "    <tr>\n",
       "      <th>3</th>\n",
       "      <td>국제시장</td>\n",
       "      <td>2014</td>\n",
       "      <td>1425</td>\n",
       "      <td>9.16</td>\n",
       "      <td>130.0</td>\n",
       "    </tr>\n",
       "    <tr>\n",
       "      <th>7</th>\n",
       "      <td>7번방의 선물</td>\n",
       "      <td>2013</td>\n",
       "      <td>1281</td>\n",
       "      <td>8.83</td>\n",
       "      <td>113.0</td>\n",
       "    </tr>\n",
       "    <tr>\n",
       "      <th>6</th>\n",
       "      <td>도둑들</td>\n",
       "      <td>2012</td>\n",
       "      <td>1298</td>\n",
       "      <td>7.64</td>\n",
       "      <td>99.0</td>\n",
       "    </tr>\n",
       "    <tr>\n",
       "      <th>9</th>\n",
       "      <td>광해, 왕이 된 남자</td>\n",
       "      <td>2012</td>\n",
       "      <td>1231</td>\n",
       "      <td>9.25</td>\n",
       "      <td>113.0</td>\n",
       "    </tr>\n",
       "    <tr>\n",
       "      <th>5</th>\n",
       "      <td>괴물</td>\n",
       "      <td>2006</td>\n",
       "      <td>1301</td>\n",
       "      <td>8.62</td>\n",
       "      <td>112.0</td>\n",
       "    </tr>\n",
       "  </tbody>\n",
       "</table>\n",
       "</div>"
      ],
      "text/plain": [
       "            영화  개봉 연도  관객 수    평점   추천점수\n",
       "1         극한직업   2019  1626  9.20  149.0\n",
       "2    신과함께-죄와 벌   2017  1441  8.73  125.0\n",
       "4          베테랑   2015  1341  9.24  123.0\n",
       "8           암살   2015  1270  9.10  115.0\n",
       "0           명량   2014  1761  8.88  156.0\n",
       "3         국제시장   2014  1425  9.16  130.0\n",
       "7      7번방의 선물   2013  1281  8.83  113.0\n",
       "6          도둑들   2012  1298  7.64   99.0\n",
       "9  광해, 왕이 된 남자   2012  1231  9.25  113.0\n",
       "5           괴물   2006  1301  8.62  112.0"
      ]
     },
     "execution_count": 24,
     "metadata": {},
     "output_type": "execute_result"
    }
   ],
   "source": [
    "df.sort_values('개봉 연도', ascending=False)"
   ]
  },
  {
   "cell_type": "markdown",
   "id": "8ff19347",
   "metadata": {},
   "source": [
    "### [퀴즈2]"
   ]
  },
  {
   "cell_type": "code",
   "execution_count": 79,
   "id": "f13473d9",
   "metadata": {},
   "outputs": [
    {
     "data": {
      "text/html": [
       "<div>\n",
       "<style scoped>\n",
       "    .dataframe tbody tr th:only-of-type {\n",
       "        vertical-align: middle;\n",
       "    }\n",
       "\n",
       "    .dataframe tbody tr th {\n",
       "        vertical-align: top;\n",
       "    }\n",
       "\n",
       "    .dataframe thead th {\n",
       "        text-align: right;\n",
       "    }\n",
       "</style>\n",
       "<table border=\"1\" class=\"dataframe\">\n",
       "  <thead>\n",
       "    <tr style=\"text-align: right;\">\n",
       "      <th></th>\n",
       "      <th>name</th>\n",
       "      <th>age</th>\n",
       "    </tr>\n",
       "  </thead>\n",
       "  <tbody>\n",
       "    <tr>\n",
       "      <th>0</th>\n",
       "      <td>홍길동</td>\n",
       "      <td>25</td>\n",
       "    </tr>\n",
       "    <tr>\n",
       "      <th>1</th>\n",
       "      <td>김수정</td>\n",
       "      <td>35</td>\n",
       "    </tr>\n",
       "    <tr>\n",
       "      <th>2</th>\n",
       "      <td>이민정</td>\n",
       "      <td>45</td>\n",
       "    </tr>\n",
       "  </tbody>\n",
       "</table>\n",
       "</div>"
      ],
      "text/plain": [
       "  name  age\n",
       "0  홍길동   25\n",
       "1  김수정   35\n",
       "2  이민정   45"
      ]
     },
     "execution_count": 79,
     "metadata": {},
     "output_type": "execute_result"
    }
   ],
   "source": [
    "df = pd.DataFrame({\n",
    "    'name' : ['홍길동', '김수정', '이민정'],\n",
    "    'age' : [25, 35, 45]\n",
    "})\n",
    "df"
   ]
  },
  {
   "cell_type": "markdown",
   "id": "2e17b5a4",
   "metadata": {},
   "source": [
    "#### 1) 현재 생성된 데이터프레임의 전체 정보 출력"
   ]
  },
  {
   "cell_type": "code",
   "execution_count": 26,
   "id": "9fc21699",
   "metadata": {},
   "outputs": [
    {
     "name": "stdout",
     "output_type": "stream",
     "text": [
      "<class 'pandas.core.frame.DataFrame'>\n",
      "RangeIndex: 3 entries, 0 to 2\n",
      "Data columns (total 2 columns):\n",
      " #   Column  Non-Null Count  Dtype \n",
      "---  ------  --------------  ----- \n",
      " 0   name    3 non-null      object\n",
      " 1   age     3 non-null      int64 \n",
      "dtypes: int64(1), object(1)\n",
      "memory usage: 176.0+ bytes\n"
     ]
    }
   ],
   "source": [
    "df.info()"
   ]
  },
  {
   "cell_type": "markdown",
   "id": "6b4e176c",
   "metadata": {},
   "source": [
    "#### 2) 타입 변경\n",
    "- age 컬럼을 이용하여 age_1 컬럼을 생성하고 타입은 int64로 변경"
   ]
  },
  {
   "cell_type": "code",
   "execution_count": 88,
   "id": "9dea151d",
   "metadata": {},
   "outputs": [
    {
     "data": {
      "text/html": [
       "<div>\n",
       "<style scoped>\n",
       "    .dataframe tbody tr th:only-of-type {\n",
       "        vertical-align: middle;\n",
       "    }\n",
       "\n",
       "    .dataframe tbody tr th {\n",
       "        vertical-align: top;\n",
       "    }\n",
       "\n",
       "    .dataframe thead th {\n",
       "        text-align: right;\n",
       "    }\n",
       "</style>\n",
       "<table border=\"1\" class=\"dataframe\">\n",
       "  <thead>\n",
       "    <tr style=\"text-align: right;\">\n",
       "      <th></th>\n",
       "      <th>name</th>\n",
       "      <th>age</th>\n",
       "      <th>age_1</th>\n",
       "      <th>age_2</th>\n",
       "    </tr>\n",
       "  </thead>\n",
       "  <tbody>\n",
       "    <tr>\n",
       "      <th>0</th>\n",
       "      <td>홍길동</td>\n",
       "      <td>25</td>\n",
       "      <td>25</td>\n",
       "      <td>25</td>\n",
       "    </tr>\n",
       "    <tr>\n",
       "      <th>1</th>\n",
       "      <td>김수정</td>\n",
       "      <td>35</td>\n",
       "      <td>35</td>\n",
       "      <td>35</td>\n",
       "    </tr>\n",
       "    <tr>\n",
       "      <th>2</th>\n",
       "      <td>이민정</td>\n",
       "      <td>45</td>\n",
       "      <td>45</td>\n",
       "      <td>45</td>\n",
       "    </tr>\n",
       "  </tbody>\n",
       "</table>\n",
       "</div>"
      ],
      "text/plain": [
       "  name  age  age_1  age_2\n",
       "0  홍길동   25     25     25\n",
       "1  김수정   35     35     35\n",
       "2  이민정   45     45     45"
      ]
     },
     "execution_count": 88,
     "metadata": {},
     "output_type": "execute_result"
    }
   ],
   "source": [
    "df['age_1'] = df['age'].astype('int64')\n",
    "df['age_2'] = pd.to_numeric(df['age'])\n",
    "df"
   ]
  },
  {
   "cell_type": "markdown",
   "id": "a20793c7",
   "metadata": {},
   "source": [
    "### [퀴즈3]"
   ]
  },
  {
   "cell_type": "code",
   "execution_count": 30,
   "id": "0ca84778",
   "metadata": {},
   "outputs": [
    {
     "data": {
      "text/html": [
       "<div>\n",
       "<style scoped>\n",
       "    .dataframe tbody tr th:only-of-type {\n",
       "        vertical-align: middle;\n",
       "    }\n",
       "\n",
       "    .dataframe tbody tr th {\n",
       "        vertical-align: top;\n",
       "    }\n",
       "\n",
       "    .dataframe thead th {\n",
       "        text-align: right;\n",
       "    }\n",
       "</style>\n",
       "<table border=\"1\" class=\"dataframe\">\n",
       "  <thead>\n",
       "    <tr style=\"text-align: right;\">\n",
       "      <th></th>\n",
       "      <th>국어</th>\n",
       "      <th>영어</th>\n",
       "      <th>수학</th>\n",
       "      <th>미술</th>\n",
       "    </tr>\n",
       "  </thead>\n",
       "  <tbody>\n",
       "    <tr>\n",
       "      <th>1월</th>\n",
       "      <td>15</td>\n",
       "      <td>45.0</td>\n",
       "      <td>75</td>\n",
       "      <td>77.0</td>\n",
       "    </tr>\n",
       "    <tr>\n",
       "      <th>2월</th>\n",
       "      <td>25</td>\n",
       "      <td>55.0</td>\n",
       "      <td>85</td>\n",
       "      <td>NaN</td>\n",
       "    </tr>\n",
       "    <tr>\n",
       "      <th>3월</th>\n",
       "      <td>35</td>\n",
       "      <td>NaN</td>\n",
       "      <td>56</td>\n",
       "      <td>96.0</td>\n",
       "    </tr>\n",
       "    <tr>\n",
       "      <th>4월</th>\n",
       "      <td>35</td>\n",
       "      <td>NaN</td>\n",
       "      <td>56</td>\n",
       "      <td>96.0</td>\n",
       "    </tr>\n",
       "  </tbody>\n",
       "</table>\n",
       "</div>"
      ],
      "text/plain": [
       "    국어    영어  수학    미술\n",
       "1월  15  45.0  75  77.0\n",
       "2월  25  55.0  85   NaN\n",
       "3월  35   NaN  56  96.0\n",
       "4월  35   NaN  56  96.0"
      ]
     },
     "execution_count": 30,
     "metadata": {},
     "output_type": "execute_result"
    }
   ],
   "source": [
    "df = pd.DataFrame({\n",
    "    \"국어\" : [15, 25, 35, 35],\n",
    "    \"영어\" : [45, 55, np.nan, np.nan],\n",
    "    \"수학\" : [75, 85, 56, 56],\n",
    "    \"미술\" : [77, np.nan, 96, 96]\n",
    "}, index=[\"1월\", \"2월\", \"3월\", \"4월\"])\n",
    "df"
   ]
  },
  {
   "cell_type": "markdown",
   "id": "63ea4c5a",
   "metadata": {},
   "source": [
    "#### 1) 컬럼명 변경 : 국어,영어,수학,과학"
   ]
  },
  {
   "cell_type": "code",
   "execution_count": 31,
   "id": "a537c826",
   "metadata": {},
   "outputs": [
    {
     "data": {
      "text/plain": [
       "1월    77.0\n",
       "2월     NaN\n",
       "3월    96.0\n",
       "4월    96.0\n",
       "Name: 과학, dtype: float64"
      ]
     },
     "execution_count": 31,
     "metadata": {},
     "output_type": "execute_result"
    }
   ],
   "source": [
    "df['미술'].rename('과학', inplace=True)"
   ]
  },
  {
   "cell_type": "markdown",
   "id": "df87a6ab",
   "metadata": {},
   "source": [
    "#### 2) 중복 행 제거한 후 새로운 데이터프레임(df2)으로 저장"
   ]
  },
  {
   "cell_type": "code",
   "execution_count": 33,
   "id": "b7308c73",
   "metadata": {},
   "outputs": [
    {
     "data": {
      "text/html": [
       "<div>\n",
       "<style scoped>\n",
       "    .dataframe tbody tr th:only-of-type {\n",
       "        vertical-align: middle;\n",
       "    }\n",
       "\n",
       "    .dataframe tbody tr th {\n",
       "        vertical-align: top;\n",
       "    }\n",
       "\n",
       "    .dataframe thead th {\n",
       "        text-align: right;\n",
       "    }\n",
       "</style>\n",
       "<table border=\"1\" class=\"dataframe\">\n",
       "  <thead>\n",
       "    <tr style=\"text-align: right;\">\n",
       "      <th></th>\n",
       "      <th>국어</th>\n",
       "      <th>영어</th>\n",
       "      <th>수학</th>\n",
       "      <th>미술</th>\n",
       "    </tr>\n",
       "  </thead>\n",
       "  <tbody>\n",
       "    <tr>\n",
       "      <th>1월</th>\n",
       "      <td>15</td>\n",
       "      <td>45.0</td>\n",
       "      <td>75</td>\n",
       "      <td>77.0</td>\n",
       "    </tr>\n",
       "    <tr>\n",
       "      <th>2월</th>\n",
       "      <td>25</td>\n",
       "      <td>55.0</td>\n",
       "      <td>85</td>\n",
       "      <td>NaN</td>\n",
       "    </tr>\n",
       "    <tr>\n",
       "      <th>3월</th>\n",
       "      <td>35</td>\n",
       "      <td>NaN</td>\n",
       "      <td>56</td>\n",
       "      <td>96.0</td>\n",
       "    </tr>\n",
       "  </tbody>\n",
       "</table>\n",
       "</div>"
      ],
      "text/plain": [
       "    국어    영어  수학    미술\n",
       "1월  15  45.0  75  77.0\n",
       "2월  25  55.0  85   NaN\n",
       "3월  35   NaN  56  96.0"
      ]
     },
     "execution_count": 33,
     "metadata": {},
     "output_type": "execute_result"
    }
   ],
   "source": [
    "df2 = df.drop_duplicates()\n",
    "df2"
   ]
  },
  {
   "cell_type": "markdown",
   "id": "9ee4cf8c",
   "metadata": {},
   "source": [
    "#### 3) 특정 컬럼값이 중복되면 제거"
   ]
  },
  {
   "cell_type": "code",
   "execution_count": 34,
   "id": "9428d70e",
   "metadata": {},
   "outputs": [
    {
     "data": {
      "text/html": [
       "<div>\n",
       "<style scoped>\n",
       "    .dataframe tbody tr th:only-of-type {\n",
       "        vertical-align: middle;\n",
       "    }\n",
       "\n",
       "    .dataframe tbody tr th {\n",
       "        vertical-align: top;\n",
       "    }\n",
       "\n",
       "    .dataframe thead th {\n",
       "        text-align: right;\n",
       "    }\n",
       "</style>\n",
       "<table border=\"1\" class=\"dataframe\">\n",
       "  <thead>\n",
       "    <tr style=\"text-align: right;\">\n",
       "      <th></th>\n",
       "      <th>국어</th>\n",
       "      <th>영어</th>\n",
       "      <th>수학</th>\n",
       "      <th>미술</th>\n",
       "    </tr>\n",
       "  </thead>\n",
       "  <tbody>\n",
       "    <tr>\n",
       "      <th>1월</th>\n",
       "      <td>15</td>\n",
       "      <td>45.0</td>\n",
       "      <td>75</td>\n",
       "      <td>77.0</td>\n",
       "    </tr>\n",
       "    <tr>\n",
       "      <th>2월</th>\n",
       "      <td>25</td>\n",
       "      <td>55.0</td>\n",
       "      <td>85</td>\n",
       "      <td>NaN</td>\n",
       "    </tr>\n",
       "    <tr>\n",
       "      <th>3월</th>\n",
       "      <td>35</td>\n",
       "      <td>NaN</td>\n",
       "      <td>56</td>\n",
       "      <td>96.0</td>\n",
       "    </tr>\n",
       "  </tbody>\n",
       "</table>\n",
       "</div>"
      ],
      "text/plain": [
       "    국어    영어  수학    미술\n",
       "1월  15  45.0  75  77.0\n",
       "2월  25  55.0  85   NaN\n",
       "3월  35   NaN  56  96.0"
      ]
     },
     "execution_count": 34,
     "metadata": {},
     "output_type": "execute_result"
    }
   ],
   "source": [
    "df.drop_duplicates('영어')"
   ]
  },
  {
   "cell_type": "markdown",
   "id": "7d57edf3",
   "metadata": {},
   "source": [
    "### [퀴즈4]"
   ]
  },
  {
   "cell_type": "markdown",
   "id": "8ad582a0",
   "metadata": {},
   "source": [
    "#### 1) data/shop/olist_customers_dataset.csv 파일 dataframe 생성 (데이터프레임 변수 이름은 customer 로  지정)"
   ]
  },
  {
   "cell_type": "code",
   "execution_count": 35,
   "id": "41c76d0e",
   "metadata": {},
   "outputs": [],
   "source": [
    "customer = pd.read_csv('../data/shop/olist_customers_dataset.csv')"
   ]
  },
  {
   "cell_type": "markdown",
   "id": "e3720a4c",
   "metadata": {},
   "source": [
    "#### 2) 처음 5개 행 확인"
   ]
  },
  {
   "cell_type": "code",
   "execution_count": 36,
   "id": "4ac6dbd5",
   "metadata": {},
   "outputs": [
    {
     "data": {
      "text/html": [
       "<div>\n",
       "<style scoped>\n",
       "    .dataframe tbody tr th:only-of-type {\n",
       "        vertical-align: middle;\n",
       "    }\n",
       "\n",
       "    .dataframe tbody tr th {\n",
       "        vertical-align: top;\n",
       "    }\n",
       "\n",
       "    .dataframe thead th {\n",
       "        text-align: right;\n",
       "    }\n",
       "</style>\n",
       "<table border=\"1\" class=\"dataframe\">\n",
       "  <thead>\n",
       "    <tr style=\"text-align: right;\">\n",
       "      <th></th>\n",
       "      <th>customer_id</th>\n",
       "      <th>customer_unique_id</th>\n",
       "      <th>customer_zip_code_prefix</th>\n",
       "      <th>customer_city</th>\n",
       "      <th>customer_state</th>\n",
       "    </tr>\n",
       "  </thead>\n",
       "  <tbody>\n",
       "    <tr>\n",
       "      <th>0</th>\n",
       "      <td>06b8999e2fba1a1fbc88172c00ba8bc7</td>\n",
       "      <td>861eff4711a542e4b93843c6dd7febb0</td>\n",
       "      <td>14409</td>\n",
       "      <td>franca</td>\n",
       "      <td>SP</td>\n",
       "    </tr>\n",
       "    <tr>\n",
       "      <th>1</th>\n",
       "      <td>18955e83d337fd6b2def6b18a428ac77</td>\n",
       "      <td>290c77bc529b7ac935b93aa66c333dc3</td>\n",
       "      <td>9790</td>\n",
       "      <td>sao bernardo do campo</td>\n",
       "      <td>SP</td>\n",
       "    </tr>\n",
       "    <tr>\n",
       "      <th>2</th>\n",
       "      <td>4e7b3e00288586ebd08712fdd0374a03</td>\n",
       "      <td>060e732b5b29e8181a18229c7b0b2b5e</td>\n",
       "      <td>1151</td>\n",
       "      <td>sao paulo</td>\n",
       "      <td>SP</td>\n",
       "    </tr>\n",
       "    <tr>\n",
       "      <th>3</th>\n",
       "      <td>b2b6027bc5c5109e529d4dc6358b12c3</td>\n",
       "      <td>259dac757896d24d7702b9acbbff3f3c</td>\n",
       "      <td>8775</td>\n",
       "      <td>mogi das cruzes</td>\n",
       "      <td>SP</td>\n",
       "    </tr>\n",
       "    <tr>\n",
       "      <th>4</th>\n",
       "      <td>4f2d8ab171c80ec8364f7c12e35b23ad</td>\n",
       "      <td>345ecd01c38d18a9036ed96c73b8d066</td>\n",
       "      <td>13056</td>\n",
       "      <td>campinas</td>\n",
       "      <td>SP</td>\n",
       "    </tr>\n",
       "  </tbody>\n",
       "</table>\n",
       "</div>"
      ],
      "text/plain": [
       "                        customer_id                customer_unique_id  \\\n",
       "0  06b8999e2fba1a1fbc88172c00ba8bc7  861eff4711a542e4b93843c6dd7febb0   \n",
       "1  18955e83d337fd6b2def6b18a428ac77  290c77bc529b7ac935b93aa66c333dc3   \n",
       "2  4e7b3e00288586ebd08712fdd0374a03  060e732b5b29e8181a18229c7b0b2b5e   \n",
       "3  b2b6027bc5c5109e529d4dc6358b12c3  259dac757896d24d7702b9acbbff3f3c   \n",
       "4  4f2d8ab171c80ec8364f7c12e35b23ad  345ecd01c38d18a9036ed96c73b8d066   \n",
       "\n",
       "   customer_zip_code_prefix          customer_city customer_state  \n",
       "0                     14409                 franca             SP  \n",
       "1                      9790  sao bernardo do campo             SP  \n",
       "2                      1151              sao paulo             SP  \n",
       "3                      8775        mogi das cruzes             SP  \n",
       "4                     13056               campinas             SP  "
      ]
     },
     "execution_count": 36,
     "metadata": {},
     "output_type": "execute_result"
    }
   ],
   "source": [
    "customer.head()"
   ]
  },
  {
   "cell_type": "markdown",
   "id": "044c437a",
   "metadata": {},
   "source": [
    "#### 3) 전체 record 수(행 수) 확인하기"
   ]
  },
  {
   "cell_type": "code",
   "execution_count": 89,
   "id": "448404da",
   "metadata": {},
   "outputs": [
    {
     "data": {
      "text/plain": [
       "99441"
      ]
     },
     "execution_count": 89,
     "metadata": {},
     "output_type": "execute_result"
    }
   ],
   "source": [
    "customer.shape[0]"
   ]
  },
  {
   "cell_type": "markdown",
   "id": "b79cb9b4",
   "metadata": {},
   "source": [
    "#### 4) 전체 정보 확인하기"
   ]
  },
  {
   "cell_type": "code",
   "execution_count": 40,
   "id": "8c6205c3",
   "metadata": {},
   "outputs": [
    {
     "name": "stdout",
     "output_type": "stream",
     "text": [
      "<class 'pandas.core.frame.DataFrame'>\n",
      "RangeIndex: 99441 entries, 0 to 99440\n",
      "Data columns (total 5 columns):\n",
      " #   Column                    Non-Null Count  Dtype \n",
      "---  ------                    --------------  ----- \n",
      " 0   customer_id               99441 non-null  object\n",
      " 1   customer_unique_id        99441 non-null  object\n",
      " 2   customer_zip_code_prefix  99441 non-null  int64 \n",
      " 3   customer_city             99441 non-null  object\n",
      " 4   customer_state            99441 non-null  object\n",
      "dtypes: int64(1), object(4)\n",
      "memory usage: 3.8+ MB\n"
     ]
    }
   ],
   "source": [
    "customer.info()"
   ]
  },
  {
   "cell_type": "markdown",
   "id": "4eb0faf1",
   "metadata": {},
   "source": [
    "#### 5) 전체 컬럼명 확인"
   ]
  },
  {
   "cell_type": "code",
   "execution_count": 41,
   "id": "ed3ce5f8",
   "metadata": {},
   "outputs": [
    {
     "data": {
      "text/plain": [
       "Index(['customer_id', 'customer_unique_id', 'customer_zip_code_prefix',\n",
       "       'customer_city', 'customer_state'],\n",
       "      dtype='object')"
      ]
     },
     "execution_count": 41,
     "metadata": {},
     "output_type": "execute_result"
    }
   ],
   "source": [
    "customer.columns"
   ]
  },
  {
   "cell_type": "markdown",
   "id": "05abb127",
   "metadata": {},
   "source": [
    "#### 6) 인덱스 확인"
   ]
  },
  {
   "cell_type": "code",
   "execution_count": 42,
   "id": "c61f0c0b",
   "metadata": {},
   "outputs": [
    {
     "data": {
      "text/plain": [
       "RangeIndex(start=0, stop=99441, step=1)"
      ]
     },
     "execution_count": 42,
     "metadata": {},
     "output_type": "execute_result"
    }
   ],
   "source": [
    "customer.index"
   ]
  },
  {
   "cell_type": "markdown",
   "id": "abfc1374",
   "metadata": {},
   "source": [
    "#### 7) 기술통계요약 정보 확인"
   ]
  },
  {
   "cell_type": "code",
   "execution_count": 43,
   "id": "c52bc3f4",
   "metadata": {},
   "outputs": [
    {
     "data": {
      "text/html": [
       "<div>\n",
       "<style scoped>\n",
       "    .dataframe tbody tr th:only-of-type {\n",
       "        vertical-align: middle;\n",
       "    }\n",
       "\n",
       "    .dataframe tbody tr th {\n",
       "        vertical-align: top;\n",
       "    }\n",
       "\n",
       "    .dataframe thead th {\n",
       "        text-align: right;\n",
       "    }\n",
       "</style>\n",
       "<table border=\"1\" class=\"dataframe\">\n",
       "  <thead>\n",
       "    <tr style=\"text-align: right;\">\n",
       "      <th></th>\n",
       "      <th>customer_zip_code_prefix</th>\n",
       "    </tr>\n",
       "  </thead>\n",
       "  <tbody>\n",
       "    <tr>\n",
       "      <th>count</th>\n",
       "      <td>99441.000000</td>\n",
       "    </tr>\n",
       "    <tr>\n",
       "      <th>mean</th>\n",
       "      <td>35137.474583</td>\n",
       "    </tr>\n",
       "    <tr>\n",
       "      <th>std</th>\n",
       "      <td>29797.938996</td>\n",
       "    </tr>\n",
       "    <tr>\n",
       "      <th>min</th>\n",
       "      <td>1003.000000</td>\n",
       "    </tr>\n",
       "    <tr>\n",
       "      <th>25%</th>\n",
       "      <td>11347.000000</td>\n",
       "    </tr>\n",
       "    <tr>\n",
       "      <th>50%</th>\n",
       "      <td>24416.000000</td>\n",
       "    </tr>\n",
       "    <tr>\n",
       "      <th>75%</th>\n",
       "      <td>58900.000000</td>\n",
       "    </tr>\n",
       "    <tr>\n",
       "      <th>max</th>\n",
       "      <td>99990.000000</td>\n",
       "    </tr>\n",
       "  </tbody>\n",
       "</table>\n",
       "</div>"
      ],
      "text/plain": [
       "       customer_zip_code_prefix\n",
       "count              99441.000000\n",
       "mean               35137.474583\n",
       "std                29797.938996\n",
       "min                 1003.000000\n",
       "25%                11347.000000\n",
       "50%                24416.000000\n",
       "75%                58900.000000\n",
       "max                99990.000000"
      ]
     },
     "execution_count": 43,
     "metadata": {},
     "output_type": "execute_result"
    }
   ],
   "source": [
    "customer.describe()"
   ]
  },
  {
   "cell_type": "markdown",
   "id": "23120a7c",
   "metadata": {},
   "source": [
    "#### 8) customer_zip_code_prefix, customer_city, customer_state 컬럼만 가져와서 데이터 프레임 생성 (데이터프레임 변수 이름은 customer2로 하기로 함)"
   ]
  },
  {
   "cell_type": "code",
   "execution_count": 90,
   "id": "525ba320",
   "metadata": {},
   "outputs": [
    {
     "data": {
      "text/html": [
       "<div>\n",
       "<style scoped>\n",
       "    .dataframe tbody tr th:only-of-type {\n",
       "        vertical-align: middle;\n",
       "    }\n",
       "\n",
       "    .dataframe tbody tr th {\n",
       "        vertical-align: top;\n",
       "    }\n",
       "\n",
       "    .dataframe thead th {\n",
       "        text-align: right;\n",
       "    }\n",
       "</style>\n",
       "<table border=\"1\" class=\"dataframe\">\n",
       "  <thead>\n",
       "    <tr style=\"text-align: right;\">\n",
       "      <th></th>\n",
       "      <th>customer_zip_code_prefix</th>\n",
       "      <th>customer_city</th>\n",
       "      <th>customer_state</th>\n",
       "    </tr>\n",
       "  </thead>\n",
       "  <tbody>\n",
       "    <tr>\n",
       "      <th>0</th>\n",
       "      <td>14409</td>\n",
       "      <td>franca</td>\n",
       "      <td>SP</td>\n",
       "    </tr>\n",
       "    <tr>\n",
       "      <th>1</th>\n",
       "      <td>9790</td>\n",
       "      <td>sao bernardo do campo</td>\n",
       "      <td>SP</td>\n",
       "    </tr>\n",
       "    <tr>\n",
       "      <th>2</th>\n",
       "      <td>1151</td>\n",
       "      <td>sao paulo</td>\n",
       "      <td>SP</td>\n",
       "    </tr>\n",
       "    <tr>\n",
       "      <th>3</th>\n",
       "      <td>8775</td>\n",
       "      <td>mogi das cruzes</td>\n",
       "      <td>SP</td>\n",
       "    </tr>\n",
       "    <tr>\n",
       "      <th>4</th>\n",
       "      <td>13056</td>\n",
       "      <td>campinas</td>\n",
       "      <td>SP</td>\n",
       "    </tr>\n",
       "    <tr>\n",
       "      <th>...</th>\n",
       "      <td>...</td>\n",
       "      <td>...</td>\n",
       "      <td>...</td>\n",
       "    </tr>\n",
       "    <tr>\n",
       "      <th>99436</th>\n",
       "      <td>3937</td>\n",
       "      <td>sao paulo</td>\n",
       "      <td>SP</td>\n",
       "    </tr>\n",
       "    <tr>\n",
       "      <th>99437</th>\n",
       "      <td>6764</td>\n",
       "      <td>taboao da serra</td>\n",
       "      <td>SP</td>\n",
       "    </tr>\n",
       "    <tr>\n",
       "      <th>99438</th>\n",
       "      <td>60115</td>\n",
       "      <td>fortaleza</td>\n",
       "      <td>CE</td>\n",
       "    </tr>\n",
       "    <tr>\n",
       "      <th>99439</th>\n",
       "      <td>92120</td>\n",
       "      <td>canoas</td>\n",
       "      <td>RS</td>\n",
       "    </tr>\n",
       "    <tr>\n",
       "      <th>99440</th>\n",
       "      <td>6703</td>\n",
       "      <td>cotia</td>\n",
       "      <td>SP</td>\n",
       "    </tr>\n",
       "  </tbody>\n",
       "</table>\n",
       "<p>99441 rows × 3 columns</p>\n",
       "</div>"
      ],
      "text/plain": [
       "       customer_zip_code_prefix          customer_city customer_state\n",
       "0                         14409                 franca             SP\n",
       "1                          9790  sao bernardo do campo             SP\n",
       "2                          1151              sao paulo             SP\n",
       "3                          8775        mogi das cruzes             SP\n",
       "4                         13056               campinas             SP\n",
       "...                         ...                    ...            ...\n",
       "99436                      3937              sao paulo             SP\n",
       "99437                      6764        taboao da serra             SP\n",
       "99438                     60115              fortaleza             CE\n",
       "99439                     92120                 canoas             RS\n",
       "99440                      6703                  cotia             SP\n",
       "\n",
       "[99441 rows x 3 columns]"
      ]
     },
     "execution_count": 90,
     "metadata": {},
     "output_type": "execute_result"
    }
   ],
   "source": [
    "customer2 = customer[[\"customer_zip_code_prefix\",\"customer_city\" , \"customer_state\"]]\n",
    "customer2"
   ]
  },
  {
   "cell_type": "markdown",
   "id": "2a033da9",
   "metadata": {},
   "source": [
    "#### 9)  customer_city 가 sao paulo 인 레코드(행)만 가져와서 데이터프레임 생성(변수 이름은 customer3 으로 지정)\n",
    "- 레코드(행) 수 확인도 해보기"
   ]
  },
  {
   "cell_type": "code",
   "execution_count": 92,
   "id": "566ecfc5",
   "metadata": {},
   "outputs": [
    {
     "data": {
      "text/html": [
       "<div>\n",
       "<style scoped>\n",
       "    .dataframe tbody tr th:only-of-type {\n",
       "        vertical-align: middle;\n",
       "    }\n",
       "\n",
       "    .dataframe tbody tr th {\n",
       "        vertical-align: top;\n",
       "    }\n",
       "\n",
       "    .dataframe thead th {\n",
       "        text-align: right;\n",
       "    }\n",
       "</style>\n",
       "<table border=\"1\" class=\"dataframe\">\n",
       "  <thead>\n",
       "    <tr style=\"text-align: right;\">\n",
       "      <th></th>\n",
       "      <th>customer_id</th>\n",
       "      <th>customer_unique_id</th>\n",
       "      <th>customer_zip_code_prefix</th>\n",
       "      <th>customer_city</th>\n",
       "      <th>customer_state</th>\n",
       "    </tr>\n",
       "  </thead>\n",
       "  <tbody>\n",
       "    <tr>\n",
       "      <th>2</th>\n",
       "      <td>4e7b3e00288586ebd08712fdd0374a03</td>\n",
       "      <td>060e732b5b29e8181a18229c7b0b2b5e</td>\n",
       "      <td>1151</td>\n",
       "      <td>sao paulo</td>\n",
       "      <td>SP</td>\n",
       "    </tr>\n",
       "    <tr>\n",
       "      <th>6</th>\n",
       "      <td>fd826e7cf63160e536e0908c76c3f441</td>\n",
       "      <td>addec96d2e059c80c30fe6871d30d177</td>\n",
       "      <td>4534</td>\n",
       "      <td>sao paulo</td>\n",
       "      <td>SP</td>\n",
       "    </tr>\n",
       "    <tr>\n",
       "      <th>13</th>\n",
       "      <td>eabebad39a88bb6f5b52376faec28612</td>\n",
       "      <td>295c05e81917928d76245e842748184d</td>\n",
       "      <td>5704</td>\n",
       "      <td>sao paulo</td>\n",
       "      <td>SP</td>\n",
       "    </tr>\n",
       "    <tr>\n",
       "      <th>18</th>\n",
       "      <td>9b8ce803689b3562defaad4613ef426f</td>\n",
       "      <td>7f3a72e8f988c6e735ba118d54f47458</td>\n",
       "      <td>5416</td>\n",
       "      <td>sao paulo</td>\n",
       "      <td>SP</td>\n",
       "    </tr>\n",
       "    <tr>\n",
       "      <th>22</th>\n",
       "      <td>2938121a40a20953c43caa8c98787fcb</td>\n",
       "      <td>482441ea6a06b1f72fe9784756c0ea75</td>\n",
       "      <td>5713</td>\n",
       "      <td>sao paulo</td>\n",
       "      <td>SP</td>\n",
       "    </tr>\n",
       "    <tr>\n",
       "      <th>...</th>\n",
       "      <td>...</td>\n",
       "      <td>...</td>\n",
       "      <td>...</td>\n",
       "      <td>...</td>\n",
       "      <td>...</td>\n",
       "    </tr>\n",
       "    <tr>\n",
       "      <th>99408</th>\n",
       "      <td>f6c6d3e1e20969a5eed982163f959719</td>\n",
       "      <td>fb354969e06f2093c0083cbfbb91864e</td>\n",
       "      <td>1521</td>\n",
       "      <td>sao paulo</td>\n",
       "      <td>SP</td>\n",
       "    </tr>\n",
       "    <tr>\n",
       "      <th>99411</th>\n",
       "      <td>da37711b17efd5f2539e8196ab215f04</td>\n",
       "      <td>5f2971f9805e3ccb030226e30c8e8390</td>\n",
       "      <td>4313</td>\n",
       "      <td>sao paulo</td>\n",
       "      <td>SP</td>\n",
       "    </tr>\n",
       "    <tr>\n",
       "      <th>99422</th>\n",
       "      <td>821a7275a08f32975caceff2e08ea262</td>\n",
       "      <td>046470763123d3d6364f89095b4e47ab</td>\n",
       "      <td>5734</td>\n",
       "      <td>sao paulo</td>\n",
       "      <td>SP</td>\n",
       "    </tr>\n",
       "    <tr>\n",
       "      <th>99423</th>\n",
       "      <td>c6ece8a5137f3c9c3a3a12302a19a2ac</td>\n",
       "      <td>aaf22868003377e859049dcf5f0b3fdf</td>\n",
       "      <td>1323</td>\n",
       "      <td>sao paulo</td>\n",
       "      <td>SP</td>\n",
       "    </tr>\n",
       "    <tr>\n",
       "      <th>99436</th>\n",
       "      <td>17ddf5dd5d51696bb3d7c6291687be6f</td>\n",
       "      <td>1a29b476fee25c95fbafc67c5ac95cf8</td>\n",
       "      <td>3937</td>\n",
       "      <td>sao paulo</td>\n",
       "      <td>SP</td>\n",
       "    </tr>\n",
       "  </tbody>\n",
       "</table>\n",
       "<p>15540 rows × 5 columns</p>\n",
       "</div>"
      ],
      "text/plain": [
       "                            customer_id                customer_unique_id  \\\n",
       "2      4e7b3e00288586ebd08712fdd0374a03  060e732b5b29e8181a18229c7b0b2b5e   \n",
       "6      fd826e7cf63160e536e0908c76c3f441  addec96d2e059c80c30fe6871d30d177   \n",
       "13     eabebad39a88bb6f5b52376faec28612  295c05e81917928d76245e842748184d   \n",
       "18     9b8ce803689b3562defaad4613ef426f  7f3a72e8f988c6e735ba118d54f47458   \n",
       "22     2938121a40a20953c43caa8c98787fcb  482441ea6a06b1f72fe9784756c0ea75   \n",
       "...                                 ...                               ...   \n",
       "99408  f6c6d3e1e20969a5eed982163f959719  fb354969e06f2093c0083cbfbb91864e   \n",
       "99411  da37711b17efd5f2539e8196ab215f04  5f2971f9805e3ccb030226e30c8e8390   \n",
       "99422  821a7275a08f32975caceff2e08ea262  046470763123d3d6364f89095b4e47ab   \n",
       "99423  c6ece8a5137f3c9c3a3a12302a19a2ac  aaf22868003377e859049dcf5f0b3fdf   \n",
       "99436  17ddf5dd5d51696bb3d7c6291687be6f  1a29b476fee25c95fbafc67c5ac95cf8   \n",
       "\n",
       "       customer_zip_code_prefix customer_city customer_state  \n",
       "2                          1151     sao paulo             SP  \n",
       "6                          4534     sao paulo             SP  \n",
       "13                         5704     sao paulo             SP  \n",
       "18                         5416     sao paulo             SP  \n",
       "22                         5713     sao paulo             SP  \n",
       "...                         ...           ...            ...  \n",
       "99408                      1521     sao paulo             SP  \n",
       "99411                      4313     sao paulo             SP  \n",
       "99422                      5734     sao paulo             SP  \n",
       "99423                      1323     sao paulo             SP  \n",
       "99436                      3937     sao paulo             SP  \n",
       "\n",
       "[15540 rows x 5 columns]"
      ]
     },
     "execution_count": 92,
     "metadata": {},
     "output_type": "execute_result"
    }
   ],
   "source": [
    "customer3 = customer[customer[\"customer_city\"] == 'sao paulo'].copy()\n",
    "customer3"
   ]
  },
  {
   "cell_type": "code",
   "execution_count": 93,
   "id": "264e8ca9",
   "metadata": {},
   "outputs": [
    {
     "data": {
      "text/plain": [
       "15540"
      ]
     },
     "execution_count": 93,
     "metadata": {},
     "output_type": "execute_result"
    }
   ],
   "source": [
    "customer3.shape[0]"
   ]
  },
  {
   "cell_type": "markdown",
   "id": "c66dd31e",
   "metadata": {},
   "source": [
    "#### 10) customer2 에서 도시별 고유 값들의 수를 확인하기"
   ]
  },
  {
   "cell_type": "code",
   "execution_count": 98,
   "id": "9dfe7072",
   "metadata": {},
   "outputs": [
    {
     "data": {
      "text/plain": [
       "sao paulo            15540\n",
       "rio de janeiro        6882\n",
       "belo horizonte        2773\n",
       "brasilia              2131\n",
       "curitiba              1521\n",
       "                     ...  \n",
       "bequimao                 1\n",
       "andarai                  1\n",
       "vargem grande            1\n",
       "curvelandia              1\n",
       "eugenio de castro        1\n",
       "Name: customer_city, Length: 4119, dtype: int64"
      ]
     },
     "execution_count": 98,
     "metadata": {},
     "output_type": "execute_result"
    }
   ],
   "source": [
    "customer2['customer_city'].value_counts()"
   ]
  },
  {
   "cell_type": "markdown",
   "id": "a08a79e3",
   "metadata": {},
   "source": [
    "#### 11) customer 데이터프레임에서 customer_city 기준으로 행의 갯수를 확인\n",
    "1. 새로운 데이터프레임 변수 이름은 customer4로 지정"
   ]
  },
  {
   "cell_type": "code",
   "execution_count": 99,
   "id": "c0802db0",
   "metadata": {},
   "outputs": [],
   "source": [
    "customer4 = customer.groupby('customer_city').count()"
   ]
  },
  {
   "cell_type": "code",
   "execution_count": 100,
   "id": "8f670628",
   "metadata": {},
   "outputs": [
    {
     "data": {
      "text/plain": [
       "4119"
      ]
     },
     "execution_count": 100,
     "metadata": {},
     "output_type": "execute_result"
    }
   ],
   "source": [
    "customer4.shape[0]"
   ]
  },
  {
   "cell_type": "markdown",
   "id": "be44965c",
   "metadata": {},
   "source": [
    "#### 12) customer4에서 가장 레코드(행)의 수가 많은 customer_city 를 확인해보세요\n",
    "1. customer4의 customer_id 를 기준으로 정렬하고, 가장 상단의 한 행만 출력하기"
   ]
  },
  {
   "cell_type": "code",
   "execution_count": 103,
   "id": "1c3132a6",
   "metadata": {},
   "outputs": [
    {
     "data": {
      "text/html": [
       "<div>\n",
       "<style scoped>\n",
       "    .dataframe tbody tr th:only-of-type {\n",
       "        vertical-align: middle;\n",
       "    }\n",
       "\n",
       "    .dataframe tbody tr th {\n",
       "        vertical-align: top;\n",
       "    }\n",
       "\n",
       "    .dataframe thead th {\n",
       "        text-align: right;\n",
       "    }\n",
       "</style>\n",
       "<table border=\"1\" class=\"dataframe\">\n",
       "  <thead>\n",
       "    <tr style=\"text-align: right;\">\n",
       "      <th></th>\n",
       "      <th>customer_id</th>\n",
       "      <th>customer_unique_id</th>\n",
       "      <th>customer_zip_code_prefix</th>\n",
       "      <th>customer_state</th>\n",
       "    </tr>\n",
       "    <tr>\n",
       "      <th>customer_city</th>\n",
       "      <th></th>\n",
       "      <th></th>\n",
       "      <th></th>\n",
       "      <th></th>\n",
       "    </tr>\n",
       "  </thead>\n",
       "  <tbody>\n",
       "    <tr>\n",
       "      <th>sao paulo</th>\n",
       "      <td>15540</td>\n",
       "      <td>15540</td>\n",
       "      <td>15540</td>\n",
       "      <td>15540</td>\n",
       "    </tr>\n",
       "  </tbody>\n",
       "</table>\n",
       "</div>"
      ],
      "text/plain": [
       "               customer_id  customer_unique_id  customer_zip_code_prefix  \\\n",
       "customer_city                                                              \n",
       "sao paulo            15540               15540                     15540   \n",
       "\n",
       "               customer_state  \n",
       "customer_city                  \n",
       "sao paulo               15540  "
      ]
     },
     "execution_count": 103,
     "metadata": {},
     "output_type": "execute_result"
    }
   ],
   "source": [
    "customer4.sort_values('customer_id', ascending=False).head(1)"
   ]
  },
  {
   "cell_type": "markdown",
   "id": "cc23788d",
   "metadata": {},
   "source": [
    "#### 13) customer 에서 customer_city 를 인덱스로 만들고, 알파벳 순으로 인덱스를 정렬해보세요"
   ]
  },
  {
   "cell_type": "code",
   "execution_count": 105,
   "id": "958f5a9b",
   "metadata": {},
   "outputs": [
    {
     "data": {
      "text/html": [
       "<div>\n",
       "<style scoped>\n",
       "    .dataframe tbody tr th:only-of-type {\n",
       "        vertical-align: middle;\n",
       "    }\n",
       "\n",
       "    .dataframe tbody tr th {\n",
       "        vertical-align: top;\n",
       "    }\n",
       "\n",
       "    .dataframe thead th {\n",
       "        text-align: right;\n",
       "    }\n",
       "</style>\n",
       "<table border=\"1\" class=\"dataframe\">\n",
       "  <thead>\n",
       "    <tr style=\"text-align: right;\">\n",
       "      <th></th>\n",
       "      <th>customer_id</th>\n",
       "      <th>customer_unique_id</th>\n",
       "      <th>customer_zip_code_prefix</th>\n",
       "      <th>customer_state</th>\n",
       "    </tr>\n",
       "    <tr>\n",
       "      <th>customer_city</th>\n",
       "      <th></th>\n",
       "      <th></th>\n",
       "      <th></th>\n",
       "      <th></th>\n",
       "    </tr>\n",
       "  </thead>\n",
       "  <tbody>\n",
       "    <tr>\n",
       "      <th>abadia dos dourados</th>\n",
       "      <td>a23e3f9a2b656b23b7e52075964b42cd</td>\n",
       "      <td>afddf43a03a9941624ed42c0b2c17280</td>\n",
       "      <td>38540</td>\n",
       "      <td>MG</td>\n",
       "    </tr>\n",
       "    <tr>\n",
       "      <th>abadia dos dourados</th>\n",
       "      <td>9e01f714a2b3b8962c222cf2b74c20dc</td>\n",
       "      <td>e1feae9083c4c2895ddf6dc80526a85d</td>\n",
       "      <td>38540</td>\n",
       "      <td>MG</td>\n",
       "    </tr>\n",
       "    <tr>\n",
       "      <th>abadia dos dourados</th>\n",
       "      <td>f11eb8f0b8b87510a93e3e1aa10b0ade</td>\n",
       "      <td>64ee476500a01beb94df40f97a108c50</td>\n",
       "      <td>38540</td>\n",
       "      <td>MG</td>\n",
       "    </tr>\n",
       "    <tr>\n",
       "      <th>abadiania</th>\n",
       "      <td>576d71ddb21b21763cfedce73b902180</td>\n",
       "      <td>8d76b559181609308fcae630ea64cd61</td>\n",
       "      <td>72940</td>\n",
       "      <td>GO</td>\n",
       "    </tr>\n",
       "    <tr>\n",
       "      <th>abaete</th>\n",
       "      <td>5e9e1ae42e02df93e9a591e86fd531a3</td>\n",
       "      <td>28af9604f7830ef6d1230fb575c39eb1</td>\n",
       "      <td>35620</td>\n",
       "      <td>MG</td>\n",
       "    </tr>\n",
       "    <tr>\n",
       "      <th>...</th>\n",
       "      <td>...</td>\n",
       "      <td>...</td>\n",
       "      <td>...</td>\n",
       "      <td>...</td>\n",
       "    </tr>\n",
       "    <tr>\n",
       "      <th>ze doca</th>\n",
       "      <td>1052e334b46dd1e9876946d6372a363e</td>\n",
       "      <td>c933181d09535cb6bdfb1c0160323bd9</td>\n",
       "      <td>65365</td>\n",
       "      <td>MA</td>\n",
       "    </tr>\n",
       "    <tr>\n",
       "      <th>ze doca</th>\n",
       "      <td>d8b3ef6f73de33ae716e94d2478cc080</td>\n",
       "      <td>9ef06526b8e57a567ed6f1dce7ab0320</td>\n",
       "      <td>65365</td>\n",
       "      <td>MA</td>\n",
       "    </tr>\n",
       "    <tr>\n",
       "      <th>ze doca</th>\n",
       "      <td>fc87e5c06780700952aa42998a22968f</td>\n",
       "      <td>d4798889fe74026a739ca0be9d2dccb8</td>\n",
       "      <td>65365</td>\n",
       "      <td>MA</td>\n",
       "    </tr>\n",
       "    <tr>\n",
       "      <th>zortea</th>\n",
       "      <td>0a466d490a3c2fcc1e7177f4809ec7dd</td>\n",
       "      <td>d5a5ceb83234eeb855268d7fce7f54ea</td>\n",
       "      <td>89633</td>\n",
       "      <td>SC</td>\n",
       "    </tr>\n",
       "    <tr>\n",
       "      <th>zortea</th>\n",
       "      <td>e046f992a304cc92e1b00d7fccdf1c42</td>\n",
       "      <td>09a3f87b74828b274d73ee9dfef43b68</td>\n",
       "      <td>89633</td>\n",
       "      <td>SC</td>\n",
       "    </tr>\n",
       "  </tbody>\n",
       "</table>\n",
       "<p>99441 rows × 4 columns</p>\n",
       "</div>"
      ],
      "text/plain": [
       "                                          customer_id  \\\n",
       "customer_city                                           \n",
       "abadia dos dourados  a23e3f9a2b656b23b7e52075964b42cd   \n",
       "abadia dos dourados  9e01f714a2b3b8962c222cf2b74c20dc   \n",
       "abadia dos dourados  f11eb8f0b8b87510a93e3e1aa10b0ade   \n",
       "abadiania            576d71ddb21b21763cfedce73b902180   \n",
       "abaete               5e9e1ae42e02df93e9a591e86fd531a3   \n",
       "...                                               ...   \n",
       "ze doca              1052e334b46dd1e9876946d6372a363e   \n",
       "ze doca              d8b3ef6f73de33ae716e94d2478cc080   \n",
       "ze doca              fc87e5c06780700952aa42998a22968f   \n",
       "zortea               0a466d490a3c2fcc1e7177f4809ec7dd   \n",
       "zortea               e046f992a304cc92e1b00d7fccdf1c42   \n",
       "\n",
       "                                   customer_unique_id  \\\n",
       "customer_city                                           \n",
       "abadia dos dourados  afddf43a03a9941624ed42c0b2c17280   \n",
       "abadia dos dourados  e1feae9083c4c2895ddf6dc80526a85d   \n",
       "abadia dos dourados  64ee476500a01beb94df40f97a108c50   \n",
       "abadiania            8d76b559181609308fcae630ea64cd61   \n",
       "abaete               28af9604f7830ef6d1230fb575c39eb1   \n",
       "...                                               ...   \n",
       "ze doca              c933181d09535cb6bdfb1c0160323bd9   \n",
       "ze doca              9ef06526b8e57a567ed6f1dce7ab0320   \n",
       "ze doca              d4798889fe74026a739ca0be9d2dccb8   \n",
       "zortea               d5a5ceb83234eeb855268d7fce7f54ea   \n",
       "zortea               09a3f87b74828b274d73ee9dfef43b68   \n",
       "\n",
       "                     customer_zip_code_prefix customer_state  \n",
       "customer_city                                                 \n",
       "abadia dos dourados                     38540             MG  \n",
       "abadia dos dourados                     38540             MG  \n",
       "abadia dos dourados                     38540             MG  \n",
       "abadiania                               72940             GO  \n",
       "abaete                                  35620             MG  \n",
       "...                                       ...            ...  \n",
       "ze doca                                 65365             MA  \n",
       "ze doca                                 65365             MA  \n",
       "ze doca                                 65365             MA  \n",
       "zortea                                  89633             SC  \n",
       "zortea                                  89633             SC  \n",
       "\n",
       "[99441 rows x 4 columns]"
      ]
     },
     "execution_count": 105,
     "metadata": {},
     "output_type": "execute_result"
    }
   ],
   "source": [
    "customer.set_index('customer_city').sort_index()"
   ]
  },
  {
   "cell_type": "markdown",
   "id": "31811872",
   "metadata": {},
   "source": [
    "#### 14) customer2에서 customer_state 기준으로 행의 갯수를 확인해보세요\n",
    "- value_counts() "
   ]
  },
  {
   "cell_type": "code",
   "execution_count": 109,
   "id": "aaff6087",
   "metadata": {},
   "outputs": [
    {
     "data": {
      "text/plain": [
       "SP    41746\n",
       "RJ    12852\n",
       "MG    11635\n",
       "RS     5466\n",
       "PR     5045\n",
       "SC     3637\n",
       "BA     3380\n",
       "DF     2140\n",
       "ES     2033\n",
       "GO     2020\n",
       "PE     1652\n",
       "CE     1336\n",
       "PA      975\n",
       "MT      907\n",
       "MA      747\n",
       "MS      715\n",
       "PB      536\n",
       "PI      495\n",
       "RN      485\n",
       "AL      413\n",
       "SE      350\n",
       "TO      280\n",
       "RO      253\n",
       "AM      148\n",
       "AC       81\n",
       "AP       68\n",
       "RR       46\n",
       "Name: customer_state, dtype: int64"
      ]
     },
     "execution_count": 109,
     "metadata": {},
     "output_type": "execute_result"
    }
   ],
   "source": [
    "customer2['customer_state'].value_counts()"
   ]
  },
  {
   "cell_type": "markdown",
   "id": "b6062143",
   "metadata": {},
   "source": [
    "#### 15) customer2에서 customer_state 갯수 확인"
   ]
  },
  {
   "cell_type": "code",
   "execution_count": 111,
   "id": "681bf8ff",
   "metadata": {},
   "outputs": [
    {
     "data": {
      "text/plain": [
       "99441"
      ]
     },
     "execution_count": 111,
     "metadata": {},
     "output_type": "execute_result"
    }
   ],
   "source": [
    "customer2['customer_state'].count()"
   ]
  },
  {
   "cell_type": "markdown",
   "id": "7f19efdd",
   "metadata": {},
   "source": [
    "#### 16) customer4에서 customer_id 갯수가 1000개 이상인 정보 추출하기"
   ]
  },
  {
   "cell_type": "code",
   "execution_count": 115,
   "id": "77ae0865",
   "metadata": {},
   "outputs": [
    {
     "data": {
      "text/html": [
       "<div>\n",
       "<style scoped>\n",
       "    .dataframe tbody tr th:only-of-type {\n",
       "        vertical-align: middle;\n",
       "    }\n",
       "\n",
       "    .dataframe tbody tr th {\n",
       "        vertical-align: top;\n",
       "    }\n",
       "\n",
       "    .dataframe thead th {\n",
       "        text-align: right;\n",
       "    }\n",
       "</style>\n",
       "<table border=\"1\" class=\"dataframe\">\n",
       "  <thead>\n",
       "    <tr style=\"text-align: right;\">\n",
       "      <th></th>\n",
       "      <th>customer_id</th>\n",
       "      <th>customer_unique_id</th>\n",
       "      <th>customer_zip_code_prefix</th>\n",
       "      <th>customer_state</th>\n",
       "    </tr>\n",
       "    <tr>\n",
       "      <th>customer_city</th>\n",
       "      <th></th>\n",
       "      <th></th>\n",
       "      <th></th>\n",
       "      <th></th>\n",
       "    </tr>\n",
       "  </thead>\n",
       "  <tbody>\n",
       "    <tr>\n",
       "      <th>belo horizonte</th>\n",
       "      <td>2773</td>\n",
       "      <td>2773</td>\n",
       "      <td>2773</td>\n",
       "      <td>2773</td>\n",
       "    </tr>\n",
       "    <tr>\n",
       "      <th>brasilia</th>\n",
       "      <td>2131</td>\n",
       "      <td>2131</td>\n",
       "      <td>2131</td>\n",
       "      <td>2131</td>\n",
       "    </tr>\n",
       "    <tr>\n",
       "      <th>campinas</th>\n",
       "      <td>1444</td>\n",
       "      <td>1444</td>\n",
       "      <td>1444</td>\n",
       "      <td>1444</td>\n",
       "    </tr>\n",
       "    <tr>\n",
       "      <th>curitiba</th>\n",
       "      <td>1521</td>\n",
       "      <td>1521</td>\n",
       "      <td>1521</td>\n",
       "      <td>1521</td>\n",
       "    </tr>\n",
       "    <tr>\n",
       "      <th>guarulhos</th>\n",
       "      <td>1189</td>\n",
       "      <td>1189</td>\n",
       "      <td>1189</td>\n",
       "      <td>1189</td>\n",
       "    </tr>\n",
       "    <tr>\n",
       "      <th>porto alegre</th>\n",
       "      <td>1379</td>\n",
       "      <td>1379</td>\n",
       "      <td>1379</td>\n",
       "      <td>1379</td>\n",
       "    </tr>\n",
       "    <tr>\n",
       "      <th>rio de janeiro</th>\n",
       "      <td>6882</td>\n",
       "      <td>6882</td>\n",
       "      <td>6882</td>\n",
       "      <td>6882</td>\n",
       "    </tr>\n",
       "    <tr>\n",
       "      <th>salvador</th>\n",
       "      <td>1245</td>\n",
       "      <td>1245</td>\n",
       "      <td>1245</td>\n",
       "      <td>1245</td>\n",
       "    </tr>\n",
       "    <tr>\n",
       "      <th>sao paulo</th>\n",
       "      <td>15540</td>\n",
       "      <td>15540</td>\n",
       "      <td>15540</td>\n",
       "      <td>15540</td>\n",
       "    </tr>\n",
       "  </tbody>\n",
       "</table>\n",
       "</div>"
      ],
      "text/plain": [
       "                customer_id  customer_unique_id  customer_zip_code_prefix  \\\n",
       "customer_city                                                               \n",
       "belo horizonte         2773                2773                      2773   \n",
       "brasilia               2131                2131                      2131   \n",
       "campinas               1444                1444                      1444   \n",
       "curitiba               1521                1521                      1521   \n",
       "guarulhos              1189                1189                      1189   \n",
       "porto alegre           1379                1379                      1379   \n",
       "rio de janeiro         6882                6882                      6882   \n",
       "salvador               1245                1245                      1245   \n",
       "sao paulo             15540               15540                     15540   \n",
       "\n",
       "                customer_state  \n",
       "customer_city                   \n",
       "belo horizonte            2773  \n",
       "brasilia                  2131  \n",
       "campinas                  1444  \n",
       "curitiba                  1521  \n",
       "guarulhos                 1189  \n",
       "porto alegre              1379  \n",
       "rio de janeiro            6882  \n",
       "salvador                  1245  \n",
       "sao paulo                15540  "
      ]
     },
     "execution_count": 115,
     "metadata": {},
     "output_type": "execute_result"
    }
   ],
   "source": [
    "customer4[customer4['customer_id'] >= 1000]"
   ]
  },
  {
   "cell_type": "markdown",
   "id": "6c064a66",
   "metadata": {},
   "source": [
    "#### 17) customer4에서 customer_id 갯수가 1000개 이상인 customer_city 이름을 확인해보세요"
   ]
  },
  {
   "cell_type": "code",
   "execution_count": 119,
   "id": "f933bcf6",
   "metadata": {},
   "outputs": [
    {
     "data": {
      "text/plain": [
       "Index(['belo horizonte', 'brasilia', 'campinas', 'curitiba', 'guarulhos',\n",
       "       'porto alegre', 'rio de janeiro', 'salvador', 'sao paulo'],\n",
       "      dtype='object', name='customer_city')"
      ]
     },
     "execution_count": 119,
     "metadata": {},
     "output_type": "execute_result"
    }
   ],
   "source": [
    "customer4[customer4['customer_id'] >= 1000].index"
   ]
  },
  {
   "cell_type": "markdown",
   "id": "92e120e8",
   "metadata": {},
   "source": [
    "#### 18) customer에서 결측치가 각 컬럼에 있는지 확인"
   ]
  },
  {
   "cell_type": "code",
   "execution_count": 124,
   "id": "9713786b",
   "metadata": {},
   "outputs": [
    {
     "data": {
      "text/plain": [
       "customer_id                 0\n",
       "customer_unique_id          0\n",
       "customer_zip_code_prefix    0\n",
       "customer_city               0\n",
       "customer_state              0\n",
       "dtype: int64"
      ]
     },
     "execution_count": 124,
     "metadata": {},
     "output_type": "execute_result"
    }
   ],
   "source": [
    "customer.isnull().sum()"
   ]
  },
  {
   "cell_type": "code",
   "execution_count": 121,
   "id": "c4e9ab55",
   "metadata": {},
   "outputs": [
    {
     "name": "stdout",
     "output_type": "stream",
     "text": [
      "<class 'pandas.core.frame.DataFrame'>\n",
      "RangeIndex: 99441 entries, 0 to 99440\n",
      "Data columns (total 5 columns):\n",
      " #   Column                    Non-Null Count  Dtype \n",
      "---  ------                    --------------  ----- \n",
      " 0   customer_id               99441 non-null  object\n",
      " 1   customer_unique_id        99441 non-null  object\n",
      " 2   customer_zip_code_prefix  99441 non-null  int64 \n",
      " 3   customer_city             99441 non-null  object\n",
      " 4   customer_state            99441 non-null  object\n",
      "dtypes: int64(1), object(4)\n",
      "memory usage: 3.8+ MB\n"
     ]
    }
   ],
   "source": [
    "customer.info()"
   ]
  },
  {
   "cell_type": "markdown",
   "id": "e6869d74",
   "metadata": {},
   "source": [
    "#### 19) customer에서 중복된 customer_city 를 가진 행을 삭제한 후, customer_city 이름만 가져와보세요"
   ]
  },
  {
   "cell_type": "code",
   "execution_count": 123,
   "id": "df8dbcfb",
   "metadata": {},
   "outputs": [
    {
     "data": {
      "text/html": [
       "<div>\n",
       "<style scoped>\n",
       "    .dataframe tbody tr th:only-of-type {\n",
       "        vertical-align: middle;\n",
       "    }\n",
       "\n",
       "    .dataframe tbody tr th {\n",
       "        vertical-align: top;\n",
       "    }\n",
       "\n",
       "    .dataframe thead th {\n",
       "        text-align: right;\n",
       "    }\n",
       "</style>\n",
       "<table border=\"1\" class=\"dataframe\">\n",
       "  <thead>\n",
       "    <tr style=\"text-align: right;\">\n",
       "      <th></th>\n",
       "      <th>customer_city</th>\n",
       "    </tr>\n",
       "  </thead>\n",
       "  <tbody>\n",
       "    <tr>\n",
       "      <th>0</th>\n",
       "      <td>franca</td>\n",
       "    </tr>\n",
       "    <tr>\n",
       "      <th>1</th>\n",
       "      <td>sao bernardo do campo</td>\n",
       "    </tr>\n",
       "    <tr>\n",
       "      <th>2</th>\n",
       "      <td>sao paulo</td>\n",
       "    </tr>\n",
       "    <tr>\n",
       "      <th>3</th>\n",
       "      <td>mogi das cruzes</td>\n",
       "    </tr>\n",
       "    <tr>\n",
       "      <th>4</th>\n",
       "      <td>campinas</td>\n",
       "    </tr>\n",
       "    <tr>\n",
       "      <th>...</th>\n",
       "      <td>...</td>\n",
       "    </tr>\n",
       "    <tr>\n",
       "      <th>98878</th>\n",
       "      <td>siriji</td>\n",
       "    </tr>\n",
       "    <tr>\n",
       "      <th>99114</th>\n",
       "      <td>natividade da serra</td>\n",
       "    </tr>\n",
       "    <tr>\n",
       "      <th>99224</th>\n",
       "      <td>monte bonito</td>\n",
       "    </tr>\n",
       "    <tr>\n",
       "      <th>99251</th>\n",
       "      <td>sao rafael</td>\n",
       "    </tr>\n",
       "    <tr>\n",
       "      <th>99379</th>\n",
       "      <td>eugenio de castro</td>\n",
       "    </tr>\n",
       "  </tbody>\n",
       "</table>\n",
       "<p>4119 rows × 1 columns</p>\n",
       "</div>"
      ],
      "text/plain": [
       "               customer_city\n",
       "0                     franca\n",
       "1      sao bernardo do campo\n",
       "2                  sao paulo\n",
       "3            mogi das cruzes\n",
       "4                   campinas\n",
       "...                      ...\n",
       "98878                 siriji\n",
       "99114    natividade da serra\n",
       "99224           monte bonito\n",
       "99251             sao rafael\n",
       "99379      eugenio de castro\n",
       "\n",
       "[4119 rows x 1 columns]"
      ]
     },
     "execution_count": 123,
     "metadata": {},
     "output_type": "execute_result"
    }
   ],
   "source": [
    "customer.drop_duplicates('customer_city')[[\"customer_city\"]]"
   ]
  },
  {
   "cell_type": "markdown",
   "id": "3a9b15c5",
   "metadata": {},
   "source": [
    "### [퀴즈5]"
   ]
  },
  {
   "cell_type": "markdown",
   "id": "1f2dcb77",
   "metadata": {},
   "source": [
    "#### 1) data/covid/04-01-2020.csv 파일 dataframe 생성 (데이터프레임 변수 이름은 covid_df 로  지정)"
   ]
  },
  {
   "cell_type": "code",
   "execution_count": 125,
   "id": "191695ae",
   "metadata": {},
   "outputs": [
    {
     "data": {
      "text/html": [
       "<div>\n",
       "<style scoped>\n",
       "    .dataframe tbody tr th:only-of-type {\n",
       "        vertical-align: middle;\n",
       "    }\n",
       "\n",
       "    .dataframe tbody tr th {\n",
       "        vertical-align: top;\n",
       "    }\n",
       "\n",
       "    .dataframe thead th {\n",
       "        text-align: right;\n",
       "    }\n",
       "</style>\n",
       "<table border=\"1\" class=\"dataframe\">\n",
       "  <thead>\n",
       "    <tr style=\"text-align: right;\">\n",
       "      <th></th>\n",
       "      <th>FIPS</th>\n",
       "      <th>Admin2</th>\n",
       "      <th>Province_State</th>\n",
       "      <th>Country_Region</th>\n",
       "      <th>Last_Update</th>\n",
       "      <th>Lat</th>\n",
       "      <th>Long_</th>\n",
       "      <th>Confirmed</th>\n",
       "      <th>Deaths</th>\n",
       "      <th>Recovered</th>\n",
       "      <th>Active</th>\n",
       "      <th>Combined_Key</th>\n",
       "    </tr>\n",
       "  </thead>\n",
       "  <tbody>\n",
       "    <tr>\n",
       "      <th>0</th>\n",
       "      <td>45001.0</td>\n",
       "      <td>Abbeville</td>\n",
       "      <td>South Carolina</td>\n",
       "      <td>US</td>\n",
       "      <td>2020-04-01 21:58:49</td>\n",
       "      <td>34.223334</td>\n",
       "      <td>-82.461707</td>\n",
       "      <td>4</td>\n",
       "      <td>0</td>\n",
       "      <td>0</td>\n",
       "      <td>0</td>\n",
       "      <td>Abbeville, South Carolina, US</td>\n",
       "    </tr>\n",
       "    <tr>\n",
       "      <th>1</th>\n",
       "      <td>22001.0</td>\n",
       "      <td>Acadia</td>\n",
       "      <td>Louisiana</td>\n",
       "      <td>US</td>\n",
       "      <td>2020-04-01 21:58:49</td>\n",
       "      <td>30.295065</td>\n",
       "      <td>-92.414197</td>\n",
       "      <td>47</td>\n",
       "      <td>1</td>\n",
       "      <td>0</td>\n",
       "      <td>0</td>\n",
       "      <td>Acadia, Louisiana, US</td>\n",
       "    </tr>\n",
       "    <tr>\n",
       "      <th>2</th>\n",
       "      <td>51001.0</td>\n",
       "      <td>Accomack</td>\n",
       "      <td>Virginia</td>\n",
       "      <td>US</td>\n",
       "      <td>2020-04-01 21:58:49</td>\n",
       "      <td>37.767072</td>\n",
       "      <td>-75.632346</td>\n",
       "      <td>7</td>\n",
       "      <td>0</td>\n",
       "      <td>0</td>\n",
       "      <td>0</td>\n",
       "      <td>Accomack, Virginia, US</td>\n",
       "    </tr>\n",
       "    <tr>\n",
       "      <th>3</th>\n",
       "      <td>16001.0</td>\n",
       "      <td>Ada</td>\n",
       "      <td>Idaho</td>\n",
       "      <td>US</td>\n",
       "      <td>2020-04-01 21:58:49</td>\n",
       "      <td>43.452658</td>\n",
       "      <td>-116.241552</td>\n",
       "      <td>195</td>\n",
       "      <td>3</td>\n",
       "      <td>0</td>\n",
       "      <td>0</td>\n",
       "      <td>Ada, Idaho, US</td>\n",
       "    </tr>\n",
       "    <tr>\n",
       "      <th>4</th>\n",
       "      <td>19001.0</td>\n",
       "      <td>Adair</td>\n",
       "      <td>Iowa</td>\n",
       "      <td>US</td>\n",
       "      <td>2020-04-01 21:58:49</td>\n",
       "      <td>41.330756</td>\n",
       "      <td>-94.471059</td>\n",
       "      <td>1</td>\n",
       "      <td>0</td>\n",
       "      <td>0</td>\n",
       "      <td>0</td>\n",
       "      <td>Adair, Iowa, US</td>\n",
       "    </tr>\n",
       "    <tr>\n",
       "      <th>...</th>\n",
       "      <td>...</td>\n",
       "      <td>...</td>\n",
       "      <td>...</td>\n",
       "      <td>...</td>\n",
       "      <td>...</td>\n",
       "      <td>...</td>\n",
       "      <td>...</td>\n",
       "      <td>...</td>\n",
       "      <td>...</td>\n",
       "      <td>...</td>\n",
       "      <td>...</td>\n",
       "      <td>...</td>\n",
       "    </tr>\n",
       "    <tr>\n",
       "      <th>2478</th>\n",
       "      <td>NaN</td>\n",
       "      <td>NaN</td>\n",
       "      <td>NaN</td>\n",
       "      <td>Venezuela</td>\n",
       "      <td>2020-04-01 21:58:34</td>\n",
       "      <td>6.423800</td>\n",
       "      <td>-66.589700</td>\n",
       "      <td>143</td>\n",
       "      <td>3</td>\n",
       "      <td>41</td>\n",
       "      <td>99</td>\n",
       "      <td>Venezuela</td>\n",
       "    </tr>\n",
       "    <tr>\n",
       "      <th>2479</th>\n",
       "      <td>NaN</td>\n",
       "      <td>NaN</td>\n",
       "      <td>NaN</td>\n",
       "      <td>Vietnam</td>\n",
       "      <td>2020-04-01 21:58:34</td>\n",
       "      <td>14.058324</td>\n",
       "      <td>108.277199</td>\n",
       "      <td>218</td>\n",
       "      <td>0</td>\n",
       "      <td>63</td>\n",
       "      <td>155</td>\n",
       "      <td>Vietnam</td>\n",
       "    </tr>\n",
       "    <tr>\n",
       "      <th>2480</th>\n",
       "      <td>NaN</td>\n",
       "      <td>NaN</td>\n",
       "      <td>NaN</td>\n",
       "      <td>West Bank and Gaza</td>\n",
       "      <td>2020-04-01 21:58:34</td>\n",
       "      <td>31.952200</td>\n",
       "      <td>35.233200</td>\n",
       "      <td>134</td>\n",
       "      <td>1</td>\n",
       "      <td>18</td>\n",
       "      <td>115</td>\n",
       "      <td>West Bank and Gaza</td>\n",
       "    </tr>\n",
       "    <tr>\n",
       "      <th>2481</th>\n",
       "      <td>NaN</td>\n",
       "      <td>NaN</td>\n",
       "      <td>NaN</td>\n",
       "      <td>Zambia</td>\n",
       "      <td>2020-04-01 21:58:34</td>\n",
       "      <td>-13.133897</td>\n",
       "      <td>27.849332</td>\n",
       "      <td>36</td>\n",
       "      <td>0</td>\n",
       "      <td>0</td>\n",
       "      <td>36</td>\n",
       "      <td>Zambia</td>\n",
       "    </tr>\n",
       "    <tr>\n",
       "      <th>2482</th>\n",
       "      <td>NaN</td>\n",
       "      <td>NaN</td>\n",
       "      <td>NaN</td>\n",
       "      <td>Zimbabwe</td>\n",
       "      <td>2020-04-01 21:58:34</td>\n",
       "      <td>-19.015438</td>\n",
       "      <td>29.154857</td>\n",
       "      <td>8</td>\n",
       "      <td>1</td>\n",
       "      <td>0</td>\n",
       "      <td>7</td>\n",
       "      <td>Zimbabwe</td>\n",
       "    </tr>\n",
       "  </tbody>\n",
       "</table>\n",
       "<p>2483 rows × 12 columns</p>\n",
       "</div>"
      ],
      "text/plain": [
       "         FIPS     Admin2  Province_State      Country_Region  \\\n",
       "0     45001.0  Abbeville  South Carolina                  US   \n",
       "1     22001.0     Acadia       Louisiana                  US   \n",
       "2     51001.0   Accomack        Virginia                  US   \n",
       "3     16001.0        Ada           Idaho                  US   \n",
       "4     19001.0      Adair            Iowa                  US   \n",
       "...       ...        ...             ...                 ...   \n",
       "2478      NaN        NaN             NaN           Venezuela   \n",
       "2479      NaN        NaN             NaN             Vietnam   \n",
       "2480      NaN        NaN             NaN  West Bank and Gaza   \n",
       "2481      NaN        NaN             NaN              Zambia   \n",
       "2482      NaN        NaN             NaN            Zimbabwe   \n",
       "\n",
       "              Last_Update        Lat       Long_  Confirmed  Deaths  \\\n",
       "0     2020-04-01 21:58:49  34.223334  -82.461707          4       0   \n",
       "1     2020-04-01 21:58:49  30.295065  -92.414197         47       1   \n",
       "2     2020-04-01 21:58:49  37.767072  -75.632346          7       0   \n",
       "3     2020-04-01 21:58:49  43.452658 -116.241552        195       3   \n",
       "4     2020-04-01 21:58:49  41.330756  -94.471059          1       0   \n",
       "...                   ...        ...         ...        ...     ...   \n",
       "2478  2020-04-01 21:58:34   6.423800  -66.589700        143       3   \n",
       "2479  2020-04-01 21:58:34  14.058324  108.277199        218       0   \n",
       "2480  2020-04-01 21:58:34  31.952200   35.233200        134       1   \n",
       "2481  2020-04-01 21:58:34 -13.133897   27.849332         36       0   \n",
       "2482  2020-04-01 21:58:34 -19.015438   29.154857          8       1   \n",
       "\n",
       "      Recovered  Active                   Combined_Key  \n",
       "0             0       0  Abbeville, South Carolina, US  \n",
       "1             0       0          Acadia, Louisiana, US  \n",
       "2             0       0         Accomack, Virginia, US  \n",
       "3             0       0                 Ada, Idaho, US  \n",
       "4             0       0                Adair, Iowa, US  \n",
       "...         ...     ...                            ...  \n",
       "2478         41      99                      Venezuela  \n",
       "2479         63     155                        Vietnam  \n",
       "2480         18     115             West Bank and Gaza  \n",
       "2481          0      36                         Zambia  \n",
       "2482          0       7                       Zimbabwe  \n",
       "\n",
       "[2483 rows x 12 columns]"
      ]
     },
     "execution_count": 125,
     "metadata": {},
     "output_type": "execute_result"
    }
   ],
   "source": [
    "covid_df = pd.read_csv('../data/covid/04-01-2020.csv')\n",
    "covid_df"
   ]
  },
  {
   "cell_type": "markdown",
   "id": "cd227101",
   "metadata": {},
   "source": [
    "#### 2) covid_df 에서 중복된 Country_Region 각각에 대해 Confirmed 를 모두 더한 값을 컬럼으로 갖는 데이터프레임을 피봇테이블 작성"
   ]
  },
  {
   "cell_type": "code",
   "execution_count": 127,
   "id": "fba3c9b5",
   "metadata": {},
   "outputs": [
    {
     "data": {
      "text/html": [
       "<div>\n",
       "<style scoped>\n",
       "    .dataframe tbody tr th:only-of-type {\n",
       "        vertical-align: middle;\n",
       "    }\n",
       "\n",
       "    .dataframe tbody tr th {\n",
       "        vertical-align: top;\n",
       "    }\n",
       "\n",
       "    .dataframe thead th {\n",
       "        text-align: right;\n",
       "    }\n",
       "</style>\n",
       "<table border=\"1\" class=\"dataframe\">\n",
       "  <thead>\n",
       "    <tr style=\"text-align: right;\">\n",
       "      <th></th>\n",
       "      <th>Confirmed</th>\n",
       "    </tr>\n",
       "    <tr>\n",
       "      <th>Country_Region</th>\n",
       "      <th></th>\n",
       "    </tr>\n",
       "  </thead>\n",
       "  <tbody>\n",
       "    <tr>\n",
       "      <th>Afghanistan</th>\n",
       "      <td>237</td>\n",
       "    </tr>\n",
       "    <tr>\n",
       "      <th>Albania</th>\n",
       "      <td>259</td>\n",
       "    </tr>\n",
       "    <tr>\n",
       "      <th>Algeria</th>\n",
       "      <td>847</td>\n",
       "    </tr>\n",
       "    <tr>\n",
       "      <th>Andorra</th>\n",
       "      <td>390</td>\n",
       "    </tr>\n",
       "    <tr>\n",
       "      <th>Angola</th>\n",
       "      <td>8</td>\n",
       "    </tr>\n",
       "    <tr>\n",
       "      <th>...</th>\n",
       "      <td>...</td>\n",
       "    </tr>\n",
       "    <tr>\n",
       "      <th>Venezuela</th>\n",
       "      <td>143</td>\n",
       "    </tr>\n",
       "    <tr>\n",
       "      <th>Vietnam</th>\n",
       "      <td>218</td>\n",
       "    </tr>\n",
       "    <tr>\n",
       "      <th>West Bank and Gaza</th>\n",
       "      <td>134</td>\n",
       "    </tr>\n",
       "    <tr>\n",
       "      <th>Zambia</th>\n",
       "      <td>36</td>\n",
       "    </tr>\n",
       "    <tr>\n",
       "      <th>Zimbabwe</th>\n",
       "      <td>8</td>\n",
       "    </tr>\n",
       "  </tbody>\n",
       "</table>\n",
       "<p>180 rows × 1 columns</p>\n",
       "</div>"
      ],
      "text/plain": [
       "                    Confirmed\n",
       "Country_Region               \n",
       "Afghanistan               237\n",
       "Albania                   259\n",
       "Algeria                   847\n",
       "Andorra                   390\n",
       "Angola                      8\n",
       "...                       ...\n",
       "Venezuela                 143\n",
       "Vietnam                   218\n",
       "West Bank and Gaza        134\n",
       "Zambia                     36\n",
       "Zimbabwe                    8\n",
       "\n",
       "[180 rows x 1 columns]"
      ]
     },
     "execution_count": 127,
     "metadata": {},
     "output_type": "execute_result"
    }
   ],
   "source": [
    "pd.pivot_table(covid_df, index='Country_Region', values='Confirmed', aggfunc='sum')"
   ]
  },
  {
   "cell_type": "markdown",
   "id": "bfba9e3b",
   "metadata": {},
   "source": [
    "#### 3) covid_df 에서 중복된 Country_Region 각각에 대해 Confirmed 를 모두 더한 값을 컬럼으로 갖는 데이터프레임을 피봇테이블로  만들고, 총 값을 'Total' 을 인덱스 값으로 하는 record 로 추가하세요\n",
    "- 결측치는 0으로 처리"
   ]
  },
  {
   "cell_type": "code",
   "execution_count": 128,
   "id": "9075604d",
   "metadata": {},
   "outputs": [
    {
     "data": {
      "text/html": [
       "<div>\n",
       "<style scoped>\n",
       "    .dataframe tbody tr th:only-of-type {\n",
       "        vertical-align: middle;\n",
       "    }\n",
       "\n",
       "    .dataframe tbody tr th {\n",
       "        vertical-align: top;\n",
       "    }\n",
       "\n",
       "    .dataframe thead th {\n",
       "        text-align: right;\n",
       "    }\n",
       "</style>\n",
       "<table border=\"1\" class=\"dataframe\">\n",
       "  <thead>\n",
       "    <tr style=\"text-align: right;\">\n",
       "      <th></th>\n",
       "      <th>Confirmed</th>\n",
       "    </tr>\n",
       "    <tr>\n",
       "      <th>Country_Region</th>\n",
       "      <th></th>\n",
       "    </tr>\n",
       "  </thead>\n",
       "  <tbody>\n",
       "    <tr>\n",
       "      <th>Afghanistan</th>\n",
       "      <td>237</td>\n",
       "    </tr>\n",
       "    <tr>\n",
       "      <th>Albania</th>\n",
       "      <td>259</td>\n",
       "    </tr>\n",
       "    <tr>\n",
       "      <th>Algeria</th>\n",
       "      <td>847</td>\n",
       "    </tr>\n",
       "    <tr>\n",
       "      <th>Andorra</th>\n",
       "      <td>390</td>\n",
       "    </tr>\n",
       "    <tr>\n",
       "      <th>Angola</th>\n",
       "      <td>8</td>\n",
       "    </tr>\n",
       "    <tr>\n",
       "      <th>...</th>\n",
       "      <td>...</td>\n",
       "    </tr>\n",
       "    <tr>\n",
       "      <th>Vietnam</th>\n",
       "      <td>218</td>\n",
       "    </tr>\n",
       "    <tr>\n",
       "      <th>West Bank and Gaza</th>\n",
       "      <td>134</td>\n",
       "    </tr>\n",
       "    <tr>\n",
       "      <th>Zambia</th>\n",
       "      <td>36</td>\n",
       "    </tr>\n",
       "    <tr>\n",
       "      <th>Zimbabwe</th>\n",
       "      <td>8</td>\n",
       "    </tr>\n",
       "    <tr>\n",
       "      <th>Total</th>\n",
       "      <td>932605</td>\n",
       "    </tr>\n",
       "  </tbody>\n",
       "</table>\n",
       "<p>181 rows × 1 columns</p>\n",
       "</div>"
      ],
      "text/plain": [
       "                    Confirmed\n",
       "Country_Region               \n",
       "Afghanistan               237\n",
       "Albania                   259\n",
       "Algeria                   847\n",
       "Andorra                   390\n",
       "Angola                      8\n",
       "...                       ...\n",
       "Vietnam                   218\n",
       "West Bank and Gaza        134\n",
       "Zambia                     36\n",
       "Zimbabwe                    8\n",
       "Total                  932605\n",
       "\n",
       "[181 rows x 1 columns]"
      ]
     },
     "execution_count": 128,
     "metadata": {},
     "output_type": "execute_result"
    }
   ],
   "source": [
    "pd.pivot_table(covid_df, index='Country_Region', values='Confirmed', aggfunc='sum', margins_name='Total', margins=True, fill_value=0)"
   ]
  },
  {
   "cell_type": "code",
   "execution_count": null,
   "id": "4c9127a3",
   "metadata": {},
   "outputs": [],
   "source": []
  }
 ],
 "metadata": {
  "kernelspec": {
   "display_name": "Python 3 (ipykernel)",
   "language": "python",
   "name": "python3"
  },
  "language_info": {
   "codemirror_mode": {
    "name": "ipython",
    "version": 3
   },
   "file_extension": ".py",
   "mimetype": "text/x-python",
   "name": "python",
   "nbconvert_exporter": "python",
   "pygments_lexer": "ipython3",
   "version": "3.9.12"
  }
 },
 "nbformat": 4,
 "nbformat_minor": 5
}
