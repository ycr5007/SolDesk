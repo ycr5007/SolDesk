{
 "cells": [
  {
   "cell_type": "markdown",
   "id": "88dc70ce",
   "metadata": {},
   "source": [
    "### [퀴즈1]\n",
    "#### [문제] 다음은 대한민국 영화 중에서 관객 수가 가장 많은 상위 10 개의 데이터입니다.\n",
    "#### 주어진 코드를 이용하여 퀴즈를 풀어보세요"
   ]
  },
  {
   "cell_type": "code",
   "execution_count": 1,
   "id": "3754336a",
   "metadata": {},
   "outputs": [],
   "source": []
  },
  {
   "cell_type": "code",
   "execution_count": 2,
   "id": "a7ac3552",
   "metadata": {},
   "outputs": [],
   "source": []
  },
  {
   "cell_type": "code",
   "execution_count": 3,
   "id": "441e9c95",
   "metadata": {},
   "outputs": [
    {
     "data": {
      "text/html": [
       "<div>\n",
       "<style scoped>\n",
       "    .dataframe tbody tr th:only-of-type {\n",
       "        vertical-align: middle;\n",
       "    }\n",
       "\n",
       "    .dataframe tbody tr th {\n",
       "        vertical-align: top;\n",
       "    }\n",
       "\n",
       "    .dataframe thead th {\n",
       "        text-align: right;\n",
       "    }\n",
       "</style>\n",
       "<table border=\"1\" class=\"dataframe\">\n",
       "  <thead>\n",
       "    <tr style=\"text-align: right;\">\n",
       "      <th></th>\n",
       "      <th>영화</th>\n",
       "      <th>개봉 연도</th>\n",
       "      <th>관객 수</th>\n",
       "      <th>평점</th>\n",
       "    </tr>\n",
       "  </thead>\n",
       "  <tbody>\n",
       "    <tr>\n",
       "      <th>0</th>\n",
       "      <td>명량</td>\n",
       "      <td>2014</td>\n",
       "      <td>1761</td>\n",
       "      <td>8.88</td>\n",
       "    </tr>\n",
       "    <tr>\n",
       "      <th>1</th>\n",
       "      <td>극한직업</td>\n",
       "      <td>2019</td>\n",
       "      <td>1626</td>\n",
       "      <td>9.20</td>\n",
       "    </tr>\n",
       "    <tr>\n",
       "      <th>2</th>\n",
       "      <td>신과함께 -죄와 벌</td>\n",
       "      <td>2017</td>\n",
       "      <td>1441</td>\n",
       "      <td>8.73</td>\n",
       "    </tr>\n",
       "    <tr>\n",
       "      <th>3</th>\n",
       "      <td>국제시장</td>\n",
       "      <td>2014</td>\n",
       "      <td>1425</td>\n",
       "      <td>9.16</td>\n",
       "    </tr>\n",
       "    <tr>\n",
       "      <th>4</th>\n",
       "      <td>베테랑</td>\n",
       "      <td>2015</td>\n",
       "      <td>1341</td>\n",
       "      <td>9.24</td>\n",
       "    </tr>\n",
       "    <tr>\n",
       "      <th>5</th>\n",
       "      <td>괴물</td>\n",
       "      <td>2006</td>\n",
       "      <td>1301</td>\n",
       "      <td>8.62</td>\n",
       "    </tr>\n",
       "    <tr>\n",
       "      <th>6</th>\n",
       "      <td>도둑들</td>\n",
       "      <td>2012</td>\n",
       "      <td>1298</td>\n",
       "      <td>7.64</td>\n",
       "    </tr>\n",
       "    <tr>\n",
       "      <th>7</th>\n",
       "      <td>7번방의 선물</td>\n",
       "      <td>2013</td>\n",
       "      <td>1281</td>\n",
       "      <td>8.83</td>\n",
       "    </tr>\n",
       "    <tr>\n",
       "      <th>8</th>\n",
       "      <td>암살</td>\n",
       "      <td>2015</td>\n",
       "      <td>1270</td>\n",
       "      <td>9.10</td>\n",
       "    </tr>\n",
       "    <tr>\n",
       "      <th>9</th>\n",
       "      <td>광해, 왕이 된 남자</td>\n",
       "      <td>2012</td>\n",
       "      <td>1231</td>\n",
       "      <td>9.25</td>\n",
       "    </tr>\n",
       "  </tbody>\n",
       "</table>\n",
       "</div>"
      ],
      "text/plain": [
       "            영화  개봉 연도  관객 수    평점\n",
       "0           명량   2014  1761  8.88\n",
       "1         극한직업   2019  1626  9.20\n",
       "2   신과함께 -죄와 벌   2017  1441  8.73\n",
       "3         국제시장   2014  1425  9.16\n",
       "4          베테랑   2015  1341  9.24\n",
       "5           괴물   2006  1301  8.62\n",
       "6          도둑들   2012  1298  7.64\n",
       "7      7번방의 선물   2013  1281  8.83\n",
       "8           암살   2015  1270  9.10\n",
       "9  광해, 왕이 된 남자   2012  1231  9.25"
      ]
     },
     "execution_count": 3,
     "metadata": {},
     "output_type": "execute_result"
    }
   ],
   "source": []
  },
  {
   "cell_type": "markdown",
   "id": "872fd378",
   "metadata": {},
   "source": [
    "#### 1) 전체 데이터 중에서 '영화' 정보만 출력하기"
   ]
  },
  {
   "cell_type": "code",
   "execution_count": null,
   "id": "936edc77",
   "metadata": {},
   "outputs": [],
   "source": []
  },
  {
   "cell_type": "markdown",
   "id": "f2ae0bfe",
   "metadata": {},
   "source": [
    "#### 2) 전체 데이터 중에서 '영화','평점' 정보 출력하기"
   ]
  },
  {
   "cell_type": "code",
   "execution_count": null,
   "id": "3200063e",
   "metadata": {},
   "outputs": [],
   "source": []
  },
  {
   "cell_type": "markdown",
   "id": "0c0b2172",
   "metadata": {},
   "source": [
    "#### 3) 2015년 이후에 개봉한 영화 데이터 중에서 '영화','개봉연도' 정보만 출력하기"
   ]
  },
  {
   "cell_type": "code",
   "execution_count": null,
   "id": "d7e2a31b",
   "metadata": {},
   "outputs": [],
   "source": []
  },
  {
   "cell_type": "markdown",
   "id": "26dc19a6",
   "metadata": {},
   "source": [
    "#### 4) 주어진 계산식을 참고하여 '추천점수' 컬럼 추가\n",
    "> 추천점수 = (관객수 * 평점) // 100"
   ]
  },
  {
   "cell_type": "code",
   "execution_count": null,
   "id": "5575fea7",
   "metadata": {},
   "outputs": [],
   "source": []
  },
  {
   "cell_type": "markdown",
   "id": "7992a850",
   "metadata": {},
   "source": [
    "#### 5) 전체 데이터를 '개봉 연도' 기준 내림차순으로 출력하기"
   ]
  },
  {
   "cell_type": "code",
   "execution_count": null,
   "id": "9ea4d153",
   "metadata": {},
   "outputs": [],
   "source": []
  },
  {
   "cell_type": "markdown",
   "id": "8ff19347",
   "metadata": {},
   "source": [
    "### [퀴즈2]"
   ]
  },
  {
   "cell_type": "code",
   "execution_count": null,
   "id": "f13473d9",
   "metadata": {},
   "outputs": [],
   "source": []
  },
  {
   "cell_type": "markdown",
   "id": "2e17b5a4",
   "metadata": {},
   "source": [
    "#### 1) 현재 생성된 데이터프레임의 전체 정보 출력"
   ]
  },
  {
   "cell_type": "code",
   "execution_count": null,
   "id": "9fc21699",
   "metadata": {},
   "outputs": [],
   "source": []
  },
  {
   "cell_type": "markdown",
   "id": "6b4e176c",
   "metadata": {},
   "source": [
    "#### 2) 타입 변경\n",
    "- age 컬럼을 이용하여 age_1 컬럼을 생성하고 타입은 int64로 변경"
   ]
  },
  {
   "cell_type": "code",
   "execution_count": null,
   "id": "9dea151d",
   "metadata": {},
   "outputs": [],
   "source": []
  },
  {
   "cell_type": "code",
   "execution_count": null,
   "id": "02802713",
   "metadata": {},
   "outputs": [],
   "source": []
  },
  {
   "cell_type": "code",
   "execution_count": null,
   "id": "0b0413ab",
   "metadata": {},
   "outputs": [],
   "source": []
  },
  {
   "cell_type": "markdown",
   "id": "a20793c7",
   "metadata": {},
   "source": [
    "### [퀴즈3]"
   ]
  },
  {
   "cell_type": "code",
   "execution_count": null,
   "id": "0ca84778",
   "metadata": {},
   "outputs": [],
   "source": []
  },
  {
   "cell_type": "markdown",
   "id": "63ea4c5a",
   "metadata": {},
   "source": [
    "#### 1) 컬럼명 변경 : 국어,영어,수학,과학"
   ]
  },
  {
   "cell_type": "code",
   "execution_count": null,
   "id": "a537c826",
   "metadata": {},
   "outputs": [],
   "source": []
  },
  {
   "cell_type": "code",
   "execution_count": null,
   "id": "54a9a268",
   "metadata": {},
   "outputs": [],
   "source": []
  },
  {
   "cell_type": "markdown",
   "id": "df87a6ab",
   "metadata": {},
   "source": [
    "#### 2) 중복 행 제거한 후 새로운 데이터프레임(df2)으로 저장"
   ]
  },
  {
   "cell_type": "code",
   "execution_count": null,
   "id": "b7308c73",
   "metadata": {},
   "outputs": [],
   "source": []
  },
  {
   "cell_type": "markdown",
   "id": "9ee4cf8c",
   "metadata": {},
   "source": [
    "#### 3) 특정 컬럼값이 중복되면 제거"
   ]
  },
  {
   "cell_type": "code",
   "execution_count": null,
   "id": "9428d70e",
   "metadata": {},
   "outputs": [],
   "source": []
  },
  {
   "cell_type": "code",
   "execution_count": null,
   "id": "4c6fe00a",
   "metadata": {},
   "outputs": [],
   "source": []
  },
  {
   "cell_type": "markdown",
   "id": "7d57edf3",
   "metadata": {},
   "source": [
    "### [퀴즈4]"
   ]
  },
  {
   "cell_type": "markdown",
   "id": "8ad582a0",
   "metadata": {},
   "source": [
    "#### 1) data/shop/olist_customers_dataset.csv 파일 dataframe 생성 (데이터프레임 변수 이름은 customer 로  지정)"
   ]
  },
  {
   "cell_type": "code",
   "execution_count": null,
   "id": "41c76d0e",
   "metadata": {},
   "outputs": [],
   "source": []
  },
  {
   "cell_type": "markdown",
   "id": "e3720a4c",
   "metadata": {},
   "source": [
    "#### 2) 처음 5개 행 확인"
   ]
  },
  {
   "cell_type": "code",
   "execution_count": null,
   "id": "4ac6dbd5",
   "metadata": {},
   "outputs": [],
   "source": []
  },
  {
   "cell_type": "markdown",
   "id": "044c437a",
   "metadata": {},
   "source": [
    "#### 3) 전체 record 수(행 수) 확인하기"
   ]
  },
  {
   "cell_type": "code",
   "execution_count": null,
   "id": "448404da",
   "metadata": {},
   "outputs": [],
   "source": []
  },
  {
   "cell_type": "markdown",
   "id": "b79cb9b4",
   "metadata": {},
   "source": [
    "#### 4) 전체 정보 확인하기"
   ]
  },
  {
   "cell_type": "code",
   "execution_count": null,
   "id": "8c6205c3",
   "metadata": {},
   "outputs": [],
   "source": []
  },
  {
   "cell_type": "markdown",
   "id": "4eb0faf1",
   "metadata": {},
   "source": [
    "#### 5) 전체 컬럼명 확인"
   ]
  },
  {
   "cell_type": "code",
   "execution_count": null,
   "id": "ed3ce5f8",
   "metadata": {},
   "outputs": [],
   "source": []
  },
  {
   "cell_type": "markdown",
   "id": "05abb127",
   "metadata": {},
   "source": [
    "#### 6) 인덱스 확인"
   ]
  },
  {
   "cell_type": "code",
   "execution_count": null,
   "id": "c61f0c0b",
   "metadata": {},
   "outputs": [],
   "source": []
  },
  {
   "cell_type": "markdown",
   "id": "abfc1374",
   "metadata": {},
   "source": [
    "#### 7) 기술통계요약 정보 확인"
   ]
  },
  {
   "cell_type": "code",
   "execution_count": null,
   "id": "c52bc3f4",
   "metadata": {},
   "outputs": [],
   "source": []
  },
  {
   "cell_type": "markdown",
   "id": "23120a7c",
   "metadata": {},
   "source": [
    "#### 8) customer_zip_code_prefix, customer_city, customer_state 컬럼만 가져와서 데이터 프레임 생성 (데이터프레임 변수 이름은 customer2로 하기로 함)"
   ]
  },
  {
   "cell_type": "code",
   "execution_count": null,
   "id": "525ba320",
   "metadata": {},
   "outputs": [],
   "source": []
  },
  {
   "cell_type": "markdown",
   "id": "2a033da9",
   "metadata": {},
   "source": [
    "#### 9)  customer_city 가 sao paulo 인 레코드(행)만 가져와서 데이터프레임 생성(변수 이름은 customer3 으로 지정)\n",
    "- 레코드(행) 수 확인도 해보기"
   ]
  },
  {
   "cell_type": "code",
   "execution_count": null,
   "id": "566ecfc5",
   "metadata": {},
   "outputs": [],
   "source": []
  },
  {
   "cell_type": "markdown",
   "id": "c66dd31e",
   "metadata": {},
   "source": [
    "#### 10) customer2 에서 도시별 고유 값들의 수를 확인하기"
   ]
  },
  {
   "cell_type": "code",
   "execution_count": null,
   "id": "9dfe7072",
   "metadata": {},
   "outputs": [],
   "source": []
  },
  {
   "cell_type": "markdown",
   "id": "a08a79e3",
   "metadata": {},
   "source": [
    "#### 11) customer 데이터프레임에서 customer_city 기준으로 행의 갯수를 확인\n",
    "1. 새로운 데이터프레임 변수 이름은 customer4로 지정"
   ]
  },
  {
   "cell_type": "code",
   "execution_count": null,
   "id": "c0802db0",
   "metadata": {},
   "outputs": [],
   "source": []
  },
  {
   "cell_type": "code",
   "execution_count": null,
   "id": "8f670628",
   "metadata": {},
   "outputs": [],
   "source": []
  },
  {
   "cell_type": "markdown",
   "id": "be44965c",
   "metadata": {},
   "source": [
    "#### 12) customer4에서 가장 레코드(행)의 수가 많은 customer_city 를 확인해보세요\n",
    "1. customer4의 customer_id 를 기준으로 정렬하고, 가장 상단의 한 행만 출력하기"
   ]
  },
  {
   "cell_type": "code",
   "execution_count": null,
   "id": "1c3132a6",
   "metadata": {},
   "outputs": [],
   "source": []
  },
  {
   "cell_type": "markdown",
   "id": "cc23788d",
   "metadata": {},
   "source": [
    "#### 13) customer 에서 customer_city 를 인덱스로 만들고, 알파벳 순으로 인덱스를 정렬해보세요"
   ]
  },
  {
   "cell_type": "code",
   "execution_count": null,
   "id": "958f5a9b",
   "metadata": {},
   "outputs": [],
   "source": []
  },
  {
   "cell_type": "markdown",
   "id": "31811872",
   "metadata": {},
   "source": [
    "#### 14) customer2에서 customer_state 기준으로 행의 갯수를 확인해보세요\n",
    "- value_counts() "
   ]
  },
  {
   "cell_type": "code",
   "execution_count": null,
   "id": "aaff6087",
   "metadata": {},
   "outputs": [],
   "source": []
  },
  {
   "cell_type": "markdown",
   "id": "b6062143",
   "metadata": {},
   "source": [
    "#### 15) customer2에서 customer_state 갯수 확인"
   ]
  },
  {
   "cell_type": "code",
   "execution_count": null,
   "id": "681bf8ff",
   "metadata": {},
   "outputs": [],
   "source": []
  },
  {
   "cell_type": "markdown",
   "id": "7f19efdd",
   "metadata": {},
   "source": [
    "#### 16) customer4에서 customer_id 갯수가 1000개 이상인 정보 추출하기"
   ]
  },
  {
   "cell_type": "code",
   "execution_count": null,
   "id": "77ae0865",
   "metadata": {},
   "outputs": [],
   "source": []
  },
  {
   "cell_type": "markdown",
   "id": "6c064a66",
   "metadata": {},
   "source": [
    "#### 17) customer4에서 customer_city 갯수가 1000개 이상인 customer_city 이름을 확인해보세요"
   ]
  },
  {
   "cell_type": "code",
   "execution_count": null,
   "id": "f933bcf6",
   "metadata": {},
   "outputs": [],
   "source": []
  },
  {
   "cell_type": "markdown",
   "id": "92e120e8",
   "metadata": {},
   "source": [
    "#### 18) customer에서 결측치가 각 컬럼에 있는지 확인"
   ]
  },
  {
   "cell_type": "code",
   "execution_count": null,
   "id": "9713786b",
   "metadata": {},
   "outputs": [],
   "source": []
  },
  {
   "cell_type": "code",
   "execution_count": null,
   "id": "c4e9ab55",
   "metadata": {},
   "outputs": [],
   "source": []
  },
  {
   "cell_type": "markdown",
   "id": "e6869d74",
   "metadata": {},
   "source": [
    "#### 19) customer에서 중복된 customer_city 를 가진 행을 삭제한 후, customer_city 이름만 가져와보세요"
   ]
  },
  {
   "cell_type": "code",
   "execution_count": null,
   "id": "df8dbcfb",
   "metadata": {},
   "outputs": [],
   "source": []
  },
  {
   "cell_type": "markdown",
   "id": "3a9b15c5",
   "metadata": {},
   "source": [
    "### [퀴즈4]"
   ]
  },
  {
   "cell_type": "markdown",
   "id": "1f2dcb77",
   "metadata": {},
   "source": [
    "#### 1) data/covid/04-01-2020.csv 파일 dataframe 생성 (데이터프레임 변수 이름은 covid_df 로  지정)"
   ]
  },
  {
   "cell_type": "code",
   "execution_count": null,
   "id": "191695ae",
   "metadata": {},
   "outputs": [],
   "source": []
  },
  {
   "cell_type": "markdown",
   "id": "cd227101",
   "metadata": {},
   "source": [
    "#### 2) covid_df 에서 중복된 Country_Region 각각에 대해 Confirmed 를 모두 더한 값을 컬럼으로 갖는 데이터프레임을 피봇테이블 작성"
   ]
  },
  {
   "cell_type": "code",
   "execution_count": null,
   "id": "fba3c9b5",
   "metadata": {},
   "outputs": [],
   "source": []
  },
  {
   "cell_type": "markdown",
   "id": "bfba9e3b",
   "metadata": {},
   "source": [
    "#### 3) covid_df 에서 중복된 Country_Region 각각에 대해 Confirmed 를 모두 더한 값을 컬럼으로 갖는 데이터프레임을 피봇테이블로  만들고, 총 값을 'Total' 을 인덱스 값으로 하는 record 로 추가하세요\n",
    "- 결측치는 0으로 처리"
   ]
  },
  {
   "cell_type": "code",
   "execution_count": null,
   "id": "9075604d",
   "metadata": {},
   "outputs": [],
   "source": []
  },
  {
   "cell_type": "code",
   "execution_count": null,
   "id": "4c9127a3",
   "metadata": {},
   "outputs": [],
   "source": []
  }
 ],
 "metadata": {
  "kernelspec": {
   "display_name": "Python 3 (ipykernel)",
   "language": "python",
   "name": "python3"
  },
  "language_info": {
   "codemirror_mode": {
    "name": "ipython",
    "version": 3
   },
   "file_extension": ".py",
   "mimetype": "text/x-python",
   "name": "python",
   "nbconvert_exporter": "python",
   "pygments_lexer": "ipython3",
   "version": "3.9.12"
  }
 },
 "nbformat": 4,
 "nbformat_minor": 5
}
