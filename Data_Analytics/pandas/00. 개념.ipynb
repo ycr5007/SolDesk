{
 "cells": [
  {
   "cell_type": "markdown",
   "id": "54c9b7d8",
   "metadata": {},
   "source": [
    "## Pandas"
   ]
  },
  {
   "cell_type": "markdown",
   "id": "07a7386c",
   "metadata": {},
   "source": [
    "### [참고] <a href=\"https://pandas.pydata.org/Pandas_Cheat_Sheet.pdf\">Pandas Cheat Sheet</a>"
   ]
  },
  {
   "cell_type": "markdown",
   "id": "62f85013",
   "metadata": {},
   "source": [
    "### 1. 개념\n",
    "- 고수준의 자료구조와 파이썬에서 빠르고 쉽게 사용할 수 있는 데이터 분석 도구 포함\n",
    "- 테이블 형 데이터를 다룰 수 있는 다양한 기능을 가진 라이브러리\n",
    "- 파이썬 데이터 분석을 위해 기본적으로 사용하는 라이브러리임\n",
    "- row data를 데이터 분석 전 과정을 위해 사용할 수 있도록 변환하는 **데이터 전처리**에도 많이 사용됨"
   ]
  },
  {
   "cell_type": "markdown",
   "id": "c69a3adc",
   "metadata": {},
   "source": [
    "### 2. 기능\n",
    "- 인 메모리 데이터 구조를 가지며 여러 파일 형식 데이터를 읽고 쓰기 위한 도구\n",
    "- 데이터 정렬, 손실 데이터를 통합 처리\n",
    "- 데이터 셋을 reshaping, 피벗\n",
    "- 라벨 기반 슬라이싱, 멀티인덱싱 제공\n",
    "- 데이터 셋 merge, join 하기 편함\n",
    "- 다양한 시계열 데이터 처리 가능"
   ]
  },
  {
   "cell_type": "markdown",
   "id": "76a7afcf",
   "metadata": {},
   "source": [
    "### 3. API\n",
    "- https://pandas.pydata.org/docs/reference/index.html"
   ]
  },
  {
   "cell_type": "markdown",
   "id": "0178e8d8",
   "metadata": {},
   "source": [
    "### 4. 데이터 구조"
   ]
  },
  {
   "cell_type": "code",
   "execution_count": 3,
   "id": "07908cb1",
   "metadata": {},
   "outputs": [
    {
     "data": {
      "text/html": [
       "<style>\n",
       "table {float:left}\n",
       "</style>\n"
      ],
      "text/plain": [
       "<IPython.core.display.HTML object>"
      ]
     },
     "metadata": {},
     "output_type": "display_data"
    }
   ],
   "source": [
    "%%html\n",
    "<style>\n",
    "table {float:left}\n",
    "</style>"
   ]
  },
  {
   "cell_type": "markdown",
   "id": "a6d82c1c",
   "metadata": {},
   "source": [
    "<table>\n",
    "    <tr>\n",
    "        <th>차원</th>\n",
    "        <th>이름</th>\n",
    "        <th>설명</th>\n",
    "    </tr>\n",
    "    <tr>\n",
    "        <td>1</td>\n",
    "        <td>시리즈(Series)</td>\n",
    "        <td>라벨 표시된 1차원의 동일 형태 배열</td>\n",
    "    </tr>\n",
    "     <tr>\n",
    "        <td>2</td>\n",
    "        <td>데이터프레임(DataFrame)</td>\n",
    "        <td>동일하지 않은 형태의 열을 가짐, 라벨 표시된 2차원의 크기 변동이 가능한 테이블 형 구조</td>\n",
    "    </tr>\n",
    "</table>"
   ]
  },
  {
   "cell_type": "markdown",
   "id": "6476e5db",
   "metadata": {},
   "source": [
    "### 5. 데이터 타입"
   ]
  },
  {
   "cell_type": "markdown",
   "id": "6e28391a",
   "metadata": {},
   "source": [
    "- pandas 데이터 타입은 파이썬과 다름\n",
    "  - dtype 으로 불리우며, 주요 데이터 타입은 다음과 같음\n",
    "    - object 는 파이썬의 str 또는 혼용 데이터 타입 (문자열)\n",
    "    - int64 는 파이썬의 int (정수)\n",
    "    - float64 는 파이썬의 float (부동소숫점)\n",
    "    - bool 는 파이썬의 bool (True 또는 False 값을 가지는 boolean)\n",
    "    - 이외에 datetime64 (날짜/시간), timedelta[ns] (두 datatime64 간의 차) 도 활용됨"
   ]
  },
  {
   "cell_type": "code",
   "execution_count": null,
   "id": "112b544d",
   "metadata": {},
   "outputs": [],
   "source": []
  }
 ],
 "metadata": {
  "kernelspec": {
   "display_name": "Python 3 (ipykernel)",
   "language": "python",
   "name": "python3"
  },
  "language_info": {
   "codemirror_mode": {
    "name": "ipython",
    "version": 3
   },
   "file_extension": ".py",
   "mimetype": "text/x-python",
   "name": "python",
   "nbconvert_exporter": "python",
   "pygments_lexer": "ipython3",
   "version": "3.9.12"
  }
 },
 "nbformat": 4,
 "nbformat_minor": 5
}
