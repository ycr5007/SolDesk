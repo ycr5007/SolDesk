{
 "cells": [
  {
   "cell_type": "markdown",
   "id": "51dba0b9",
   "metadata": {},
   "source": [
    "### [참고] <a href=\"https://pandas.pydata.org/Pandas_Cheat_Sheet.pdf\">Pandas Cheat Sheet</a>\n",
    "\n",
    "## 데이터 타입"
   ]
  },
  {
   "cell_type": "markdown",
   "id": "068e59f7",
   "metadata": {},
   "source": [
    "### 1.Series(https://pandas.pydata.org/docs/reference/api/pandas.Series.html)\n",
    "\n",
    "<img src=\"https://bites-data.s3.us-east-2.amazonaws.com/series_spreadsheet.png\" width=\"300\" height=\"200\">"
   ]
  },
  {
   "cell_type": "code",
   "execution_count": 1,
   "id": "d57f56be",
   "metadata": {},
   "outputs": [],
   "source": [
    "import pandas as pd\n",
    "import numpy as np"
   ]
  },
  {
   "cell_type": "markdown",
   "id": "8b356858",
   "metadata": {},
   "source": [
    "### 생성"
   ]
  },
  {
   "cell_type": "markdown",
   "id": "cea5a132",
   "metadata": {},
   "source": [
    "#### 1) 리스트"
   ]
  },
  {
   "cell_type": "markdown",
   "id": "e5bb530e",
   "metadata": {},
   "source": [
    " * index 를 별도로 지정하지 않을경우 0, 1, 2 ... 순으로 지정된다"
   ]
  },
  {
   "cell_type": "code",
   "execution_count": 4,
   "id": "4bdf91ab",
   "metadata": {},
   "outputs": [
    {
     "data": {
      "text/plain": [
       "0    70\n",
       "1    80\n",
       "2    90\n",
       "dtype: int64"
      ]
     },
     "execution_count": 4,
     "metadata": {},
     "output_type": "execute_result"
    }
   ],
   "source": [
    "list1 = [70,80,90]\n",
    "\n",
    "series1 = pd.Series(list1)\n",
    "series1"
   ]
  },
  {
   "cell_type": "code",
   "execution_count": 12,
   "id": "2d0ad16b",
   "metadata": {
    "scrolled": true
   },
   "outputs": [
    {
     "data": {
      "text/plain": [
       "국어    70\n",
       "영어    80\n",
       "수학    90\n",
       "dtype: int64"
      ]
     },
     "execution_count": 12,
     "metadata": {},
     "output_type": "execute_result"
    }
   ],
   "source": [
    "series1 = pd.Series(list1, index=[\"국어\",\"영어\",\"수학\"])\n",
    "series1"
   ]
  },
  {
   "cell_type": "markdown",
   "id": "2476fcbd",
   "metadata": {},
   "source": [
    "#### 2) 딕셔너리"
   ]
  },
  {
   "cell_type": "markdown",
   "id": "7a8691f2",
   "metadata": {},
   "source": [
    "* Dictionary 의 Key 값이 Index 로 들어간다"
   ]
  },
  {
   "cell_type": "code",
   "execution_count": 6,
   "id": "b2ac15a0",
   "metadata": {},
   "outputs": [
    {
     "data": {
      "text/plain": [
       "a    1\n",
       "b    2\n",
       "c    3\n",
       "dtype: int64"
      ]
     },
     "execution_count": 6,
     "metadata": {},
     "output_type": "execute_result"
    }
   ],
   "source": [
    "dict1 = {\"a\" : 1, \"b\" : 2, \"c\" : 3}\n",
    "\n",
    "series1 = pd.Series(dict1)\n",
    "series1"
   ]
  },
  {
   "cell_type": "markdown",
   "id": "8c2630c2",
   "metadata": {},
   "source": [
    "#### 3) ndarray"
   ]
  },
  {
   "cell_type": "code",
   "execution_count": 8,
   "id": "66738ee9",
   "metadata": {},
   "outputs": [
    {
     "data": {
      "text/plain": [
       "a   -1.183122\n",
       "b   -0.252809\n",
       "c    1.190372\n",
       "d    1.029514\n",
       "dtype: float64"
      ]
     },
     "execution_count": 8,
     "metadata": {},
     "output_type": "execute_result"
    }
   ],
   "source": [
    "series1 = pd.Series(np.random.randn(4), index=list(\"abcd\"))\n",
    "series1"
   ]
  },
  {
   "cell_type": "markdown",
   "id": "63a02c91",
   "metadata": {},
   "source": [
    "#### 4) DataFrame 이용"
   ]
  },
  {
   "cell_type": "code",
   "execution_count": 9,
   "id": "339c0c56",
   "metadata": {},
   "outputs": [
    {
     "data": {
      "text/html": [
       "<div>\n",
       "<style scoped>\n",
       "    .dataframe tbody tr th:only-of-type {\n",
       "        vertical-align: middle;\n",
       "    }\n",
       "\n",
       "    .dataframe tbody tr th {\n",
       "        vertical-align: top;\n",
       "    }\n",
       "\n",
       "    .dataframe thead th {\n",
       "        text-align: right;\n",
       "    }\n",
       "</style>\n",
       "<table border=\"1\" class=\"dataframe\">\n",
       "  <thead>\n",
       "    <tr style=\"text-align: right;\">\n",
       "      <th></th>\n",
       "      <th>a</th>\n",
       "      <th>b</th>\n",
       "    </tr>\n",
       "  </thead>\n",
       "  <tbody>\n",
       "    <tr>\n",
       "      <th>0</th>\n",
       "      <td>1</td>\n",
       "      <td>5</td>\n",
       "    </tr>\n",
       "    <tr>\n",
       "      <th>1</th>\n",
       "      <td>2</td>\n",
       "      <td>6</td>\n",
       "    </tr>\n",
       "    <tr>\n",
       "      <th>2</th>\n",
       "      <td>3</td>\n",
       "      <td>7</td>\n",
       "    </tr>\n",
       "    <tr>\n",
       "      <th>3</th>\n",
       "      <td>4</td>\n",
       "      <td>8</td>\n",
       "    </tr>\n",
       "  </tbody>\n",
       "</table>\n",
       "</div>"
      ],
      "text/plain": [
       "   a  b\n",
       "0  1  5\n",
       "1  2  6\n",
       "2  3  7\n",
       "3  4  8"
      ]
     },
     "execution_count": 9,
     "metadata": {},
     "output_type": "execute_result"
    }
   ],
   "source": [
    "df = pd.DataFrame({\"a\":[1,2,3,4], \"b\":[5,6,7,8]})\n",
    "df"
   ]
  },
  {
   "cell_type": "code",
   "execution_count": 18,
   "id": "9680f018",
   "metadata": {},
   "outputs": [
    {
     "data": {
      "text/plain": [
       "0    5\n",
       "1    6\n",
       "2    7\n",
       "3    8\n",
       "Name: b, dtype: int64"
      ]
     },
     "execution_count": 18,
     "metadata": {},
     "output_type": "execute_result"
    }
   ],
   "source": [
    "series1 = pd.Series(df['b'])\n",
    "series1"
   ]
  },
  {
   "cell_type": "markdown",
   "id": "0bea210c",
   "metadata": {},
   "source": [
    "### 조회"
   ]
  },
  {
   "cell_type": "code",
   "execution_count": 20,
   "id": "10e29d60",
   "metadata": {
    "scrolled": true
   },
   "outputs": [
    {
     "data": {
      "text/plain": [
       "국어    70\n",
       "영어    80\n",
       "수학    90\n",
       "dtype: int64"
      ]
     },
     "execution_count": 20,
     "metadata": {},
     "output_type": "execute_result"
    }
   ],
   "source": [
    "series1 = pd.Series(list1, index=[\"국어\",\"영어\",\"수학\"])\n",
    "series1"
   ]
  },
  {
   "cell_type": "markdown",
   "id": "5e358478",
   "metadata": {},
   "source": [
    "#### 1) index 조회"
   ]
  },
  {
   "cell_type": "code",
   "execution_count": 14,
   "id": "d0a60b76",
   "metadata": {},
   "outputs": [
    {
     "data": {
      "text/plain": [
       "Index(['국어', '영어', '수학'], dtype='object')"
      ]
     },
     "execution_count": 14,
     "metadata": {},
     "output_type": "execute_result"
    }
   ],
   "source": [
    "series1.index"
   ]
  },
  {
   "cell_type": "markdown",
   "id": "384b1db9",
   "metadata": {},
   "source": [
    "#### 2) values 조회"
   ]
  },
  {
   "cell_type": "code",
   "execution_count": 15,
   "id": "6c6bc562",
   "metadata": {},
   "outputs": [
    {
     "data": {
      "text/plain": [
       "array([70, 80, 90], dtype=int64)"
      ]
     },
     "execution_count": 15,
     "metadata": {},
     "output_type": "execute_result"
    }
   ],
   "source": [
    "series1.values"
   ]
  },
  {
   "cell_type": "markdown",
   "id": "3e74511f",
   "metadata": {},
   "source": [
    "#### 3) name 조회"
   ]
  },
  {
   "cell_type": "code",
   "execution_count": 21,
   "id": "9041be0f",
   "metadata": {},
   "outputs": [],
   "source": [
    "# name 부여\n",
    "series1 = series1.rename(\"점수\")"
   ]
  },
  {
   "cell_type": "code",
   "execution_count": 22,
   "id": "15c56990",
   "metadata": {},
   "outputs": [
    {
     "data": {
      "text/plain": [
       "'점수'"
      ]
     },
     "execution_count": 22,
     "metadata": {},
     "output_type": "execute_result"
    }
   ],
   "source": [
    "series1.name"
   ]
  },
  {
   "cell_type": "markdown",
   "id": "c8a19dfd",
   "metadata": {},
   "source": [
    "#### 4) 전체 조회"
   ]
  },
  {
   "cell_type": "code",
   "execution_count": 23,
   "id": "997c987c",
   "metadata": {},
   "outputs": [
    {
     "data": {
      "text/plain": [
       "국어    70\n",
       "영어    80\n",
       "수학    90\n",
       "Name: 점수, dtype: int64"
      ]
     },
     "execution_count": 23,
     "metadata": {},
     "output_type": "execute_result"
    }
   ],
   "source": [
    "series1"
   ]
  },
  {
   "cell_type": "markdown",
   "id": "364f6698",
   "metadata": {},
   "source": [
    "#### 5) 인덱싱 가능 (인덱스 번호 혹은 라벨명)"
   ]
  },
  {
   "cell_type": "code",
   "execution_count": 24,
   "id": "3a0fbcde",
   "metadata": {},
   "outputs": [
    {
     "data": {
      "text/plain": [
       "70"
      ]
     },
     "execution_count": 24,
     "metadata": {},
     "output_type": "execute_result"
    }
   ],
   "source": [
    "series1[0] # 인덱스에 별칭을 부여했으나, 번호로도 조회 가능하다"
   ]
  },
  {
   "cell_type": "code",
   "execution_count": 25,
   "id": "e661b4be",
   "metadata": {},
   "outputs": [
    {
     "data": {
      "text/plain": [
       "70"
      ]
     },
     "execution_count": 25,
     "metadata": {},
     "output_type": "execute_result"
    }
   ],
   "source": [
    "series1['국어']"
   ]
  },
  {
   "cell_type": "code",
   "execution_count": 32,
   "id": "68506dc1",
   "metadata": {},
   "outputs": [
    {
     "data": {
      "text/plain": [
       "국어    70\n",
       "수학    90\n",
       "Name: 점수, dtype: int64"
      ]
     },
     "execution_count": 32,
     "metadata": {},
     "output_type": "execute_result"
    }
   ],
   "source": [
    "series1[[0,2]]"
   ]
  },
  {
   "cell_type": "code",
   "execution_count": 34,
   "id": "e7d3bfc0",
   "metadata": {},
   "outputs": [
    {
     "data": {
      "text/plain": [
       "국어    70\n",
       "수학    90\n",
       "Name: 점수, dtype: int64"
      ]
     },
     "execution_count": 34,
     "metadata": {},
     "output_type": "execute_result"
    }
   ],
   "source": [
    "series1[[True, False, True]]"
   ]
  },
  {
   "cell_type": "code",
   "execution_count": 35,
   "id": "8b826b0b",
   "metadata": {},
   "outputs": [
    {
     "data": {
      "text/plain": [
       "국어    70\n",
       "영어    80\n",
       "Name: 점수, dtype: int64"
      ]
     },
     "execution_count": 35,
     "metadata": {},
     "output_type": "execute_result"
    }
   ],
   "source": [
    "series1[0:2]"
   ]
  },
  {
   "cell_type": "markdown",
   "id": "9a08835a",
   "metadata": {},
   "source": [
    "#### 6) 전체 구조 파악"
   ]
  },
  {
   "cell_type": "code",
   "execution_count": 37,
   "id": "5feb3da7",
   "metadata": {},
   "outputs": [
    {
     "data": {
      "text/plain": [
       "(3,)"
      ]
     },
     "execution_count": 37,
     "metadata": {},
     "output_type": "execute_result"
    }
   ],
   "source": [
    "series1.shape"
   ]
  },
  {
   "cell_type": "code",
   "execution_count": 39,
   "id": "e1263cf0",
   "metadata": {},
   "outputs": [
    {
     "data": {
      "text/plain": [
       "국어    70\n",
       "영어    80\n",
       "Name: 점수, dtype: int64"
      ]
     },
     "execution_count": 39,
     "metadata": {},
     "output_type": "execute_result"
    }
   ],
   "source": [
    "series1.head(2) # 위에서부터 최대 5개 가져옴"
   ]
  },
  {
   "cell_type": "code",
   "execution_count": 41,
   "id": "816e5d40",
   "metadata": {},
   "outputs": [
    {
     "data": {
      "text/plain": [
       "영어    80\n",
       "수학    90\n",
       "Name: 점수, dtype: int64"
      ]
     },
     "execution_count": 41,
     "metadata": {},
     "output_type": "execute_result"
    }
   ],
   "source": [
    "series1.tail(2) # 밑에서부터 최대 5개 가져옴"
   ]
  },
  {
   "cell_type": "markdown",
   "id": "083d4550",
   "metadata": {},
   "source": [
    "### 수정\n",
    "><b>index 수정</b>"
   ]
  },
  {
   "cell_type": "code",
   "execution_count": 42,
   "id": "edb8effc",
   "metadata": {},
   "outputs": [
    {
     "data": {
      "text/plain": [
       "미술    70\n",
       "음악    80\n",
       "체육    90\n",
       "Name: 점수, dtype: int64"
      ]
     },
     "execution_count": 42,
     "metadata": {},
     "output_type": "execute_result"
    }
   ],
   "source": [
    "series1.index = [\"미술\", \"음악\", \"체육\"]\n",
    "series1"
   ]
  },
  {
   "cell_type": "markdown",
   "id": "5385f3ad",
   "metadata": {},
   "source": [
    "><b>특정 값 수정</b>"
   ]
  },
  {
   "cell_type": "code",
   "execution_count": 45,
   "id": "a6938238",
   "metadata": {},
   "outputs": [
    {
     "data": {
      "text/plain": [
       "미술    70\n",
       "음악    85\n",
       "체육    90\n",
       "Name: 점수, dtype: int64"
      ]
     },
     "execution_count": 45,
     "metadata": {},
     "output_type": "execute_result"
    }
   ],
   "source": [
    "series1[\"음악\"] = 85 # series1[1] : 인덱스로도 가능\n",
    "series1"
   ]
  },
  {
   "cell_type": "markdown",
   "id": "79fbe5da",
   "metadata": {},
   "source": [
    "><b>데이터 타입 변경 - astype('dataType')</b>"
   ]
  },
  {
   "cell_type": "code",
   "execution_count": 54,
   "id": "80176db3",
   "metadata": {},
   "outputs": [
    {
     "data": {
      "text/plain": [
       "0    1\n",
       "1    1\n",
       "2    1\n",
       "dtype: int32"
      ]
     },
     "execution_count": 54,
     "metadata": {},
     "output_type": "execute_result"
    }
   ],
   "source": [
    "series1 = pd.Series([1,1,1], dtype=\"int32\")\n",
    "series1"
   ]
  },
  {
   "cell_type": "code",
   "execution_count": 55,
   "id": "53692b19",
   "metadata": {},
   "outputs": [
    {
     "data": {
      "text/plain": [
       "0    1.0\n",
       "1    1.0\n",
       "2    1.0\n",
       "dtype: float64"
      ]
     },
     "execution_count": 55,
     "metadata": {},
     "output_type": "execute_result"
    }
   ],
   "source": [
    "series1 = series1.astype('float') # 원본이 변경되는 것은 아니며, 변경된 Series 를 반환 해준다\n",
    "series1"
   ]
  },
  {
   "cell_type": "markdown",
   "id": "8dd1ad69",
   "metadata": {},
   "source": [
    "**astype 사용 시 주의점 : 변경할 수 없는 데이터가 들어있는 경우**"
   ]
  },
  {
   "cell_type": "code",
   "execution_count": 56,
   "id": "f0ccfa4f",
   "metadata": {},
   "outputs": [
    {
     "data": {
      "text/plain": [
       "0    1.1\n",
       "1    2.2\n",
       "2    3.3\n",
       "dtype: object"
      ]
     },
     "execution_count": 56,
     "metadata": {},
     "output_type": "execute_result"
    }
   ],
   "source": [
    "series1 = pd.Series([\"1.1\", \"2.2\", \"3.3\"])\n",
    "series1"
   ]
  },
  {
   "cell_type": "code",
   "execution_count": 59,
   "id": "30631f17",
   "metadata": {
    "scrolled": true
   },
   "outputs": [
    {
     "data": {
      "text/plain": [
       "0    1\n",
       "1    2\n",
       "2    3\n",
       "dtype: int32"
      ]
     },
     "execution_count": 59,
     "metadata": {},
     "output_type": "execute_result"
    }
   ],
   "source": [
    "series1 = series1.astype('float') # 가능\n",
    "# series1.astype('int') # 불가능\n",
    "\n",
    "series1.astype('int') # "
   ]
  },
  {
   "cell_type": "markdown",
   "id": "3b2841c7",
   "metadata": {},
   "source": [
    "### 삭제\n",
    "><b>특정 행 삭제</b>"
   ]
  },
  {
   "cell_type": "code",
   "execution_count": 62,
   "id": "e13adab3",
   "metadata": {},
   "outputs": [
    {
     "data": {
      "text/plain": [
       "국어    70\n",
       "수학    80\n",
       "영어    90\n",
       "dtype: int64"
      ]
     },
     "execution_count": 62,
     "metadata": {},
     "output_type": "execute_result"
    }
   ],
   "source": [
    "series1 = pd.Series(list1, index=[\"국어\", \"수학\", \"영어\"])\n",
    "series1"
   ]
  },
  {
   "cell_type": "code",
   "execution_count": 63,
   "id": "cfe793bc",
   "metadata": {},
   "outputs": [],
   "source": [
    "del series1['영어']"
   ]
  },
  {
   "cell_type": "code",
   "execution_count": 64,
   "id": "ae64df33",
   "metadata": {},
   "outputs": [
    {
     "data": {
      "text/plain": [
       "국어    70\n",
       "수학    80\n",
       "dtype: int64"
      ]
     },
     "execution_count": 64,
     "metadata": {},
     "output_type": "execute_result"
    }
   ],
   "source": [
    "series1"
   ]
  }
 ],
 "metadata": {
  "kernelspec": {
   "display_name": "Python 3 (ipykernel)",
   "language": "python",
   "name": "python3"
  },
  "language_info": {
   "codemirror_mode": {
    "name": "ipython",
    "version": 3
   },
   "file_extension": ".py",
   "mimetype": "text/x-python",
   "name": "python",
   "nbconvert_exporter": "python",
   "pygments_lexer": "ipython3",
   "version": "3.9.12"
  }
 },
 "nbformat": 4,
 "nbformat_minor": 5
}
