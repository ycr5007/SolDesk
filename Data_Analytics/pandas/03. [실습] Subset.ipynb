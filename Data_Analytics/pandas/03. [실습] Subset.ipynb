{
 "cells": [
  {
   "cell_type": "markdown",
   "id": "57262e70",
   "metadata": {},
   "source": [
    "### [참고] <a href=\"https://pandas.pydata.org/Pandas_Cheat_Sheet.pdf\">Pandas Cheat Sheet</a>"
   ]
  },
  {
   "cell_type": "markdown",
   "id": "ef4b790f",
   "metadata": {},
   "source": [
    "#### 1. 라이브러리 로드"
   ]
  },
  {
   "cell_type": "code",
   "execution_count": null,
   "id": "1bd8fbcc",
   "metadata": {},
   "outputs": [],
   "source": []
  },
  {
   "cell_type": "markdown",
   "id": "dcb2f111",
   "metadata": {},
   "source": [
    "#### 2. sample.xlsx\n",
    "\n",
    "#### 1) 데이터 프레임 생성"
   ]
  },
  {
   "cell_type": "code",
   "execution_count": null,
   "id": "5137b989",
   "metadata": {},
   "outputs": [],
   "source": []
  },
  {
   "cell_type": "markdown",
   "id": "98ef2b7b",
   "metadata": {},
   "source": [
    "#### 2) 앞 쪽의 5행 조회"
   ]
  },
  {
   "cell_type": "code",
   "execution_count": null,
   "id": "c9bb11c7",
   "metadata": {},
   "outputs": [],
   "source": []
  },
  {
   "cell_type": "markdown",
   "id": "40a87df7",
   "metadata": {},
   "source": [
    "#### 3) 뒤 쪽의 3행 조회"
   ]
  },
  {
   "cell_type": "code",
   "execution_count": null,
   "id": "a71e74f1",
   "metadata": {},
   "outputs": [],
   "source": []
  },
  {
   "cell_type": "markdown",
   "id": "5e972365",
   "metadata": {},
   "source": [
    "#### 4) 금월 컬럼에서 값이 큰 3개 행 조회"
   ]
  },
  {
   "cell_type": "code",
   "execution_count": null,
   "id": "332d3359",
   "metadata": {},
   "outputs": [],
   "source": []
  },
  {
   "cell_type": "markdown",
   "id": "376c170f",
   "metadata": {},
   "source": [
    "#### 5) 전월 컬럼에서 값이 가장 작은 5개 행 조회"
   ]
  },
  {
   "cell_type": "code",
   "execution_count": null,
   "id": "880fbb93",
   "metadata": {},
   "outputs": [],
   "source": []
  },
  {
   "cell_type": "markdown",
   "id": "e094aa2f",
   "metadata": {},
   "source": [
    "#### 6) 총 판매수량이 250보다 큰 대리점 추출"
   ]
  },
  {
   "cell_type": "code",
   "execution_count": null,
   "id": "17dfe084",
   "metadata": {},
   "outputs": [],
   "source": []
  },
  {
   "cell_type": "markdown",
   "id": "2438e7eb",
   "metadata": {},
   "source": [
    "#### 7) 행 전체를 포함하고, 컬럼은 대리점, 영업사원, 금월 추출"
   ]
  },
  {
   "cell_type": "code",
   "execution_count": null,
   "id": "d1afdb82",
   "metadata": {},
   "outputs": [],
   "source": []
  },
  {
   "cell_type": "markdown",
   "id": "0d3d2b85",
   "metadata": {},
   "source": [
    "#### 8) loc 이용 : sample_df 에서 2, 4번 인덱스를 가진 행 추출"
   ]
  },
  {
   "cell_type": "code",
   "execution_count": null,
   "id": "ce6fc4ea",
   "metadata": {},
   "outputs": [],
   "source": [
    " "
   ]
  },
  {
   "cell_type": "markdown",
   "id": "4a26d3d7",
   "metadata": {},
   "source": [
    "#### 9) iloc 이용 : sample_df 에서 2, 4번 인덱스를 가진 행 추출"
   ]
  },
  {
   "cell_type": "code",
   "execution_count": null,
   "id": "9890febf",
   "metadata": {},
   "outputs": [],
   "source": []
  },
  {
   "cell_type": "markdown",
   "id": "f9a197f9",
   "metadata": {},
   "source": [
    "#### 10) loc 이용 : sample_df 에서 3, 4, 5번 인덱스를 가진 행 추출(대리점,영업사원,총 판매수량 컬럼만)"
   ]
  },
  {
   "cell_type": "code",
   "execution_count": null,
   "id": "600ce11d",
   "metadata": {},
   "outputs": [],
   "source": []
  },
  {
   "cell_type": "markdown",
   "id": "1b02b291",
   "metadata": {},
   "source": [
    "#### 11) 전체 행 추출 : 전월,금월 컬럼만(앞쪽 데이터 5개만 보여주기)"
   ]
  },
  {
   "cell_type": "code",
   "execution_count": null,
   "id": "42ecb5f8",
   "metadata": {},
   "outputs": [],
   "source": []
  },
  {
   "cell_type": "markdown",
   "id": "2555cd99",
   "metadata": {},
   "source": [
    "#### 12)  filter 를 이용하여 컬럼명에 \"월\"이 들어간 컬럼을 추출하기"
   ]
  },
  {
   "cell_type": "code",
   "execution_count": null,
   "id": "3f8f9d33",
   "metadata": {},
   "outputs": [],
   "source": []
  },
  {
   "cell_type": "code",
   "execution_count": null,
   "id": "f4905cc1",
   "metadata": {},
   "outputs": [],
   "source": []
  },
  {
   "cell_type": "markdown",
   "id": "b202230e",
   "metadata": {},
   "source": [
    "#### 3. train.xlsx\n",
    "\n",
    "#### 1) 데이터 프레임 생성"
   ]
  },
  {
   "cell_type": "code",
   "execution_count": null,
   "id": "1e440515",
   "metadata": {},
   "outputs": [],
   "source": []
  },
  {
   "cell_type": "markdown",
   "id": "af7a2654",
   "metadata": {},
   "source": [
    "#### 2) 앞 쪽의 데이터 5개 조회"
   ]
  },
  {
   "cell_type": "code",
   "execution_count": null,
   "id": "c304360a",
   "metadata": {},
   "outputs": [],
   "source": []
  },
  {
   "cell_type": "markdown",
   "id": "40f05152",
   "metadata": {},
   "source": [
    "#### 3) 뒤 쪽의 데이터 5개 조회"
   ]
  },
  {
   "cell_type": "code",
   "execution_count": null,
   "id": "d88cefd0",
   "metadata": {},
   "outputs": [],
   "source": []
  },
  {
   "cell_type": "markdown",
   "id": "0a47a78f",
   "metadata": {},
   "source": [
    "#### 4) Fare 컬럼 값이 가장 큰 4개 행 조회"
   ]
  },
  {
   "cell_type": "code",
   "execution_count": null,
   "id": "cabfe16e",
   "metadata": {},
   "outputs": [],
   "source": []
  },
  {
   "cell_type": "markdown",
   "id": "9be2cefb",
   "metadata": {},
   "source": [
    "#### 5) Age 컬럼 값이 가장 작은 3개 행 조회"
   ]
  },
  {
   "cell_type": "code",
   "execution_count": null,
   "id": "f546cddb",
   "metadata": {},
   "outputs": [],
   "source": []
  },
  {
   "cell_type": "code",
   "execution_count": null,
   "id": "31f8931a",
   "metadata": {},
   "outputs": [],
   "source": []
  }
 ],
 "metadata": {
  "kernelspec": {
   "display_name": "Python 3 (ipykernel)",
   "language": "python",
   "name": "python3"
  },
  "language_info": {
   "codemirror_mode": {
    "name": "ipython",
    "version": 3
   },
   "file_extension": ".py",
   "mimetype": "text/x-python",
   "name": "python",
   "nbconvert_exporter": "python",
   "pygments_lexer": "ipython3",
   "version": "3.9.12"
  }
 },
 "nbformat": 4,
 "nbformat_minor": 5
}
