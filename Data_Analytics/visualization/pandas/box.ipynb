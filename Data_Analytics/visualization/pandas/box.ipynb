{
 "cells": [
  {
   "cell_type": "markdown",
   "id": "adad611e",
   "metadata": {},
   "source": [
    "### box plot ( 상자 그림 )\n",
    "> https://ko.wikipedia.org/wiki/%EC%83%81%EC%9E%90_%EC%88%98%EC%97%BC_%EA%B7%B8%EB%A6%BC\n",
    "\n",
    "- 백분위 수 : 데이터를 백등분 한 것\n",
    "- 사분위 수 : 데이터를 4등분 한 것\n",
    "- 중위수 : 데이터의 정 가운데 순위에 해당하는 값.(관측치의 절반은 크거나 같고 나머지 절반은 작거나 같다.)\n",
    "- 제 3사분위 수 (Q3) : 중앙값 기준으로 상위 50% 중의 중앙값, 전체 데이터 중 상위 25%에 해당하는 값\n",
    "- 제 1사분위 수 (Q1) : 중앙값 기준으로 하위 50% 중의 중앙값, 전체 데이터 중 하위 25%에 해당하는 값\n",
    "- 사분위 범위 수(IQR) : 데이터의 중간 50% (Q3 - Q1)"
   ]
  },
  {
   "cell_type": "code",
   "execution_count": 1,
   "id": "86882230",
   "metadata": {},
   "outputs": [],
   "source": [
    "import pandas as pd\n",
    "import matplotlib.pyplot as plt\n",
    "import numpy as np\n",
    "\n",
    "plt.rcParams['axes.unicode_minus'] = False # \" - \" 기호 Unicode 처리\n",
    "plt.rcParams['font.family'] = 'Malgun Gothic' # 한글 폰트 설정"
   ]
  },
  {
   "cell_type": "code",
   "execution_count": 3,
   "id": "8e60e601",
   "metadata": {},
   "outputs": [
    {
     "data": {
      "text/html": [
       "<div>\n",
       "<style scoped>\n",
       "    .dataframe tbody tr th:only-of-type {\n",
       "        vertical-align: middle;\n",
       "    }\n",
       "\n",
       "    .dataframe tbody tr th {\n",
       "        vertical-align: top;\n",
       "    }\n",
       "\n",
       "    .dataframe thead th {\n",
       "        text-align: right;\n",
       "    }\n",
       "</style>\n",
       "<table border=\"1\" class=\"dataframe\">\n",
       "  <thead>\n",
       "    <tr style=\"text-align: right;\">\n",
       "      <th></th>\n",
       "      <th>A</th>\n",
       "      <th>B</th>\n",
       "      <th>C</th>\n",
       "      <th>D</th>\n",
       "      <th>E</th>\n",
       "    </tr>\n",
       "  </thead>\n",
       "  <tbody>\n",
       "    <tr>\n",
       "      <th>0</th>\n",
       "      <td>0.294770</td>\n",
       "      <td>0.550098</td>\n",
       "      <td>0.487687</td>\n",
       "      <td>0.474634</td>\n",
       "      <td>0.092794</td>\n",
       "    </tr>\n",
       "    <tr>\n",
       "      <th>1</th>\n",
       "      <td>0.337691</td>\n",
       "      <td>0.638309</td>\n",
       "      <td>0.720082</td>\n",
       "      <td>0.030417</td>\n",
       "      <td>0.015671</td>\n",
       "    </tr>\n",
       "    <tr>\n",
       "      <th>2</th>\n",
       "      <td>0.238612</td>\n",
       "      <td>0.959600</td>\n",
       "      <td>0.580860</td>\n",
       "      <td>0.674297</td>\n",
       "      <td>0.182719</td>\n",
       "    </tr>\n",
       "    <tr>\n",
       "      <th>3</th>\n",
       "      <td>0.446044</td>\n",
       "      <td>0.772600</td>\n",
       "      <td>0.158976</td>\n",
       "      <td>0.556626</td>\n",
       "      <td>0.882059</td>\n",
       "    </tr>\n",
       "    <tr>\n",
       "      <th>4</th>\n",
       "      <td>0.560077</td>\n",
       "      <td>0.326493</td>\n",
       "      <td>0.518893</td>\n",
       "      <td>0.642106</td>\n",
       "      <td>0.645225</td>\n",
       "    </tr>\n",
       "    <tr>\n",
       "      <th>5</th>\n",
       "      <td>0.586040</td>\n",
       "      <td>0.439604</td>\n",
       "      <td>0.075617</td>\n",
       "      <td>0.142126</td>\n",
       "      <td>0.083354</td>\n",
       "    </tr>\n",
       "    <tr>\n",
       "      <th>6</th>\n",
       "      <td>0.137240</td>\n",
       "      <td>0.247154</td>\n",
       "      <td>0.193645</td>\n",
       "      <td>0.196975</td>\n",
       "      <td>0.792631</td>\n",
       "    </tr>\n",
       "    <tr>\n",
       "      <th>7</th>\n",
       "      <td>0.059745</td>\n",
       "      <td>0.113999</td>\n",
       "      <td>0.846175</td>\n",
       "      <td>0.308928</td>\n",
       "      <td>0.186564</td>\n",
       "    </tr>\n",
       "    <tr>\n",
       "      <th>8</th>\n",
       "      <td>0.931087</td>\n",
       "      <td>0.642387</td>\n",
       "      <td>0.424064</td>\n",
       "      <td>0.064206</td>\n",
       "      <td>0.451187</td>\n",
       "    </tr>\n",
       "    <tr>\n",
       "      <th>9</th>\n",
       "      <td>0.461153</td>\n",
       "      <td>0.721270</td>\n",
       "      <td>0.521939</td>\n",
       "      <td>0.788582</td>\n",
       "      <td>0.379527</td>\n",
       "    </tr>\n",
       "  </tbody>\n",
       "</table>\n",
       "</div>"
      ],
      "text/plain": [
       "          A         B         C         D         E\n",
       "0  0.294770  0.550098  0.487687  0.474634  0.092794\n",
       "1  0.337691  0.638309  0.720082  0.030417  0.015671\n",
       "2  0.238612  0.959600  0.580860  0.674297  0.182719\n",
       "3  0.446044  0.772600  0.158976  0.556626  0.882059\n",
       "4  0.560077  0.326493  0.518893  0.642106  0.645225\n",
       "5  0.586040  0.439604  0.075617  0.142126  0.083354\n",
       "6  0.137240  0.247154  0.193645  0.196975  0.792631\n",
       "7  0.059745  0.113999  0.846175  0.308928  0.186564\n",
       "8  0.931087  0.642387  0.424064  0.064206  0.451187\n",
       "9  0.461153  0.721270  0.521939  0.788582  0.379527"
      ]
     },
     "execution_count": 3,
     "metadata": {},
     "output_type": "execute_result"
    }
   ],
   "source": [
    "df = pd.DataFrame(np.random.rand(10,5), columns=list('ABCDE'))\n",
    "df"
   ]
  },
  {
   "cell_type": "code",
   "execution_count": 5,
   "id": "89d7fe2e",
   "metadata": {},
   "outputs": [
    {
     "data": {
      "text/plain": [
       "<AxesSubplot:>"
      ]
     },
     "execution_count": 5,
     "metadata": {},
     "output_type": "execute_result"
    },
    {
     "data": {
      "image/png": "[encoded data removed]",
      "text/plain": [
       "<Figure size 432x288 with 1 Axes>"
      ]
     },
     "metadata": {
      "needs_background": "light"
     },
     "output_type": "display_data"
    }
   ],
   "source": [
    "df.plot.box()"
   ]
  },
  {
   "cell_type": "code",
   "execution_count": 6,
   "id": "56e15ef5",
   "metadata": {},
   "outputs": [
    {
     "data": {
      "text/html": [
       "<div>\n",
       "<style scoped>\n",
       "    .dataframe tbody tr th:only-of-type {\n",
       "        vertical-align: middle;\n",
       "    }\n",
       "\n",
       "    .dataframe tbody tr th {\n",
       "        vertical-align: top;\n",
       "    }\n",
       "\n",
       "    .dataframe thead th {\n",
       "        text-align: right;\n",
       "    }\n",
       "</style>\n",
       "<table border=\"1\" class=\"dataframe\">\n",
       "  <thead>\n",
       "    <tr style=\"text-align: right;\">\n",
       "      <th></th>\n",
       "      <th>A</th>\n",
       "      <th>B</th>\n",
       "      <th>C</th>\n",
       "      <th>D</th>\n",
       "      <th>E</th>\n",
       "    </tr>\n",
       "  </thead>\n",
       "  <tbody>\n",
       "    <tr>\n",
       "      <th>count</th>\n",
       "      <td>10.000000</td>\n",
       "      <td>10.000000</td>\n",
       "      <td>10.000000</td>\n",
       "      <td>10.000000</td>\n",
       "      <td>10.000000</td>\n",
       "    </tr>\n",
       "    <tr>\n",
       "      <th>mean</th>\n",
       "      <td>0.405246</td>\n",
       "      <td>0.541151</td>\n",
       "      <td>0.452794</td>\n",
       "      <td>0.387890</td>\n",
       "      <td>0.371173</td>\n",
       "    </tr>\n",
       "    <tr>\n",
       "      <th>std</th>\n",
       "      <td>0.252475</td>\n",
       "      <td>0.259522</td>\n",
       "      <td>0.247102</td>\n",
       "      <td>0.274641</td>\n",
       "      <td>0.312075</td>\n",
       "    </tr>\n",
       "    <tr>\n",
       "      <th>min</th>\n",
       "      <td>0.059745</td>\n",
       "      <td>0.113999</td>\n",
       "      <td>0.075617</td>\n",
       "      <td>0.030417</td>\n",
       "      <td>0.015671</td>\n",
       "    </tr>\n",
       "    <tr>\n",
       "      <th>25%</th>\n",
       "      <td>0.252651</td>\n",
       "      <td>0.354771</td>\n",
       "      <td>0.251249</td>\n",
       "      <td>0.155838</td>\n",
       "      <td>0.115276</td>\n",
       "    </tr>\n",
       "    <tr>\n",
       "      <th>50%</th>\n",
       "      <td>0.391868</td>\n",
       "      <td>0.594203</td>\n",
       "      <td>0.503290</td>\n",
       "      <td>0.391781</td>\n",
       "      <td>0.283046</td>\n",
       "    </tr>\n",
       "    <tr>\n",
       "      <th>75%</th>\n",
       "      <td>0.535346</td>\n",
       "      <td>0.701550</td>\n",
       "      <td>0.566130</td>\n",
       "      <td>0.620736</td>\n",
       "      <td>0.596715</td>\n",
       "    </tr>\n",
       "    <tr>\n",
       "      <th>max</th>\n",
       "      <td>0.931087</td>\n",
       "      <td>0.959600</td>\n",
       "      <td>0.846175</td>\n",
       "      <td>0.788582</td>\n",
       "      <td>0.882059</td>\n",
       "    </tr>\n",
       "  </tbody>\n",
       "</table>\n",
       "</div>"
      ],
      "text/plain": [
       "               A          B          C          D          E\n",
       "count  10.000000  10.000000  10.000000  10.000000  10.000000\n",
       "mean    0.405246   0.541151   0.452794   0.387890   0.371173\n",
       "std     0.252475   0.259522   0.247102   0.274641   0.312075\n",
       "min     0.059745   0.113999   0.075617   0.030417   0.015671\n",
       "25%     0.252651   0.354771   0.251249   0.155838   0.115276\n",
       "50%     0.391868   0.594203   0.503290   0.391781   0.283046\n",
       "75%     0.535346   0.701550   0.566130   0.620736   0.596715\n",
       "max     0.931087   0.959600   0.846175   0.788582   0.882059"
      ]
     },
     "execution_count": 6,
     "metadata": {},
     "output_type": "execute_result"
    }
   ],
   "source": [
    "df.describe()"
   ]
  },
  {
   "cell_type": "code",
   "execution_count": null,
   "id": "56ffe3f4",
   "metadata": {},
   "outputs": [],
   "source": []
  },
  {
   "cell_type": "code",
   "execution_count": 8,
   "id": "d5e314ef",
   "metadata": {},
   "outputs": [
    {
     "data": {
      "text/plain": [
       "<AxesSubplot:>"
      ]
     },
     "execution_count": 8,
     "metadata": {},
     "output_type": "execute_result"
    },
    {
     "data": {
      "image/png": "[encoded data removed]",
      "text/plain": [
       "<Figure size 432x288 with 1 Axes>"
      ]
     },
     "metadata": {
      "needs_background": "light"
     },
     "output_type": "display_data"
    }
   ],
   "source": [
    "color = {'boxes':'DarkGreen', 'whiskers':'DarkOrange', 'medians':'DarkBlue', 'caps':'Gray'}\n",
    "df.plot.box(color=color, sym='r+', vert=False)"
   ]
  },
  {
   "cell_type": "code",
   "execution_count": null,
   "id": "ae768cd1",
   "metadata": {},
   "outputs": [],
   "source": []
  },
  {
   "cell_type": "code",
   "execution_count": null,
   "id": "af446998",
   "metadata": {},
   "outputs": [],
   "source": []
  },
  {
   "cell_type": "code",
   "execution_count": null,
   "id": "bc1c3015",
   "metadata": {},
   "outputs": [],
   "source": []
  },
  {
   "cell_type": "code",
   "execution_count": null,
   "id": "32e5b76d",
   "metadata": {},
   "outputs": [],
   "source": []
  },
  {
   "cell_type": "code",
   "execution_count": null,
   "id": "f7e1c904",
   "metadata": {},
   "outputs": [],
   "source": []
  }
 ],
 "metadata": {
  "kernelspec": {
   "display_name": "Python 3 (ipykernel)",
   "language": "python",
   "name": "python3"
  },
  "language_info": {
   "codemirror_mode": {
    "name": "ipython",
    "version": 3
   },
   "file_extension": ".py",
   "mimetype": "text/x-python",
   "name": "python",
   "nbconvert_exporter": "python",
   "pygments_lexer": "ipython3",
   "version": "3.9.12"
  }
 },
 "nbformat": 4,
 "nbformat_minor": 5
}
