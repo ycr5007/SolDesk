{
 "cells": [
  {
   "cell_type": "code",
   "execution_count": null,
   "id": "0e6eb780",
   "metadata": {},
   "outputs": [],
   "source": []
  },
  {
   "cell_type": "code",
   "execution_count": null,
   "id": "4544b810",
   "metadata": {},
   "outputs": [],
   "source": []
  },
  {
   "cell_type": "code",
   "execution_count": null,
   "id": "b9615c40",
   "metadata": {},
   "outputs": [],
   "source": []
  },
  {
   "cell_type": "code",
   "execution_count": null,
   "id": "745f5835",
   "metadata": {},
   "outputs": [],
   "source": []
  },
  {
   "cell_type": "code",
   "execution_count": null,
   "id": "a959c537",
   "metadata": {},
   "outputs": [],
   "source": []
  },
  {
   "cell_type": "markdown",
   "id": "a48e8feb",
   "metadata": {},
   "source": [
    " #### 다중 막대를 그리기 위한 개념"
   ]
  },
  {
   "cell_type": "markdown",
   "id": "d9d4e5bb",
   "metadata": {},
   "source": [
    "**x 축을 위한 눈금 수 정하기**"
   ]
  },
  {
   "cell_type": "code",
   "execution_count": null,
   "id": "6f84eb7b",
   "metadata": {},
   "outputs": [],
   "source": []
  },
  {
   "cell_type": "markdown",
   "id": "8b1bbe16",
   "metadata": {},
   "source": [
    "**막대가 그려지는 가운데 위치를 기준으로 -0.25, 0, 0.25로 처리**"
   ]
  },
  {
   "cell_type": "code",
   "execution_count": null,
   "id": "5357512f",
   "metadata": {},
   "outputs": [],
   "source": []
  },
  {
   "cell_type": "markdown",
   "id": "31fc72a2",
   "metadata": {},
   "source": [
    "- 위처럼 그리면 막대가 겹치게 되니까 막대의 너비를 조절해야 함"
   ]
  },
  {
   "cell_type": "code",
   "execution_count": null,
   "id": "4dd8980d",
   "metadata": {},
   "outputs": [],
   "source": []
  },
  {
   "cell_type": "markdown",
   "id": "e85bd27a",
   "metadata": {},
   "source": [
    "#### 범례"
   ]
  },
  {
   "cell_type": "code",
   "execution_count": null,
   "id": "bfd9b99b",
   "metadata": {},
   "outputs": [],
   "source": []
  },
  {
   "cell_type": "markdown",
   "id": "8bdb7bd5",
   "metadata": {},
   "source": [
    "#### 타이틀, 범례, x 축 변경"
   ]
  },
  {
   "cell_type": "code",
   "execution_count": null,
   "id": "04599bc9",
   "metadata": {},
   "outputs": [],
   "source": []
  },
  {
   "cell_type": "code",
   "execution_count": null,
   "id": "73f49f43",
   "metadata": {},
   "outputs": [],
   "source": []
  }
 ],
 "metadata": {
  "kernelspec": {
   "display_name": "Python 3 (ipykernel)",
   "language": "python",
   "name": "python3"
  },
  "language_info": {
   "codemirror_mode": {
    "name": "ipython",
    "version": 3
   },
   "file_extension": ".py",
   "mimetype": "text/x-python",
   "name": "python",
   "nbconvert_exporter": "python",
   "pygments_lexer": "ipython3",
   "version": "3.9.12"
  }
 },
 "nbformat": 4,
 "nbformat_minor": 5
}
