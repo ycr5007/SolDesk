{
 "cells": [
  {
   "cell_type": "markdown",
   "id": "291273e3",
   "metadata": {},
   "source": [
    "### 라이브러리 로드"
   ]
  },
  {
   "cell_type": "code",
   "execution_count": null,
   "id": "579c47b6",
   "metadata": {},
   "outputs": [],
   "source": [
    "import matplotlib.pyplot as plt\n",
    "import pandas as pd\n",
    "import numpy as np"
   ]
  },
  {
   "cell_type": "markdown",
   "id": "ba33da14",
   "metadata": {},
   "source": [
    "### 한글 설정"
   ]
  },
  {
   "cell_type": "code",
   "execution_count": 2,
   "id": "5d708721",
   "metadata": {},
   "outputs": [],
   "source": [
    "plt.rcParams['axes.unicode_minus'] = False # \" - \" 기호 Unicode 처리\n",
    "plt.rcParams['font.family'] = 'Malgun Gothic' # 한글 폰트 설정"
   ]
  },
  {
   "cell_type": "markdown",
   "id": "27d43c61",
   "metadata": {},
   "source": [
    "### 데이터 프레임 생성"
   ]
  },
  {
   "cell_type": "code",
   "execution_count": 16,
   "id": "0f195ba3",
   "metadata": {},
   "outputs": [
    {
     "data": {
      "text/html": [
       "<div>\n",
       "<style scoped>\n",
       "    .dataframe tbody tr th:only-of-type {\n",
       "        vertical-align: middle;\n",
       "    }\n",
       "\n",
       "    .dataframe tbody tr th {\n",
       "        vertical-align: top;\n",
       "    }\n",
       "\n",
       "    .dataframe thead th {\n",
       "        text-align: right;\n",
       "    }\n",
       "</style>\n",
       "<table border=\"1\" class=\"dataframe\">\n",
       "  <thead>\n",
       "    <tr style=\"text-align: right;\">\n",
       "      <th></th>\n",
       "      <th>영화</th>\n",
       "      <th>개봉 연도</th>\n",
       "      <th>관객 수</th>\n",
       "      <th>평점</th>\n",
       "    </tr>\n",
       "  </thead>\n",
       "  <tbody>\n",
       "    <tr>\n",
       "      <th>0</th>\n",
       "      <td>명량</td>\n",
       "      <td>2014</td>\n",
       "      <td>1761</td>\n",
       "      <td>8.88</td>\n",
       "    </tr>\n",
       "    <tr>\n",
       "      <th>1</th>\n",
       "      <td>극한직업</td>\n",
       "      <td>2019</td>\n",
       "      <td>1626</td>\n",
       "      <td>9.20</td>\n",
       "    </tr>\n",
       "    <tr>\n",
       "      <th>2</th>\n",
       "      <td>신과함께-죄와 벌</td>\n",
       "      <td>2017</td>\n",
       "      <td>1441</td>\n",
       "      <td>8.73</td>\n",
       "    </tr>\n",
       "    <tr>\n",
       "      <th>3</th>\n",
       "      <td>국제시장</td>\n",
       "      <td>2014</td>\n",
       "      <td>1425</td>\n",
       "      <td>9.16</td>\n",
       "    </tr>\n",
       "    <tr>\n",
       "      <th>4</th>\n",
       "      <td>베테랑</td>\n",
       "      <td>2015</td>\n",
       "      <td>1341</td>\n",
       "      <td>9.24</td>\n",
       "    </tr>\n",
       "    <tr>\n",
       "      <th>5</th>\n",
       "      <td>괴물</td>\n",
       "      <td>2006</td>\n",
       "      <td>1301</td>\n",
       "      <td>8.62</td>\n",
       "    </tr>\n",
       "    <tr>\n",
       "      <th>6</th>\n",
       "      <td>도둑들</td>\n",
       "      <td>2012</td>\n",
       "      <td>1298</td>\n",
       "      <td>7.64</td>\n",
       "    </tr>\n",
       "    <tr>\n",
       "      <th>7</th>\n",
       "      <td>7번방의 선물</td>\n",
       "      <td>2013</td>\n",
       "      <td>1281</td>\n",
       "      <td>8.83</td>\n",
       "    </tr>\n",
       "    <tr>\n",
       "      <th>8</th>\n",
       "      <td>암살</td>\n",
       "      <td>2015</td>\n",
       "      <td>1270</td>\n",
       "      <td>9.10</td>\n",
       "    </tr>\n",
       "    <tr>\n",
       "      <th>9</th>\n",
       "      <td>광해, 왕이 된 남자</td>\n",
       "      <td>2012</td>\n",
       "      <td>1231</td>\n",
       "      <td>9.25</td>\n",
       "    </tr>\n",
       "  </tbody>\n",
       "</table>\n",
       "</div>"
      ],
      "text/plain": [
       "            영화  개봉 연도  관객 수    평점\n",
       "0           명량   2014  1761  8.88\n",
       "1         극한직업   2019  1626  9.20\n",
       "2    신과함께-죄와 벌   2017  1441  8.73\n",
       "3         국제시장   2014  1425  9.16\n",
       "4          베테랑   2015  1341  9.24\n",
       "5           괴물   2006  1301  8.62\n",
       "6          도둑들   2012  1298  7.64\n",
       "7      7번방의 선물   2013  1281  8.83\n",
       "8           암살   2015  1270  9.10\n",
       "9  광해, 왕이 된 남자   2012  1231  9.25"
      ]
     },
     "execution_count": 16,
     "metadata": {},
     "output_type": "execute_result"
    }
   ],
   "source": [
    "data = {\n",
    "    \"영화\" : ['명량', '극한직업', '신과함께-죄와 벌', '국제시장', '베테랑', '괴물', '도둑들', '7번방의 선물', '암살', '광해, 왕이 된 남자'],\n",
    "    \"개봉 연도\" : [2014, 2019, 2017,2014 ,2015, 2006, 2012, 2013, 2015, 2012],\n",
    "    \"관객 수\" : [1761, 1626, 1441, 1425, 1341, 1301, 1298, 1281, 1270, 1231],\n",
    "    \"평점\" : [8.88, 9.20, 8.73, 9.16, 9.24, 8.62, 7.64, 8.83, 9.10, 9.25]\n",
    "}\n",
    "df = pd.DataFrame(data)\n",
    "df"
   ]
  },
  {
   "cell_type": "markdown",
   "id": "37f31024",
   "metadata": {},
   "source": [
    "### 1) 영화 데이터를 활용하여 x 축은 영화명,  y축은 평점인 막대 그래프 작성"
   ]
  },
  {
   "cell_type": "code",
   "execution_count": 8,
   "id": "21704fd4",
   "metadata": {},
   "outputs": [
    {
     "data": {
      "image/png": "[encoded data removed]",
      "text/plain": [
       "<Figure size 432x288 with 1 Axes>"
      ]
     },
     "metadata": {
      "needs_background": "light"
     },
     "output_type": "display_data"
    }
   ],
   "source": [
    "plt.bar('영화', '평점', data=df)\n",
    "plt.show()"
   ]
  },
  {
   "cell_type": "markdown",
   "id": "de4a60ec",
   "metadata": {},
   "source": [
    "### 2) 앞에서 작성한 막대 그래프에 아래에 제시된 세부 사항을 적용하기\n",
    "\n",
    "- 제목 : 국내 Top10 영화 평점 정보\n",
    "- x 축 label : 영화(90도 회전)\n",
    "- y 축 label : 평점"
   ]
  },
  {
   "cell_type": "code",
   "execution_count": 11,
   "id": "354bd906",
   "metadata": {},
   "outputs": [
    {
     "data": {
      "image/png": "[encoded data removed]",
      "text/plain": [
       "<Figure size 432x288 with 1 Axes>"
      ]
     },
     "metadata": {
      "needs_background": "light"
     },
     "output_type": "display_data"
    }
   ],
   "source": [
    "plt.bar('영화', '평점', data=df)\n",
    "plt.title('국내 Top10 영화 평점 정보')\n",
    "plt.xticks(rotation=90)\n",
    "plt.ylabel('평점')\n",
    "plt.xlabel('영화')\n",
    "plt.show()"
   ]
  },
  {
   "cell_type": "markdown",
   "id": "d5f9ec86",
   "metadata": {},
   "source": [
    "### 3) 개봉 연도별 평점 변화 추이를 꺽은선 그래프로 작성하기\n",
    "- 연도별 평균 데이터를 구한 후 그래프 작성"
   ]
  },
  {
   "cell_type": "code",
   "execution_count": 28,
   "id": "df833ccb",
   "metadata": {},
   "outputs": [],
   "source": [
    "mean_data = df.groupby('개봉 연도').mean()['평점']"
   ]
  },
  {
   "cell_type": "code",
   "execution_count": 29,
   "id": "f3479884",
   "metadata": {},
   "outputs": [
    {
     "data": {
      "text/plain": [
       "[<matplotlib.lines.Line2D at 0x23b274e6e20>]"
      ]
     },
     "execution_count": 29,
     "metadata": {},
     "output_type": "execute_result"
    },
    {
     "data": {
      "image/png": "[encoded data removed]",
      "text/plain": [
       "<Figure size 432x288 with 1 Axes>"
      ]
     },
     "metadata": {
      "needs_background": "light"
     },
     "output_type": "display_data"
    }
   ],
   "source": [
    "plt.plot(mean_data.index, mean_data.values)"
   ]
  },
  {
   "cell_type": "markdown",
   "id": "3a16e407",
   "metadata": {},
   "source": [
    "### 4) 앞에서 만든 그래프에 제시된 세부 사항을 적용하시오\n",
    "\n",
    "- marker : 'o'\n",
    "- x축 눈금 : 5년 단위(2005, 2010, 2015, 2020)\n",
    "- y축 범위 : 최소 7, 최대 10"
   ]
  },
  {
   "cell_type": "code",
   "execution_count": 39,
   "id": "72b8f128",
   "metadata": {},
   "outputs": [
    {
     "data": {
      "image/png": "[encoded data removed]",
      "text/plain": [
       "<Figure size 432x288 with 1 Axes>"
      ]
     },
     "metadata": {
      "needs_background": "light"
     },
     "output_type": "display_data"
    }
   ],
   "source": [
    "plt.plot(mean_data.index, mean_data.values, marker='o')\n",
    "plt.xticks(range(2005, 2021, 5))\n",
    "plt.ylim(7, 10)\n",
    "plt.show()"
   ]
  },
  {
   "cell_type": "markdown",
   "id": "abac695c",
   "metadata": {},
   "source": [
    "### 5) 평점이 9점 이상인 영화의 비율을 확인할 수 있는 원 그래프 작성하고 세부사항을 적용하시오\n",
    "\n",
    "- label : 9점이상 / 9점 미만\n",
    "- 퍼센트 : 소수점 첫째 자리까지 표시\n",
    "- 범례 : 그래프 우측에 표시"
   ]
  },
  {
   "cell_type": "code",
   "execution_count": 41,
   "id": "1b3b5e31",
   "metadata": {},
   "outputs": [
    {
     "data": {
      "text/plain": [
       "0    False\n",
       "1     True\n",
       "2    False\n",
       "3     True\n",
       "4     True\n",
       "5    False\n",
       "6    False\n",
       "7    False\n",
       "8     True\n",
       "9     True\n",
       "Name: 평점, dtype: bool"
      ]
     },
     "execution_count": 41,
     "metadata": {},
     "output_type": "execute_result"
    }
   ],
   "source": [
    "filter = df['평점'] >= 9\n",
    "filter"
   ]
  },
  {
   "cell_type": "code",
   "execution_count": 47,
   "id": "8e2928cf",
   "metadata": {},
   "outputs": [
    {
     "data": {
      "text/plain": [
       "[5, 5]"
      ]
     },
     "execution_count": 47,
     "metadata": {},
     "output_type": "execute_result"
    }
   ],
   "source": [
    "values = [len(df[~filter]), len(df[filter])]\n",
    "values"
   ]
  },
  {
   "cell_type": "code",
   "execution_count": 52,
   "id": "22c00b74",
   "metadata": {},
   "outputs": [
    {
     "data": {
      "text/plain": [
       "<function matplotlib.pyplot.show(close=None, block=None)>"
      ]
     },
     "execution_count": 52,
     "metadata": {},
     "output_type": "execute_result"
    },
    {
     "data": {
      "image/png": "[encoded data removed]",
      "text/plain": [
       "<Figure size 432x288 with 1 Axes>"
      ]
     },
     "metadata": {},
     "output_type": "display_data"
    }
   ],
   "source": [
    "plt.pie(values, labels=['9점이상', '9점미만'], autopct=\"%.1f%%\")\n",
    "plt.legend(loc=(1, 0))\n",
    "plt.show"
   ]
  },
  {
   "cell_type": "code",
   "execution_count": null,
   "id": "193c1661",
   "metadata": {},
   "outputs": [],
   "source": []
  }
 ],
 "metadata": {
  "kernelspec": {
   "display_name": "Python 3 (ipykernel)",
   "language": "python",
   "name": "python3"
  },
  "language_info": {
   "codemirror_mode": {
    "name": "ipython",
    "version": 3
   },
   "file_extension": ".py",
   "mimetype": "text/x-python",
   "name": "python",
   "nbconvert_exporter": "python",
   "pygments_lexer": "ipython3",
   "version": "3.9.12"
  }
 },
 "nbformat": 4,
 "nbformat_minor": 5
}
