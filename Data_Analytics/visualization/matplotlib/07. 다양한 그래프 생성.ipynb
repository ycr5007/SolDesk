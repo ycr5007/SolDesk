{
 "cells": [
  {
   "cell_type": "code",
   "execution_count": null,
   "id": "c64790b7",
   "metadata": {},
   "outputs": [],
   "source": []
  },
  {
   "cell_type": "code",
   "execution_count": null,
   "id": "5d708721",
   "metadata": {},
   "outputs": [],
   "source": []
  },
  {
   "cell_type": "markdown",
   "id": "48ccac65",
   "metadata": {},
   "source": [
    "### 1) 막대차트(기본)"
   ]
  },
  {
   "cell_type": "code",
   "execution_count": null,
   "id": "04c5cc10",
   "metadata": {},
   "outputs": [],
   "source": []
  },
  {
   "cell_type": "markdown",
   "id": "72af0880",
   "metadata": {},
   "source": [
    "><b>색상</b>"
   ]
  },
  {
   "cell_type": "code",
   "execution_count": null,
   "id": "72ff1a16",
   "metadata": {},
   "outputs": [],
   "source": []
  },
  {
   "cell_type": "code",
   "execution_count": null,
   "id": "07cd2b12",
   "metadata": {},
   "outputs": [],
   "source": []
  },
  {
   "cell_type": "code",
   "execution_count": null,
   "id": "54017628",
   "metadata": {},
   "outputs": [],
   "source": []
  },
  {
   "cell_type": "markdown",
   "id": "ee51511e",
   "metadata": {},
   "source": [
    "><b>축 레이블 조정</b>"
   ]
  },
  {
   "cell_type": "code",
   "execution_count": null,
   "id": "f5112d69",
   "metadata": {},
   "outputs": [],
   "source": []
  },
  {
   "cell_type": "markdown",
   "id": "a9eab50f",
   "metadata": {},
   "source": [
    "><b>막대 너비 조정</b>"
   ]
  },
  {
   "cell_type": "code",
   "execution_count": null,
   "id": "d9975947",
   "metadata": {},
   "outputs": [],
   "source": []
  },
  {
   "cell_type": "markdown",
   "id": "a2d1da72",
   "metadata": {},
   "source": [
    "><b>축 레이블 rotation 설정</b>"
   ]
  },
  {
   "cell_type": "code",
   "execution_count": null,
   "id": "76a70b8a",
   "metadata": {},
   "outputs": [],
   "source": []
  },
  {
   "cell_type": "markdown",
   "id": "92c40883",
   "metadata": {},
   "source": [
    "><b>막대 </b>"
   ]
  },
  {
   "cell_type": "code",
   "execution_count": null,
   "id": "ec8cc9cf",
   "metadata": {},
   "outputs": [],
   "source": []
  },
  {
   "cell_type": "markdown",
   "id": "938fe322",
   "metadata": {},
   "source": [
    "### 2) 막대차트(심화)"
   ]
  },
  {
   "cell_type": "markdown",
   "id": "aa5dd4f3",
   "metadata": {},
   "source": [
    "**수평막대**"
   ]
  },
  {
   "cell_type": "code",
   "execution_count": null,
   "id": "9b62bc68",
   "metadata": {},
   "outputs": [],
   "source": []
  },
  {
   "cell_type": "code",
   "execution_count": null,
   "id": "de80614a",
   "metadata": {},
   "outputs": [],
   "source": []
  },
  {
   "cell_type": "markdown",
   "id": "b9db13a5",
   "metadata": {},
   "source": [
    "**막대 패턴**(https://matplotlib.org/stable/gallery/shapes_and_collections/hatch_style_reference.html)"
   ]
  },
  {
   "cell_type": "code",
   "execution_count": null,
   "id": "5415b4d4",
   "metadata": {},
   "outputs": [],
   "source": []
  },
  {
   "cell_type": "code",
   "execution_count": null,
   "id": "d6e0205c",
   "metadata": {},
   "outputs": [],
   "source": []
  },
  {
   "cell_type": "code",
   "execution_count": null,
   "id": "6b3c2762",
   "metadata": {},
   "outputs": [],
   "source": []
  }
 ],
 "metadata": {
  "kernelspec": {
   "display_name": "Python 3 (ipykernel)",
   "language": "python",
   "name": "python3"
  },
  "language_info": {
   "codemirror_mode": {
    "name": "ipython",
    "version": 3
   },
   "file_extension": ".py",
   "mimetype": "text/x-python",
   "name": "python",
   "nbconvert_exporter": "python",
   "pygments_lexer": "ipython3",
   "version": "3.9.12"
  }
 },
 "nbformat": 4,
 "nbformat_minor": 5
}
