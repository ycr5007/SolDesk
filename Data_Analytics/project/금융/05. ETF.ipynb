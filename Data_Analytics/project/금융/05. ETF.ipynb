{
 "cells": [
  {
   "cell_type": "markdown",
   "id": "2b585495",
   "metadata": {},
   "source": [
    "# ETF\n",
    "> ETF(상장지수펀드)는 기초지수의 성과를 추적하는 것이 목표인 인덱스펀드로, 거래소에 상장되어 있어서 개별주식과 마찬가지로 기존의 주식계좌를 통해 거래를 할 수 있습니다. 그 구성종목과 수량 등 자산구성내역(PDF)이 투명하게 공개되어 있고, 장중에는 실시간으로 순자산가치(NAV)가 제공되어 거래에 참고하실 수 있습니다. ETF는 1좌를 거래할 수 있는 최소한의 금액만으로 분산투자 효과를 누릴 수 있어 효율적인 투자수단이며, 펀드보다 운용보수가 낮고 주식에 적용되는 거래세도 붙지 않습니다."
   ]
  },
  {
   "cell_type": "code",
   "execution_count": 1,
   "id": "261a03e8",
   "metadata": {},
   "outputs": [],
   "source": [
    "import requests\n",
    "import pandas as pd\n",
    "import numpy as np"
   ]
  },
  {
   "cell_type": "markdown",
   "id": "c30ce521",
   "metadata": {},
   "source": [
    "## 데이터 수집"
   ]
  },
  {
   "cell_type": "code",
   "execution_count": 2,
   "id": "5e7d1b7d",
   "metadata": {},
   "outputs": [],
   "source": [
    "headers = {\n",
    "    \"user-agent\":\"Mozilla/5.0 (Windows NT 10.0; Win64; x64) AppleWebKit/537.36 (KHTML, like Gecko) Chrome/103.0.0.0 Safari/537.36\"\n",
    "}"
   ]
  },
  {
   "cell_type": "code",
   "execution_count": 3,
   "id": "e242fd59",
   "metadata": {},
   "outputs": [],
   "source": [
    "url = \"https://finance.naver.com/api/sise/etfItemList.nhn?etfType=0&targetColumn=market_sum&sortOrder=desc\""
   ]
  },
  {
   "cell_type": "code",
   "execution_count": 4,
   "id": "f6839afc",
   "metadata": {},
   "outputs": [],
   "source": [
    "res = requests.get(url, headers=headers)"
   ]
  },
  {
   "cell_type": "code",
   "execution_count": 7,
   "id": "cda50c62",
   "metadata": {},
   "outputs": [
    {
     "data": {
      "text/plain": [
       "593"
      ]
     },
     "execution_count": 7,
     "metadata": {},
     "output_type": "execute_result"
    }
   ],
   "source": [
    "etfItemList = res.json()['result']['etfItemList']\n",
    "len(etfItemList)"
   ]
  },
  {
   "cell_type": "markdown",
   "id": "7a4d60b7",
   "metadata": {},
   "source": [
    "## 데이터프레임 변환"
   ]
  },
  {
   "cell_type": "code",
   "execution_count": 8,
   "id": "9df352db",
   "metadata": {},
   "outputs": [
    {
     "data": {
      "text/html": [
       "<div>\n",
       "<style scoped>\n",
       "    .dataframe tbody tr th:only-of-type {\n",
       "        vertical-align: middle;\n",
       "    }\n",
       "\n",
       "    .dataframe tbody tr th {\n",
       "        vertical-align: top;\n",
       "    }\n",
       "\n",
       "    .dataframe thead th {\n",
       "        text-align: right;\n",
       "    }\n",
       "</style>\n",
       "<table border=\"1\" class=\"dataframe\">\n",
       "  <thead>\n",
       "    <tr style=\"text-align: right;\">\n",
       "      <th></th>\n",
       "      <th>itemcode</th>\n",
       "      <th>etfTabCode</th>\n",
       "      <th>itemname</th>\n",
       "      <th>nowVal</th>\n",
       "      <th>risefall</th>\n",
       "      <th>changeVal</th>\n",
       "      <th>changeRate</th>\n",
       "      <th>nav</th>\n",
       "      <th>threeMonthEarnRate</th>\n",
       "      <th>quant</th>\n",
       "      <th>amonut</th>\n",
       "      <th>marketSum</th>\n",
       "    </tr>\n",
       "  </thead>\n",
       "  <tbody>\n",
       "    <tr>\n",
       "      <th>0</th>\n",
       "      <td>069500</td>\n",
       "      <td>1</td>\n",
       "      <td>KODEX 200</td>\n",
       "      <td>31425</td>\n",
       "      <td>5</td>\n",
       "      <td>-155</td>\n",
       "      <td>-0.49</td>\n",
       "      <td>31510.0</td>\n",
       "      <td>-10.6016</td>\n",
       "      <td>2100418</td>\n",
       "      <td>65964</td>\n",
       "      <td>52118</td>\n",
       "    </tr>\n",
       "    <tr>\n",
       "      <th>1</th>\n",
       "      <td>371460</td>\n",
       "      <td>4</td>\n",
       "      <td>TIGER 차이나전기차SOLACTIVE</td>\n",
       "      <td>17125</td>\n",
       "      <td>5</td>\n",
       "      <td>-365</td>\n",
       "      <td>-2.09</td>\n",
       "      <td>17176.0</td>\n",
       "      <td>32.8018</td>\n",
       "      <td>6904743</td>\n",
       "      <td>119235</td>\n",
       "      <td>37908</td>\n",
       "    </tr>\n",
       "    <tr>\n",
       "      <th>2</th>\n",
       "      <td>122630</td>\n",
       "      <td>3</td>\n",
       "      <td>KODEX 레버리지</td>\n",
       "      <td>14780</td>\n",
       "      <td>5</td>\n",
       "      <td>-150</td>\n",
       "      <td>-1.00</td>\n",
       "      <td>14837.0</td>\n",
       "      <td>-21.4418</td>\n",
       "      <td>20353741</td>\n",
       "      <td>300394</td>\n",
       "      <td>24128</td>\n",
       "    </tr>\n",
       "    <tr>\n",
       "      <th>3</th>\n",
       "      <td>133690</td>\n",
       "      <td>4</td>\n",
       "      <td>TIGER 미국나스닥100</td>\n",
       "      <td>69990</td>\n",
       "      <td>5</td>\n",
       "      <td>-1230</td>\n",
       "      <td>-1.73</td>\n",
       "      <td>69796.0</td>\n",
       "      <td>-6.4225</td>\n",
       "      <td>99724</td>\n",
       "      <td>6986</td>\n",
       "      <td>20724</td>\n",
       "    </tr>\n",
       "    <tr>\n",
       "      <th>4</th>\n",
       "      <td>102110</td>\n",
       "      <td>1</td>\n",
       "      <td>TIGER 200</td>\n",
       "      <td>31495</td>\n",
       "      <td>5</td>\n",
       "      <td>-150</td>\n",
       "      <td>-0.47</td>\n",
       "      <td>31576.0</td>\n",
       "      <td>-10.5467</td>\n",
       "      <td>820110</td>\n",
       "      <td>25811</td>\n",
       "      <td>20362</td>\n",
       "    </tr>\n",
       "  </tbody>\n",
       "</table>\n",
       "</div>"
      ],
      "text/plain": [
       "  itemcode  etfTabCode               itemname  nowVal risefall  changeVal  \\\n",
       "0   069500           1              KODEX 200   31425        5       -155   \n",
       "1   371460           4  TIGER 차이나전기차SOLACTIVE   17125        5       -365   \n",
       "2   122630           3             KODEX 레버리지   14780        5       -150   \n",
       "3   133690           4         TIGER 미국나스닥100   69990        5      -1230   \n",
       "4   102110           1              TIGER 200   31495        5       -150   \n",
       "\n",
       "   changeRate      nav  threeMonthEarnRate     quant  amonut  marketSum  \n",
       "0       -0.49  31510.0            -10.6016   2100418   65964      52118  \n",
       "1       -2.09  17176.0             32.8018   6904743  119235      37908  \n",
       "2       -1.00  14837.0            -21.4418  20353741  300394      24128  \n",
       "3       -1.73  69796.0             -6.4225     99724    6986      20724  \n",
       "4       -0.47  31576.0            -10.5467    820110   25811      20362  "
      ]
     },
     "execution_count": 8,
     "metadata": {},
     "output_type": "execute_result"
    }
   ],
   "source": [
    "df = pd.DataFrame(etfItemList)\n",
    "df.head()"
   ]
  },
  {
   "cell_type": "markdown",
   "id": "ffce306b",
   "metadata": {},
   "source": [
    "## 파일 저장"
   ]
  },
  {
   "cell_type": "code",
   "execution_count": 10,
   "id": "b7a493a7",
   "metadata": {},
   "outputs": [],
   "source": [
    "from datetime import datetime\n",
    "\n",
    "date = datetime.today().strftime(\"%Y-%m-%d\")\n",
    "\n",
    "file_name = f\"ETF_{date}_raw.csv\"\n",
    "df.to_csv(file_name, index=False, encoding='ms949')"
   ]
  },
  {
   "cell_type": "markdown",
   "id": "837132dc",
   "metadata": {},
   "source": [
    "## 데이터 확인"
   ]
  },
  {
   "cell_type": "code",
   "execution_count": 15,
   "id": "c66c01d9",
   "metadata": {},
   "outputs": [
    {
     "data": {
      "text/html": [
       "<div>\n",
       "<style scoped>\n",
       "    .dataframe tbody tr th:only-of-type {\n",
       "        vertical-align: middle;\n",
       "    }\n",
       "\n",
       "    .dataframe tbody tr th {\n",
       "        vertical-align: top;\n",
       "    }\n",
       "\n",
       "    .dataframe thead th {\n",
       "        text-align: right;\n",
       "    }\n",
       "</style>\n",
       "<table border=\"1\" class=\"dataframe\">\n",
       "  <thead>\n",
       "    <tr style=\"text-align: right;\">\n",
       "      <th></th>\n",
       "      <th>itemcode</th>\n",
       "      <th>etfTabCode</th>\n",
       "      <th>itemname</th>\n",
       "      <th>nowVal</th>\n",
       "      <th>risefall</th>\n",
       "      <th>changeVal</th>\n",
       "      <th>changeRate</th>\n",
       "      <th>nav</th>\n",
       "      <th>threeMonthEarnRate</th>\n",
       "      <th>quant</th>\n",
       "      <th>amonut</th>\n",
       "      <th>marketSum</th>\n",
       "    </tr>\n",
       "  </thead>\n",
       "  <tbody>\n",
       "    <tr>\n",
       "      <th>0</th>\n",
       "      <td>069500</td>\n",
       "      <td>1</td>\n",
       "      <td>KODEX 200</td>\n",
       "      <td>31425</td>\n",
       "      <td>5</td>\n",
       "      <td>-155</td>\n",
       "      <td>-0.49</td>\n",
       "      <td>31510.0</td>\n",
       "      <td>-10.6016</td>\n",
       "      <td>2100418</td>\n",
       "      <td>65964</td>\n",
       "      <td>52118</td>\n",
       "    </tr>\n",
       "    <tr>\n",
       "      <th>1</th>\n",
       "      <td>371460</td>\n",
       "      <td>4</td>\n",
       "      <td>TIGER 차이나전기차SOLACTIVE</td>\n",
       "      <td>17125</td>\n",
       "      <td>5</td>\n",
       "      <td>-365</td>\n",
       "      <td>-2.09</td>\n",
       "      <td>17176.0</td>\n",
       "      <td>32.8018</td>\n",
       "      <td>6904743</td>\n",
       "      <td>119235</td>\n",
       "      <td>37908</td>\n",
       "    </tr>\n",
       "    <tr>\n",
       "      <th>2</th>\n",
       "      <td>122630</td>\n",
       "      <td>3</td>\n",
       "      <td>KODEX 레버리지</td>\n",
       "      <td>14780</td>\n",
       "      <td>5</td>\n",
       "      <td>-150</td>\n",
       "      <td>-1.00</td>\n",
       "      <td>14837.0</td>\n",
       "      <td>-21.4418</td>\n",
       "      <td>20353741</td>\n",
       "      <td>300394</td>\n",
       "      <td>24128</td>\n",
       "    </tr>\n",
       "    <tr>\n",
       "      <th>3</th>\n",
       "      <td>133690</td>\n",
       "      <td>4</td>\n",
       "      <td>TIGER 미국나스닥100</td>\n",
       "      <td>69990</td>\n",
       "      <td>5</td>\n",
       "      <td>-1230</td>\n",
       "      <td>-1.73</td>\n",
       "      <td>69796.0</td>\n",
       "      <td>-6.4225</td>\n",
       "      <td>99724</td>\n",
       "      <td>6986</td>\n",
       "      <td>20724</td>\n",
       "    </tr>\n",
       "    <tr>\n",
       "      <th>4</th>\n",
       "      <td>102110</td>\n",
       "      <td>1</td>\n",
       "      <td>TIGER 200</td>\n",
       "      <td>31495</td>\n",
       "      <td>5</td>\n",
       "      <td>-150</td>\n",
       "      <td>-0.47</td>\n",
       "      <td>31576.0</td>\n",
       "      <td>-10.5467</td>\n",
       "      <td>820110</td>\n",
       "      <td>25811</td>\n",
       "      <td>20362</td>\n",
       "    </tr>\n",
       "  </tbody>\n",
       "</table>\n",
       "</div>"
      ],
      "text/plain": [
       "  itemcode  etfTabCode               itemname  nowVal  risefall  changeVal  \\\n",
       "0   069500           1              KODEX 200   31425         5       -155   \n",
       "1   371460           4  TIGER 차이나전기차SOLACTIVE   17125         5       -365   \n",
       "2   122630           3             KODEX 레버리지   14780         5       -150   \n",
       "3   133690           4         TIGER 미국나스닥100   69990         5      -1230   \n",
       "4   102110           1              TIGER 200   31495         5       -150   \n",
       "\n",
       "   changeRate      nav  threeMonthEarnRate     quant  amonut  marketSum  \n",
       "0       -0.49  31510.0            -10.6016   2100418   65964      52118  \n",
       "1       -2.09  17176.0             32.8018   6904743  119235      37908  \n",
       "2       -1.00  14837.0            -21.4418  20353741  300394      24128  \n",
       "3       -1.73  69796.0             -6.4225     99724    6986      20724  \n",
       "4       -0.47  31576.0            -10.5467    820110   25811      20362  "
      ]
     },
     "execution_count": 15,
     "metadata": {},
     "output_type": "execute_result"
    }
   ],
   "source": [
    "df = pd.read_csv('./ETF_2022-07-19_raw.csv', encoding='ms949', dtype={'itemcode':object})\n",
    "df.head()"
   ]
  },
  {
   "cell_type": "code",
   "execution_count": 16,
   "id": "1775ffbd",
   "metadata": {},
   "outputs": [
    {
     "name": "stdout",
     "output_type": "stream",
     "text": [
      "<class 'pandas.core.frame.DataFrame'>\n",
      "RangeIndex: 593 entries, 0 to 592\n",
      "Data columns (total 12 columns):\n",
      " #   Column              Non-Null Count  Dtype  \n",
      "---  ------              --------------  -----  \n",
      " 0   itemcode            593 non-null    object \n",
      " 1   etfTabCode          593 non-null    int64  \n",
      " 2   itemname            593 non-null    object \n",
      " 3   nowVal              593 non-null    int64  \n",
      " 4   risefall            593 non-null    int64  \n",
      " 5   changeVal           593 non-null    int64  \n",
      " 6   changeRate          593 non-null    float64\n",
      " 7   nav                 593 non-null    float64\n",
      " 8   threeMonthEarnRate  551 non-null    float64\n",
      " 9   quant               593 non-null    int64  \n",
      " 10  amonut              593 non-null    int64  \n",
      " 11  marketSum           593 non-null    int64  \n",
      "dtypes: float64(3), int64(7), object(2)\n",
      "memory usage: 55.7+ KB\n"
     ]
    }
   ],
   "source": [
    "df.info()"
   ]
  },
  {
   "cell_type": "markdown",
   "id": "3f334b08",
   "metadata": {},
   "source": [
    "#### quant 를 기준으로 내림차순 정렬 후 상위 10개 추출"
   ]
  },
  {
   "cell_type": "code",
   "execution_count": 19,
   "id": "d05a991d",
   "metadata": {},
   "outputs": [
    {
     "data": {
      "text/html": [
       "<div>\n",
       "<style scoped>\n",
       "    .dataframe tbody tr th:only-of-type {\n",
       "        vertical-align: middle;\n",
       "    }\n",
       "\n",
       "    .dataframe tbody tr th {\n",
       "        vertical-align: top;\n",
       "    }\n",
       "\n",
       "    .dataframe thead th {\n",
       "        text-align: right;\n",
       "    }\n",
       "</style>\n",
       "<table border=\"1\" class=\"dataframe\">\n",
       "  <thead>\n",
       "    <tr style=\"text-align: right;\">\n",
       "      <th></th>\n",
       "      <th>itemcode</th>\n",
       "      <th>etfTabCode</th>\n",
       "      <th>itemname</th>\n",
       "      <th>nowVal</th>\n",
       "      <th>risefall</th>\n",
       "      <th>changeVal</th>\n",
       "      <th>changeRate</th>\n",
       "      <th>nav</th>\n",
       "      <th>threeMonthEarnRate</th>\n",
       "      <th>quant</th>\n",
       "      <th>amonut</th>\n",
       "      <th>marketSum</th>\n",
       "    </tr>\n",
       "  </thead>\n",
       "  <tbody>\n",
       "    <tr>\n",
       "      <th>5</th>\n",
       "      <td>252670</td>\n",
       "      <td>3</td>\n",
       "      <td>KODEX 200선물인버스2X</td>\n",
       "      <td>3190</td>\n",
       "      <td>2</td>\n",
       "      <td>30</td>\n",
       "      <td>0.95</td>\n",
       "      <td>3192.0</td>\n",
       "      <td>21.5384</td>\n",
       "      <td>138661549</td>\n",
       "      <td>443280</td>\n",
       "      <td>20272</td>\n",
       "    </tr>\n",
       "    <tr>\n",
       "      <th>39</th>\n",
       "      <td>251340</td>\n",
       "      <td>3</td>\n",
       "      <td>KODEX 코스닥150선물인버스</td>\n",
       "      <td>5025</td>\n",
       "      <td>5</td>\n",
       "      <td>-15</td>\n",
       "      <td>-0.30</td>\n",
       "      <td>5027.0</td>\n",
       "      <td>9.8039</td>\n",
       "      <td>29203379</td>\n",
       "      <td>147557</td>\n",
       "      <td>4166</td>\n",
       "    </tr>\n",
       "    <tr>\n",
       "      <th>22</th>\n",
       "      <td>114800</td>\n",
       "      <td>3</td>\n",
       "      <td>KODEX 인버스</td>\n",
       "      <td>4925</td>\n",
       "      <td>2</td>\n",
       "      <td>25</td>\n",
       "      <td>0.51</td>\n",
       "      <td>4925.0</td>\n",
       "      <td>10.9852</td>\n",
       "      <td>28677568</td>\n",
       "      <td>141280</td>\n",
       "      <td>9264</td>\n",
       "    </tr>\n",
       "    <tr>\n",
       "      <th>2</th>\n",
       "      <td>122630</td>\n",
       "      <td>3</td>\n",
       "      <td>KODEX 레버리지</td>\n",
       "      <td>14780</td>\n",
       "      <td>5</td>\n",
       "      <td>-150</td>\n",
       "      <td>-1.00</td>\n",
       "      <td>14837.0</td>\n",
       "      <td>-21.4418</td>\n",
       "      <td>20353741</td>\n",
       "      <td>300394</td>\n",
       "      <td>24128</td>\n",
       "    </tr>\n",
       "    <tr>\n",
       "      <th>21</th>\n",
       "      <td>233740</td>\n",
       "      <td>3</td>\n",
       "      <td>KODEX 코스닥150레버리지</td>\n",
       "      <td>8545</td>\n",
       "      <td>2</td>\n",
       "      <td>70</td>\n",
       "      <td>0.83</td>\n",
       "      <td>8646.0</td>\n",
       "      <td>-25.3304</td>\n",
       "      <td>14756284</td>\n",
       "      <td>124973</td>\n",
       "      <td>9374</td>\n",
       "    </tr>\n",
       "    <tr>\n",
       "      <th>1</th>\n",
       "      <td>371460</td>\n",
       "      <td>4</td>\n",
       "      <td>TIGER 차이나전기차SOLACTIVE</td>\n",
       "      <td>17125</td>\n",
       "      <td>5</td>\n",
       "      <td>-365</td>\n",
       "      <td>-2.09</td>\n",
       "      <td>17176.0</td>\n",
       "      <td>32.8018</td>\n",
       "      <td>6904743</td>\n",
       "      <td>119235</td>\n",
       "      <td>37908</td>\n",
       "    </tr>\n",
       "    <tr>\n",
       "      <th>74</th>\n",
       "      <td>271050</td>\n",
       "      <td>5</td>\n",
       "      <td>KODEX WTI원유선물인버스(H)</td>\n",
       "      <td>4305</td>\n",
       "      <td>5</td>\n",
       "      <td>-150</td>\n",
       "      <td>-3.37</td>\n",
       "      <td>4300.0</td>\n",
       "      <td>-0.1122</td>\n",
       "      <td>5453353</td>\n",
       "      <td>23497</td>\n",
       "      <td>1761</td>\n",
       "    </tr>\n",
       "    <tr>\n",
       "      <th>65</th>\n",
       "      <td>217770</td>\n",
       "      <td>5</td>\n",
       "      <td>TIGER 원유선물인버스(H)</td>\n",
       "      <td>3000</td>\n",
       "      <td>5</td>\n",
       "      <td>-105</td>\n",
       "      <td>-3.38</td>\n",
       "      <td>2991.0</td>\n",
       "      <td>-0.4808</td>\n",
       "      <td>5307544</td>\n",
       "      <td>15918</td>\n",
       "      <td>2219</td>\n",
       "    </tr>\n",
       "    <tr>\n",
       "      <th>27</th>\n",
       "      <td>229200</td>\n",
       "      <td>1</td>\n",
       "      <td>KODEX 코스닥150</td>\n",
       "      <td>11060</td>\n",
       "      <td>2</td>\n",
       "      <td>50</td>\n",
       "      <td>0.45</td>\n",
       "      <td>11196.0</td>\n",
       "      <td>-12.0116</td>\n",
       "      <td>3862300</td>\n",
       "      <td>42539</td>\n",
       "      <td>6420</td>\n",
       "    </tr>\n",
       "    <tr>\n",
       "      <th>94</th>\n",
       "      <td>252710</td>\n",
       "      <td>3</td>\n",
       "      <td>TIGER 200선물인버스2X</td>\n",
       "      <td>3340</td>\n",
       "      <td>2</td>\n",
       "      <td>30</td>\n",
       "      <td>0.91</td>\n",
       "      <td>3341.0</td>\n",
       "      <td>22.1402</td>\n",
       "      <td>3188865</td>\n",
       "      <td>10673</td>\n",
       "      <td>1313</td>\n",
       "    </tr>\n",
       "  </tbody>\n",
       "</table>\n",
       "</div>"
      ],
      "text/plain": [
       "   itemcode  etfTabCode               itemname  nowVal  risefall  changeVal  \\\n",
       "5    252670           3       KODEX 200선물인버스2X    3190         2         30   \n",
       "39   251340           3      KODEX 코스닥150선물인버스    5025         5        -15   \n",
       "22   114800           3              KODEX 인버스    4925         2         25   \n",
       "2    122630           3             KODEX 레버리지   14780         5       -150   \n",
       "21   233740           3       KODEX 코스닥150레버리지    8545         2         70   \n",
       "1    371460           4  TIGER 차이나전기차SOLACTIVE   17125         5       -365   \n",
       "74   271050           5    KODEX WTI원유선물인버스(H)    4305         5       -150   \n",
       "65   217770           5       TIGER 원유선물인버스(H)    3000         5       -105   \n",
       "27   229200           1           KODEX 코스닥150   11060         2         50   \n",
       "94   252710           3       TIGER 200선물인버스2X    3340         2         30   \n",
       "\n",
       "    changeRate      nav  threeMonthEarnRate      quant  amonut  marketSum  \n",
       "5         0.95   3192.0             21.5384  138661549  443280      20272  \n",
       "39       -0.30   5027.0              9.8039   29203379  147557       4166  \n",
       "22        0.51   4925.0             10.9852   28677568  141280       9264  \n",
       "2        -1.00  14837.0            -21.4418   20353741  300394      24128  \n",
       "21        0.83   8646.0            -25.3304   14756284  124973       9374  \n",
       "1        -2.09  17176.0             32.8018    6904743  119235      37908  \n",
       "74       -3.37   4300.0             -0.1122    5453353   23497       1761  \n",
       "65       -3.38   2991.0             -0.4808    5307544   15918       2219  \n",
       "27        0.45  11196.0            -12.0116    3862300   42539       6420  \n",
       "94        0.91   3341.0             22.1402    3188865   10673       1313  "
      ]
     },
     "execution_count": 19,
     "metadata": {},
     "output_type": "execute_result"
    }
   ],
   "source": [
    "df.sort_values('quant', ascending=False).head(10)"
   ]
  },
  {
   "cell_type": "markdown",
   "id": "757b5e99",
   "metadata": {},
   "source": [
    "#### etfTabCode 를 기준으로 빈도수 확인하기"
   ]
  },
  {
   "cell_type": "code",
   "execution_count": 21,
   "id": "73ab4ebe",
   "metadata": {},
   "outputs": [
    {
     "data": {
      "text/plain": [
       "1     66\n",
       "2    210\n",
       "3     37\n",
       "4    149\n",
       "5     18\n",
       "6     62\n",
       "7     51\n",
       "Name: etfTabCode, dtype: int64"
      ]
     },
     "execution_count": 21,
     "metadata": {},
     "output_type": "execute_result"
    }
   ],
   "source": [
    "df['etfTabCode'].value_counts().sort_index()"
   ]
  },
  {
   "cell_type": "markdown",
   "id": "6b4716ec",
   "metadata": {},
   "source": [
    "## 데이터 전처리"
   ]
  },
  {
   "cell_type": "markdown",
   "id": "c40a5dc5",
   "metadata": {},
   "source": [
    "#### etfTabName 생성"
   ]
  },
  {
   "cell_type": "code",
   "execution_count": 22,
   "id": "e0fe053d",
   "metadata": {},
   "outputs": [],
   "source": [
    "etfcode=\"\"\"전체\n",
    "국내 시장지수\n",
    "국내 업종/테마\n",
    "국내 파생\n",
    "해외 주식\n",
    "원자재\n",
    "채권\n",
    "기타\"\"\""
   ]
  },
  {
   "cell_type": "code",
   "execution_count": 23,
   "id": "8a451497",
   "metadata": {},
   "outputs": [
    {
     "data": {
      "text/plain": [
       "'전체\\n국내 시장지수\\n국내 업종/테마\\n국내 파생\\n해외 주식\\n원자재\\n채권\\n기타'"
      ]
     },
     "execution_count": 23,
     "metadata": {},
     "output_type": "execute_result"
    }
   ],
   "source": [
    "etfcode"
   ]
  },
  {
   "cell_type": "code",
   "execution_count": 31,
   "id": "dfe991ad",
   "metadata": {},
   "outputs": [],
   "source": [
    "# etfcode 를 \\n 를 기준으로 나누어 etf_tab_name 리스트 생성\n",
    "etf_tab_name = etfcode.split('\\n')"
   ]
  },
  {
   "cell_type": "code",
   "execution_count": 32,
   "id": "575bc19c",
   "metadata": {},
   "outputs": [],
   "source": [
    "def find_etf_tab_name(no):\n",
    "    return etf_tab_name[no]"
   ]
  },
  {
   "cell_type": "code",
   "execution_count": 33,
   "id": "15fa745b",
   "metadata": {},
   "outputs": [],
   "source": [
    "# df['etfTabName'] = df['etfTabCode'].map(lambda no : etf_tab_name[no])\n",
    "df['etfTabName'] = df['etfTabCode'].map(find_etf_tab_name)"
   ]
  },
  {
   "cell_type": "code",
   "execution_count": 35,
   "id": "3143934d",
   "metadata": {},
   "outputs": [
    {
     "data": {
      "text/html": [
       "<div>\n",
       "<style scoped>\n",
       "    .dataframe tbody tr th:only-of-type {\n",
       "        vertical-align: middle;\n",
       "    }\n",
       "\n",
       "    .dataframe tbody tr th {\n",
       "        vertical-align: top;\n",
       "    }\n",
       "\n",
       "    .dataframe thead th {\n",
       "        text-align: right;\n",
       "    }\n",
       "</style>\n",
       "<table border=\"1\" class=\"dataframe\">\n",
       "  <thead>\n",
       "    <tr style=\"text-align: right;\">\n",
       "      <th></th>\n",
       "      <th>itemcode</th>\n",
       "      <th>etfTabCode</th>\n",
       "      <th>itemname</th>\n",
       "      <th>nowVal</th>\n",
       "      <th>risefall</th>\n",
       "      <th>changeVal</th>\n",
       "      <th>changeRate</th>\n",
       "      <th>nav</th>\n",
       "      <th>threeMonthEarnRate</th>\n",
       "      <th>quant</th>\n",
       "      <th>amonut</th>\n",
       "      <th>marketSum</th>\n",
       "      <th>etfTabName</th>\n",
       "    </tr>\n",
       "  </thead>\n",
       "  <tbody>\n",
       "    <tr>\n",
       "      <th>0</th>\n",
       "      <td>069500</td>\n",
       "      <td>1</td>\n",
       "      <td>KODEX 200</td>\n",
       "      <td>31425</td>\n",
       "      <td>5</td>\n",
       "      <td>-155</td>\n",
       "      <td>-0.49</td>\n",
       "      <td>31510.0</td>\n",
       "      <td>-10.6016</td>\n",
       "      <td>2100418</td>\n",
       "      <td>65964</td>\n",
       "      <td>52118</td>\n",
       "      <td>국내 시장지수</td>\n",
       "    </tr>\n",
       "    <tr>\n",
       "      <th>1</th>\n",
       "      <td>371460</td>\n",
       "      <td>4</td>\n",
       "      <td>TIGER 차이나전기차SOLACTIVE</td>\n",
       "      <td>17125</td>\n",
       "      <td>5</td>\n",
       "      <td>-365</td>\n",
       "      <td>-2.09</td>\n",
       "      <td>17176.0</td>\n",
       "      <td>32.8018</td>\n",
       "      <td>6904743</td>\n",
       "      <td>119235</td>\n",
       "      <td>37908</td>\n",
       "      <td>해외 주식</td>\n",
       "    </tr>\n",
       "    <tr>\n",
       "      <th>2</th>\n",
       "      <td>122630</td>\n",
       "      <td>3</td>\n",
       "      <td>KODEX 레버리지</td>\n",
       "      <td>14780</td>\n",
       "      <td>5</td>\n",
       "      <td>-150</td>\n",
       "      <td>-1.00</td>\n",
       "      <td>14837.0</td>\n",
       "      <td>-21.4418</td>\n",
       "      <td>20353741</td>\n",
       "      <td>300394</td>\n",
       "      <td>24128</td>\n",
       "      <td>국내 파생</td>\n",
       "    </tr>\n",
       "    <tr>\n",
       "      <th>3</th>\n",
       "      <td>133690</td>\n",
       "      <td>4</td>\n",
       "      <td>TIGER 미국나스닥100</td>\n",
       "      <td>69990</td>\n",
       "      <td>5</td>\n",
       "      <td>-1230</td>\n",
       "      <td>-1.73</td>\n",
       "      <td>69796.0</td>\n",
       "      <td>-6.4225</td>\n",
       "      <td>99724</td>\n",
       "      <td>6986</td>\n",
       "      <td>20724</td>\n",
       "      <td>해외 주식</td>\n",
       "    </tr>\n",
       "    <tr>\n",
       "      <th>4</th>\n",
       "      <td>102110</td>\n",
       "      <td>1</td>\n",
       "      <td>TIGER 200</td>\n",
       "      <td>31495</td>\n",
       "      <td>5</td>\n",
       "      <td>-150</td>\n",
       "      <td>-0.47</td>\n",
       "      <td>31576.0</td>\n",
       "      <td>-10.5467</td>\n",
       "      <td>820110</td>\n",
       "      <td>25811</td>\n",
       "      <td>20362</td>\n",
       "      <td>국내 시장지수</td>\n",
       "    </tr>\n",
       "  </tbody>\n",
       "</table>\n",
       "</div>"
      ],
      "text/plain": [
       "  itemcode  etfTabCode               itemname  nowVal  risefall  changeVal  \\\n",
       "0   069500           1              KODEX 200   31425         5       -155   \n",
       "1   371460           4  TIGER 차이나전기차SOLACTIVE   17125         5       -365   \n",
       "2   122630           3             KODEX 레버리지   14780         5       -150   \n",
       "3   133690           4         TIGER 미국나스닥100   69990         5      -1230   \n",
       "4   102110           1              TIGER 200   31495         5       -150   \n",
       "\n",
       "   changeRate      nav  threeMonthEarnRate     quant  amonut  marketSum  \\\n",
       "0       -0.49  31510.0            -10.6016   2100418   65964      52118   \n",
       "1       -2.09  17176.0             32.8018   6904743  119235      37908   \n",
       "2       -1.00  14837.0            -21.4418  20353741  300394      24128   \n",
       "3       -1.73  69796.0             -6.4225     99724    6986      20724   \n",
       "4       -0.47  31576.0            -10.5467    820110   25811      20362   \n",
       "\n",
       "  etfTabName  \n",
       "0    국내 시장지수  \n",
       "1      해외 주식  \n",
       "2      국내 파생  \n",
       "3      해외 주식  \n",
       "4    국내 시장지수  "
      ]
     },
     "execution_count": 35,
     "metadata": {},
     "output_type": "execute_result"
    }
   ],
   "source": [
    "df.head()"
   ]
  },
  {
   "cell_type": "markdown",
   "id": "320348e2",
   "metadata": {},
   "source": [
    "#### 컬럼명 변경"
   ]
  },
  {
   "cell_type": "code",
   "execution_count": 38,
   "id": "6bbaa6fb",
   "metadata": {},
   "outputs": [],
   "source": [
    "cols = \"\"\"종목코드\n",
    "탭코드\n",
    "종목명\n",
    "현재가\n",
    "등락구분\n",
    "전일비\n",
    "등락률\n",
    "순자산가치(NAV)\n",
    "3개월수익률\n",
    "거래량\n",
    "거래대금(백만)\n",
    "시가총액(억)\n",
    "유형\"\"\""
   ]
  },
  {
   "cell_type": "code",
   "execution_count": 40,
   "id": "090b3bed",
   "metadata": {},
   "outputs": [],
   "source": [
    "df.columns = cols.split('\\n')"
   ]
  },
  {
   "cell_type": "code",
   "execution_count": 41,
   "id": "fa02724d",
   "metadata": {},
   "outputs": [
    {
     "data": {
      "text/html": [
       "<div>\n",
       "<style scoped>\n",
       "    .dataframe tbody tr th:only-of-type {\n",
       "        vertical-align: middle;\n",
       "    }\n",
       "\n",
       "    .dataframe tbody tr th {\n",
       "        vertical-align: top;\n",
       "    }\n",
       "\n",
       "    .dataframe thead th {\n",
       "        text-align: right;\n",
       "    }\n",
       "</style>\n",
       "<table border=\"1\" class=\"dataframe\">\n",
       "  <thead>\n",
       "    <tr style=\"text-align: right;\">\n",
       "      <th></th>\n",
       "      <th>종목코드</th>\n",
       "      <th>탭코드</th>\n",
       "      <th>종목명</th>\n",
       "      <th>현재가</th>\n",
       "      <th>등락구분</th>\n",
       "      <th>전일비</th>\n",
       "      <th>등락률</th>\n",
       "      <th>순자산가치(NAV)</th>\n",
       "      <th>3개월수익률</th>\n",
       "      <th>거래량</th>\n",
       "      <th>거래대금(백만)</th>\n",
       "      <th>시가총액(억)</th>\n",
       "      <th>유형</th>\n",
       "    </tr>\n",
       "  </thead>\n",
       "  <tbody>\n",
       "    <tr>\n",
       "      <th>0</th>\n",
       "      <td>069500</td>\n",
       "      <td>1</td>\n",
       "      <td>KODEX 200</td>\n",
       "      <td>31425</td>\n",
       "      <td>5</td>\n",
       "      <td>-155</td>\n",
       "      <td>-0.49</td>\n",
       "      <td>31510.0</td>\n",
       "      <td>-10.6016</td>\n",
       "      <td>2100418</td>\n",
       "      <td>65964</td>\n",
       "      <td>52118</td>\n",
       "      <td>국내 시장지수</td>\n",
       "    </tr>\n",
       "    <tr>\n",
       "      <th>1</th>\n",
       "      <td>371460</td>\n",
       "      <td>4</td>\n",
       "      <td>TIGER 차이나전기차SOLACTIVE</td>\n",
       "      <td>17125</td>\n",
       "      <td>5</td>\n",
       "      <td>-365</td>\n",
       "      <td>-2.09</td>\n",
       "      <td>17176.0</td>\n",
       "      <td>32.8018</td>\n",
       "      <td>6904743</td>\n",
       "      <td>119235</td>\n",
       "      <td>37908</td>\n",
       "      <td>해외 주식</td>\n",
       "    </tr>\n",
       "    <tr>\n",
       "      <th>2</th>\n",
       "      <td>122630</td>\n",
       "      <td>3</td>\n",
       "      <td>KODEX 레버리지</td>\n",
       "      <td>14780</td>\n",
       "      <td>5</td>\n",
       "      <td>-150</td>\n",
       "      <td>-1.00</td>\n",
       "      <td>14837.0</td>\n",
       "      <td>-21.4418</td>\n",
       "      <td>20353741</td>\n",
       "      <td>300394</td>\n",
       "      <td>24128</td>\n",
       "      <td>국내 파생</td>\n",
       "    </tr>\n",
       "  </tbody>\n",
       "</table>\n",
       "</div>"
      ],
      "text/plain": [
       "     종목코드  탭코드                    종목명    현재가  등락구분  전일비   등락률  순자산가치(NAV)  \\\n",
       "0  069500    1              KODEX 200  31425     5 -155 -0.49     31510.0   \n",
       "1  371460    4  TIGER 차이나전기차SOLACTIVE  17125     5 -365 -2.09     17176.0   \n",
       "2  122630    3             KODEX 레버리지  14780     5 -150 -1.00     14837.0   \n",
       "\n",
       "    3개월수익률       거래량  거래대금(백만)  시가총액(억)       유형  \n",
       "0 -10.6016   2100418     65964    52118  국내 시장지수  \n",
       "1  32.8018   6904743    119235    37908    해외 주식  \n",
       "2 -21.4418  20353741    300394    24128    국내 파생  "
      ]
     },
     "execution_count": 41,
     "metadata": {},
     "output_type": "execute_result"
    }
   ],
   "source": [
    "df.head(3)"
   ]
  },
  {
   "cell_type": "markdown",
   "id": "15944a74",
   "metadata": {},
   "source": [
    "#### 브랜드 칼럼 추가"
   ]
  },
  {
   "cell_type": "code",
   "execution_count": 64,
   "id": "a1c1810b",
   "metadata": {},
   "outputs": [
    {
     "data": {
      "text/plain": [
       "array(['KODEX', 'TIGER', 'KBSTAR', 'ARIRANG', 'HANARO', 'KINDEX', 'KOSEF',\n",
       "       'SOL', '파워', '히어로즈', 'TIMEFOLIO', '에셋플러스', '대신343', 'WOORI',\n",
       "       'KTOP', 'FOCUS', 'VITA', 'UNICORN', '마이다스', 'TREX', 'MASTER',\n",
       "       '마이티', 'HK'], dtype=object)"
      ]
     },
     "execution_count": 64,
     "metadata": {},
     "output_type": "execute_result"
    }
   ],
   "source": [
    "# 종목명 KODEX 200 일 떄 ==> KODEX\n",
    "df['브랜드'] = df['종목명'].str.split(\" \", expand=True)[0]\n",
    "df['브랜드'].unique()"
   ]
  },
  {
   "cell_type": "markdown",
   "id": "0dd7d998",
   "metadata": {},
   "source": [
    "#### 인버스 칼럼 추가\n",
    "\n",
    "- 인버스는 지수가 하락하면 수익률이오르는 상품"
   ]
  },
  {
   "cell_type": "code",
   "execution_count": 67,
   "id": "1acd7873",
   "metadata": {},
   "outputs": [],
   "source": [
    "# 종목명에 인버스라는 글자가 들어가면 True\n",
    "df['인버스'] = df['종목명'].str.contains('인버스')"
   ]
  },
  {
   "cell_type": "code",
   "execution_count": 69,
   "id": "1779e44f",
   "metadata": {},
   "outputs": [
    {
     "data": {
      "text/plain": [
       "False    93.086003\n",
       "True      6.913997\n",
       "Name: 인버스, dtype: float64"
      ]
     },
     "execution_count": 69,
     "metadata": {},
     "output_type": "execute_result"
    }
   ],
   "source": [
    "df['인버스'].value_counts(normalize=True) * 100 # normalize : 비율"
   ]
  },
  {
   "cell_type": "markdown",
   "id": "ded8fea9",
   "metadata": {},
   "source": [
    "#### 레버리지 칼럼 추가\n",
    "\n",
    "- 레버리지는 타인의 자본을 지렛대처럼 이용하여 자기 자본의 이익률을 높임"
   ]
  },
  {
   "cell_type": "code",
   "execution_count": 70,
   "id": "287c21c6",
   "metadata": {},
   "outputs": [],
   "source": [
    "# 종목명에 레버리지라는 글자가 들어가면 True\n",
    "df['레버리지'] = df['종목명'].str.contains('레버리지')"
   ]
  },
  {
   "cell_type": "code",
   "execution_count": 72,
   "id": "d0f1bfd8",
   "metadata": {},
   "outputs": [
    {
     "data": {
      "text/plain": [
       "False    93.591906\n",
       "True      6.408094\n",
       "Name: 레버리지, dtype: float64"
      ]
     },
     "execution_count": 72,
     "metadata": {},
     "output_type": "execute_result"
    }
   ],
   "source": [
    "df['레버리지'].value_counts(normalize=True) * 100"
   ]
  },
  {
   "cell_type": "markdown",
   "id": "ce315553",
   "metadata": {},
   "source": [
    "#### 환헤지(H)"
   ]
  },
  {
   "cell_type": "code",
   "execution_count": 85,
   "id": "4142b463",
   "metadata": {},
   "outputs": [],
   "source": [
    "df['환헤지(H)'] = df['종목명'].str.endswith('(H)')"
   ]
  },
  {
   "cell_type": "code",
   "execution_count": 86,
   "id": "9a44a328",
   "metadata": {},
   "outputs": [
    {
     "data": {
      "text/plain": [
       "5    379\n",
       "2    173\n",
       "3     41\n",
       "Name: 등락구분, dtype: int64"
      ]
     },
     "execution_count": 86,
     "metadata": {},
     "output_type": "execute_result"
    }
   ],
   "source": [
    "df['등락구분'].value_counts() "
   ]
  },
  {
   "cell_type": "code",
   "execution_count": 87,
   "id": "2c9f2034",
   "metadata": {},
   "outputs": [
    {
     "data": {
      "text/plain": [
       "'ETF_2022-07-19.csv'"
      ]
     },
     "execution_count": 87,
     "metadata": {},
     "output_type": "execute_result"
    }
   ],
   "source": [
    "save_file_name = file_name.replace('_raw', \"\")\n",
    "save_file_name"
   ]
  },
  {
   "cell_type": "code",
   "execution_count": 88,
   "id": "63abc16b",
   "metadata": {},
   "outputs": [],
   "source": [
    "df.to_csv(save_file_name, index=False)"
   ]
  },
  {
   "cell_type": "code",
   "execution_count": null,
   "id": "97365828",
   "metadata": {},
   "outputs": [],
   "source": []
  }
 ],
 "metadata": {
  "kernelspec": {
   "display_name": "Python 3 (ipykernel)",
   "language": "python",
   "name": "python3"
  },
  "language_info": {
   "codemirror_mode": {
    "name": "ipython",
    "version": 3
   },
   "file_extension": ".py",
   "mimetype": "text/x-python",
   "name": "python",
   "nbconvert_exporter": "python",
   "pygments_lexer": "ipython3",
   "version": "3.9.12"
  }
 },
 "nbformat": 4,
 "nbformat_minor": 5
}
