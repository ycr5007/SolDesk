{
 "cells": [
  {
   "cell_type": "code",
   "execution_count": 12,
   "id": "b9c128c2",
   "metadata": {},
   "outputs": [],
   "source": [
    "import numpy as np\n",
    "import pandas as pd\n",
    "import seaborn as sns\n",
    "sns.set(font_scale=1)\n",
    "import matplotlib.pyplot as plt\n",
    "\n",
    "plt.style.use('seaborn')\n",
    "\n",
    "plt.rcParams['axes.unicode_minus'] = False # \" - \" 기호 Unicode 처리\n",
    "plt.rcParams['font.family'] = 'Malgun Gothic' # 한글 폰트 설정\n",
    "\n",
    "import plotly.express as px\n",
    "import plotly.graph_objects as go\n",
    "\n",
    "import warnings\n",
    "warnings.simplefilter(\"ignore\")"
   ]
  },
  {
   "cell_type": "code",
   "execution_count": 13,
   "id": "d31f62ef",
   "metadata": {},
   "outputs": [],
   "source": [
    "file_name = './ETF_2022-07-19.csv'\n",
    "df = pd.read_csv(file_name, dtype={'종목코드':object})"
   ]
  },
  {
   "cell_type": "code",
   "execution_count": 14,
   "id": "6e094f05",
   "metadata": {},
   "outputs": [
    {
     "data": {
      "text/plain": [
       "(593, 17)"
      ]
     },
     "execution_count": 14,
     "metadata": {},
     "output_type": "execute_result"
    }
   ],
   "source": [
    "df.shape"
   ]
  },
  {
   "cell_type": "code",
   "execution_count": 15,
   "id": "caa823dd",
   "metadata": {},
   "outputs": [
    {
     "data": {
      "text/html": [
       "<div>\n",
       "<style scoped>\n",
       "    .dataframe tbody tr th:only-of-type {\n",
       "        vertical-align: middle;\n",
       "    }\n",
       "\n",
       "    .dataframe tbody tr th {\n",
       "        vertical-align: top;\n",
       "    }\n",
       "\n",
       "    .dataframe thead th {\n",
       "        text-align: right;\n",
       "    }\n",
       "</style>\n",
       "<table border=\"1\" class=\"dataframe\">\n",
       "  <thead>\n",
       "    <tr style=\"text-align: right;\">\n",
       "      <th></th>\n",
       "      <th>종목코드</th>\n",
       "      <th>탭코드</th>\n",
       "      <th>종목명</th>\n",
       "      <th>현재가</th>\n",
       "      <th>등락구분</th>\n",
       "      <th>전일비</th>\n",
       "      <th>등락률</th>\n",
       "      <th>순자산가치(NAV)</th>\n",
       "      <th>3개월수익률</th>\n",
       "      <th>거래량</th>\n",
       "      <th>거래대금(백만)</th>\n",
       "      <th>시가총액(억)</th>\n",
       "      <th>유형</th>\n",
       "      <th>브랜드</th>\n",
       "      <th>인버스</th>\n",
       "      <th>레버리지</th>\n",
       "      <th>환헤지(H)</th>\n",
       "    </tr>\n",
       "  </thead>\n",
       "  <tbody>\n",
       "    <tr>\n",
       "      <th>0</th>\n",
       "      <td>069500</td>\n",
       "      <td>1</td>\n",
       "      <td>KODEX 200</td>\n",
       "      <td>31425</td>\n",
       "      <td>5</td>\n",
       "      <td>-155</td>\n",
       "      <td>-0.49</td>\n",
       "      <td>31510.0</td>\n",
       "      <td>-10.6016</td>\n",
       "      <td>2100418</td>\n",
       "      <td>65964</td>\n",
       "      <td>52118</td>\n",
       "      <td>국내 시장지수</td>\n",
       "      <td>KODEX</td>\n",
       "      <td>False</td>\n",
       "      <td>False</td>\n",
       "      <td>False</td>\n",
       "    </tr>\n",
       "    <tr>\n",
       "      <th>1</th>\n",
       "      <td>371460</td>\n",
       "      <td>4</td>\n",
       "      <td>TIGER 차이나전기차SOLACTIVE</td>\n",
       "      <td>17125</td>\n",
       "      <td>5</td>\n",
       "      <td>-365</td>\n",
       "      <td>-2.09</td>\n",
       "      <td>17176.0</td>\n",
       "      <td>32.8018</td>\n",
       "      <td>6904743</td>\n",
       "      <td>119235</td>\n",
       "      <td>37908</td>\n",
       "      <td>해외 주식</td>\n",
       "      <td>TIGER</td>\n",
       "      <td>False</td>\n",
       "      <td>False</td>\n",
       "      <td>False</td>\n",
       "    </tr>\n",
       "    <tr>\n",
       "      <th>2</th>\n",
       "      <td>122630</td>\n",
       "      <td>3</td>\n",
       "      <td>KODEX 레버리지</td>\n",
       "      <td>14780</td>\n",
       "      <td>5</td>\n",
       "      <td>-150</td>\n",
       "      <td>-1.00</td>\n",
       "      <td>14837.0</td>\n",
       "      <td>-21.4418</td>\n",
       "      <td>20353741</td>\n",
       "      <td>300394</td>\n",
       "      <td>24128</td>\n",
       "      <td>국내 파생</td>\n",
       "      <td>KODEX</td>\n",
       "      <td>False</td>\n",
       "      <td>True</td>\n",
       "      <td>False</td>\n",
       "    </tr>\n",
       "    <tr>\n",
       "      <th>3</th>\n",
       "      <td>133690</td>\n",
       "      <td>4</td>\n",
       "      <td>TIGER 미국나스닥100</td>\n",
       "      <td>69990</td>\n",
       "      <td>5</td>\n",
       "      <td>-1230</td>\n",
       "      <td>-1.73</td>\n",
       "      <td>69796.0</td>\n",
       "      <td>-6.4225</td>\n",
       "      <td>99724</td>\n",
       "      <td>6986</td>\n",
       "      <td>20724</td>\n",
       "      <td>해외 주식</td>\n",
       "      <td>TIGER</td>\n",
       "      <td>False</td>\n",
       "      <td>False</td>\n",
       "      <td>False</td>\n",
       "    </tr>\n",
       "    <tr>\n",
       "      <th>4</th>\n",
       "      <td>102110</td>\n",
       "      <td>1</td>\n",
       "      <td>TIGER 200</td>\n",
       "      <td>31495</td>\n",
       "      <td>5</td>\n",
       "      <td>-150</td>\n",
       "      <td>-0.47</td>\n",
       "      <td>31576.0</td>\n",
       "      <td>-10.5467</td>\n",
       "      <td>820110</td>\n",
       "      <td>25811</td>\n",
       "      <td>20362</td>\n",
       "      <td>국내 시장지수</td>\n",
       "      <td>TIGER</td>\n",
       "      <td>False</td>\n",
       "      <td>False</td>\n",
       "      <td>False</td>\n",
       "    </tr>\n",
       "  </tbody>\n",
       "</table>\n",
       "</div>"
      ],
      "text/plain": [
       "     종목코드  탭코드                    종목명    현재가  등락구분   전일비   등락률  순자산가치(NAV)  \\\n",
       "0  069500    1              KODEX 200  31425     5  -155 -0.49     31510.0   \n",
       "1  371460    4  TIGER 차이나전기차SOLACTIVE  17125     5  -365 -2.09     17176.0   \n",
       "2  122630    3             KODEX 레버리지  14780     5  -150 -1.00     14837.0   \n",
       "3  133690    4         TIGER 미국나스닥100  69990     5 -1230 -1.73     69796.0   \n",
       "4  102110    1              TIGER 200  31495     5  -150 -0.47     31576.0   \n",
       "\n",
       "    3개월수익률       거래량  거래대금(백만)  시가총액(억)       유형    브랜드    인버스   레버리지  환헤지(H)  \n",
       "0 -10.6016   2100418     65964    52118  국내 시장지수  KODEX  False  False   False  \n",
       "1  32.8018   6904743    119235    37908    해외 주식  TIGER  False  False   False  \n",
       "2 -21.4418  20353741    300394    24128    국내 파생  KODEX  False   True   False  \n",
       "3  -6.4225     99724      6986    20724    해외 주식  TIGER  False  False   False  \n",
       "4 -10.5467    820110     25811    20362  국내 시장지수  TIGER  False  False   False  "
      ]
     },
     "execution_count": 15,
     "metadata": {},
     "output_type": "execute_result"
    }
   ],
   "source": [
    "df.head()"
   ]
  },
  {
   "cell_type": "code",
   "execution_count": 16,
   "id": "d131b131",
   "metadata": {},
   "outputs": [
    {
     "data": {
      "text/html": [
       "<div>\n",
       "<style scoped>\n",
       "    .dataframe tbody tr th:only-of-type {\n",
       "        vertical-align: middle;\n",
       "    }\n",
       "\n",
       "    .dataframe tbody tr th {\n",
       "        vertical-align: top;\n",
       "    }\n",
       "\n",
       "    .dataframe thead th {\n",
       "        text-align: right;\n",
       "    }\n",
       "</style>\n",
       "<table border=\"1\" class=\"dataframe\">\n",
       "  <thead>\n",
       "    <tr style=\"text-align: right;\">\n",
       "      <th></th>\n",
       "      <th>종목코드</th>\n",
       "      <th>탭코드</th>\n",
       "      <th>종목명</th>\n",
       "      <th>현재가</th>\n",
       "      <th>등락구분</th>\n",
       "      <th>전일비</th>\n",
       "      <th>등락률</th>\n",
       "      <th>순자산가치(NAV)</th>\n",
       "      <th>3개월수익률</th>\n",
       "      <th>거래량</th>\n",
       "      <th>거래대금(백만)</th>\n",
       "      <th>시가총액(억)</th>\n",
       "      <th>유형</th>\n",
       "      <th>브랜드</th>\n",
       "      <th>인버스</th>\n",
       "      <th>레버리지</th>\n",
       "      <th>환헤지(H)</th>\n",
       "    </tr>\n",
       "  </thead>\n",
       "  <tbody>\n",
       "    <tr>\n",
       "      <th>588</th>\n",
       "      <td>252720</td>\n",
       "      <td>2</td>\n",
       "      <td>KBSTAR 모멘텀밸류</td>\n",
       "      <td>11900</td>\n",
       "      <td>5</td>\n",
       "      <td>-90</td>\n",
       "      <td>-0.75</td>\n",
       "      <td>11930.0</td>\n",
       "      <td>-13.5732</td>\n",
       "      <td>7</td>\n",
       "      <td>0</td>\n",
       "      <td>12</td>\n",
       "      <td>국내 업종/테마</td>\n",
       "      <td>KBSTAR</td>\n",
       "      <td>False</td>\n",
       "      <td>False</td>\n",
       "      <td>False</td>\n",
       "    </tr>\n",
       "    <tr>\n",
       "      <th>589</th>\n",
       "      <td>284990</td>\n",
       "      <td>2</td>\n",
       "      <td>KBSTAR 200에너지화학</td>\n",
       "      <td>9865</td>\n",
       "      <td>2</td>\n",
       "      <td>65</td>\n",
       "      <td>0.66</td>\n",
       "      <td>9890.0</td>\n",
       "      <td>-11.8706</td>\n",
       "      <td>72</td>\n",
       "      <td>0</td>\n",
       "      <td>10</td>\n",
       "      <td>국내 업종/테마</td>\n",
       "      <td>KBSTAR</td>\n",
       "      <td>False</td>\n",
       "      <td>False</td>\n",
       "      <td>False</td>\n",
       "    </tr>\n",
       "    <tr>\n",
       "      <th>590</th>\n",
       "      <td>287330</td>\n",
       "      <td>2</td>\n",
       "      <td>KBSTAR 200생활소비재</td>\n",
       "      <td>6555</td>\n",
       "      <td>5</td>\n",
       "      <td>-20</td>\n",
       "      <td>-0.30</td>\n",
       "      <td>6589.0</td>\n",
       "      <td>-9.0344</td>\n",
       "      <td>2575</td>\n",
       "      <td>16</td>\n",
       "      <td>9</td>\n",
       "      <td>국내 업종/테마</td>\n",
       "      <td>KBSTAR</td>\n",
       "      <td>False</td>\n",
       "      <td>False</td>\n",
       "      <td>False</td>\n",
       "    </tr>\n",
       "    <tr>\n",
       "      <th>591</th>\n",
       "      <td>287320</td>\n",
       "      <td>2</td>\n",
       "      <td>KBSTAR 200산업재</td>\n",
       "      <td>10795</td>\n",
       "      <td>2</td>\n",
       "      <td>65</td>\n",
       "      <td>0.61</td>\n",
       "      <td>10820.0</td>\n",
       "      <td>-8.6887</td>\n",
       "      <td>8</td>\n",
       "      <td>0</td>\n",
       "      <td>9</td>\n",
       "      <td>국내 업종/테마</td>\n",
       "      <td>KBSTAR</td>\n",
       "      <td>False</td>\n",
       "      <td>False</td>\n",
       "      <td>False</td>\n",
       "    </tr>\n",
       "    <tr>\n",
       "      <th>592</th>\n",
       "      <td>287310</td>\n",
       "      <td>2</td>\n",
       "      <td>KBSTAR 200경기소비재</td>\n",
       "      <td>9560</td>\n",
       "      <td>2</td>\n",
       "      <td>95</td>\n",
       "      <td>1.00</td>\n",
       "      <td>9595.0</td>\n",
       "      <td>-4.0742</td>\n",
       "      <td>17</td>\n",
       "      <td>0</td>\n",
       "      <td>8</td>\n",
       "      <td>국내 업종/테마</td>\n",
       "      <td>KBSTAR</td>\n",
       "      <td>False</td>\n",
       "      <td>False</td>\n",
       "      <td>False</td>\n",
       "    </tr>\n",
       "  </tbody>\n",
       "</table>\n",
       "</div>"
      ],
      "text/plain": [
       "       종목코드  탭코드              종목명    현재가  등락구분  전일비   등락률  순자산가치(NAV)  \\\n",
       "588  252720    2     KBSTAR 모멘텀밸류  11900     5  -90 -0.75     11930.0   \n",
       "589  284990    2  KBSTAR 200에너지화학   9865     2   65  0.66      9890.0   \n",
       "590  287330    2  KBSTAR 200생활소비재   6555     5  -20 -0.30      6589.0   \n",
       "591  287320    2    KBSTAR 200산업재  10795     2   65  0.61     10820.0   \n",
       "592  287310    2  KBSTAR 200경기소비재   9560     2   95  1.00      9595.0   \n",
       "\n",
       "      3개월수익률   거래량  거래대금(백만)  시가총액(억)        유형     브랜드    인버스   레버리지  환헤지(H)  \n",
       "588 -13.5732     7         0       12  국내 업종/테마  KBSTAR  False  False   False  \n",
       "589 -11.8706    72         0       10  국내 업종/테마  KBSTAR  False  False   False  \n",
       "590  -9.0344  2575        16        9  국내 업종/테마  KBSTAR  False  False   False  \n",
       "591  -8.6887     8         0        9  국내 업종/테마  KBSTAR  False  False   False  \n",
       "592  -4.0742    17         0        8  국내 업종/테마  KBSTAR  False  False   False  "
      ]
     },
     "execution_count": 16,
     "metadata": {},
     "output_type": "execute_result"
    }
   ],
   "source": [
    "df.tail()"
   ]
  },
  {
   "cell_type": "code",
   "execution_count": 17,
   "id": "31e49450",
   "metadata": {},
   "outputs": [
    {
     "name": "stdout",
     "output_type": "stream",
     "text": [
      "<class 'pandas.core.frame.DataFrame'>\n",
      "RangeIndex: 593 entries, 0 to 592\n",
      "Data columns (total 17 columns):\n",
      " #   Column      Non-Null Count  Dtype  \n",
      "---  ------      --------------  -----  \n",
      " 0   종목코드        593 non-null    object \n",
      " 1   탭코드         593 non-null    int64  \n",
      " 2   종목명         593 non-null    object \n",
      " 3   현재가         593 non-null    int64  \n",
      " 4   등락구분        593 non-null    int64  \n",
      " 5   전일비         593 non-null    int64  \n",
      " 6   등락률         593 non-null    float64\n",
      " 7   순자산가치(NAV)  593 non-null    float64\n",
      " 8   3개월수익률      551 non-null    float64\n",
      " 9   거래량         593 non-null    int64  \n",
      " 10  거래대금(백만)    593 non-null    int64  \n",
      " 11  시가총액(억)     593 non-null    int64  \n",
      " 12  유형          593 non-null    object \n",
      " 13  브랜드         593 non-null    object \n",
      " 14  인버스         593 non-null    bool   \n",
      " 15  레버리지        593 non-null    bool   \n",
      " 16  환헤지(H)      593 non-null    bool   \n",
      "dtypes: bool(3), float64(3), int64(7), object(4)\n",
      "memory usage: 66.7+ KB\n"
     ]
    }
   ],
   "source": [
    "df.info()"
   ]
  },
  {
   "cell_type": "code",
   "execution_count": 18,
   "id": "706be829",
   "metadata": {},
   "outputs": [
    {
     "data": {
      "text/html": [
       "<div>\n",
       "<style scoped>\n",
       "    .dataframe tbody tr th:only-of-type {\n",
       "        vertical-align: middle;\n",
       "    }\n",
       "\n",
       "    .dataframe tbody tr th {\n",
       "        vertical-align: top;\n",
       "    }\n",
       "\n",
       "    .dataframe thead th {\n",
       "        text-align: right;\n",
       "    }\n",
       "</style>\n",
       "<table border=\"1\" class=\"dataframe\">\n",
       "  <thead>\n",
       "    <tr style=\"text-align: right;\">\n",
       "      <th></th>\n",
       "      <th>탭코드</th>\n",
       "      <th>현재가</th>\n",
       "      <th>등락구분</th>\n",
       "      <th>전일비</th>\n",
       "      <th>등락률</th>\n",
       "      <th>순자산가치(NAV)</th>\n",
       "      <th>3개월수익률</th>\n",
       "      <th>거래량</th>\n",
       "      <th>거래대금(백만)</th>\n",
       "      <th>시가총액(억)</th>\n",
       "    </tr>\n",
       "  </thead>\n",
       "  <tbody>\n",
       "    <tr>\n",
       "      <th>count</th>\n",
       "      <td>593.000000</td>\n",
       "      <td>593.000000</td>\n",
       "      <td>593.000000</td>\n",
       "      <td>593.000000</td>\n",
       "      <td>593.000000</td>\n",
       "      <td>593.000000</td>\n",
       "      <td>551.000000</td>\n",
       "      <td>5.930000e+02</td>\n",
       "      <td>593.000000</td>\n",
       "      <td>593.000000</td>\n",
       "    </tr>\n",
       "    <tr>\n",
       "      <th>mean</th>\n",
       "      <td>3.392917</td>\n",
       "      <td>18837.436762</td>\n",
       "      <td>3.986509</td>\n",
       "      <td>-49.426644</td>\n",
       "      <td>-0.269359</td>\n",
       "      <td>18838.568297</td>\n",
       "      <td>-8.099360</td>\n",
       "      <td>4.853816e+05</td>\n",
       "      <td>3767.930860</td>\n",
       "      <td>1249.615514</td>\n",
       "    </tr>\n",
       "    <tr>\n",
       "      <th>std</th>\n",
       "      <td>1.827645</td>\n",
       "      <td>23896.123703</td>\n",
       "      <td>1.370473</td>\n",
       "      <td>142.940908</td>\n",
       "      <td>0.901678</td>\n",
       "      <td>23896.912924</td>\n",
       "      <td>10.371916</td>\n",
       "      <td>6.033648e+06</td>\n",
       "      <td>27400.099937</td>\n",
       "      <td>3883.942079</td>\n",
       "    </tr>\n",
       "    <tr>\n",
       "      <th>min</th>\n",
       "      <td>1.000000</td>\n",
       "      <td>2225.000000</td>\n",
       "      <td>2.000000</td>\n",
       "      <td>-1230.000000</td>\n",
       "      <td>-3.610000</td>\n",
       "      <td>514.000000</td>\n",
       "      <td>-35.990100</td>\n",
       "      <td>0.000000e+00</td>\n",
       "      <td>0.000000</td>\n",
       "      <td>8.000000</td>\n",
       "    </tr>\n",
       "    <tr>\n",
       "      <th>25%</th>\n",
       "      <td>2.000000</td>\n",
       "      <td>8285.000000</td>\n",
       "      <td>2.000000</td>\n",
       "      <td>-95.000000</td>\n",
       "      <td>-0.670000</td>\n",
       "      <td>8363.000000</td>\n",
       "      <td>-14.029750</td>\n",
       "      <td>9.400000e+01</td>\n",
       "      <td>1.000000</td>\n",
       "      <td>76.000000</td>\n",
       "    </tr>\n",
       "    <tr>\n",
       "      <th>50%</th>\n",
       "      <td>3.000000</td>\n",
       "      <td>10500.000000</td>\n",
       "      <td>5.000000</td>\n",
       "      <td>-30.000000</td>\n",
       "      <td>-0.270000</td>\n",
       "      <td>10528.000000</td>\n",
       "      <td>-10.100900</td>\n",
       "      <td>1.553000e+03</td>\n",
       "      <td>18.000000</td>\n",
       "      <td>159.000000</td>\n",
       "    </tr>\n",
       "    <tr>\n",
       "      <th>75%</th>\n",
       "      <td>4.000000</td>\n",
       "      <td>14775.000000</td>\n",
       "      <td>5.000000</td>\n",
       "      <td>15.000000</td>\n",
       "      <td>0.110000</td>\n",
       "      <td>14805.000000</td>\n",
       "      <td>-0.723900</td>\n",
       "      <td>1.885000e+04</td>\n",
       "      <td>218.000000</td>\n",
       "      <td>641.000000</td>\n",
       "    </tr>\n",
       "    <tr>\n",
       "      <th>max</th>\n",
       "      <td>7.000000</td>\n",
       "      <td>111425.000000</td>\n",
       "      <td>5.000000</td>\n",
       "      <td>565.000000</td>\n",
       "      <td>4.800000</td>\n",
       "      <td>111462.000000</td>\n",
       "      <td>35.642300</td>\n",
       "      <td>1.386615e+08</td>\n",
       "      <td>443280.000000</td>\n",
       "      <td>52118.000000</td>\n",
       "    </tr>\n",
       "  </tbody>\n",
       "</table>\n",
       "</div>"
      ],
      "text/plain": [
       "              탭코드            현재가        등락구분          전일비         등락률  \\\n",
       "count  593.000000     593.000000  593.000000   593.000000  593.000000   \n",
       "mean     3.392917   18837.436762    3.986509   -49.426644   -0.269359   \n",
       "std      1.827645   23896.123703    1.370473   142.940908    0.901678   \n",
       "min      1.000000    2225.000000    2.000000 -1230.000000   -3.610000   \n",
       "25%      2.000000    8285.000000    2.000000   -95.000000   -0.670000   \n",
       "50%      3.000000   10500.000000    5.000000   -30.000000   -0.270000   \n",
       "75%      4.000000   14775.000000    5.000000    15.000000    0.110000   \n",
       "max      7.000000  111425.000000    5.000000   565.000000    4.800000   \n",
       "\n",
       "          순자산가치(NAV)      3개월수익률           거래량       거래대금(백만)       시가총액(억)  \n",
       "count     593.000000  551.000000  5.930000e+02     593.000000    593.000000  \n",
       "mean    18838.568297   -8.099360  4.853816e+05    3767.930860   1249.615514  \n",
       "std     23896.912924   10.371916  6.033648e+06   27400.099937   3883.942079  \n",
       "min       514.000000  -35.990100  0.000000e+00       0.000000      8.000000  \n",
       "25%      8363.000000  -14.029750  9.400000e+01       1.000000     76.000000  \n",
       "50%     10528.000000  -10.100900  1.553000e+03      18.000000    159.000000  \n",
       "75%     14805.000000   -0.723900  1.885000e+04     218.000000    641.000000  \n",
       "max    111462.000000   35.642300  1.386615e+08  443280.000000  52118.000000  "
      ]
     },
     "execution_count": 18,
     "metadata": {},
     "output_type": "execute_result"
    }
   ],
   "source": [
    "df.describe()"
   ]
  },
  {
   "cell_type": "code",
   "execution_count": 19,
   "id": "6fdd573b",
   "metadata": {
    "scrolled": true
   },
   "outputs": [
    {
     "data": {
      "text/plain": [
       "종목코드           0\n",
       "탭코드            0\n",
       "종목명            0\n",
       "현재가            0\n",
       "등락구분           0\n",
       "전일비            0\n",
       "등락률            0\n",
       "순자산가치(NAV)     0\n",
       "3개월수익률        42\n",
       "거래량            0\n",
       "거래대금(백만)       0\n",
       "시가총액(억)        0\n",
       "유형             0\n",
       "브랜드            0\n",
       "인버스            0\n",
       "레버리지           0\n",
       "환헤지(H)         0\n",
       "dtype: int64"
      ]
     },
     "execution_count": 19,
     "metadata": {},
     "output_type": "execute_result"
    }
   ],
   "source": [
    "df.isnull().sum() # 3개월수익률 : 상장일이 3개월에 못미치는 기업이 있어 NaN 값 존재"
   ]
  },
  {
   "cell_type": "markdown",
   "id": "b0324933",
   "metadata": {},
   "source": [
    "#### 범주형 변수의 기술통계"
   ]
  },
  {
   "cell_type": "code",
   "execution_count": 20,
   "id": "bb4ee887",
   "metadata": {},
   "outputs": [
    {
     "data": {
      "text/html": [
       "<div>\n",
       "<style scoped>\n",
       "    .dataframe tbody tr th:only-of-type {\n",
       "        vertical-align: middle;\n",
       "    }\n",
       "\n",
       "    .dataframe tbody tr th {\n",
       "        vertical-align: top;\n",
       "    }\n",
       "\n",
       "    .dataframe thead th {\n",
       "        text-align: right;\n",
       "    }\n",
       "</style>\n",
       "<table border=\"1\" class=\"dataframe\">\n",
       "  <thead>\n",
       "    <tr style=\"text-align: right;\">\n",
       "      <th></th>\n",
       "      <th>종목코드</th>\n",
       "      <th>종목명</th>\n",
       "      <th>유형</th>\n",
       "      <th>브랜드</th>\n",
       "    </tr>\n",
       "  </thead>\n",
       "  <tbody>\n",
       "    <tr>\n",
       "      <th>count</th>\n",
       "      <td>593</td>\n",
       "      <td>593</td>\n",
       "      <td>593</td>\n",
       "      <td>593</td>\n",
       "    </tr>\n",
       "    <tr>\n",
       "      <th>unique</th>\n",
       "      <td>593</td>\n",
       "      <td>593</td>\n",
       "      <td>7</td>\n",
       "      <td>23</td>\n",
       "    </tr>\n",
       "    <tr>\n",
       "      <th>top</th>\n",
       "      <td>069500</td>\n",
       "      <td>KODEX 200</td>\n",
       "      <td>국내 업종/테마</td>\n",
       "      <td>TIGER</td>\n",
       "    </tr>\n",
       "    <tr>\n",
       "      <th>freq</th>\n",
       "      <td>1</td>\n",
       "      <td>1</td>\n",
       "      <td>210</td>\n",
       "      <td>142</td>\n",
       "    </tr>\n",
       "  </tbody>\n",
       "</table>\n",
       "</div>"
      ],
      "text/plain": [
       "          종목코드        종목명        유형    브랜드\n",
       "count      593        593       593    593\n",
       "unique     593        593         7     23\n",
       "top     069500  KODEX 200  국내 업종/테마  TIGER\n",
       "freq         1          1       210    142"
      ]
     },
     "execution_count": 20,
     "metadata": {},
     "output_type": "execute_result"
    }
   ],
   "source": [
    "df.describe(include=object)"
   ]
  },
  {
   "cell_type": "code",
   "execution_count": 21,
   "id": "acc64443",
   "metadata": {},
   "outputs": [
    {
     "data": {
      "text/html": [
       "<div>\n",
       "<style scoped>\n",
       "    .dataframe tbody tr th:only-of-type {\n",
       "        vertical-align: middle;\n",
       "    }\n",
       "\n",
       "    .dataframe tbody tr th {\n",
       "        vertical-align: top;\n",
       "    }\n",
       "\n",
       "    .dataframe thead th {\n",
       "        text-align: right;\n",
       "    }\n",
       "</style>\n",
       "<table border=\"1\" class=\"dataframe\">\n",
       "  <thead>\n",
       "    <tr style=\"text-align: right;\">\n",
       "      <th></th>\n",
       "      <th>종목코드</th>\n",
       "      <th>종목명</th>\n",
       "      <th>유형</th>\n",
       "      <th>브랜드</th>\n",
       "      <th>인버스</th>\n",
       "      <th>레버리지</th>\n",
       "      <th>환헤지(H)</th>\n",
       "    </tr>\n",
       "  </thead>\n",
       "  <tbody>\n",
       "    <tr>\n",
       "      <th>count</th>\n",
       "      <td>593</td>\n",
       "      <td>593</td>\n",
       "      <td>593</td>\n",
       "      <td>593</td>\n",
       "      <td>593</td>\n",
       "      <td>593</td>\n",
       "      <td>593</td>\n",
       "    </tr>\n",
       "    <tr>\n",
       "      <th>unique</th>\n",
       "      <td>593</td>\n",
       "      <td>593</td>\n",
       "      <td>7</td>\n",
       "      <td>23</td>\n",
       "      <td>2</td>\n",
       "      <td>2</td>\n",
       "      <td>2</td>\n",
       "    </tr>\n",
       "    <tr>\n",
       "      <th>top</th>\n",
       "      <td>069500</td>\n",
       "      <td>KODEX 200</td>\n",
       "      <td>국내 업종/테마</td>\n",
       "      <td>TIGER</td>\n",
       "      <td>False</td>\n",
       "      <td>False</td>\n",
       "      <td>False</td>\n",
       "    </tr>\n",
       "    <tr>\n",
       "      <th>freq</th>\n",
       "      <td>1</td>\n",
       "      <td>1</td>\n",
       "      <td>210</td>\n",
       "      <td>142</td>\n",
       "      <td>552</td>\n",
       "      <td>555</td>\n",
       "      <td>551</td>\n",
       "    </tr>\n",
       "  </tbody>\n",
       "</table>\n",
       "</div>"
      ],
      "text/plain": [
       "          종목코드        종목명        유형    브랜드    인버스   레버리지 환헤지(H)\n",
       "count      593        593       593    593    593    593    593\n",
       "unique     593        593         7     23      2      2      2\n",
       "top     069500  KODEX 200  국내 업종/테마  TIGER  False  False  False\n",
       "freq         1          1       210    142    552    555    551"
      ]
     },
     "execution_count": 21,
     "metadata": {},
     "output_type": "execute_result"
    }
   ],
   "source": [
    "df.describe(exclude=np.number)"
   ]
  },
  {
   "cell_type": "code",
   "execution_count": 23,
   "id": "94cfc561",
   "metadata": {},
   "outputs": [
    {
     "data": {
      "text/plain": [
       "종목코드          593\n",
       "탭코드             7\n",
       "종목명           593\n",
       "현재가           539\n",
       "등락구분            3\n",
       "전일비           113\n",
       "등락률           261\n",
       "순자산가치(NAV)    589\n",
       "3개월수익률        550\n",
       "거래량           486\n",
       "거래대금(백만)      251\n",
       "시가총액(억)       396\n",
       "유형              7\n",
       "브랜드            23\n",
       "인버스             2\n",
       "레버리지            2\n",
       "환헤지(H)          2\n",
       "dtype: int64"
      ]
     },
     "execution_count": 23,
     "metadata": {},
     "output_type": "execute_result"
    }
   ],
   "source": [
    "# unique 값에 대한 빈도수\n",
    "df.nunique()"
   ]
  },
  {
   "cell_type": "markdown",
   "id": "5c59bdd6",
   "metadata": {},
   "source": [
    "- 탭코드, 등락구분, 유형, 브랜드, 인버스, 레버리지, 환헤지H 는 범주형에 가까운 데이터"
   ]
  },
  {
   "cell_type": "markdown",
   "id": "0751151c",
   "metadata": {},
   "source": [
    "#### 유형에 대한 빈도수 구하기 "
   ]
  },
  {
   "cell_type": "code",
   "execution_count": 24,
   "id": "5807e484",
   "metadata": {},
   "outputs": [
    {
     "data": {
      "text/plain": [
       "국내 업종/테마    210\n",
       "해외 주식       149\n",
       "국내 시장지수      66\n",
       "채권           62\n",
       "기타           51\n",
       "국내 파생        37\n",
       "원자재          18\n",
       "Name: 유형, dtype: int64"
      ]
     },
     "execution_count": 24,
     "metadata": {},
     "output_type": "execute_result"
    }
   ],
   "source": [
    "df['유형'].value_counts()"
   ]
  },
  {
   "cell_type": "markdown",
   "id": "14f54f38",
   "metadata": {},
   "source": [
    "#### 시각화 ( countplot )"
   ]
  },
  {
   "cell_type": "code",
   "execution_count": 27,
   "id": "a8b28a51",
   "metadata": {},
   "outputs": [
    {
     "data": {
      "text/plain": [
       "<AxesSubplot:xlabel='유형', ylabel='count'>"
      ]
     },
     "execution_count": 27,
     "metadata": {},
     "output_type": "execute_result"
    },
    {
     "data": {
      "image/png": "[encoded data removed]",
      "text/plain": [
       "<Figure size 576x396 with 1 Axes>"
      ]
     },
     "metadata": {},
     "output_type": "display_data"
    }
   ],
   "source": [
    "sns.countplot(data=df, x='유형', order=df['유형'].value_counts().index)"
   ]
  },
  {
   "cell_type": "code",
   "execution_count": 28,
   "id": "a8d1bd89",
   "metadata": {},
   "outputs": [
    {
     "data": {
      "text/plain": [
       "국내 업종/테마    35.413153\n",
       "해외 주식       25.126476\n",
       "국내 시장지수     11.129848\n",
       "채권          10.455312\n",
       "기타           8.600337\n",
       "국내 파생        6.239460\n",
       "원자재          3.035413\n",
       "Name: 유형, dtype: float64"
      ]
     },
     "execution_count": 28,
     "metadata": {},
     "output_type": "execute_result"
    }
   ],
   "source": [
    "df['유형'].value_counts(normalize=True) * 100"
   ]
  },
  {
   "cell_type": "code",
   "execution_count": 31,
   "id": "b02f00a6",
   "metadata": {},
   "outputs": [
    {
     "data": {
      "text/plain": [
       "<AxesSubplot:xlabel='count', ylabel='유형'>"
      ]
     },
     "execution_count": 31,
     "metadata": {},
     "output_type": "execute_result"
    },
    {
     "data": {
      "image/png": "[encoded data removed]",
      "text/plain": [
       "<Figure size 576x396 with 1 Axes>"
      ]
     },
     "metadata": {},
     "output_type": "display_data"
    }
   ],
   "source": [
    "sns.countplot(data=df, y='유형', hue='인버스')"
   ]
  },
  {
   "cell_type": "code",
   "execution_count": 32,
   "id": "403deaa5",
   "metadata": {},
   "outputs": [
    {
     "data": {
      "text/plain": [
       "<AxesSubplot:xlabel='count', ylabel='유형'>"
      ]
     },
     "execution_count": 32,
     "metadata": {},
     "output_type": "execute_result"
    },
    {
     "data": {
      "image/png": "[encoded data removed]",
      "text/plain": [
       "<Figure size 576x396 with 1 Axes>"
      ]
     },
     "metadata": {},
     "output_type": "display_data"
    }
   ],
   "source": [
    "sns.countplot(data=df, y='유형', hue='레버리지')"
   ]
  },
  {
   "cell_type": "markdown",
   "id": "d6b63f1c",
   "metadata": {},
   "source": [
    "#### 브랜드별 빈도수"
   ]
  },
  {
   "cell_type": "code",
   "execution_count": 34,
   "id": "b1047f69",
   "metadata": {},
   "outputs": [
    {
     "data": {
      "text/plain": [
       "TIGER        142\n",
       "KODEX        139\n",
       "KBSTAR        88\n",
       "KINDEX        57\n",
       "ARIRANG       53\n",
       "HANARO        32\n",
       "KOSEF         29\n",
       "SOL           15\n",
       "TIMEFOLIO      6\n",
       "히어로즈           5\n",
       "파워             4\n",
       "FOCUS          3\n",
       "에셋플러스          3\n",
       "HK             3\n",
       "WOORI          2\n",
       "마이다스           2\n",
       "TREX           2\n",
       "MASTER         2\n",
       "마이티            2\n",
       "KTOP           1\n",
       "대신343          1\n",
       "VITA           1\n",
       "UNICORN        1\n",
       "Name: 브랜드, dtype: int64"
      ]
     },
     "execution_count": 34,
     "metadata": {},
     "output_type": "execute_result"
    }
   ],
   "source": [
    "df['브랜드'].value_counts()"
   ]
  },
  {
   "cell_type": "code",
   "execution_count": 33,
   "id": "2f4e4a37",
   "metadata": {},
   "outputs": [
    {
     "data": {
      "text/plain": [
       "<AxesSubplot:xlabel='count', ylabel='브랜드'>"
      ]
     },
     "execution_count": 33,
     "metadata": {},
     "output_type": "execute_result"
    },
    {
     "data": {
      "image/png": "[encoded data removed]",
      "text/plain": [
       "<Figure size 576x396 with 1 Axes>"
      ]
     },
     "metadata": {},
     "output_type": "display_data"
    }
   ],
   "source": [
    "sns.countplot(data=df, y='브랜드')"
   ]
  },
  {
   "cell_type": "markdown",
   "id": "4079d46e",
   "metadata": {},
   "source": [
    "#### 인버스, 브랜드의 빈도수"
   ]
  },
  {
   "cell_type": "code",
   "execution_count": 37,
   "id": "bd55a149",
   "metadata": {},
   "outputs": [
    {
     "data": {
      "text/html": [
       "<div>\n",
       "<style scoped>\n",
       "    .dataframe tbody tr th:only-of-type {\n",
       "        vertical-align: middle;\n",
       "    }\n",
       "\n",
       "    .dataframe tbody tr th {\n",
       "        vertical-align: top;\n",
       "    }\n",
       "\n",
       "    .dataframe thead th {\n",
       "        text-align: right;\n",
       "    }\n",
       "</style>\n",
       "<table border=\"1\" class=\"dataframe\">\n",
       "  <thead>\n",
       "    <tr style=\"text-align: right;\">\n",
       "      <th>브랜드</th>\n",
       "      <th>ARIRANG</th>\n",
       "      <th>FOCUS</th>\n",
       "      <th>HANARO</th>\n",
       "      <th>HK</th>\n",
       "      <th>KBSTAR</th>\n",
       "      <th>KINDEX</th>\n",
       "      <th>KODEX</th>\n",
       "      <th>KOSEF</th>\n",
       "      <th>KTOP</th>\n",
       "      <th>MASTER</th>\n",
       "      <th>...</th>\n",
       "      <th>TREX</th>\n",
       "      <th>UNICORN</th>\n",
       "      <th>VITA</th>\n",
       "      <th>WOORI</th>\n",
       "      <th>대신343</th>\n",
       "      <th>마이다스</th>\n",
       "      <th>마이티</th>\n",
       "      <th>에셋플러스</th>\n",
       "      <th>파워</th>\n",
       "      <th>히어로즈</th>\n",
       "    </tr>\n",
       "    <tr>\n",
       "      <th>인버스</th>\n",
       "      <th></th>\n",
       "      <th></th>\n",
       "      <th></th>\n",
       "      <th></th>\n",
       "      <th></th>\n",
       "      <th></th>\n",
       "      <th></th>\n",
       "      <th></th>\n",
       "      <th></th>\n",
       "      <th></th>\n",
       "      <th></th>\n",
       "      <th></th>\n",
       "      <th></th>\n",
       "      <th></th>\n",
       "      <th></th>\n",
       "      <th></th>\n",
       "      <th></th>\n",
       "      <th></th>\n",
       "      <th></th>\n",
       "      <th></th>\n",
       "      <th></th>\n",
       "    </tr>\n",
       "  </thead>\n",
       "  <tbody>\n",
       "    <tr>\n",
       "      <th>False</th>\n",
       "      <td>50</td>\n",
       "      <td>3</td>\n",
       "      <td>31</td>\n",
       "      <td>3</td>\n",
       "      <td>78</td>\n",
       "      <td>53</td>\n",
       "      <td>128</td>\n",
       "      <td>24</td>\n",
       "      <td>1</td>\n",
       "      <td>2</td>\n",
       "      <td>...</td>\n",
       "      <td>2</td>\n",
       "      <td>1</td>\n",
       "      <td>1</td>\n",
       "      <td>2</td>\n",
       "      <td>1</td>\n",
       "      <td>2</td>\n",
       "      <td>2</td>\n",
       "      <td>3</td>\n",
       "      <td>4</td>\n",
       "      <td>5</td>\n",
       "    </tr>\n",
       "    <tr>\n",
       "      <th>True</th>\n",
       "      <td>3</td>\n",
       "      <td>0</td>\n",
       "      <td>1</td>\n",
       "      <td>0</td>\n",
       "      <td>10</td>\n",
       "      <td>4</td>\n",
       "      <td>11</td>\n",
       "      <td>5</td>\n",
       "      <td>0</td>\n",
       "      <td>0</td>\n",
       "      <td>...</td>\n",
       "      <td>0</td>\n",
       "      <td>0</td>\n",
       "      <td>0</td>\n",
       "      <td>0</td>\n",
       "      <td>0</td>\n",
       "      <td>0</td>\n",
       "      <td>0</td>\n",
       "      <td>0</td>\n",
       "      <td>0</td>\n",
       "      <td>0</td>\n",
       "    </tr>\n",
       "  </tbody>\n",
       "</table>\n",
       "<p>2 rows × 23 columns</p>\n",
       "</div>"
      ],
      "text/plain": [
       "브랜드    ARIRANG  FOCUS  HANARO  HK  KBSTAR  KINDEX  KODEX  KOSEF  KTOP  MASTER  \\\n",
       "인버스                                                                             \n",
       "False       50      3      31   3      78      53    128     24     1       2   \n",
       "True         3      0       1   0      10       4     11      5     0       0   \n",
       "\n",
       "브랜드    ...  TREX  UNICORN  VITA  WOORI  대신343  마이다스  마이티  에셋플러스  파워  히어로즈  \n",
       "인버스    ...                                                                 \n",
       "False  ...     2        1     1      2      1     2    2      3   4     5  \n",
       "True   ...     0        0     0      0      0     0    0      0   0     0  \n",
       "\n",
       "[2 rows x 23 columns]"
      ]
     },
     "execution_count": 37,
     "metadata": {},
     "output_type": "execute_result"
    }
   ],
   "source": [
    "pd.crosstab(df['인버스'], df['브랜드'])"
   ]
  },
  {
   "cell_type": "code",
   "execution_count": 38,
   "id": "52065397",
   "metadata": {},
   "outputs": [
    {
     "data": {
      "text/html": [
       "<div>\n",
       "<style scoped>\n",
       "    .dataframe tbody tr th:only-of-type {\n",
       "        vertical-align: middle;\n",
       "    }\n",
       "\n",
       "    .dataframe tbody tr th {\n",
       "        vertical-align: top;\n",
       "    }\n",
       "\n",
       "    .dataframe thead th {\n",
       "        text-align: right;\n",
       "    }\n",
       "</style>\n",
       "<table border=\"1\" class=\"dataframe\">\n",
       "  <thead>\n",
       "    <tr style=\"text-align: right;\">\n",
       "      <th>브랜드</th>\n",
       "      <th>ARIRANG</th>\n",
       "      <th>FOCUS</th>\n",
       "      <th>HANARO</th>\n",
       "      <th>HK</th>\n",
       "      <th>KBSTAR</th>\n",
       "      <th>KINDEX</th>\n",
       "      <th>KODEX</th>\n",
       "      <th>KOSEF</th>\n",
       "      <th>KTOP</th>\n",
       "      <th>MASTER</th>\n",
       "      <th>...</th>\n",
       "      <th>TREX</th>\n",
       "      <th>UNICORN</th>\n",
       "      <th>VITA</th>\n",
       "      <th>WOORI</th>\n",
       "      <th>대신343</th>\n",
       "      <th>마이다스</th>\n",
       "      <th>마이티</th>\n",
       "      <th>에셋플러스</th>\n",
       "      <th>파워</th>\n",
       "      <th>히어로즈</th>\n",
       "    </tr>\n",
       "    <tr>\n",
       "      <th>인버스</th>\n",
       "      <th></th>\n",
       "      <th></th>\n",
       "      <th></th>\n",
       "      <th></th>\n",
       "      <th></th>\n",
       "      <th></th>\n",
       "      <th></th>\n",
       "      <th></th>\n",
       "      <th></th>\n",
       "      <th></th>\n",
       "      <th></th>\n",
       "      <th></th>\n",
       "      <th></th>\n",
       "      <th></th>\n",
       "      <th></th>\n",
       "      <th></th>\n",
       "      <th></th>\n",
       "      <th></th>\n",
       "      <th></th>\n",
       "      <th></th>\n",
       "      <th></th>\n",
       "    </tr>\n",
       "  </thead>\n",
       "  <tbody>\n",
       "    <tr>\n",
       "      <th>False</th>\n",
       "      <td>8.431703</td>\n",
       "      <td>0.505902</td>\n",
       "      <td>5.227656</td>\n",
       "      <td>0.505902</td>\n",
       "      <td>13.153457</td>\n",
       "      <td>8.937605</td>\n",
       "      <td>21.585160</td>\n",
       "      <td>4.047218</td>\n",
       "      <td>0.168634</td>\n",
       "      <td>0.337268</td>\n",
       "      <td>...</td>\n",
       "      <td>0.337268</td>\n",
       "      <td>0.168634</td>\n",
       "      <td>0.168634</td>\n",
       "      <td>0.337268</td>\n",
       "      <td>0.168634</td>\n",
       "      <td>0.337268</td>\n",
       "      <td>0.337268</td>\n",
       "      <td>0.505902</td>\n",
       "      <td>0.674536</td>\n",
       "      <td>0.84317</td>\n",
       "    </tr>\n",
       "    <tr>\n",
       "      <th>True</th>\n",
       "      <td>0.505902</td>\n",
       "      <td>0.000000</td>\n",
       "      <td>0.168634</td>\n",
       "      <td>0.000000</td>\n",
       "      <td>1.686341</td>\n",
       "      <td>0.674536</td>\n",
       "      <td>1.854975</td>\n",
       "      <td>0.843170</td>\n",
       "      <td>0.000000</td>\n",
       "      <td>0.000000</td>\n",
       "      <td>...</td>\n",
       "      <td>0.000000</td>\n",
       "      <td>0.000000</td>\n",
       "      <td>0.000000</td>\n",
       "      <td>0.000000</td>\n",
       "      <td>0.000000</td>\n",
       "      <td>0.000000</td>\n",
       "      <td>0.000000</td>\n",
       "      <td>0.000000</td>\n",
       "      <td>0.000000</td>\n",
       "      <td>0.00000</td>\n",
       "    </tr>\n",
       "  </tbody>\n",
       "</table>\n",
       "<p>2 rows × 23 columns</p>\n",
       "</div>"
      ],
      "text/plain": [
       "브랜드     ARIRANG     FOCUS    HANARO        HK     KBSTAR    KINDEX      KODEX  \\\n",
       "인버스                                                                             \n",
       "False  8.431703  0.505902  5.227656  0.505902  13.153457  8.937605  21.585160   \n",
       "True   0.505902  0.000000  0.168634  0.000000   1.686341  0.674536   1.854975   \n",
       "\n",
       "브랜드       KOSEF      KTOP    MASTER  ...      TREX   UNICORN      VITA  \\\n",
       "인버스                                  ...                                 \n",
       "False  4.047218  0.168634  0.337268  ...  0.337268  0.168634  0.168634   \n",
       "True   0.843170  0.000000  0.000000  ...  0.000000  0.000000  0.000000   \n",
       "\n",
       "브랜드       WOORI     대신343      마이다스       마이티     에셋플러스        파워     히어로즈  \n",
       "인버스                                                                         \n",
       "False  0.337268  0.168634  0.337268  0.337268  0.505902  0.674536  0.84317  \n",
       "True   0.000000  0.000000  0.000000  0.000000  0.000000  0.000000  0.00000  \n",
       "\n",
       "[2 rows x 23 columns]"
      ]
     },
     "execution_count": 38,
     "metadata": {},
     "output_type": "execute_result"
    }
   ],
   "source": [
    "pd.crosstab(df['인버스'], df['브랜드'], normalize=True) * 100"
   ]
  },
  {
   "cell_type": "code",
   "execution_count": 40,
   "id": "962cbd67",
   "metadata": {},
   "outputs": [
    {
     "data": {
      "text/plain": [
       "<AxesSubplot:ylabel='브랜드'>"
      ]
     },
     "execution_count": 40,
     "metadata": {},
     "output_type": "execute_result"
    },
    {
     "data": {
      "image/png": "[encoded data removed]",
      "text/plain": [
       "<Figure size 576x396 with 1 Axes>"
      ]
     },
     "metadata": {},
     "output_type": "display_data"
    }
   ],
   "source": [
    "pd.crosstab(df['인버스'], df['브랜드']).T.plot.barh()"
   ]
  },
  {
   "cell_type": "code",
   "execution_count": 41,
   "id": "4b265564",
   "metadata": {},
   "outputs": [],
   "source": [
    "desc = df.describe()"
   ]
  },
  {
   "cell_type": "code",
   "execution_count": 42,
   "id": "ccb6a2ea",
   "metadata": {},
   "outputs": [
    {
     "data": {
      "image/png": "[encoded data removed]",
      "text/plain": [
       "<Figure size 720x720 with 12 Axes>"
      ]
     },
     "metadata": {},
     "output_type": "display_data"
    }
   ],
   "source": [
    "df[desc.columns].hist(figsize=(10, 10), bins=50);"
   ]
  },
  {
   "cell_type": "markdown",
   "id": "125e2c40",
   "metadata": {},
   "source": [
    "#### 3개월 수익률 시각화"
   ]
  },
  {
   "cell_type": "code",
   "execution_count": 45,
   "id": "35511e26",
   "metadata": {},
   "outputs": [
    {
     "data": {
      "text/plain": [
       "<AxesSubplot:xlabel='3개월수익률', ylabel='브랜드'>"
      ]
     },
     "execution_count": 45,
     "metadata": {},
     "output_type": "execute_result"
    },
    {
     "data": {
      "image/png": "[encoded data removed]",
      "text/plain": [
       "<Figure size 864x576 with 1 Axes>"
      ]
     },
     "metadata": {},
     "output_type": "display_data"
    }
   ],
   "source": [
    "plt.figure(figsize=(12,8))\n",
    "sns.barplot(data=df, y='브랜드', x='3개월수익률', ci=None)"
   ]
  },
  {
   "cell_type": "code",
   "execution_count": 47,
   "id": "e3cd2169",
   "metadata": {},
   "outputs": [],
   "source": [
    "# KODEX 추출 후 kodex 에 담기\n",
    "kodex = df.query(\"브랜드 == 'KODEX'\")"
   ]
  },
  {
   "cell_type": "code",
   "execution_count": 48,
   "id": "3c9f202c",
   "metadata": {},
   "outputs": [
    {
     "name": "stdout",
     "output_type": "stream",
     "text": [
      "<class 'pandas.core.frame.DataFrame'>\n",
      "Int64Index: 139 entries, 0 to 560\n",
      "Data columns (total 17 columns):\n",
      " #   Column      Non-Null Count  Dtype  \n",
      "---  ------      --------------  -----  \n",
      " 0   종목코드        139 non-null    object \n",
      " 1   탭코드         139 non-null    int64  \n",
      " 2   종목명         139 non-null    object \n",
      " 3   현재가         139 non-null    int64  \n",
      " 4   등락구분        139 non-null    int64  \n",
      " 5   전일비         139 non-null    int64  \n",
      " 6   등락률         139 non-null    float64\n",
      " 7   순자산가치(NAV)  139 non-null    float64\n",
      " 8   3개월수익률      133 non-null    float64\n",
      " 9   거래량         139 non-null    int64  \n",
      " 10  거래대금(백만)    139 non-null    int64  \n",
      " 11  시가총액(억)     139 non-null    int64  \n",
      " 12  유형          139 non-null    object \n",
      " 13  브랜드         139 non-null    object \n",
      " 14  인버스         139 non-null    bool   \n",
      " 15  레버리지        139 non-null    bool   \n",
      " 16  환헤지(H)      139 non-null    bool   \n",
      "dtypes: bool(3), float64(3), int64(7), object(4)\n",
      "memory usage: 16.7+ KB\n"
     ]
    }
   ],
   "source": [
    "kodex.info()"
   ]
  },
  {
   "cell_type": "code",
   "execution_count": 51,
   "id": "2e3cae71",
   "metadata": {},
   "outputs": [
    {
     "data": {
      "text/plain": [
       "<AxesSubplot:xlabel='3개월수익률', ylabel='브랜드'>"
      ]
     },
     "execution_count": 51,
     "metadata": {},
     "output_type": "execute_result"
    },
    {
     "data": {
      "image/png": "[encoded data removed]",
      "text/plain": [
       "<Figure size 576x396 with 1 Axes>"
      ]
     },
     "metadata": {},
     "output_type": "display_data"
    }
   ],
   "source": [
    "sns.boxplot(data=kodex, x='3개월수익률', y='브랜드')"
   ]
  },
  {
   "cell_type": "code",
   "execution_count": 52,
   "id": "98aed9e3",
   "metadata": {},
   "outputs": [
    {
     "data": {
      "text/plain": [
       "<AxesSubplot:xlabel='3개월수익률', ylabel='브랜드'>"
      ]
     },
     "execution_count": 52,
     "metadata": {},
     "output_type": "execute_result"
    },
    {
     "data": {
      "image/png": "[encoded data removed]",
      "text/plain": [
       "<Figure size 576x396 with 1 Axes>"
      ]
     },
     "metadata": {},
     "output_type": "display_data"
    }
   ],
   "source": [
    "sns.boxenplot(data=kodex, x='3개월수익률', y='브랜드')"
   ]
  },
  {
   "cell_type": "code",
   "execution_count": 53,
   "id": "3c7db399",
   "metadata": {},
   "outputs": [
    {
     "data": {
      "text/plain": [
       "<AxesSubplot:>"
      ]
     },
     "execution_count": 53,
     "metadata": {},
     "output_type": "execute_result"
    },
    {
     "data": {
      "image/png": "[encoded data removed]",
      "text/plain": [
       "<Figure size 576x396 with 1 Axes>"
      ]
     },
     "metadata": {},
     "output_type": "display_data"
    }
   ],
   "source": [
    "kodex['3개월수익률'].hist()"
   ]
  },
  {
   "cell_type": "code",
   "execution_count": 54,
   "id": "5f7de6b9",
   "metadata": {},
   "outputs": [
    {
     "data": {
      "text/plain": [
       "<AxesSubplot:xlabel='3개월수익률', ylabel='Density'>"
      ]
     },
     "execution_count": 54,
     "metadata": {},
     "output_type": "execute_result"
    },
    {
     "data": {
      "image/png": "[encoded data removed]",
      "text/plain": [
       "<Figure size 576x396 with 1 Axes>"
      ]
     },
     "metadata": {},
     "output_type": "display_data"
    }
   ],
   "source": [
    "sns.kdeplot(data=kodex, x='3개월수익률', shade=True)"
   ]
  },
  {
   "cell_type": "code",
   "execution_count": 55,
   "id": "23b6fc02",
   "metadata": {},
   "outputs": [
    {
     "data": {
      "text/plain": [
       "<AxesSubplot:xlabel='3개월수익률', ylabel='브랜드'>"
      ]
     },
     "execution_count": 55,
     "metadata": {},
     "output_type": "execute_result"
    },
    {
     "data": {
      "image/png": "[encoded data removed]",
      "text/plain": [
       "<Figure size 576x396 with 1 Axes>"
      ]
     },
     "metadata": {},
     "output_type": "display_data"
    }
   ],
   "source": [
    "sns.violinplot(data=kodex, x='3개월수익률', y='브랜드')"
   ]
  },
  {
   "cell_type": "code",
   "execution_count": 56,
   "id": "796917a4",
   "metadata": {},
   "outputs": [
    {
     "data": {
      "text/plain": [
       "<AxesSubplot:xlabel='3개월수익률', ylabel='브랜드'>"
      ]
     },
     "execution_count": 56,
     "metadata": {},
     "output_type": "execute_result"
    },
    {
     "data": {
      "image/png": "[encoded data removed]",
      "text/plain": [
       "<Figure size 576x396 with 1 Axes>"
      ]
     },
     "metadata": {},
     "output_type": "display_data"
    }
   ],
   "source": [
    "sns.violinplot(data=kodex, x='3개월수익률', y='브랜드', hue='레버리지')"
   ]
  },
  {
   "cell_type": "code",
   "execution_count": 57,
   "id": "138d4cfd",
   "metadata": {},
   "outputs": [
    {
     "data": {
      "text/plain": [
       "<AxesSubplot:xlabel='3개월수익률', ylabel='브랜드'>"
      ]
     },
     "execution_count": 57,
     "metadata": {},
     "output_type": "execute_result"
    },
    {
     "data": {
      "image/png": "[encoded data removed]",
      "text/plain": [
       "<Figure size 576x396 with 1 Axes>"
      ]
     },
     "metadata": {},
     "output_type": "display_data"
    }
   ],
   "source": [
    "sns.violinplot(data=kodex, x='3개월수익률', y='브랜드', hue='인버스', split=True)"
   ]
  },
  {
   "cell_type": "markdown",
   "id": "f81a96ce",
   "metadata": {},
   "source": [
    "- barplot : 평균값만으로 그려냄\n",
    "- boxplot : 평균값만으로는 볼 수 없는 부분을 보기위해 그려냄 ( 25%, 50% ... )\n",
    " - 단점 > low_data 가 바뀔 때 그 부분이 잘 보이지 않음 ( 해결 : histogram, kde 그림 )\n",
    "- violinplot : boxplot + kde"
   ]
  },
  {
   "cell_type": "code",
   "execution_count": null,
   "id": "78288b43",
   "metadata": {},
   "outputs": [],
   "source": []
  }
 ],
 "metadata": {
  "kernelspec": {
   "display_name": "Python 3 (ipykernel)",
   "language": "python",
   "name": "python3"
  },
  "language_info": {
   "codemirror_mode": {
    "name": "ipython",
    "version": 3
   },
   "file_extension": ".py",
   "mimetype": "text/x-python",
   "name": "python",
   "nbconvert_exporter": "python",
   "pygments_lexer": "ipython3",
   "version": "3.9.12"
  }
 },
 "nbformat": 4,
 "nbformat_minor": 5
}
