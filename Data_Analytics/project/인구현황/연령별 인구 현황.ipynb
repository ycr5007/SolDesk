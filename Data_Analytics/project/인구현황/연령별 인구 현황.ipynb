{
 "cells": [
  {
   "cell_type": "markdown",
   "id": "9f6f6258",
   "metadata": {},
   "source": [
    "### 탐색적 데이터 분석\n",
    "> * 데이터 분석이라는 것이 특별히 정해진 규칙은 없음\n",
    "> * **기본적 작업**\n",
    ">  * 데이터 출처와 주제에 대한 이해\n",
    ">  * 데이터 구성요소, 속성 확인\n",
    ">    * 통계 요약 정보 ( 평균, 중앙값 ... )\n",
    ">  * 데이터 시각화"
   ]
  },
  {
   "cell_type": "code",
   "execution_count": 1,
   "id": "3028ea1c",
   "metadata": {},
   "outputs": [],
   "source": [
    "import pandas as pd\n",
    "import numpy as np"
   ]
  },
  {
   "cell_type": "code",
   "execution_count": 2,
   "id": "26e48f11",
   "metadata": {},
   "outputs": [],
   "source": [
    "import warnings\n",
    "warnings.simplefilter(\"ignore\")"
   ]
  },
  {
   "cell_type": "code",
   "execution_count": 3,
   "id": "83f56f5d",
   "metadata": {},
   "outputs": [],
   "source": [
    "male_df = pd.read_excel(\"../../data/dataset/201205_201205_연령별인구현황_월간.xlsx\", skiprows=3, usecols=\"B,E:Y\", index_col=\"행정기관\")"
   ]
  },
  {
   "cell_type": "code",
   "execution_count": 4,
   "id": "b727bd99",
   "metadata": {},
   "outputs": [
    {
     "data": {
      "text/html": [
       "<div>\n",
       "<style scoped>\n",
       "    .dataframe tbody tr th:only-of-type {\n",
       "        vertical-align: middle;\n",
       "    }\n",
       "\n",
       "    .dataframe tbody tr th {\n",
       "        vertical-align: top;\n",
       "    }\n",
       "\n",
       "    .dataframe thead th {\n",
       "        text-align: right;\n",
       "    }\n",
       "</style>\n",
       "<table border=\"1\" class=\"dataframe\">\n",
       "  <thead>\n",
       "    <tr style=\"text-align: right;\">\n",
       "      <th></th>\n",
       "      <th>0~4세</th>\n",
       "      <th>5~9세</th>\n",
       "      <th>10~14세</th>\n",
       "      <th>15~19세</th>\n",
       "      <th>20~24세</th>\n",
       "      <th>25~29세</th>\n",
       "      <th>30~34세</th>\n",
       "      <th>35~39세</th>\n",
       "      <th>40~44세</th>\n",
       "      <th>45~49세</th>\n",
       "      <th>...</th>\n",
       "      <th>55~59세</th>\n",
       "      <th>60~64세</th>\n",
       "      <th>65~69세</th>\n",
       "      <th>70~74세</th>\n",
       "      <th>75~79세</th>\n",
       "      <th>80~84세</th>\n",
       "      <th>85~89세</th>\n",
       "      <th>90~94세</th>\n",
       "      <th>95~99세</th>\n",
       "      <th>100세 이상</th>\n",
       "    </tr>\n",
       "    <tr>\n",
       "      <th>행정기관</th>\n",
       "      <th></th>\n",
       "      <th></th>\n",
       "      <th></th>\n",
       "      <th></th>\n",
       "      <th></th>\n",
       "      <th></th>\n",
       "      <th></th>\n",
       "      <th></th>\n",
       "      <th></th>\n",
       "      <th></th>\n",
       "      <th></th>\n",
       "      <th></th>\n",
       "      <th></th>\n",
       "      <th></th>\n",
       "      <th></th>\n",
       "      <th></th>\n",
       "      <th></th>\n",
       "      <th></th>\n",
       "      <th></th>\n",
       "      <th></th>\n",
       "      <th></th>\n",
       "    </tr>\n",
       "  </thead>\n",
       "  <tbody>\n",
       "    <tr>\n",
       "      <th>전국</th>\n",
       "      <td>1,198,172</td>\n",
       "      <td>1,207,585</td>\n",
       "      <td>1,599,070</td>\n",
       "      <td>1,869,118</td>\n",
       "      <td>1,711,521</td>\n",
       "      <td>1,760,776</td>\n",
       "      <td>2,073,285</td>\n",
       "      <td>2,122,334</td>\n",
       "      <td>2,348,899</td>\n",
       "      <td>2,175,736</td>\n",
       "      <td>...</td>\n",
       "      <td>1,621,990</td>\n",
       "      <td>1,165,741</td>\n",
       "      <td>891,532</td>\n",
       "      <td>741,383</td>\n",
       "      <td>451,137</td>\n",
       "      <td>200,938</td>\n",
       "      <td>78,881</td>\n",
       "      <td>24,234</td>\n",
       "      <td>4,974</td>\n",
       "      <td>2,777</td>\n",
       "    </tr>\n",
       "    <tr>\n",
       "      <th>서울특별시</th>\n",
       "      <td>216,517</td>\n",
       "      <td>210,493</td>\n",
       "      <td>276,664</td>\n",
       "      <td>340,569</td>\n",
       "      <td>341,230</td>\n",
       "      <td>413,485</td>\n",
       "      <td>478,161</td>\n",
       "      <td>445,037</td>\n",
       "      <td>464,112</td>\n",
       "      <td>411,676</td>\n",
       "      <td>...</td>\n",
       "      <td>334,415</td>\n",
       "      <td>244,336</td>\n",
       "      <td>191,755</td>\n",
       "      <td>144,990</td>\n",
       "      <td>76,604</td>\n",
       "      <td>33,283</td>\n",
       "      <td>13,479</td>\n",
       "      <td>4,926</td>\n",
       "      <td>1,231</td>\n",
       "      <td>939</td>\n",
       "    </tr>\n",
       "    <tr>\n",
       "      <th>부산광역시</th>\n",
       "      <td>67,855</td>\n",
       "      <td>68,576</td>\n",
       "      <td>97,550</td>\n",
       "      <td>127,154</td>\n",
       "      <td>124,510</td>\n",
       "      <td>122,771</td>\n",
       "      <td>139,353</td>\n",
       "      <td>132,547</td>\n",
       "      <td>148,018</td>\n",
       "      <td>144,287</td>\n",
       "      <td>...</td>\n",
       "      <td>137,873</td>\n",
       "      <td>102,391</td>\n",
       "      <td>74,506</td>\n",
       "      <td>56,752</td>\n",
       "      <td>30,848</td>\n",
       "      <td>12,761</td>\n",
       "      <td>4,375</td>\n",
       "      <td>1,232</td>\n",
       "      <td>252</td>\n",
       "      <td>240</td>\n",
       "    </tr>\n",
       "  </tbody>\n",
       "</table>\n",
       "<p>3 rows × 21 columns</p>\n",
       "</div>"
      ],
      "text/plain": [
       "              0~4세       5~9세     10~14세     15~19세     20~24세     25~29세  \\\n",
       "행정기관                                                                        \n",
       "전국       1,198,172  1,207,585  1,599,070  1,869,118  1,711,521  1,760,776   \n",
       "서울특별시      216,517    210,493    276,664    340,569    341,230    413,485   \n",
       "부산광역시       67,855     68,576     97,550    127,154    124,510    122,771   \n",
       "\n",
       "            30~34세     35~39세     40~44세     45~49세  ...     55~59세  \\\n",
       "행정기관                                                 ...              \n",
       "전국       2,073,285  2,122,334  2,348,899  2,175,736  ...  1,621,990   \n",
       "서울특별시      478,161    445,037    464,112    411,676  ...    334,415   \n",
       "부산광역시      139,353    132,547    148,018    144,287  ...    137,873   \n",
       "\n",
       "            60~64세   65~69세   70~74세   75~79세   80~84세  85~89세  90~94세 95~99세  \\\n",
       "행정기관                                                                            \n",
       "전국       1,165,741  891,532  741,383  451,137  200,938  78,881  24,234  4,974   \n",
       "서울특별시      244,336  191,755  144,990   76,604   33,283  13,479   4,926  1,231   \n",
       "부산광역시      102,391   74,506   56,752   30,848   12,761   4,375   1,232    252   \n",
       "\n",
       "        100세 이상  \n",
       "행정기관             \n",
       "전국        2,777  \n",
       "서울특별시       939  \n",
       "부산광역시       240  \n",
       "\n",
       "[3 rows x 21 columns]"
      ]
     },
     "execution_count": 4,
     "metadata": {},
     "output_type": "execute_result"
    }
   ],
   "source": [
    "male_df.head(3) # Raw-Data 처리 작업 필요"
   ]
  },
  {
   "cell_type": "code",
   "execution_count": 5,
   "id": "01fc3fa8",
   "metadata": {},
   "outputs": [],
   "source": [
    "female_df = pd.read_excel(\"../../data/dataset/201205_201205_연령별인구현황_월간.xlsx\", skiprows=3, usecols=\"B,AB:AV\", index_col=\"행정기관\")"
   ]
  },
  {
   "cell_type": "code",
   "execution_count": 6,
   "id": "57da75ce",
   "metadata": {},
   "outputs": [
    {
     "data": {
      "text/html": [
       "<div>\n",
       "<style scoped>\n",
       "    .dataframe tbody tr th:only-of-type {\n",
       "        vertical-align: middle;\n",
       "    }\n",
       "\n",
       "    .dataframe tbody tr th {\n",
       "        vertical-align: top;\n",
       "    }\n",
       "\n",
       "    .dataframe thead th {\n",
       "        text-align: right;\n",
       "    }\n",
       "</style>\n",
       "<table border=\"1\" class=\"dataframe\">\n",
       "  <thead>\n",
       "    <tr style=\"text-align: right;\">\n",
       "      <th></th>\n",
       "      <th>0~4세.1</th>\n",
       "      <th>5~9세.1</th>\n",
       "      <th>10~14세.1</th>\n",
       "      <th>15~19세.1</th>\n",
       "      <th>20~24세.1</th>\n",
       "      <th>25~29세.1</th>\n",
       "      <th>30~34세.1</th>\n",
       "      <th>35~39세.1</th>\n",
       "      <th>40~44세.1</th>\n",
       "      <th>45~49세.1</th>\n",
       "      <th>...</th>\n",
       "      <th>55~59세.1</th>\n",
       "      <th>60~64세.1</th>\n",
       "      <th>65~69세.1</th>\n",
       "      <th>70~74세.1</th>\n",
       "      <th>75~79세.1</th>\n",
       "      <th>80~84세.1</th>\n",
       "      <th>85~89세.1</th>\n",
       "      <th>90~94세.1</th>\n",
       "      <th>95~99세.1</th>\n",
       "      <th>100세 이상.1</th>\n",
       "    </tr>\n",
       "    <tr>\n",
       "      <th>행정기관</th>\n",
       "      <th></th>\n",
       "      <th></th>\n",
       "      <th></th>\n",
       "      <th></th>\n",
       "      <th></th>\n",
       "      <th></th>\n",
       "      <th></th>\n",
       "      <th></th>\n",
       "      <th></th>\n",
       "      <th></th>\n",
       "      <th></th>\n",
       "      <th></th>\n",
       "      <th></th>\n",
       "      <th></th>\n",
       "      <th></th>\n",
       "      <th></th>\n",
       "      <th></th>\n",
       "      <th></th>\n",
       "      <th></th>\n",
       "      <th></th>\n",
       "      <th></th>\n",
       "    </tr>\n",
       "  </thead>\n",
       "  <tbody>\n",
       "    <tr>\n",
       "      <th>전국</th>\n",
       "      <td>1,129,060</td>\n",
       "      <td>1,121,396</td>\n",
       "      <td>1,465,153</td>\n",
       "      <td>1,656,457</td>\n",
       "      <td>1,537,488</td>\n",
       "      <td>1,653,792</td>\n",
       "      <td>1,989,544</td>\n",
       "      <td>2,042,452</td>\n",
       "      <td>2,264,185</td>\n",
       "      <td>2,069,661</td>\n",
       "      <td>...</td>\n",
       "      <td>1,636,447</td>\n",
       "      <td>1,215,014</td>\n",
       "      <td>1,010,384</td>\n",
       "      <td>953,529</td>\n",
       "      <td>715,809</td>\n",
       "      <td>439,376</td>\n",
       "      <td>213,337</td>\n",
       "      <td>76,800</td>\n",
       "      <td>19,704</td>\n",
       "      <td>9,247</td>\n",
       "    </tr>\n",
       "    <tr>\n",
       "      <th>서울특별시</th>\n",
       "      <td>204,668</td>\n",
       "      <td>197,929</td>\n",
       "      <td>255,648</td>\n",
       "      <td>307,415</td>\n",
       "      <td>336,299</td>\n",
       "      <td>421,862</td>\n",
       "      <td>470,272</td>\n",
       "      <td>431,062</td>\n",
       "      <td>458,791</td>\n",
       "      <td>410,729</td>\n",
       "      <td>...</td>\n",
       "      <td>361,440</td>\n",
       "      <td>263,508</td>\n",
       "      <td>207,922</td>\n",
       "      <td>164,435</td>\n",
       "      <td>110,761</td>\n",
       "      <td>68,312</td>\n",
       "      <td>35,495</td>\n",
       "      <td>13,473</td>\n",
       "      <td>4,029</td>\n",
       "      <td>2,763</td>\n",
       "    </tr>\n",
       "    <tr>\n",
       "      <th>부산광역시</th>\n",
       "      <td>64,380</td>\n",
       "      <td>63,569</td>\n",
       "      <td>87,600</td>\n",
       "      <td>108,202</td>\n",
       "      <td>110,117</td>\n",
       "      <td>115,800</td>\n",
       "      <td>133,307</td>\n",
       "      <td>128,579</td>\n",
       "      <td>149,794</td>\n",
       "      <td>148,779</td>\n",
       "      <td>...</td>\n",
       "      <td>144,382</td>\n",
       "      <td>107,907</td>\n",
       "      <td>80,560</td>\n",
       "      <td>70,080</td>\n",
       "      <td>48,033</td>\n",
       "      <td>29,499</td>\n",
       "      <td>13,629</td>\n",
       "      <td>4,336</td>\n",
       "      <td>1,182</td>\n",
       "      <td>876</td>\n",
       "    </tr>\n",
       "  </tbody>\n",
       "</table>\n",
       "<p>3 rows × 21 columns</p>\n",
       "</div>"
      ],
      "text/plain": [
       "            0~4세.1     5~9세.1   10~14세.1   15~19세.1   20~24세.1   25~29세.1  \\\n",
       "행정기관                                                                        \n",
       "전국       1,129,060  1,121,396  1,465,153  1,656,457  1,537,488  1,653,792   \n",
       "서울특별시      204,668    197,929    255,648    307,415    336,299    421,862   \n",
       "부산광역시       64,380     63,569     87,600    108,202    110,117    115,800   \n",
       "\n",
       "          30~34세.1   35~39세.1   40~44세.1   45~49세.1  ...   55~59세.1  \\\n",
       "행정기관                                                 ...              \n",
       "전국       1,989,544  2,042,452  2,264,185  2,069,661  ...  1,636,447   \n",
       "서울특별시      470,272    431,062    458,791    410,729  ...    361,440   \n",
       "부산광역시      133,307    128,579    149,794    148,779  ...    144,382   \n",
       "\n",
       "          60~64세.1   65~69세.1 70~74세.1 75~79세.1 80~84세.1 85~89세.1 90~94세.1  \\\n",
       "행정기관                                                                         \n",
       "전국       1,215,014  1,010,384  953,529  715,809  439,376  213,337   76,800   \n",
       "서울특별시      263,508    207,922  164,435  110,761   68,312   35,495   13,473   \n",
       "부산광역시      107,907     80,560   70,080   48,033   29,499   13,629    4,336   \n",
       "\n",
       "        95~99세.1 100세 이상.1  \n",
       "행정기관                        \n",
       "전국        19,704     9,247  \n",
       "서울특별시      4,029     2,763  \n",
       "부산광역시      1,182       876  \n",
       "\n",
       "[3 rows x 21 columns]"
      ]
     },
     "execution_count": 6,
     "metadata": {},
     "output_type": "execute_result"
    }
   ],
   "source": [
    "female_df.head(3)"
   ]
  },
  {
   "cell_type": "markdown",
   "id": "e20d4a45",
   "metadata": {},
   "source": [
    "---"
   ]
  },
  {
   "cell_type": "markdown",
   "id": "615d1c47",
   "metadata": {},
   "source": [
    "## 데이터 전처리\n",
    "> * 데이터를 분석하기 위해 가공"
   ]
  },
  {
   "cell_type": "code",
   "execution_count": 7,
   "id": "0b49c1e6",
   "metadata": {},
   "outputs": [
    {
     "name": "stdout",
     "output_type": "stream",
     "text": [
      "<class 'pandas.core.frame.DataFrame'>\n",
      "Index: 17 entries, 전국   to 제주특별자치도  \n",
      "Data columns (total 21 columns):\n",
      " #   Column   Non-Null Count  Dtype \n",
      "---  ------   --------------  ----- \n",
      " 0   0~4세     17 non-null     object\n",
      " 1   5~9세     17 non-null     object\n",
      " 2   10~14세   17 non-null     object\n",
      " 3   15~19세   17 non-null     object\n",
      " 4   20~24세   17 non-null     object\n",
      " 5   25~29세   17 non-null     object\n",
      " 6   30~34세   17 non-null     object\n",
      " 7   35~39세   17 non-null     object\n",
      " 8   40~44세   17 non-null     object\n",
      " 9   45~49세   17 non-null     object\n",
      " 10  50~54세   17 non-null     object\n",
      " 11  55~59세   17 non-null     object\n",
      " 12  60~64세   17 non-null     object\n",
      " 13  65~69세   17 non-null     object\n",
      " 14  70~74세   17 non-null     object\n",
      " 15  75~79세   17 non-null     object\n",
      " 16  80~84세   17 non-null     object\n",
      " 17  85~89세   17 non-null     object\n",
      " 18  90~94세   17 non-null     object\n",
      " 19  95~99세   17 non-null     object\n",
      " 20  100세 이상  17 non-null     object\n",
      "dtypes: object(21)\n",
      "memory usage: 2.9+ KB\n"
     ]
    }
   ],
   "source": [
    "male_df.info()"
   ]
  },
  {
   "cell_type": "code",
   "execution_count": 8,
   "id": "f31b7a0a",
   "metadata": {},
   "outputs": [
    {
     "name": "stdout",
     "output_type": "stream",
     "text": [
      "<class 'pandas.core.frame.DataFrame'>\n",
      "Index: 17 entries, 전국   to 제주특별자치도  \n",
      "Data columns (total 21 columns):\n",
      " #   Column     Non-Null Count  Dtype \n",
      "---  ------     --------------  ----- \n",
      " 0   0~4세.1     17 non-null     object\n",
      " 1   5~9세.1     17 non-null     object\n",
      " 2   10~14세.1   17 non-null     object\n",
      " 3   15~19세.1   17 non-null     object\n",
      " 4   20~24세.1   17 non-null     object\n",
      " 5   25~29세.1   17 non-null     object\n",
      " 6   30~34세.1   17 non-null     object\n",
      " 7   35~39세.1   17 non-null     object\n",
      " 8   40~44세.1   17 non-null     object\n",
      " 9   45~49세.1   17 non-null     object\n",
      " 10  50~54세.1   17 non-null     object\n",
      " 11  55~59세.1   17 non-null     object\n",
      " 12  60~64세.1   17 non-null     object\n",
      " 13  65~69세.1   17 non-null     object\n",
      " 14  70~74세.1   17 non-null     object\n",
      " 15  75~79세.1   17 non-null     object\n",
      " 16  80~84세.1   17 non-null     object\n",
      " 17  85~89세.1   17 non-null     object\n",
      " 18  90~94세.1   17 non-null     object\n",
      " 19  95~99세.1   17 non-null     object\n",
      " 20  100세 이상.1  17 non-null     object\n",
      "dtypes: object(21)\n",
      "memory usage: 2.9+ KB\n"
     ]
    }
   ],
   "source": [
    "female_df.info()"
   ]
  },
  {
   "cell_type": "code",
   "execution_count": 9,
   "id": "29892103",
   "metadata": {},
   "outputs": [
    {
     "data": {
      "text/plain": [
       "Index(['0~4세', '5~9세', '10~14세', '15~19세', '20~24세', '25~29세', '30~34세',\n",
       "       '35~39세', '40~44세', '45~49세', '50~54세', '55~59세', '60~64세', '65~69세',\n",
       "       '70~74세', '75~79세', '80~84세', '85~89세', '90~94세', '95~99세', '100세 이상'],\n",
       "      dtype='object')"
      ]
     },
     "execution_count": 9,
     "metadata": {},
     "output_type": "execute_result"
    }
   ],
   "source": [
    "male_df.columns"
   ]
  },
  {
   "cell_type": "code",
   "execution_count": 10,
   "id": "70d7f7ea",
   "metadata": {},
   "outputs": [
    {
     "data": {
      "text/plain": [
       "Index(['0~4세.1', '5~9세.1', '10~14세.1', '15~19세.1', '20~24세.1', '25~29세.1',\n",
       "       '30~34세.1', '35~39세.1', '40~44세.1', '45~49세.1', '50~54세.1', '55~59세.1',\n",
       "       '60~64세.1', '65~69세.1', '70~74세.1', '75~79세.1', '80~84세.1', '85~89세.1',\n",
       "       '90~94세.1', '95~99세.1', '100세 이상.1'],\n",
       "      dtype='object')"
      ]
     },
     "execution_count": 10,
     "metadata": {},
     "output_type": "execute_result"
    }
   ],
   "source": [
    "female_df.columns # col.1 ColumnName 변경 필요"
   ]
  },
  {
   "cell_type": "code",
   "execution_count": 11,
   "id": "cf973ed3",
   "metadata": {},
   "outputs": [],
   "source": [
    "female_df.columns = male_df.columns"
   ]
  },
  {
   "cell_type": "markdown",
   "id": "425ca680",
   "metadata": {},
   "source": [
    "---"
   ]
  },
  {
   "cell_type": "markdown",
   "id": "3ff8ff6e",
   "metadata": {},
   "source": [
    "#### \" , \" 가 붙은 데이터의 타입을 숫자형태로 변경 ( , 제거 후 타입변환 ) "
   ]
  },
  {
   "cell_type": "code",
   "execution_count": 12,
   "id": "c275c184",
   "metadata": {},
   "outputs": [
    {
     "data": {
      "text/html": [
       "<div>\n",
       "<style scoped>\n",
       "    .dataframe tbody tr th:only-of-type {\n",
       "        vertical-align: middle;\n",
       "    }\n",
       "\n",
       "    .dataframe tbody tr th {\n",
       "        vertical-align: top;\n",
       "    }\n",
       "\n",
       "    .dataframe thead th {\n",
       "        text-align: right;\n",
       "    }\n",
       "</style>\n",
       "<table border=\"1\" class=\"dataframe\">\n",
       "  <thead>\n",
       "    <tr style=\"text-align: right;\">\n",
       "      <th></th>\n",
       "      <th>name</th>\n",
       "      <th>age</th>\n",
       "    </tr>\n",
       "  </thead>\n",
       "  <tbody>\n",
       "    <tr>\n",
       "      <th>0</th>\n",
       "      <td>홍길동</td>\n",
       "      <td>25</td>\n",
       "    </tr>\n",
       "    <tr>\n",
       "      <th>1</th>\n",
       "      <td>김수정</td>\n",
       "      <td>NaN</td>\n",
       "    </tr>\n",
       "    <tr>\n",
       "      <th>2</th>\n",
       "      <td>이민정</td>\n",
       "      <td>45</td>\n",
       "    </tr>\n",
       "  </tbody>\n",
       "</table>\n",
       "</div>"
      ],
      "text/plain": [
       "  name  age\n",
       "0  홍길동   25\n",
       "1  김수정  NaN\n",
       "2  이민정   45"
      ]
     },
     "execution_count": 12,
     "metadata": {},
     "output_type": "execute_result"
    }
   ],
   "source": [
    "data = {\n",
    "    \"name\" : ['홍길동', '김수정', '이민정'],\n",
    "    \"age\" : [\"25\", np.nan, \"45\"],\n",
    "}\n",
    "\n",
    "df = pd.DataFrame(data)\n",
    "df"
   ]
  },
  {
   "cell_type": "code",
   "execution_count": 13,
   "id": "f0e5c00e",
   "metadata": {},
   "outputs": [
    {
     "name": "stdout",
     "output_type": "stream",
     "text": [
      "<class 'pandas.core.frame.DataFrame'>\n",
      "RangeIndex: 3 entries, 0 to 2\n",
      "Data columns (total 2 columns):\n",
      " #   Column  Non-Null Count  Dtype \n",
      "---  ------  --------------  ----- \n",
      " 0   name    3 non-null      object\n",
      " 1   age     2 non-null      object\n",
      "dtypes: object(2)\n",
      "memory usage: 176.0+ bytes\n"
     ]
    }
   ],
   "source": [
    "df.info()"
   ]
  },
  {
   "cell_type": "code",
   "execution_count": 14,
   "id": "7acaaa77",
   "metadata": {},
   "outputs": [
    {
     "ename": "ValueError",
     "evalue": "cannot convert float NaN to integer",
     "output_type": "error",
     "traceback": [
      "\u001b[1;31m---------------------------------------------------------------------------\u001b[0m",
      "\u001b[1;31mValueError\u001b[0m                                Traceback (most recent call last)",
      "Input \u001b[1;32mIn [14]\u001b[0m, in \u001b[0;36m<cell line: 1>\u001b[1;34m()\u001b[0m\n\u001b[1;32m----> 1\u001b[0m df[\u001b[38;5;124m'\u001b[39m\u001b[38;5;124mage_1\u001b[39m\u001b[38;5;124m'\u001b[39m] \u001b[38;5;241m=\u001b[39m \u001b[43mdf\u001b[49m\u001b[43m[\u001b[49m\u001b[38;5;124;43m'\u001b[39;49m\u001b[38;5;124;43mage\u001b[39;49m\u001b[38;5;124;43m'\u001b[39;49m\u001b[43m]\u001b[49m\u001b[38;5;241;43m.\u001b[39;49m\u001b[43mastype\u001b[49m\u001b[43m(\u001b[49m\u001b[38;5;124;43m\"\u001b[39;49m\u001b[38;5;124;43mint64\u001b[39;49m\u001b[38;5;124;43m\"\u001b[39;49m\u001b[43m)\u001b[49m\n\u001b[0;32m      2\u001b[0m df\u001b[38;5;241m.\u001b[39minfo()\n",
      "File \u001b[1;32mD:\\Program Data\\Anaconda3\\lib\\site-packages\\pandas\\core\\generic.py:5912\u001b[0m, in \u001b[0;36mNDFrame.astype\u001b[1;34m(self, dtype, copy, errors)\u001b[0m\n\u001b[0;32m   5905\u001b[0m     results \u001b[38;5;241m=\u001b[39m [\n\u001b[0;32m   5906\u001b[0m         \u001b[38;5;28mself\u001b[39m\u001b[38;5;241m.\u001b[39miloc[:, i]\u001b[38;5;241m.\u001b[39mastype(dtype, copy\u001b[38;5;241m=\u001b[39mcopy)\n\u001b[0;32m   5907\u001b[0m         \u001b[38;5;28;01mfor\u001b[39;00m i \u001b[38;5;129;01min\u001b[39;00m \u001b[38;5;28mrange\u001b[39m(\u001b[38;5;28mlen\u001b[39m(\u001b[38;5;28mself\u001b[39m\u001b[38;5;241m.\u001b[39mcolumns))\n\u001b[0;32m   5908\u001b[0m     ]\n\u001b[0;32m   5910\u001b[0m \u001b[38;5;28;01melse\u001b[39;00m:\n\u001b[0;32m   5911\u001b[0m     \u001b[38;5;66;03m# else, only a single dtype is given\u001b[39;00m\n\u001b[1;32m-> 5912\u001b[0m     new_data \u001b[38;5;241m=\u001b[39m \u001b[38;5;28;43mself\u001b[39;49m\u001b[38;5;241;43m.\u001b[39;49m\u001b[43m_mgr\u001b[49m\u001b[38;5;241;43m.\u001b[39;49m\u001b[43mastype\u001b[49m\u001b[43m(\u001b[49m\u001b[43mdtype\u001b[49m\u001b[38;5;241;43m=\u001b[39;49m\u001b[43mdtype\u001b[49m\u001b[43m,\u001b[49m\u001b[43m \u001b[49m\u001b[43mcopy\u001b[49m\u001b[38;5;241;43m=\u001b[39;49m\u001b[43mcopy\u001b[49m\u001b[43m,\u001b[49m\u001b[43m \u001b[49m\u001b[43merrors\u001b[49m\u001b[38;5;241;43m=\u001b[39;49m\u001b[43merrors\u001b[49m\u001b[43m)\u001b[49m\n\u001b[0;32m   5913\u001b[0m     \u001b[38;5;28;01mreturn\u001b[39;00m \u001b[38;5;28mself\u001b[39m\u001b[38;5;241m.\u001b[39m_constructor(new_data)\u001b[38;5;241m.\u001b[39m__finalize__(\u001b[38;5;28mself\u001b[39m, method\u001b[38;5;241m=\u001b[39m\u001b[38;5;124m\"\u001b[39m\u001b[38;5;124mastype\u001b[39m\u001b[38;5;124m\"\u001b[39m)\n\u001b[0;32m   5915\u001b[0m \u001b[38;5;66;03m# GH 33113: handle empty frame or series\u001b[39;00m\n",
      "File \u001b[1;32mD:\\Program Data\\Anaconda3\\lib\\site-packages\\pandas\\core\\internals\\managers.py:419\u001b[0m, in \u001b[0;36mBaseBlockManager.astype\u001b[1;34m(self, dtype, copy, errors)\u001b[0m\n\u001b[0;32m    418\u001b[0m \u001b[38;5;28;01mdef\u001b[39;00m \u001b[38;5;21mastype\u001b[39m(\u001b[38;5;28mself\u001b[39m: T, dtype, copy: \u001b[38;5;28mbool\u001b[39m \u001b[38;5;241m=\u001b[39m \u001b[38;5;28;01mFalse\u001b[39;00m, errors: \u001b[38;5;28mstr\u001b[39m \u001b[38;5;241m=\u001b[39m \u001b[38;5;124m\"\u001b[39m\u001b[38;5;124mraise\u001b[39m\u001b[38;5;124m\"\u001b[39m) \u001b[38;5;241m-\u001b[39m\u001b[38;5;241m>\u001b[39m T:\n\u001b[1;32m--> 419\u001b[0m     \u001b[38;5;28;01mreturn\u001b[39;00m \u001b[38;5;28;43mself\u001b[39;49m\u001b[38;5;241;43m.\u001b[39;49m\u001b[43mapply\u001b[49m\u001b[43m(\u001b[49m\u001b[38;5;124;43m\"\u001b[39;49m\u001b[38;5;124;43mastype\u001b[39;49m\u001b[38;5;124;43m\"\u001b[39;49m\u001b[43m,\u001b[49m\u001b[43m \u001b[49m\u001b[43mdtype\u001b[49m\u001b[38;5;241;43m=\u001b[39;49m\u001b[43mdtype\u001b[49m\u001b[43m,\u001b[49m\u001b[43m \u001b[49m\u001b[43mcopy\u001b[49m\u001b[38;5;241;43m=\u001b[39;49m\u001b[43mcopy\u001b[49m\u001b[43m,\u001b[49m\u001b[43m \u001b[49m\u001b[43merrors\u001b[49m\u001b[38;5;241;43m=\u001b[39;49m\u001b[43merrors\u001b[49m\u001b[43m)\u001b[49m\n",
      "File \u001b[1;32mD:\\Program Data\\Anaconda3\\lib\\site-packages\\pandas\\core\\internals\\managers.py:304\u001b[0m, in \u001b[0;36mBaseBlockManager.apply\u001b[1;34m(self, f, align_keys, ignore_failures, **kwargs)\u001b[0m\n\u001b[0;32m    302\u001b[0m         applied \u001b[38;5;241m=\u001b[39m b\u001b[38;5;241m.\u001b[39mapply(f, \u001b[38;5;241m*\u001b[39m\u001b[38;5;241m*\u001b[39mkwargs)\n\u001b[0;32m    303\u001b[0m     \u001b[38;5;28;01melse\u001b[39;00m:\n\u001b[1;32m--> 304\u001b[0m         applied \u001b[38;5;241m=\u001b[39m \u001b[38;5;28mgetattr\u001b[39m(b, f)(\u001b[38;5;241m*\u001b[39m\u001b[38;5;241m*\u001b[39mkwargs)\n\u001b[0;32m    305\u001b[0m \u001b[38;5;28;01mexcept\u001b[39;00m (\u001b[38;5;167;01mTypeError\u001b[39;00m, \u001b[38;5;167;01mNotImplementedError\u001b[39;00m):\n\u001b[0;32m    306\u001b[0m     \u001b[38;5;28;01mif\u001b[39;00m \u001b[38;5;129;01mnot\u001b[39;00m ignore_failures:\n",
      "File \u001b[1;32mD:\\Program Data\\Anaconda3\\lib\\site-packages\\pandas\\core\\internals\\blocks.py:580\u001b[0m, in \u001b[0;36mBlock.astype\u001b[1;34m(self, dtype, copy, errors)\u001b[0m\n\u001b[0;32m    562\u001b[0m \u001b[38;5;124;03m\"\"\"\u001b[39;00m\n\u001b[0;32m    563\u001b[0m \u001b[38;5;124;03mCoerce to the new dtype.\u001b[39;00m\n\u001b[0;32m    564\u001b[0m \n\u001b[1;32m   (...)\u001b[0m\n\u001b[0;32m    576\u001b[0m \u001b[38;5;124;03mBlock\u001b[39;00m\n\u001b[0;32m    577\u001b[0m \u001b[38;5;124;03m\"\"\"\u001b[39;00m\n\u001b[0;32m    578\u001b[0m values \u001b[38;5;241m=\u001b[39m \u001b[38;5;28mself\u001b[39m\u001b[38;5;241m.\u001b[39mvalues\n\u001b[1;32m--> 580\u001b[0m new_values \u001b[38;5;241m=\u001b[39m \u001b[43mastype_array_safe\u001b[49m\u001b[43m(\u001b[49m\u001b[43mvalues\u001b[49m\u001b[43m,\u001b[49m\u001b[43m \u001b[49m\u001b[43mdtype\u001b[49m\u001b[43m,\u001b[49m\u001b[43m \u001b[49m\u001b[43mcopy\u001b[49m\u001b[38;5;241;43m=\u001b[39;49m\u001b[43mcopy\u001b[49m\u001b[43m,\u001b[49m\u001b[43m \u001b[49m\u001b[43merrors\u001b[49m\u001b[38;5;241;43m=\u001b[39;49m\u001b[43merrors\u001b[49m\u001b[43m)\u001b[49m\n\u001b[0;32m    582\u001b[0m new_values \u001b[38;5;241m=\u001b[39m maybe_coerce_values(new_values)\n\u001b[0;32m    583\u001b[0m newb \u001b[38;5;241m=\u001b[39m \u001b[38;5;28mself\u001b[39m\u001b[38;5;241m.\u001b[39mmake_block(new_values)\n",
      "File \u001b[1;32mD:\\Program Data\\Anaconda3\\lib\\site-packages\\pandas\\core\\dtypes\\cast.py:1292\u001b[0m, in \u001b[0;36mastype_array_safe\u001b[1;34m(values, dtype, copy, errors)\u001b[0m\n\u001b[0;32m   1289\u001b[0m     dtype \u001b[38;5;241m=\u001b[39m dtype\u001b[38;5;241m.\u001b[39mnumpy_dtype\n\u001b[0;32m   1291\u001b[0m \u001b[38;5;28;01mtry\u001b[39;00m:\n\u001b[1;32m-> 1292\u001b[0m     new_values \u001b[38;5;241m=\u001b[39m \u001b[43mastype_array\u001b[49m\u001b[43m(\u001b[49m\u001b[43mvalues\u001b[49m\u001b[43m,\u001b[49m\u001b[43m \u001b[49m\u001b[43mdtype\u001b[49m\u001b[43m,\u001b[49m\u001b[43m \u001b[49m\u001b[43mcopy\u001b[49m\u001b[38;5;241;43m=\u001b[39;49m\u001b[43mcopy\u001b[49m\u001b[43m)\u001b[49m\n\u001b[0;32m   1293\u001b[0m \u001b[38;5;28;01mexcept\u001b[39;00m (\u001b[38;5;167;01mValueError\u001b[39;00m, \u001b[38;5;167;01mTypeError\u001b[39;00m):\n\u001b[0;32m   1294\u001b[0m     \u001b[38;5;66;03m# e.g. astype_nansafe can fail on object-dtype of strings\u001b[39;00m\n\u001b[0;32m   1295\u001b[0m     \u001b[38;5;66;03m#  trying to convert to float\u001b[39;00m\n\u001b[0;32m   1296\u001b[0m     \u001b[38;5;28;01mif\u001b[39;00m errors \u001b[38;5;241m==\u001b[39m \u001b[38;5;124m\"\u001b[39m\u001b[38;5;124mignore\u001b[39m\u001b[38;5;124m\"\u001b[39m:\n",
      "File \u001b[1;32mD:\\Program Data\\Anaconda3\\lib\\site-packages\\pandas\\core\\dtypes\\cast.py:1237\u001b[0m, in \u001b[0;36mastype_array\u001b[1;34m(values, dtype, copy)\u001b[0m\n\u001b[0;32m   1234\u001b[0m     values \u001b[38;5;241m=\u001b[39m values\u001b[38;5;241m.\u001b[39mastype(dtype, copy\u001b[38;5;241m=\u001b[39mcopy)\n\u001b[0;32m   1236\u001b[0m \u001b[38;5;28;01melse\u001b[39;00m:\n\u001b[1;32m-> 1237\u001b[0m     values \u001b[38;5;241m=\u001b[39m \u001b[43mastype_nansafe\u001b[49m\u001b[43m(\u001b[49m\u001b[43mvalues\u001b[49m\u001b[43m,\u001b[49m\u001b[43m \u001b[49m\u001b[43mdtype\u001b[49m\u001b[43m,\u001b[49m\u001b[43m \u001b[49m\u001b[43mcopy\u001b[49m\u001b[38;5;241;43m=\u001b[39;49m\u001b[43mcopy\u001b[49m\u001b[43m)\u001b[49m\n\u001b[0;32m   1239\u001b[0m \u001b[38;5;66;03m# in pandas we don't store numpy str dtypes, so convert to object\u001b[39;00m\n\u001b[0;32m   1240\u001b[0m \u001b[38;5;28;01mif\u001b[39;00m \u001b[38;5;28misinstance\u001b[39m(dtype, np\u001b[38;5;241m.\u001b[39mdtype) \u001b[38;5;129;01mand\u001b[39;00m \u001b[38;5;28missubclass\u001b[39m(values\u001b[38;5;241m.\u001b[39mdtype\u001b[38;5;241m.\u001b[39mtype, \u001b[38;5;28mstr\u001b[39m):\n",
      "File \u001b[1;32mD:\\Program Data\\Anaconda3\\lib\\site-packages\\pandas\\core\\dtypes\\cast.py:1154\u001b[0m, in \u001b[0;36mastype_nansafe\u001b[1;34m(arr, dtype, copy, skipna)\u001b[0m\n\u001b[0;32m   1150\u001b[0m \u001b[38;5;28;01melif\u001b[39;00m is_object_dtype(arr\u001b[38;5;241m.\u001b[39mdtype):\n\u001b[0;32m   1151\u001b[0m \n\u001b[0;32m   1152\u001b[0m     \u001b[38;5;66;03m# work around NumPy brokenness, #1987\u001b[39;00m\n\u001b[0;32m   1153\u001b[0m     \u001b[38;5;28;01mif\u001b[39;00m np\u001b[38;5;241m.\u001b[39missubdtype(dtype\u001b[38;5;241m.\u001b[39mtype, np\u001b[38;5;241m.\u001b[39minteger):\n\u001b[1;32m-> 1154\u001b[0m         \u001b[38;5;28;01mreturn\u001b[39;00m \u001b[43mlib\u001b[49m\u001b[38;5;241;43m.\u001b[39;49m\u001b[43mastype_intsafe\u001b[49m\u001b[43m(\u001b[49m\u001b[43marr\u001b[49m\u001b[43m,\u001b[49m\u001b[43m \u001b[49m\u001b[43mdtype\u001b[49m\u001b[43m)\u001b[49m\n\u001b[0;32m   1156\u001b[0m     \u001b[38;5;66;03m# if we have a datetime/timedelta array of objects\u001b[39;00m\n\u001b[0;32m   1157\u001b[0m     \u001b[38;5;66;03m# then coerce to a proper dtype and recall astype_nansafe\u001b[39;00m\n\u001b[0;32m   1159\u001b[0m     \u001b[38;5;28;01melif\u001b[39;00m is_datetime64_dtype(dtype):\n",
      "File \u001b[1;32mD:\\Program Data\\Anaconda3\\lib\\site-packages\\pandas\\_libs\\lib.pyx:668\u001b[0m, in \u001b[0;36mpandas._libs.lib.astype_intsafe\u001b[1;34m()\u001b[0m\n",
      "\u001b[1;31mValueError\u001b[0m: cannot convert float NaN to integer"
     ]
    }
   ],
   "source": [
    "df['age_1'] = df['age'].astype(\"int64\")\n",
    "df.info()"
   ]
  },
  {
   "cell_type": "markdown",
   "id": "4a0fb19b",
   "metadata": {},
   "source": [
    "* astype() >> values 가 NaN 을 포함하고 있으면 에러 발생\n",
    "* pd.to_numeric() >> NaN 을 무시하고 가능한 것만 타입 변경 ( float64 형태 :: NaN 이 포함된 경우는 float64 형태로 고정 )"
   ]
  },
  {
   "cell_type": "code",
   "execution_count": 15,
   "id": "f931a09f",
   "metadata": {},
   "outputs": [
    {
     "data": {
      "text/html": [
       "<div>\n",
       "<style scoped>\n",
       "    .dataframe tbody tr th:only-of-type {\n",
       "        vertical-align: middle;\n",
       "    }\n",
       "\n",
       "    .dataframe tbody tr th {\n",
       "        vertical-align: top;\n",
       "    }\n",
       "\n",
       "    .dataframe thead th {\n",
       "        text-align: right;\n",
       "    }\n",
       "</style>\n",
       "<table border=\"1\" class=\"dataframe\">\n",
       "  <thead>\n",
       "    <tr style=\"text-align: right;\">\n",
       "      <th></th>\n",
       "      <th>name</th>\n",
       "      <th>age</th>\n",
       "      <th>age_1</th>\n",
       "    </tr>\n",
       "  </thead>\n",
       "  <tbody>\n",
       "    <tr>\n",
       "      <th>0</th>\n",
       "      <td>홍길동</td>\n",
       "      <td>25</td>\n",
       "      <td>25.0</td>\n",
       "    </tr>\n",
       "    <tr>\n",
       "      <th>1</th>\n",
       "      <td>김수정</td>\n",
       "      <td>NaN</td>\n",
       "      <td>NaN</td>\n",
       "    </tr>\n",
       "    <tr>\n",
       "      <th>2</th>\n",
       "      <td>이민정</td>\n",
       "      <td>45</td>\n",
       "      <td>45.0</td>\n",
       "    </tr>\n",
       "  </tbody>\n",
       "</table>\n",
       "</div>"
      ],
      "text/plain": [
       "  name  age  age_1\n",
       "0  홍길동   25   25.0\n",
       "1  김수정  NaN    NaN\n",
       "2  이민정   45   45.0"
      ]
     },
     "execution_count": 15,
     "metadata": {},
     "output_type": "execute_result"
    }
   ],
   "source": [
    "df['age_1'] = pd.to_numeric(df['age'])\n",
    "df"
   ]
  },
  {
   "cell_type": "code",
   "execution_count": 16,
   "id": "f9619e60",
   "metadata": {},
   "outputs": [],
   "source": [
    "pd.to_numeric?"
   ]
  },
  {
   "cell_type": "code",
   "execution_count": 17,
   "id": "be550ff4",
   "metadata": {},
   "outputs": [
    {
     "data": {
      "text/plain": [
       "행정기관\n",
       "전국           1198172\n",
       "서울특별시         216517\n",
       "부산광역시          67855\n",
       "대구광역시          53733\n",
       "인천광역시          69046\n",
       "광주광역시          37318\n",
       "대전광역시          38655\n",
       "울산광역시          29791\n",
       "경기도           320571\n",
       "강원도            32255\n",
       "충청북도           37743\n",
       "충청남도           53677\n",
       "전라북도           41828\n",
       "전라남도           41332\n",
       "경상북도           59329\n",
       "경상남도           83563\n",
       "제주특별자치도        14959\n",
       "Name: 0~4세, dtype: int64"
      ]
     },
     "execution_count": 17,
     "metadata": {},
     "output_type": "execute_result"
    }
   ],
   "source": [
    "male_df['0~4세'].str.replace(\",\", \"\").astype(\"int64\")"
   ]
  },
  {
   "cell_type": "code",
   "execution_count": 18,
   "id": "bd89251d",
   "metadata": {},
   "outputs": [
    {
     "data": {
      "text/plain": [
       "행정기관\n",
       "전국           24234\n",
       "서울특별시         4926\n",
       "부산광역시         1232\n",
       "대구광역시          778\n",
       "인천광역시         1253\n",
       "광주광역시          427\n",
       "대전광역시          609\n",
       "울산광역시          238\n",
       "경기도           5135\n",
       "강원도           1228\n",
       "충청북도           939\n",
       "충청남도          1454\n",
       "전라북도          1192\n",
       "전라남도          1342\n",
       "경상북도          1856\n",
       "경상남도          1359\n",
       "제주특별자치도        266\n",
       "Name: 90~94세, dtype: int64"
      ]
     },
     "execution_count": 18,
     "metadata": {},
     "output_type": "execute_result"
    }
   ],
   "source": [
    "male_df['90~94세'].str.replace(\",\", \"\").astype(\"int64\")"
   ]
  },
  {
   "cell_type": "code",
   "execution_count": 19,
   "id": "81284f66",
   "metadata": {},
   "outputs": [],
   "source": [
    "ap_male = male_df.apply(lambda x : x.str.replace(\",\", \"\").astype(\"int64\"))"
   ]
  },
  {
   "cell_type": "code",
   "execution_count": 20,
   "id": "92e77a21",
   "metadata": {},
   "outputs": [
    {
     "name": "stdout",
     "output_type": "stream",
     "text": [
      "<class 'pandas.core.frame.DataFrame'>\n",
      "Index: 17 entries, 전국   to 제주특별자치도  \n",
      "Data columns (total 21 columns):\n",
      " #   Column   Non-Null Count  Dtype\n",
      "---  ------   --------------  -----\n",
      " 0   0~4세     17 non-null     int64\n",
      " 1   5~9세     17 non-null     int64\n",
      " 2   10~14세   17 non-null     int64\n",
      " 3   15~19세   17 non-null     int64\n",
      " 4   20~24세   17 non-null     int64\n",
      " 5   25~29세   17 non-null     int64\n",
      " 6   30~34세   17 non-null     int64\n",
      " 7   35~39세   17 non-null     int64\n",
      " 8   40~44세   17 non-null     int64\n",
      " 9   45~49세   17 non-null     int64\n",
      " 10  50~54세   17 non-null     int64\n",
      " 11  55~59세   17 non-null     int64\n",
      " 12  60~64세   17 non-null     int64\n",
      " 13  65~69세   17 non-null     int64\n",
      " 14  70~74세   17 non-null     int64\n",
      " 15  75~79세   17 non-null     int64\n",
      " 16  80~84세   17 non-null     int64\n",
      " 17  85~89세   17 non-null     int64\n",
      " 18  90~94세   17 non-null     int64\n",
      " 19  95~99세   17 non-null     int64\n",
      " 20  100세 이상  17 non-null     int64\n",
      "dtypes: int64(21)\n",
      "memory usage: 3.5+ KB\n"
     ]
    }
   ],
   "source": [
    "ap_male.info()"
   ]
  },
  {
   "cell_type": "code",
   "execution_count": 21,
   "id": "32e45740",
   "metadata": {},
   "outputs": [],
   "source": [
    "ap_female = female_df.apply(lambda x : x.str.replace(\",\", \"\").astype(\"int64\"))"
   ]
  },
  {
   "cell_type": "code",
   "execution_count": 22,
   "id": "b914c668",
   "metadata": {},
   "outputs": [
    {
     "name": "stdout",
     "output_type": "stream",
     "text": [
      "<class 'pandas.core.frame.DataFrame'>\n",
      "Index: 17 entries, 전국   to 제주특별자치도  \n",
      "Data columns (total 21 columns):\n",
      " #   Column   Non-Null Count  Dtype\n",
      "---  ------   --------------  -----\n",
      " 0   0~4세     17 non-null     int64\n",
      " 1   5~9세     17 non-null     int64\n",
      " 2   10~14세   17 non-null     int64\n",
      " 3   15~19세   17 non-null     int64\n",
      " 4   20~24세   17 non-null     int64\n",
      " 5   25~29세   17 non-null     int64\n",
      " 6   30~34세   17 non-null     int64\n",
      " 7   35~39세   17 non-null     int64\n",
      " 8   40~44세   17 non-null     int64\n",
      " 9   45~49세   17 non-null     int64\n",
      " 10  50~54세   17 non-null     int64\n",
      " 11  55~59세   17 non-null     int64\n",
      " 12  60~64세   17 non-null     int64\n",
      " 13  65~69세   17 non-null     int64\n",
      " 14  70~74세   17 non-null     int64\n",
      " 15  75~79세   17 non-null     int64\n",
      " 16  80~84세   17 non-null     int64\n",
      " 17  85~89세   17 non-null     int64\n",
      " 18  90~94세   17 non-null     int64\n",
      " 19  95~99세   17 non-null     int64\n",
      " 20  100세 이상  17 non-null     int64\n",
      "dtypes: int64(21)\n",
      "memory usage: 2.9+ KB\n"
     ]
    }
   ],
   "source": [
    "ap_female.info()"
   ]
  },
  {
   "cell_type": "markdown",
   "id": "48b6338e",
   "metadata": {},
   "source": [
    "### 연령별 인구현황 피라미드 그리기"
   ]
  },
  {
   "cell_type": "code",
   "execution_count": 23,
   "id": "105d0f05",
   "metadata": {},
   "outputs": [],
   "source": [
    "import matplotlib.pyplot as plt"
   ]
  },
  {
   "cell_type": "code",
   "execution_count": 24,
   "id": "d3e93d69",
   "metadata": {},
   "outputs": [],
   "source": [
    "plt.rcParams['axes.unicode_minus'] = False # \" - \" 기호 Unicode 처리\n",
    "plt.rcParams['font.family'] = 'Malgun Gothic' # 한글 폰트 설정"
   ]
  },
  {
   "cell_type": "code",
   "execution_count": 32,
   "id": "349710e2",
   "metadata": {},
   "outputs": [
    {
     "data": {
      "image/png": "[encoded data removed]",
      "text/plain": [
       "<Figure size 720x504 with 1 Axes>"
      ]
     },
     "metadata": {
      "needs_background": "light"
     },
     "output_type": "display_data"
    }
   ],
   "source": [
    "plt.figure(figsize=(10, 7))\n",
    "plt.title('2012 5월 기준 대한민국 인구 피라미드')\n",
    "plt.barh(y=ap_male.columns, width=((ap_male.iloc[0] // 10000) * -1))\n",
    "plt.barh(y=ap_female.columns, width=ap_female.iloc[0] // 10000)\n",
    "plt.savefig('2012_인구피라미드.png')\n",
    "plt.show()"
   ]
  },
  {
   "cell_type": "markdown",
   "id": "d71d05fd",
   "metadata": {},
   "source": [
    "***"
   ]
  },
  {
   "cell_type": "markdown",
   "id": "fc3098ef",
   "metadata": {},
   "source": [
    "## 2022 년 5월 기준"
   ]
  },
  {
   "cell_type": "code",
   "execution_count": 43,
   "id": "e260cf90",
   "metadata": {},
   "outputs": [
    {
     "data": {
      "text/html": [
       "<div>\n",
       "<style scoped>\n",
       "    .dataframe tbody tr th:only-of-type {\n",
       "        vertical-align: middle;\n",
       "    }\n",
       "\n",
       "    .dataframe tbody tr th {\n",
       "        vertical-align: top;\n",
       "    }\n",
       "\n",
       "    .dataframe thead th {\n",
       "        text-align: right;\n",
       "    }\n",
       "</style>\n",
       "<table border=\"1\" class=\"dataframe\">\n",
       "  <thead>\n",
       "    <tr style=\"text-align: right;\">\n",
       "      <th></th>\n",
       "      <th>0~4세</th>\n",
       "      <th>5~9세</th>\n",
       "      <th>10~14세</th>\n",
       "      <th>15~19세</th>\n",
       "      <th>20~24세</th>\n",
       "      <th>25~29세</th>\n",
       "      <th>30~34세</th>\n",
       "      <th>35~39세</th>\n",
       "      <th>40~44세</th>\n",
       "      <th>45~49세</th>\n",
       "      <th>...</th>\n",
       "      <th>55~59세</th>\n",
       "      <th>60~64세</th>\n",
       "      <th>65~69세</th>\n",
       "      <th>70~74세</th>\n",
       "      <th>75~79세</th>\n",
       "      <th>80~84세</th>\n",
       "      <th>85~89세</th>\n",
       "      <th>90~94세</th>\n",
       "      <th>95~99세</th>\n",
       "      <th>100세 이상</th>\n",
       "    </tr>\n",
       "    <tr>\n",
       "      <th>행정기관</th>\n",
       "      <th></th>\n",
       "      <th></th>\n",
       "      <th></th>\n",
       "      <th></th>\n",
       "      <th></th>\n",
       "      <th></th>\n",
       "      <th></th>\n",
       "      <th></th>\n",
       "      <th></th>\n",
       "      <th></th>\n",
       "      <th></th>\n",
       "      <th></th>\n",
       "      <th></th>\n",
       "      <th></th>\n",
       "      <th></th>\n",
       "      <th></th>\n",
       "      <th></th>\n",
       "      <th></th>\n",
       "      <th></th>\n",
       "      <th></th>\n",
       "      <th></th>\n",
       "    </tr>\n",
       "  </thead>\n",
       "  <tbody>\n",
       "    <tr>\n",
       "      <th>전국</th>\n",
       "      <td>759706</td>\n",
       "      <td>1117361</td>\n",
       "      <td>1218043</td>\n",
       "      <td>1204518</td>\n",
       "      <td>1588042</td>\n",
       "      <td>1853851</td>\n",
       "      <td>1698548</td>\n",
       "      <td>1746787</td>\n",
       "      <td>2050010</td>\n",
       "      <td>2085754</td>\n",
       "      <td>...</td>\n",
       "      <td>2087663</td>\n",
       "      <td>2066094</td>\n",
       "      <td>1485553</td>\n",
       "      <td>1015905</td>\n",
       "      <td>705253</td>\n",
       "      <td>478902</td>\n",
       "      <td>204130</td>\n",
       "      <td>51804</td>\n",
       "      <td>9171</td>\n",
       "      <td>1522</td>\n",
       "    </tr>\n",
       "    <tr>\n",
       "      <th>서울특별시</th>\n",
       "      <td>122303</td>\n",
       "      <td>169174</td>\n",
       "      <td>188388</td>\n",
       "      <td>197467</td>\n",
       "      <td>282373</td>\n",
       "      <td>395840</td>\n",
       "      <td>371896</td>\n",
       "      <td>343182</td>\n",
       "      <td>365021</td>\n",
       "      <td>363645</td>\n",
       "      <td>...</td>\n",
       "      <td>346504</td>\n",
       "      <td>344787</td>\n",
       "      <td>264677</td>\n",
       "      <td>186107</td>\n",
       "      <td>135737</td>\n",
       "      <td>88066</td>\n",
       "      <td>34585</td>\n",
       "      <td>9143</td>\n",
       "      <td>1844</td>\n",
       "      <td>424</td>\n",
       "    </tr>\n",
       "    <tr>\n",
       "      <th>부산광역시</th>\n",
       "      <td>43482</td>\n",
       "      <td>66375</td>\n",
       "      <td>68822</td>\n",
       "      <td>67783</td>\n",
       "      <td>97435</td>\n",
       "      <td>113345</td>\n",
       "      <td>101652</td>\n",
       "      <td>104225</td>\n",
       "      <td>127501</td>\n",
       "      <td>124767</td>\n",
       "      <td>...</td>\n",
       "      <td>130565</td>\n",
       "      <td>143463</td>\n",
       "      <td>115810</td>\n",
       "      <td>82152</td>\n",
       "      <td>55163</td>\n",
       "      <td>34448</td>\n",
       "      <td>12811</td>\n",
       "      <td>2979</td>\n",
       "      <td>453</td>\n",
       "      <td>81</td>\n",
       "    </tr>\n",
       "  </tbody>\n",
       "</table>\n",
       "<p>3 rows × 21 columns</p>\n",
       "</div>"
      ],
      "text/plain": [
       "           0~4세     5~9세   10~14세   15~19세   20~24세   25~29세   30~34세  \\\n",
       "행정기관                                                                    \n",
       "전국       759706  1117361  1218043  1204518  1588042  1853851  1698548   \n",
       "서울특별시    122303   169174   188388   197467   282373   395840   371896   \n",
       "부산광역시     43482    66375    68822    67783    97435   113345   101652   \n",
       "\n",
       "          35~39세   40~44세   45~49세  ...   55~59세   60~64세   65~69세   70~74세  \\\n",
       "행정기관                                ...                                       \n",
       "전국       1746787  2050010  2085754  ...  2087663  2066094  1485553  1015905   \n",
       "서울특별시     343182   365021   363645  ...   346504   344787   264677   186107   \n",
       "부산광역시     104225   127501   124767  ...   130565   143463   115810    82152   \n",
       "\n",
       "         75~79세  80~84세  85~89세  90~94세  95~99세  100세 이상  \n",
       "행정기관                                                      \n",
       "전국       705253  478902  204130   51804    9171     1522  \n",
       "서울특별시    135737   88066   34585    9143    1844      424  \n",
       "부산광역시     55163   34448   12811    2979     453       81  \n",
       "\n",
       "[3 rows x 21 columns]"
      ]
     },
     "execution_count": 43,
     "metadata": {},
     "output_type": "execute_result"
    }
   ],
   "source": [
    "male_df = pd.read_excel(\"../../data/dataset/202205_202205_연령별인구현황_월간.xlsx\",skiprows=3, usecols=\"B,E:Y\", index_col=\"행정기관\", thousands=\",\")\n",
    "male_df.head(3)"
   ]
  },
  {
   "cell_type": "code",
   "execution_count": 41,
   "id": "61ef2b99",
   "metadata": {},
   "outputs": [
    {
     "data": {
      "text/html": [
       "<div>\n",
       "<style scoped>\n",
       "    .dataframe tbody tr th:only-of-type {\n",
       "        vertical-align: middle;\n",
       "    }\n",
       "\n",
       "    .dataframe tbody tr th {\n",
       "        vertical-align: top;\n",
       "    }\n",
       "\n",
       "    .dataframe thead th {\n",
       "        text-align: right;\n",
       "    }\n",
       "</style>\n",
       "<table border=\"1\" class=\"dataframe\">\n",
       "  <thead>\n",
       "    <tr style=\"text-align: right;\">\n",
       "      <th></th>\n",
       "      <th>0~4세.1</th>\n",
       "      <th>5~9세.1</th>\n",
       "      <th>10~14세.1</th>\n",
       "      <th>15~19세.1</th>\n",
       "      <th>20~24세.1</th>\n",
       "      <th>25~29세.1</th>\n",
       "      <th>30~34세.1</th>\n",
       "      <th>35~39세.1</th>\n",
       "      <th>40~44세.1</th>\n",
       "      <th>45~49세.1</th>\n",
       "      <th>...</th>\n",
       "      <th>55~59세.1</th>\n",
       "      <th>60~64세.1</th>\n",
       "      <th>65~69세.1</th>\n",
       "      <th>70~74세.1</th>\n",
       "      <th>75~79세.1</th>\n",
       "      <th>80~84세.1</th>\n",
       "      <th>85~89세.1</th>\n",
       "      <th>90~94세.1</th>\n",
       "      <th>95~99세.1</th>\n",
       "      <th>100세 이상.1</th>\n",
       "    </tr>\n",
       "    <tr>\n",
       "      <th>행정기관</th>\n",
       "      <th></th>\n",
       "      <th></th>\n",
       "      <th></th>\n",
       "      <th></th>\n",
       "      <th></th>\n",
       "      <th></th>\n",
       "      <th></th>\n",
       "      <th></th>\n",
       "      <th></th>\n",
       "      <th></th>\n",
       "      <th></th>\n",
       "      <th></th>\n",
       "      <th></th>\n",
       "      <th></th>\n",
       "      <th></th>\n",
       "      <th></th>\n",
       "      <th></th>\n",
       "      <th></th>\n",
       "      <th></th>\n",
       "      <th></th>\n",
       "      <th></th>\n",
       "    </tr>\n",
       "  </thead>\n",
       "  <tbody>\n",
       "    <tr>\n",
       "      <th>전국</th>\n",
       "      <td>721564</td>\n",
       "      <td>1064061</td>\n",
       "      <td>1149860</td>\n",
       "      <td>1122765</td>\n",
       "      <td>1463420</td>\n",
       "      <td>1659441</td>\n",
       "      <td>1553517</td>\n",
       "      <td>1661817</td>\n",
       "      <td>1981740</td>\n",
       "      <td>2024834</td>\n",
       "      <td>...</td>\n",
       "      <td>2037962</td>\n",
       "      <td>2107700</td>\n",
       "      <td>1585907</td>\n",
       "      <td>1152024</td>\n",
       "      <td>909829</td>\n",
       "      <td>766088</td>\n",
       "      <td>449821</td>\n",
       "      <td>172086</td>\n",
       "      <td>39159</td>\n",
       "      <td>6888</td>\n",
       "    </tr>\n",
       "    <tr>\n",
       "      <th>서울특별시</th>\n",
       "      <td>114684</td>\n",
       "      <td>161685</td>\n",
       "      <td>178087</td>\n",
       "      <td>189666</td>\n",
       "      <td>315664</td>\n",
       "      <td>420232</td>\n",
       "      <td>372131</td>\n",
       "      <td>344168</td>\n",
       "      <td>370719</td>\n",
       "      <td>372547</td>\n",
       "      <td>...</td>\n",
       "      <td>358130</td>\n",
       "      <td>377885</td>\n",
       "      <td>302667</td>\n",
       "      <td>218732</td>\n",
       "      <td>167591</td>\n",
       "      <td>120724</td>\n",
       "      <td>64698</td>\n",
       "      <td>25200</td>\n",
       "      <td>6341</td>\n",
       "      <td>1299</td>\n",
       "    </tr>\n",
       "    <tr>\n",
       "      <th>부산광역시</th>\n",
       "      <td>41307</td>\n",
       "      <td>63063</td>\n",
       "      <td>65278</td>\n",
       "      <td>63507</td>\n",
       "      <td>92632</td>\n",
       "      <td>103933</td>\n",
       "      <td>95156</td>\n",
       "      <td>100234</td>\n",
       "      <td>123854</td>\n",
       "      <td>123859</td>\n",
       "      <td>...</td>\n",
       "      <td>138875</td>\n",
       "      <td>159928</td>\n",
       "      <td>131015</td>\n",
       "      <td>97111</td>\n",
       "      <td>69359</td>\n",
       "      <td>53315</td>\n",
       "      <td>27784</td>\n",
       "      <td>10258</td>\n",
       "      <td>2255</td>\n",
       "      <td>353</td>\n",
       "    </tr>\n",
       "  </tbody>\n",
       "</table>\n",
       "<p>3 rows × 21 columns</p>\n",
       "</div>"
      ],
      "text/plain": [
       "         0~4세.1   5~9세.1  10~14세.1  15~19세.1  20~24세.1  25~29세.1  30~34세.1  \\\n",
       "행정기관                                                                         \n",
       "전국       721564  1064061   1149860   1122765   1463420   1659441   1553517   \n",
       "서울특별시    114684   161685    178087    189666    315664    420232    372131   \n",
       "부산광역시     41307    63063     65278     63507     92632    103933     95156   \n",
       "\n",
       "         35~39세.1  40~44세.1  45~49세.1  ...  55~59세.1  60~64세.1  65~69세.1  \\\n",
       "행정기관                                   ...                                 \n",
       "전국        1661817   1981740   2024834  ...   2037962   2107700   1585907   \n",
       "서울특별시      344168    370719    372547  ...    358130    377885    302667   \n",
       "부산광역시      100234    123854    123859  ...    138875    159928    131015   \n",
       "\n",
       "         70~74세.1  75~79세.1  80~84세.1  85~89세.1  90~94세.1  95~99세.1  100세 이상.1  \n",
       "행정기관                                                                            \n",
       "전국        1152024    909829    766088    449821    172086     39159       6888  \n",
       "서울특별시      218732    167591    120724     64698     25200      6341       1299  \n",
       "부산광역시       97111     69359     53315     27784     10258      2255        353  \n",
       "\n",
       "[3 rows x 21 columns]"
      ]
     },
     "execution_count": 41,
     "metadata": {},
     "output_type": "execute_result"
    }
   ],
   "source": [
    "female_df = pd.read_excel(\"../../data/dataset/202205_202205_연령별인구현황_월간.xlsx\", skiprows=3, usecols=\"B,AB:AV\", index_col=\"행정기관\", thousands=\",\")\n",
    "female_df.head(3)"
   ]
  },
  {
   "cell_type": "code",
   "execution_count": 37,
   "id": "0eec0f4d",
   "metadata": {},
   "outputs": [],
   "source": [
    "female_df.columns = male_df.columns # 열 이름 통일"
   ]
  },
  {
   "cell_type": "code",
   "execution_count": 44,
   "id": "12321f7c",
   "metadata": {},
   "outputs": [
    {
     "data": {
      "image/png": "[encoded data removed]",
      "text/plain": [
       "<Figure size 720x504 with 1 Axes>"
      ]
     },
     "metadata": {
      "needs_background": "light"
     },
     "output_type": "display_data"
    }
   ],
   "source": [
    "plt.figure(figsize=(10, 7))\n",
    "plt.title('2022 5월 기준 대한민국 인구 피라미드')\n",
    "plt.barh(y=ap_male.columns, width=-ap_male.iloc[0] // 10000)\n",
    "plt.barh(y=ap_female.columns, width=ap_female.iloc[0] // 10000)\n",
    "plt.savefig('2022_인구피라미드.png')\n",
    "plt.show()"
   ]
  },
  {
   "cell_type": "code",
   "execution_count": null,
   "id": "c20f527c",
   "metadata": {},
   "outputs": [],
   "source": []
  }
 ],
 "metadata": {
  "kernelspec": {
   "display_name": "Python 3 (ipykernel)",
   "language": "python",
   "name": "python3"
  },
  "language_info": {
   "codemirror_mode": {
    "name": "ipython",
    "version": 3
   },
   "file_extension": ".py",
   "mimetype": "text/x-python",
   "name": "python",
   "nbconvert_exporter": "python",
   "pygments_lexer": "ipython3",
   "version": "3.9.12"
  }
 },
 "nbformat": 4,
 "nbformat_minor": 5
}
