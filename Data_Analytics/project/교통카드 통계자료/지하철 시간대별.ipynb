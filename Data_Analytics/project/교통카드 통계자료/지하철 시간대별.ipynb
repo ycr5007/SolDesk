{
 "cells": [
  {
   "cell_type": "code",
   "execution_count": 1,
   "id": "6c8ede04",
   "metadata": {},
   "outputs": [],
   "source": [
    "import seaborn as sns\n",
    "\n",
    "sns.set(font_scale=1) # seaborn 기초 세팅"
   ]
  },
  {
   "cell_type": "code",
   "execution_count": 2,
   "id": "d42d3ae2",
   "metadata": {},
   "outputs": [],
   "source": [
    "import pandas as pd\n",
    "import matplotlib.pyplot as plt\n",
    "import numpy as np\n",
    "\n",
    "plt.rcParams['axes.unicode_minus'] = False # \" - \" 기호 Unicode 처리\n",
    "plt.rcParams['font.family'] = 'Malgun Gothic' # 한글 폰트 설정"
   ]
  },
  {
   "cell_type": "code",
   "execution_count": 3,
   "id": "26e48f11",
   "metadata": {},
   "outputs": [],
   "source": [
    "import warnings\n",
    "warnings.simplefilter(\"ignore\")"
   ]
  },
  {
   "cell_type": "markdown",
   "id": "42ede0b8",
   "metadata": {},
   "source": [
    "### 데이터 로드\n",
    "- 파일내 특정 시트 호출하기"
   ]
  },
  {
   "cell_type": "code",
   "execution_count": 21,
   "id": "03bfe1f5",
   "metadata": {},
   "outputs": [
    {
     "data": {
      "text/html": [
       "<div>\n",
       "<style scoped>\n",
       "    .dataframe tbody tr th:only-of-type {\n",
       "        vertical-align: middle;\n",
       "    }\n",
       "\n",
       "    .dataframe tbody tr th {\n",
       "        vertical-align: top;\n",
       "    }\n",
       "\n",
       "    .dataframe thead th {\n",
       "        text-align: right;\n",
       "    }\n",
       "</style>\n",
       "<table border=\"1\" class=\"dataframe\">\n",
       "  <thead>\n",
       "    <tr style=\"text-align: right;\">\n",
       "      <th></th>\n",
       "      <th>Unnamed: 1</th>\n",
       "      <th>Unnamed: 3</th>\n",
       "      <th>승차</th>\n",
       "      <th>하차</th>\n",
       "      <th>승차.1</th>\n",
       "      <th>하차.1</th>\n",
       "      <th>승차.2</th>\n",
       "      <th>하차.2</th>\n",
       "      <th>승차.3</th>\n",
       "      <th>하차.3</th>\n",
       "      <th>...</th>\n",
       "      <th>승차.17</th>\n",
       "      <th>하차.17</th>\n",
       "      <th>승차.18</th>\n",
       "      <th>하차.18</th>\n",
       "      <th>승차.19</th>\n",
       "      <th>하차.19</th>\n",
       "      <th>승차.20</th>\n",
       "      <th>하차.20</th>\n",
       "      <th>승차.21</th>\n",
       "      <th>하차.21</th>\n",
       "    </tr>\n",
       "  </thead>\n",
       "  <tbody>\n",
       "    <tr>\n",
       "      <th>0</th>\n",
       "      <td>1호선</td>\n",
       "      <td>서울역</td>\n",
       "      <td>646</td>\n",
       "      <td>24</td>\n",
       "      <td>8433</td>\n",
       "      <td>7694</td>\n",
       "      <td>12608</td>\n",
       "      <td>46963</td>\n",
       "      <td>39233</td>\n",
       "      <td>100397</td>\n",
       "      <td>...</td>\n",
       "      <td>76345</td>\n",
       "      <td>35471</td>\n",
       "      <td>51224</td>\n",
       "      <td>26045</td>\n",
       "      <td>20385</td>\n",
       "      <td>15480</td>\n",
       "      <td>158</td>\n",
       "      <td>1332</td>\n",
       "      <td>1</td>\n",
       "      <td>4</td>\n",
       "    </tr>\n",
       "    <tr>\n",
       "      <th>1</th>\n",
       "      <td>1호선</td>\n",
       "      <td>시청</td>\n",
       "      <td>271</td>\n",
       "      <td>7</td>\n",
       "      <td>3133</td>\n",
       "      <td>4802</td>\n",
       "      <td>3321</td>\n",
       "      <td>23621</td>\n",
       "      <td>6647</td>\n",
       "      <td>62427</td>\n",
       "      <td>...</td>\n",
       "      <td>43072</td>\n",
       "      <td>5598</td>\n",
       "      <td>29032</td>\n",
       "      <td>4091</td>\n",
       "      <td>9254</td>\n",
       "      <td>2938</td>\n",
       "      <td>72</td>\n",
       "      <td>422</td>\n",
       "      <td>0</td>\n",
       "      <td>2</td>\n",
       "    </tr>\n",
       "    <tr>\n",
       "      <th>2</th>\n",
       "      <td>1호선</td>\n",
       "      <td>종각</td>\n",
       "      <td>91</td>\n",
       "      <td>9</td>\n",
       "      <td>4007</td>\n",
       "      <td>3960</td>\n",
       "      <td>3682</td>\n",
       "      <td>22533</td>\n",
       "      <td>5814</td>\n",
       "      <td>95376</td>\n",
       "      <td>...</td>\n",
       "      <td>80861</td>\n",
       "      <td>7772</td>\n",
       "      <td>65832</td>\n",
       "      <td>5368</td>\n",
       "      <td>27781</td>\n",
       "      <td>3590</td>\n",
       "      <td>315</td>\n",
       "      <td>394</td>\n",
       "      <td>0</td>\n",
       "      <td>1</td>\n",
       "    </tr>\n",
       "  </tbody>\n",
       "</table>\n",
       "<p>3 rows × 46 columns</p>\n",
       "</div>"
      ],
      "text/plain": [
       "  Unnamed: 1 Unnamed: 3   승차  하차  승차.1  하차.1   승차.2   하차.2   승차.3    하차.3  \\\n",
       "0        1호선        서울역  646  24  8433  7694  12608  46963  39233  100397   \n",
       "1        1호선         시청  271   7  3133  4802   3321  23621   6647   62427   \n",
       "2        1호선         종각   91   9  4007  3960   3682  22533   5814   95376   \n",
       "\n",
       "   ...  승차.17  하차.17  승차.18  하차.18  승차.19  하차.19  승차.20  하차.20  승차.21  하차.21  \n",
       "0  ...  76345  35471  51224  26045  20385  15480    158   1332      1      4  \n",
       "1  ...  43072   5598  29032   4091   9254   2938     72    422      0      2  \n",
       "2  ...  80861   7772  65832   5368  27781   3590    315    394      0      1  \n",
       "\n",
       "[3 rows x 46 columns]"
      ]
     },
     "execution_count": 21,
     "metadata": {},
     "output_type": "execute_result"
    }
   ],
   "source": [
    "# sheet_name = 3\n",
    "df = pd.read_excel('../../data/dataset/2022년 06월  교통카드 통계자료.xls', sheet_name=3, thousands=',', usecols='B, D:AV', skiprows=1)\n",
    "df.head(3)"
   ]
  },
  {
   "cell_type": "markdown",
   "id": "b490f807",
   "metadata": {},
   "source": [
    "### 컬럼명 변경\n",
    "- Unnamed: 1 > 호선명\n",
    "- Unnamed: 3 > 지하철역\n",
    "- 승차 > 승차_시간 ( 4 ~ 26 )\n",
    "- 하차 > 하차_시간 ( 4 ~ 26 )"
   ]
  },
  {
   "cell_type": "code",
   "execution_count": 22,
   "id": "428189b9",
   "metadata": {},
   "outputs": [],
   "source": [
    "df.rename(columns={'Unnamed: 1':'호선명', 'Unnamed: 3':'지하철역'}, inplace=True)"
   ]
  },
  {
   "cell_type": "code",
   "execution_count": 23,
   "id": "e5065c7d",
   "metadata": {},
   "outputs": [],
   "source": [
    "df.rename(columns={'승차':'승차_4','하차':'하차_4'}, inplace=True)\n",
    "for h in range(4, 27):\n",
    "    df.rename(columns={'승차.' + str(h - 4):'승차_' + str(h), '하차.' + str(h - 4):'하차_' + str(h)}, inplace=True)"
   ]
  },
  {
   "cell_type": "code",
   "execution_count": 24,
   "id": "59ddab36",
   "metadata": {},
   "outputs": [
    {
     "data": {
      "text/plain": [
       "Index(['호선명', '지하철역', '승차_4', '하차_4', '승차_5', '하차_5', '승차_6', '하차_6', '승차_7',\n",
       "       '하차_7', '승차_8', '하차_8', '승차_9', '하차_9', '승차_10', '하차_10', '승차_11',\n",
       "       '하차_11', '승차_12', '하차_12', '승차_13', '하차_13', '승차_14', '하차_14', '승차_15',\n",
       "       '하차_15', '승차_16', '하차_16', '승차_17', '하차_17', '승차_18', '하차_18', '승차_19',\n",
       "       '하차_19', '승차_20', '하차_20', '승차_21', '하차_21', '승차_22', '하차_22', '승차_23',\n",
       "       '하차_23', '승차_24', '하차_24', '승차_25', '하차_25'],\n",
       "      dtype='object')"
      ]
     },
     "execution_count": 24,
     "metadata": {},
     "output_type": "execute_result"
    }
   ],
   "source": [
    "df.columns"
   ]
  },
  {
   "cell_type": "markdown",
   "id": "036a731b",
   "metadata": {},
   "source": [
    "### 출근 시간대 사람들이 가장 많이 타는 역\n",
    "- 승차_7 ~ 승차_9 = 출승 계\n",
    "- 하차_7 ~ 하차_9 = 출하 계"
   ]
  },
  {
   "cell_type": "code",
   "execution_count": 27,
   "id": "793e2116",
   "metadata": {},
   "outputs": [],
   "source": [
    "df['출승 계'] = df['승차_7'] + df['승차_8'] + df['승차_9']\n",
    "df['하승 계'] = df['하차_7'] + df['하차_8'] + df['하차_9']"
   ]
  },
  {
   "cell_type": "code",
   "execution_count": 28,
   "id": "4cd14009",
   "metadata": {},
   "outputs": [
    {
     "data": {
      "text/html": [
       "<div>\n",
       "<style scoped>\n",
       "    .dataframe tbody tr th:only-of-type {\n",
       "        vertical-align: middle;\n",
       "    }\n",
       "\n",
       "    .dataframe tbody tr th {\n",
       "        vertical-align: top;\n",
       "    }\n",
       "\n",
       "    .dataframe thead th {\n",
       "        text-align: right;\n",
       "    }\n",
       "</style>\n",
       "<table border=\"1\" class=\"dataframe\">\n",
       "  <thead>\n",
       "    <tr style=\"text-align: right;\">\n",
       "      <th></th>\n",
       "      <th>호선명</th>\n",
       "      <th>지하철역</th>\n",
       "      <th>승차_4</th>\n",
       "      <th>하차_4</th>\n",
       "      <th>승차_5</th>\n",
       "      <th>하차_5</th>\n",
       "      <th>승차_6</th>\n",
       "      <th>하차_6</th>\n",
       "      <th>승차_7</th>\n",
       "      <th>하차_7</th>\n",
       "      <th>...</th>\n",
       "      <th>승차_22</th>\n",
       "      <th>하차_22</th>\n",
       "      <th>승차_23</th>\n",
       "      <th>하차_23</th>\n",
       "      <th>승차_24</th>\n",
       "      <th>하차_24</th>\n",
       "      <th>승차_25</th>\n",
       "      <th>하차_25</th>\n",
       "      <th>출승 계</th>\n",
       "      <th>하승 계</th>\n",
       "    </tr>\n",
       "  </thead>\n",
       "  <tbody>\n",
       "    <tr>\n",
       "      <th>0</th>\n",
       "      <td>1호선</td>\n",
       "      <td>서울역</td>\n",
       "      <td>646</td>\n",
       "      <td>24</td>\n",
       "      <td>8433</td>\n",
       "      <td>7694</td>\n",
       "      <td>12608</td>\n",
       "      <td>46963</td>\n",
       "      <td>39233</td>\n",
       "      <td>100397</td>\n",
       "      <td>...</td>\n",
       "      <td>51224</td>\n",
       "      <td>26045</td>\n",
       "      <td>20385</td>\n",
       "      <td>15480</td>\n",
       "      <td>158</td>\n",
       "      <td>1332</td>\n",
       "      <td>1</td>\n",
       "      <td>4</td>\n",
       "      <td>159172</td>\n",
       "      <td>438678</td>\n",
       "    </tr>\n",
       "    <tr>\n",
       "      <th>1</th>\n",
       "      <td>1호선</td>\n",
       "      <td>시청</td>\n",
       "      <td>271</td>\n",
       "      <td>7</td>\n",
       "      <td>3133</td>\n",
       "      <td>4802</td>\n",
       "      <td>3321</td>\n",
       "      <td>23621</td>\n",
       "      <td>6647</td>\n",
       "      <td>62427</td>\n",
       "      <td>...</td>\n",
       "      <td>29032</td>\n",
       "      <td>4091</td>\n",
       "      <td>9254</td>\n",
       "      <td>2938</td>\n",
       "      <td>72</td>\n",
       "      <td>422</td>\n",
       "      <td>0</td>\n",
       "      <td>2</td>\n",
       "      <td>24152</td>\n",
       "      <td>322967</td>\n",
       "    </tr>\n",
       "    <tr>\n",
       "      <th>2</th>\n",
       "      <td>1호선</td>\n",
       "      <td>종각</td>\n",
       "      <td>91</td>\n",
       "      <td>9</td>\n",
       "      <td>4007</td>\n",
       "      <td>3960</td>\n",
       "      <td>3682</td>\n",
       "      <td>22533</td>\n",
       "      <td>5814</td>\n",
       "      <td>95376</td>\n",
       "      <td>...</td>\n",
       "      <td>65832</td>\n",
       "      <td>5368</td>\n",
       "      <td>27781</td>\n",
       "      <td>3590</td>\n",
       "      <td>315</td>\n",
       "      <td>394</td>\n",
       "      <td>0</td>\n",
       "      <td>1</td>\n",
       "      <td>27273</td>\n",
       "      <td>460814</td>\n",
       "    </tr>\n",
       "    <tr>\n",
       "      <th>3</th>\n",
       "      <td>1호선</td>\n",
       "      <td>종로3가</td>\n",
       "      <td>190</td>\n",
       "      <td>12</td>\n",
       "      <td>3882</td>\n",
       "      <td>3261</td>\n",
       "      <td>3570</td>\n",
       "      <td>14038</td>\n",
       "      <td>4746</td>\n",
       "      <td>25469</td>\n",
       "      <td>...</td>\n",
       "      <td>42291</td>\n",
       "      <td>5558</td>\n",
       "      <td>17170</td>\n",
       "      <td>4119</td>\n",
       "      <td>310</td>\n",
       "      <td>843</td>\n",
       "      <td>3</td>\n",
       "      <td>3</td>\n",
       "      <td>26514</td>\n",
       "      <td>159722</td>\n",
       "    </tr>\n",
       "    <tr>\n",
       "      <th>4</th>\n",
       "      <td>1호선</td>\n",
       "      <td>종로5가</td>\n",
       "      <td>34</td>\n",
       "      <td>0</td>\n",
       "      <td>1730</td>\n",
       "      <td>3909</td>\n",
       "      <td>2986</td>\n",
       "      <td>16406</td>\n",
       "      <td>5020</td>\n",
       "      <td>41304</td>\n",
       "      <td>...</td>\n",
       "      <td>22016</td>\n",
       "      <td>3862</td>\n",
       "      <td>6208</td>\n",
       "      <td>2628</td>\n",
       "      <td>98</td>\n",
       "      <td>668</td>\n",
       "      <td>0</td>\n",
       "      <td>0</td>\n",
       "      <td>25495</td>\n",
       "      <td>198062</td>\n",
       "    </tr>\n",
       "  </tbody>\n",
       "</table>\n",
       "<p>5 rows × 48 columns</p>\n",
       "</div>"
      ],
      "text/plain": [
       "   호선명  지하철역  승차_4  하차_4  승차_5  하차_5   승차_6   하차_6   승차_7    하차_7  ...  승차_22  \\\n",
       "0  1호선   서울역   646    24  8433  7694  12608  46963  39233  100397  ...  51224   \n",
       "1  1호선    시청   271     7  3133  4802   3321  23621   6647   62427  ...  29032   \n",
       "2  1호선    종각    91     9  4007  3960   3682  22533   5814   95376  ...  65832   \n",
       "3  1호선  종로3가   190    12  3882  3261   3570  14038   4746   25469  ...  42291   \n",
       "4  1호선  종로5가    34     0  1730  3909   2986  16406   5020   41304  ...  22016   \n",
       "\n",
       "   하차_22  승차_23  하차_23  승차_24  하차_24  승차_25  하차_25    출승 계    하승 계  \n",
       "0  26045  20385  15480    158   1332      1      4  159172  438678  \n",
       "1   4091   9254   2938     72    422      0      2   24152  322967  \n",
       "2   5368  27781   3590    315    394      0      1   27273  460814  \n",
       "3   5558  17170   4119    310    843      3      3   26514  159722  \n",
       "4   3862   6208   2628     98    668      0      0   25495  198062  \n",
       "\n",
       "[5 rows x 48 columns]"
      ]
     },
     "execution_count": 28,
     "metadata": {},
     "output_type": "execute_result"
    }
   ],
   "source": [
    "df.head()"
   ]
  },
  {
   "cell_type": "code",
   "execution_count": 29,
   "id": "2c24c5f4",
   "metadata": {},
   "outputs": [
    {
     "data": {
      "text/html": [
       "<div>\n",
       "<style scoped>\n",
       "    .dataframe tbody tr th:only-of-type {\n",
       "        vertical-align: middle;\n",
       "    }\n",
       "\n",
       "    .dataframe tbody tr th {\n",
       "        vertical-align: top;\n",
       "    }\n",
       "\n",
       "    .dataframe thead th {\n",
       "        text-align: right;\n",
       "    }\n",
       "</style>\n",
       "<table border=\"1\" class=\"dataframe\">\n",
       "  <thead>\n",
       "    <tr style=\"text-align: right;\">\n",
       "      <th></th>\n",
       "      <th>호선명</th>\n",
       "      <th>지하철역</th>\n",
       "      <th>승차_4</th>\n",
       "      <th>하차_4</th>\n",
       "      <th>승차_5</th>\n",
       "      <th>하차_5</th>\n",
       "      <th>승차_6</th>\n",
       "      <th>하차_6</th>\n",
       "      <th>승차_7</th>\n",
       "      <th>하차_7</th>\n",
       "      <th>...</th>\n",
       "      <th>승차_22</th>\n",
       "      <th>하차_22</th>\n",
       "      <th>승차_23</th>\n",
       "      <th>하차_23</th>\n",
       "      <th>승차_24</th>\n",
       "      <th>하차_24</th>\n",
       "      <th>승차_25</th>\n",
       "      <th>하차_25</th>\n",
       "      <th>출승 계</th>\n",
       "      <th>하승 계</th>\n",
       "    </tr>\n",
       "  </thead>\n",
       "  <tbody>\n",
       "    <tr>\n",
       "      <th>39</th>\n",
       "      <td>2호선</td>\n",
       "      <td>신림</td>\n",
       "      <td>253</td>\n",
       "      <td>10</td>\n",
       "      <td>38809</td>\n",
       "      <td>4518</td>\n",
       "      <td>73523</td>\n",
       "      <td>20593</td>\n",
       "      <td>188110</td>\n",
       "      <td>30954</td>\n",
       "      <td>...</td>\n",
       "      <td>40123</td>\n",
       "      <td>113573</td>\n",
       "      <td>20492</td>\n",
       "      <td>75909</td>\n",
       "      <td>3087</td>\n",
       "      <td>17134</td>\n",
       "      <td>6</td>\n",
       "      <td>188</td>\n",
       "      <td>638753</td>\n",
       "      <td>126731</td>\n",
       "    </tr>\n",
       "  </tbody>\n",
       "</table>\n",
       "<p>1 rows × 48 columns</p>\n",
       "</div>"
      ],
      "text/plain": [
       "    호선명 지하철역  승차_4  하차_4   승차_5  하차_5   승차_6   하차_6    승차_7   하차_7  ...  \\\n",
       "39  2호선   신림   253    10  38809  4518  73523  20593  188110  30954  ...   \n",
       "\n",
       "    승차_22   하차_22  승차_23  하차_23  승차_24  하차_24  승차_25  하차_25    출승 계    하승 계  \n",
       "39  40123  113573  20492  75909   3087  17134      6    188  638753  126731  \n",
       "\n",
       "[1 rows x 48 columns]"
      ]
     },
     "execution_count": 29,
     "metadata": {},
     "output_type": "execute_result"
    }
   ],
   "source": [
    "df[df['출승 계'].max() == df['출승 계']]"
   ]
  },
  {
   "cell_type": "code",
   "execution_count": 30,
   "id": "40d95ba3",
   "metadata": {},
   "outputs": [
    {
     "data": {
      "text/html": [
       "<div>\n",
       "<style scoped>\n",
       "    .dataframe tbody tr th:only-of-type {\n",
       "        vertical-align: middle;\n",
       "    }\n",
       "\n",
       "    .dataframe tbody tr th {\n",
       "        vertical-align: top;\n",
       "    }\n",
       "\n",
       "    .dataframe thead th {\n",
       "        text-align: right;\n",
       "    }\n",
       "</style>\n",
       "<table border=\"1\" class=\"dataframe\">\n",
       "  <thead>\n",
       "    <tr style=\"text-align: right;\">\n",
       "      <th></th>\n",
       "      <th>호선명</th>\n",
       "      <th>지하철역</th>\n",
       "      <th>승차_4</th>\n",
       "      <th>하차_4</th>\n",
       "      <th>승차_5</th>\n",
       "      <th>하차_5</th>\n",
       "      <th>승차_6</th>\n",
       "      <th>하차_6</th>\n",
       "      <th>승차_7</th>\n",
       "      <th>하차_7</th>\n",
       "      <th>...</th>\n",
       "      <th>승차_22</th>\n",
       "      <th>하차_22</th>\n",
       "      <th>승차_23</th>\n",
       "      <th>하차_23</th>\n",
       "      <th>승차_24</th>\n",
       "      <th>하차_24</th>\n",
       "      <th>승차_25</th>\n",
       "      <th>하차_25</th>\n",
       "      <th>출승 계</th>\n",
       "      <th>하승 계</th>\n",
       "    </tr>\n",
       "  </thead>\n",
       "  <tbody>\n",
       "    <tr>\n",
       "      <th>30</th>\n",
       "      <td>2호선</td>\n",
       "      <td>역삼</td>\n",
       "      <td>32</td>\n",
       "      <td>0</td>\n",
       "      <td>4342</td>\n",
       "      <td>6889</td>\n",
       "      <td>8419</td>\n",
       "      <td>38605</td>\n",
       "      <td>14518</td>\n",
       "      <td>138583</td>\n",
       "      <td>...</td>\n",
       "      <td>59777</td>\n",
       "      <td>14805</td>\n",
       "      <td>22742</td>\n",
       "      <td>9700</td>\n",
       "      <td>3222</td>\n",
       "      <td>2294</td>\n",
       "      <td>2</td>\n",
       "      <td>21</td>\n",
       "      <td>61350</td>\n",
       "      <td>775247</td>\n",
       "    </tr>\n",
       "  </tbody>\n",
       "</table>\n",
       "<p>1 rows × 48 columns</p>\n",
       "</div>"
      ],
      "text/plain": [
       "    호선명 지하철역  승차_4  하차_4  승차_5  하차_5  승차_6   하차_6   승차_7    하차_7  ...  승차_22  \\\n",
       "30  2호선   역삼    32     0  4342  6889  8419  38605  14518  138583  ...  59777   \n",
       "\n",
       "    하차_22  승차_23  하차_23  승차_24  하차_24  승차_25  하차_25   출승 계    하승 계  \n",
       "30  14805  22742   9700   3222   2294      2     21  61350  775247  \n",
       "\n",
       "[1 rows x 48 columns]"
      ]
     },
     "execution_count": 30,
     "metadata": {},
     "output_type": "execute_result"
    }
   ],
   "source": [
    "df[df['하승 계'].max() == df['하승 계']]"
   ]
  },
  {
   "cell_type": "markdown",
   "id": "41467491",
   "metadata": {},
   "source": [
    "### 밤 11시에 사람들이 가장 많이 타는 역"
   ]
  },
  {
   "cell_type": "code",
   "execution_count": 32,
   "id": "4c43f202",
   "metadata": {},
   "outputs": [
    {
     "data": {
      "text/html": [
       "<div>\n",
       "<style scoped>\n",
       "    .dataframe tbody tr th:only-of-type {\n",
       "        vertical-align: middle;\n",
       "    }\n",
       "\n",
       "    .dataframe tbody tr th {\n",
       "        vertical-align: top;\n",
       "    }\n",
       "\n",
       "    .dataframe thead th {\n",
       "        text-align: right;\n",
       "    }\n",
       "</style>\n",
       "<table border=\"1\" class=\"dataframe\">\n",
       "  <thead>\n",
       "    <tr style=\"text-align: right;\">\n",
       "      <th></th>\n",
       "      <th>호선명</th>\n",
       "      <th>지하철역</th>\n",
       "      <th>승차_4</th>\n",
       "      <th>하차_4</th>\n",
       "      <th>승차_5</th>\n",
       "      <th>하차_5</th>\n",
       "      <th>승차_6</th>\n",
       "      <th>하차_6</th>\n",
       "      <th>승차_7</th>\n",
       "      <th>하차_7</th>\n",
       "      <th>...</th>\n",
       "      <th>승차_22</th>\n",
       "      <th>하차_22</th>\n",
       "      <th>승차_23</th>\n",
       "      <th>하차_23</th>\n",
       "      <th>승차_24</th>\n",
       "      <th>하차_24</th>\n",
       "      <th>승차_25</th>\n",
       "      <th>하차_25</th>\n",
       "      <th>출승 계</th>\n",
       "      <th>하승 계</th>\n",
       "    </tr>\n",
       "  </thead>\n",
       "  <tbody>\n",
       "    <tr>\n",
       "      <th>31</th>\n",
       "      <td>2호선</td>\n",
       "      <td>강남</td>\n",
       "      <td>231</td>\n",
       "      <td>8</td>\n",
       "      <td>11812</td>\n",
       "      <td>10667</td>\n",
       "      <td>19128</td>\n",
       "      <td>49306</td>\n",
       "      <td>37334</td>\n",
       "      <td>147542</td>\n",
       "      <td>...</td>\n",
       "      <td>176473</td>\n",
       "      <td>40499</td>\n",
       "      <td>81016</td>\n",
       "      <td>26765</td>\n",
       "      <td>12407</td>\n",
       "      <td>5773</td>\n",
       "      <td>2</td>\n",
       "      <td>35</td>\n",
       "      <td>148582</td>\n",
       "      <td>760050</td>\n",
       "    </tr>\n",
       "  </tbody>\n",
       "</table>\n",
       "<p>1 rows × 48 columns</p>\n",
       "</div>"
      ],
      "text/plain": [
       "    호선명 지하철역  승차_4  하차_4   승차_5   하차_5   승차_6   하차_6   승차_7    하차_7  ...  \\\n",
       "31  2호선   강남   231     8  11812  10667  19128  49306  37334  147542  ...   \n",
       "\n",
       "     승차_22  하차_22  승차_23  하차_23  승차_24  하차_24  승차_25  하차_25    출승 계    하승 계  \n",
       "31  176473  40499  81016  26765  12407   5773      2     35  148582  760050  \n",
       "\n",
       "[1 rows x 48 columns]"
      ]
     },
     "execution_count": 32,
     "metadata": {},
     "output_type": "execute_result"
    }
   ],
   "source": [
    "df[df['승차_23'].max() == df['승차_23']]"
   ]
  },
  {
   "cell_type": "markdown",
   "id": "eaf1d013",
   "metadata": {},
   "source": [
    "### 사용자로부터 입력받은 시간대에 사람들이 가장많이 타는 역"
   ]
  },
  {
   "cell_type": "code",
   "execution_count": 40,
   "id": "2a4691f9",
   "metadata": {},
   "outputs": [
    {
     "name": "stdout",
     "output_type": "stream",
     "text": [
      "시간은 24시간 제로 입력해주세요\n",
      "23\n"
     ]
    }
   ],
   "source": [
    "hour = int(input('시간은 24시간 제로 입력해주세요\\n'))"
   ]
  },
  {
   "cell_type": "code",
   "execution_count": 41,
   "id": "3efe330b",
   "metadata": {},
   "outputs": [
    {
     "data": {
      "text/html": [
       "<div>\n",
       "<style scoped>\n",
       "    .dataframe tbody tr th:only-of-type {\n",
       "        vertical-align: middle;\n",
       "    }\n",
       "\n",
       "    .dataframe tbody tr th {\n",
       "        vertical-align: top;\n",
       "    }\n",
       "\n",
       "    .dataframe thead th {\n",
       "        text-align: right;\n",
       "    }\n",
       "</style>\n",
       "<table border=\"1\" class=\"dataframe\">\n",
       "  <thead>\n",
       "    <tr style=\"text-align: right;\">\n",
       "      <th></th>\n",
       "      <th>호선명</th>\n",
       "      <th>지하철역</th>\n",
       "      <th>승차_4</th>\n",
       "      <th>하차_4</th>\n",
       "      <th>승차_5</th>\n",
       "      <th>하차_5</th>\n",
       "      <th>승차_6</th>\n",
       "      <th>하차_6</th>\n",
       "      <th>승차_7</th>\n",
       "      <th>하차_7</th>\n",
       "      <th>...</th>\n",
       "      <th>승차_22</th>\n",
       "      <th>하차_22</th>\n",
       "      <th>승차_23</th>\n",
       "      <th>하차_23</th>\n",
       "      <th>승차_24</th>\n",
       "      <th>하차_24</th>\n",
       "      <th>승차_25</th>\n",
       "      <th>하차_25</th>\n",
       "      <th>출승 계</th>\n",
       "      <th>하승 계</th>\n",
       "    </tr>\n",
       "  </thead>\n",
       "  <tbody>\n",
       "    <tr>\n",
       "      <th>31</th>\n",
       "      <td>2호선</td>\n",
       "      <td>강남</td>\n",
       "      <td>231</td>\n",
       "      <td>8</td>\n",
       "      <td>11812</td>\n",
       "      <td>10667</td>\n",
       "      <td>19128</td>\n",
       "      <td>49306</td>\n",
       "      <td>37334</td>\n",
       "      <td>147542</td>\n",
       "      <td>...</td>\n",
       "      <td>176473</td>\n",
       "      <td>40499</td>\n",
       "      <td>81016</td>\n",
       "      <td>26765</td>\n",
       "      <td>12407</td>\n",
       "      <td>5773</td>\n",
       "      <td>2</td>\n",
       "      <td>35</td>\n",
       "      <td>148582</td>\n",
       "      <td>760050</td>\n",
       "    </tr>\n",
       "  </tbody>\n",
       "</table>\n",
       "<p>1 rows × 48 columns</p>\n",
       "</div>"
      ],
      "text/plain": [
       "    호선명 지하철역  승차_4  하차_4   승차_5   하차_5   승차_6   하차_6   승차_7    하차_7  ...  \\\n",
       "31  2호선   강남   231     8  11812  10667  19128  49306  37334  147542  ...   \n",
       "\n",
       "     승차_22  하차_22  승차_23  하차_23  승차_24  하차_24  승차_25  하차_25    출승 계    하승 계  \n",
       "31  176473  40499  81016  26765  12407   5773      2     35  148582  760050  \n",
       "\n",
       "[1 rows x 48 columns]"
      ]
     },
     "execution_count": 41,
     "metadata": {},
     "output_type": "execute_result"
    }
   ],
   "source": [
    "df[df['승차_' + str(hour)].max() == df['승차_' + str(hour)]]"
   ]
  },
  {
   "cell_type": "markdown",
   "id": "e3434999",
   "metadata": {},
   "source": [
    "### 시간대별로승객이 가장 많이 타고 내리는 역"
   ]
  },
  {
   "cell_type": "markdown",
   "id": "89930275",
   "metadata": {},
   "source": [
    "#### 1) 4 ~ 24시 컬럼 추출"
   ]
  },
  {
   "cell_type": "code",
   "execution_count": 47,
   "id": "10ba2ed1",
   "metadata": {},
   "outputs": [],
   "source": [
    "groups_col = df.columns[2:-4]"
   ]
  },
  {
   "cell_type": "markdown",
   "id": "0251f5a6",
   "metadata": {},
   "source": [
    "#### 2) 각 시간대별 최대인원 추출"
   ]
  },
  {
   "cell_type": "code",
   "execution_count": 52,
   "id": "604a96c5",
   "metadata": {},
   "outputs": [
    {
     "data": {
      "text/plain": [
       "[11784, 63, 38809, 10667, 73523, 49306, 188110, 147542, 281017, 368521]"
      ]
     },
     "execution_count": 52,
     "metadata": {},
     "output_type": "execute_result"
    }
   ],
   "source": [
    "passenger_max = df[groups_col].max().to_list()\n",
    "passenger_max[:10]"
   ]
  },
  {
   "cell_type": "markdown",
   "id": "a7069190",
   "metadata": {},
   "source": [
    "#### 3) 각 시간대별 최대인원의 인덱스 번호 추출 "
   ]
  },
  {
   "cell_type": "code",
   "execution_count": 55,
   "id": "effc621d",
   "metadata": {},
   "outputs": [
    {
     "data": {
      "text/plain": [
       "호선명         경부선\n",
       "지하철역         구로\n",
       "승차_4      11784\n",
       "하차_4         48\n",
       "승차_5      23203\n",
       "하차_5       5081\n",
       "승차_6      19267\n",
       "하차_6      13841\n",
       "승차_7      38272\n",
       "하차_7      31965\n",
       "승차_8      37929\n",
       "하차_8      73254\n",
       "승차_9      26737\n",
       "하차_9      40757\n",
       "승차_10     20254\n",
       "하차_10     26969\n",
       "승차_11     20873\n",
       "하차_11     21866\n",
       "승차_12     22161\n",
       "하차_12     21555\n",
       "승차_13     22752\n",
       "하차_13     22516\n",
       "승차_14     22596\n",
       "하차_14     21875\n",
       "승차_15     26153\n",
       "하차_15     24318\n",
       "승차_16     31996\n",
       "하차_16     28921\n",
       "승차_17     48970\n",
       "하차_17     38033\n",
       "승차_18     62727\n",
       "하차_18     43613\n",
       "승차_19     25136\n",
       "하차_19     30633\n",
       "승차_20     20011\n",
       "하차_20     20136\n",
       "승차_21     18195\n",
       "하차_21     19329\n",
       "승차_22     12707\n",
       "하차_22     18049\n",
       "승차_23      4756\n",
       "하차_23     18667\n",
       "승차_24        21\n",
       "하차_24     11844\n",
       "승차_25         2\n",
       "하차_25         8\n",
       "출승 계     102938\n",
       "하승 계     145976\n",
       "Name: 128, dtype: object"
      ]
     },
     "execution_count": 55,
     "metadata": {},
     "output_type": "execute_result"
    }
   ],
   "source": [
    "df.iloc[df['승차_4'].idxmax()]"
   ]
  },
  {
   "cell_type": "code",
   "execution_count": 57,
   "id": "27aa563e",
   "metadata": {},
   "outputs": [
    {
     "data": {
      "text/plain": [
       "[128, 125, 39, 31, 39, 31, 39, 31, 39, 512]"
      ]
     },
     "execution_count": 57,
     "metadata": {},
     "output_type": "execute_result"
    }
   ],
   "source": [
    "idxmax_list = df[groups_col].idxmax().to_list()\n",
    "idxmax_list[:10]"
   ]
  },
  {
   "cell_type": "markdown",
   "id": "6031c510",
   "metadata": {},
   "source": [
    "#### 4) passenger_max 와 idxmax_list 연결하여 새로운 데이터프레임(time_df) 생성"
   ]
  },
  {
   "cell_type": "code",
   "execution_count": 61,
   "id": "c3581cb1",
   "metadata": {},
   "outputs": [],
   "source": [
    "data = {\n",
    "    'idx_max':idxmax_list,\n",
    "    '승하차':groups_col,\n",
    "    '승객수':passenger_max\n",
    "}\n",
    "time_df = pd.DataFrame(data)"
   ]
  },
  {
   "cell_type": "code",
   "execution_count": 67,
   "id": "df585685",
   "metadata": {},
   "outputs": [
    {
     "data": {
      "text/html": [
       "<div>\n",
       "<style scoped>\n",
       "    .dataframe tbody tr th:only-of-type {\n",
       "        vertical-align: middle;\n",
       "    }\n",
       "\n",
       "    .dataframe tbody tr th {\n",
       "        vertical-align: top;\n",
       "    }\n",
       "\n",
       "    .dataframe thead th {\n",
       "        text-align: right;\n",
       "    }\n",
       "</style>\n",
       "<table border=\"1\" class=\"dataframe\">\n",
       "  <thead>\n",
       "    <tr style=\"text-align: right;\">\n",
       "      <th></th>\n",
       "      <th>idx_max</th>\n",
       "      <th>승하차</th>\n",
       "      <th>승객수</th>\n",
       "    </tr>\n",
       "  </thead>\n",
       "  <tbody>\n",
       "    <tr>\n",
       "      <th>0</th>\n",
       "      <td>128</td>\n",
       "      <td>승차_4</td>\n",
       "      <td>11784</td>\n",
       "    </tr>\n",
       "    <tr>\n",
       "      <th>1</th>\n",
       "      <td>125</td>\n",
       "      <td>하차_4</td>\n",
       "      <td>63</td>\n",
       "    </tr>\n",
       "    <tr>\n",
       "      <th>2</th>\n",
       "      <td>39</td>\n",
       "      <td>승차_5</td>\n",
       "      <td>38809</td>\n",
       "    </tr>\n",
       "    <tr>\n",
       "      <th>3</th>\n",
       "      <td>31</td>\n",
       "      <td>하차_5</td>\n",
       "      <td>10667</td>\n",
       "    </tr>\n",
       "    <tr>\n",
       "      <th>4</th>\n",
       "      <td>39</td>\n",
       "      <td>승차_6</td>\n",
       "      <td>73523</td>\n",
       "    </tr>\n",
       "  </tbody>\n",
       "</table>\n",
       "</div>"
      ],
      "text/plain": [
       "   idx_max   승하차    승객수\n",
       "0      128  승차_4  11784\n",
       "1      125  하차_4     63\n",
       "2       39  승차_5  38809\n",
       "3       31  하차_5  10667\n",
       "4       39  승차_6  73523"
      ]
     },
     "execution_count": 67,
     "metadata": {},
     "output_type": "execute_result"
    }
   ],
   "source": [
    "time_df.head()"
   ]
  },
  {
   "cell_type": "markdown",
   "id": "0d8a0a62",
   "metadata": {},
   "source": [
    "#### 5) idx_max 값을 이용해서 지하철역 이름 찾기"
   ]
  },
  {
   "cell_type": "code",
   "execution_count": 70,
   "id": "a9c12577",
   "metadata": {},
   "outputs": [
    {
     "data": {
      "text/plain": [
       "128          구로\n",
       "125         영등포\n",
       "39           신림\n",
       "31           강남\n",
       "39           신림\n",
       "31           강남\n",
       "39           신림\n",
       "31           강남\n",
       "39           신림\n",
       "512     가산디지털단지\n",
       "39           신림\n",
       "31           강남\n",
       "39           신림\n",
       "31           강남\n",
       "39           신림\n",
       "25     잠실(송파구청)\n",
       "25     잠실(송파구청)\n",
       "48         홍대입구\n",
       "31           강남\n",
       "48         홍대입구\n",
       "31           강남\n",
       "48         홍대입구\n",
       "31           강남\n",
       "48         홍대입구\n",
       "31           강남\n",
       "48         홍대입구\n",
       "31           강남\n",
       "48         홍대입구\n",
       "31           강남\n",
       "39           신림\n",
       "31           강남\n",
       "39           신림\n",
       "31           강남\n",
       "39           신림\n",
       "31           강남\n",
       "39           신림\n",
       "31           강남\n",
       "39           신림\n",
       "31           강남\n",
       "39           신림\n",
       "31           강남\n",
       "43          신도림\n",
       "Name: 지하철역, dtype: object"
      ]
     },
     "execution_count": 70,
     "metadata": {},
     "output_type": "execute_result"
    }
   ],
   "source": [
    "df.iloc[time_df['idx_max'], 1]"
   ]
  },
  {
   "cell_type": "markdown",
   "id": "6138cbc3",
   "metadata": {},
   "source": [
    "#### 6) time_df 에 지하철역 컬럼 생성한 후 5) 내용 추가 "
   ]
  },
  {
   "cell_type": "code",
   "execution_count": 72,
   "id": "f05105a0",
   "metadata": {},
   "outputs": [
    {
     "data": {
      "text/html": [
       "<div>\n",
       "<style scoped>\n",
       "    .dataframe tbody tr th:only-of-type {\n",
       "        vertical-align: middle;\n",
       "    }\n",
       "\n",
       "    .dataframe tbody tr th {\n",
       "        vertical-align: top;\n",
       "    }\n",
       "\n",
       "    .dataframe thead th {\n",
       "        text-align: right;\n",
       "    }\n",
       "</style>\n",
       "<table border=\"1\" class=\"dataframe\">\n",
       "  <thead>\n",
       "    <tr style=\"text-align: right;\">\n",
       "      <th></th>\n",
       "      <th>idx_max</th>\n",
       "      <th>승하차</th>\n",
       "      <th>승객수</th>\n",
       "      <th>지하철역</th>\n",
       "    </tr>\n",
       "  </thead>\n",
       "  <tbody>\n",
       "    <tr>\n",
       "      <th>0</th>\n",
       "      <td>128</td>\n",
       "      <td>승차_4</td>\n",
       "      <td>11784</td>\n",
       "      <td>구로</td>\n",
       "    </tr>\n",
       "    <tr>\n",
       "      <th>1</th>\n",
       "      <td>125</td>\n",
       "      <td>하차_4</td>\n",
       "      <td>63</td>\n",
       "      <td>영등포</td>\n",
       "    </tr>\n",
       "    <tr>\n",
       "      <th>2</th>\n",
       "      <td>39</td>\n",
       "      <td>승차_5</td>\n",
       "      <td>38809</td>\n",
       "      <td>신림</td>\n",
       "    </tr>\n",
       "  </tbody>\n",
       "</table>\n",
       "</div>"
      ],
      "text/plain": [
       "   idx_max   승하차    승객수 지하철역\n",
       "0      128  승차_4  11784   구로\n",
       "1      125  하차_4     63  영등포\n",
       "2       39  승차_5  38809   신림"
      ]
     },
     "execution_count": 72,
     "metadata": {},
     "output_type": "execute_result"
    }
   ],
   "source": [
    "time_df['지하철역'] = df.iloc[time_df['idx_max'], 1].to_list()\n",
    "time_df.head(3)"
   ]
  },
  {
   "cell_type": "markdown",
   "id": "b879d11d",
   "metadata": {},
   "source": [
    "#### 7) 승하차 컬럼에서 시간 잘라낸 후 hour 컬럼에 담기"
   ]
  },
  {
   "cell_type": "code",
   "execution_count": 78,
   "id": "49a96341",
   "metadata": {},
   "outputs": [],
   "source": [
    "time_df['hour'] = time_df['승하차'].str.split(\"_\", expand=True)[1]"
   ]
  },
  {
   "cell_type": "code",
   "execution_count": 81,
   "id": "2a9d70a4",
   "metadata": {},
   "outputs": [
    {
     "data": {
      "text/html": [
       "<div>\n",
       "<style scoped>\n",
       "    .dataframe tbody tr th:only-of-type {\n",
       "        vertical-align: middle;\n",
       "    }\n",
       "\n",
       "    .dataframe tbody tr th {\n",
       "        vertical-align: top;\n",
       "    }\n",
       "\n",
       "    .dataframe thead th {\n",
       "        text-align: right;\n",
       "    }\n",
       "</style>\n",
       "<table border=\"1\" class=\"dataframe\">\n",
       "  <thead>\n",
       "    <tr style=\"text-align: right;\">\n",
       "      <th></th>\n",
       "      <th>idx_max</th>\n",
       "      <th>승하차</th>\n",
       "      <th>승객수</th>\n",
       "      <th>지하철역</th>\n",
       "      <th>hour</th>\n",
       "    </tr>\n",
       "  </thead>\n",
       "  <tbody>\n",
       "    <tr>\n",
       "      <th>0</th>\n",
       "      <td>128</td>\n",
       "      <td>승차_4</td>\n",
       "      <td>11784</td>\n",
       "      <td>구로</td>\n",
       "      <td>4</td>\n",
       "    </tr>\n",
       "    <tr>\n",
       "      <th>1</th>\n",
       "      <td>125</td>\n",
       "      <td>하차_4</td>\n",
       "      <td>63</td>\n",
       "      <td>영등포</td>\n",
       "      <td>4</td>\n",
       "    </tr>\n",
       "    <tr>\n",
       "      <th>2</th>\n",
       "      <td>39</td>\n",
       "      <td>승차_5</td>\n",
       "      <td>38809</td>\n",
       "      <td>신림</td>\n",
       "      <td>5</td>\n",
       "    </tr>\n",
       "    <tr>\n",
       "      <th>3</th>\n",
       "      <td>31</td>\n",
       "      <td>하차_5</td>\n",
       "      <td>10667</td>\n",
       "      <td>강남</td>\n",
       "      <td>5</td>\n",
       "    </tr>\n",
       "    <tr>\n",
       "      <th>4</th>\n",
       "      <td>39</td>\n",
       "      <td>승차_6</td>\n",
       "      <td>73523</td>\n",
       "      <td>신림</td>\n",
       "      <td>6</td>\n",
       "    </tr>\n",
       "  </tbody>\n",
       "</table>\n",
       "</div>"
      ],
      "text/plain": [
       "   idx_max   승하차    승객수 지하철역 hour\n",
       "0      128  승차_4  11784   구로    4\n",
       "1      125  하차_4     63  영등포    4\n",
       "2       39  승차_5  38809   신림    5\n",
       "3       31  하차_5  10667   강남    5\n",
       "4       39  승차_6  73523   신림    6"
      ]
     },
     "execution_count": 81,
     "metadata": {},
     "output_type": "execute_result"
    }
   ],
   "source": [
    "time_df.head()"
   ]
  },
  {
   "cell_type": "code",
   "execution_count": 84,
   "id": "01c69845",
   "metadata": {},
   "outputs": [
    {
     "name": "stdout",
     "output_type": "stream",
     "text": [
      "<class 'pandas.core.frame.DataFrame'>\n",
      "RangeIndex: 42 entries, 0 to 41\n",
      "Data columns (total 5 columns):\n",
      " #   Column   Non-Null Count  Dtype \n",
      "---  ------   --------------  ----- \n",
      " 0   idx_max  42 non-null     int64 \n",
      " 1   승하차      42 non-null     object\n",
      " 2   승객수      42 non-null     int64 \n",
      " 3   지하철역     42 non-null     object\n",
      " 4   hour     42 non-null     object\n",
      "dtypes: int64(2), object(3)\n",
      "memory usage: 1.8+ KB\n"
     ]
    }
   ],
   "source": [
    "time_df.info()"
   ]
  },
  {
   "cell_type": "code",
   "execution_count": 88,
   "id": "2ddeb3de",
   "metadata": {},
   "outputs": [
    {
     "data": {
      "text/plain": [
       "idx_max     int64\n",
       "승하차        object\n",
       "승객수         int64\n",
       "지하철역       object\n",
       "hour        int64\n",
       "dtype: object"
      ]
     },
     "execution_count": 88,
     "metadata": {},
     "output_type": "execute_result"
    }
   ],
   "source": [
    "time_df['hour'] = time_df['hour'].astype('int64')\n",
    "time_df.dtypes"
   ]
  },
  {
   "cell_type": "markdown",
   "id": "13bdc907",
   "metadata": {},
   "source": [
    "#### 8) 혼잡역 컬럼 생성 : 지하철역_hour 생성"
   ]
  },
  {
   "cell_type": "code",
   "execution_count": 92,
   "id": "268481ea",
   "metadata": {},
   "outputs": [],
   "source": [
    "time_df['혼잡역'] = time_df['지하철역'] + '_' + time_df['hour'].astype(str)"
   ]
  },
  {
   "cell_type": "code",
   "execution_count": 94,
   "id": "c9ef287c",
   "metadata": {},
   "outputs": [
    {
     "data": {
      "text/html": [
       "<div>\n",
       "<style scoped>\n",
       "    .dataframe tbody tr th:only-of-type {\n",
       "        vertical-align: middle;\n",
       "    }\n",
       "\n",
       "    .dataframe tbody tr th {\n",
       "        vertical-align: top;\n",
       "    }\n",
       "\n",
       "    .dataframe thead th {\n",
       "        text-align: right;\n",
       "    }\n",
       "</style>\n",
       "<table border=\"1\" class=\"dataframe\">\n",
       "  <thead>\n",
       "    <tr style=\"text-align: right;\">\n",
       "      <th></th>\n",
       "      <th>idx_max</th>\n",
       "      <th>승하차</th>\n",
       "      <th>승객수</th>\n",
       "      <th>지하철역</th>\n",
       "      <th>hour</th>\n",
       "      <th>혼잡역</th>\n",
       "    </tr>\n",
       "  </thead>\n",
       "  <tbody>\n",
       "    <tr>\n",
       "      <th>0</th>\n",
       "      <td>128</td>\n",
       "      <td>승차_4</td>\n",
       "      <td>11784</td>\n",
       "      <td>구로</td>\n",
       "      <td>4</td>\n",
       "      <td>구로_4</td>\n",
       "    </tr>\n",
       "    <tr>\n",
       "      <th>1</th>\n",
       "      <td>125</td>\n",
       "      <td>하차_4</td>\n",
       "      <td>63</td>\n",
       "      <td>영등포</td>\n",
       "      <td>4</td>\n",
       "      <td>영등포_4</td>\n",
       "    </tr>\n",
       "    <tr>\n",
       "      <th>2</th>\n",
       "      <td>39</td>\n",
       "      <td>승차_5</td>\n",
       "      <td>38809</td>\n",
       "      <td>신림</td>\n",
       "      <td>5</td>\n",
       "      <td>신림_5</td>\n",
       "    </tr>\n",
       "    <tr>\n",
       "      <th>3</th>\n",
       "      <td>31</td>\n",
       "      <td>하차_5</td>\n",
       "      <td>10667</td>\n",
       "      <td>강남</td>\n",
       "      <td>5</td>\n",
       "      <td>강남_5</td>\n",
       "    </tr>\n",
       "    <tr>\n",
       "      <th>4</th>\n",
       "      <td>39</td>\n",
       "      <td>승차_6</td>\n",
       "      <td>73523</td>\n",
       "      <td>신림</td>\n",
       "      <td>6</td>\n",
       "      <td>신림_6</td>\n",
       "    </tr>\n",
       "  </tbody>\n",
       "</table>\n",
       "</div>"
      ],
      "text/plain": [
       "   idx_max   승하차    승객수 지하철역  hour    혼잡역\n",
       "0      128  승차_4  11784   구로     4   구로_4\n",
       "1      125  하차_4     63  영등포     4  영등포_4\n",
       "2       39  승차_5  38809   신림     5   신림_5\n",
       "3       31  하차_5  10667   강남     5   강남_5\n",
       "4       39  승차_6  73523   신림     6   신림_6"
      ]
     },
     "execution_count": 94,
     "metadata": {},
     "output_type": "execute_result"
    }
   ],
   "source": [
    "time_df.head()"
   ]
  },
  {
   "cell_type": "markdown",
   "id": "d6546f9c",
   "metadata": {},
   "source": [
    "#### 9) 시각화"
   ]
  },
  {
   "cell_type": "code",
   "execution_count": 105,
   "id": "478d6f86",
   "metadata": {},
   "outputs": [
    {
     "data": {
      "text/plain": [
       "Text(0.5, 1.0, '승차 시 혼잡역')"
      ]
     },
     "execution_count": 105,
     "metadata": {},
     "output_type": "execute_result"
    },
    {
     "data": {
      "image/png": "[encoded data removed]",
      "text/plain": [
       "<Figure size 864x432 with 1 Axes>"
      ]
     },
     "metadata": {},
     "output_type": "display_data"
    }
   ],
   "source": [
    "ax = time_df[time_df['승하차'].str.contains('승차')].plot.bar(x='혼잡역', y='승객수', grid=False,rot=45, figsize=(12,6));\n",
    "ax.set_title('승차 시 혼잡역')"
   ]
  },
  {
   "cell_type": "code",
   "execution_count": 106,
   "id": "b81dd0fe",
   "metadata": {},
   "outputs": [
    {
     "data": {
      "text/plain": [
       "Text(0.5, 1.0, '하차 시 혼잡역')"
      ]
     },
     "execution_count": 106,
     "metadata": {},
     "output_type": "execute_result"
    },
    {
     "data": {
      "image/png": "[encoded data removed]",
      "text/plain": [
       "<Figure size 864x432 with 1 Axes>"
      ]
     },
     "metadata": {},
     "output_type": "display_data"
    }
   ],
   "source": [
    "ax = time_df[time_df['승하차'].str.contains('하차')].plot.bar(x='혼잡역', y='승객수', grid=False,rot=45, figsize=(12,6));\n",
    "ax.set_title('하차 시 혼잡역')"
   ]
  },
  {
   "cell_type": "code",
   "execution_count": 111,
   "id": "7a0c5b76",
   "metadata": {},
   "outputs": [
    {
     "data": {
      "image/png": "[encoded data removed]",
      "text/plain": [
       "<Figure size 1080x432 with 1 Axes>"
      ]
     },
     "metadata": {},
     "output_type": "display_data"
    }
   ],
   "source": [
    "plt.figure(figsize=(15, 6))\n",
    "sns.barplot(data=time_df, x='혼잡역', y='승객수')\n",
    "plt.xticks(rotation=45)\n",
    "plt.show()"
   ]
  },
  {
   "cell_type": "code",
   "execution_count": null,
   "id": "0c8bd97c",
   "metadata": {},
   "outputs": [],
   "source": [
    "time_df_in.values_counts('지하철역').plot.pie(autopct='%.1f%%', figsize=(10, 10))"
   ]
  },
  {
   "cell_type": "markdown",
   "id": "7aef3bf9",
   "metadata": {},
   "source": [
    "#### seaborn countplot"
   ]
  },
  {
   "cell_type": "code",
   "execution_count": 116,
   "id": "897304cb",
   "metadata": {},
   "outputs": [
    {
     "data": {
      "text/plain": [
       "<AxesSubplot:xlabel='지하철역', ylabel='count'>"
      ]
     },
     "execution_count": 116,
     "metadata": {},
     "output_type": "execute_result"
    },
    {
     "data": {
      "image/png": "[encoded data removed]",
      "text/plain": [
       "<Figure size 864x432 with 1 Axes>"
      ]
     },
     "metadata": {},
     "output_type": "display_data"
    }
   ],
   "source": [
    "plt.figure(figsize=(12,6))\n",
    "sns.countplot(data=time_df[time_df['승하차'].str.contains('하차')], x='지하철역')"
   ]
  },
  {
   "cell_type": "code",
   "execution_count": null,
   "id": "43a2cc45",
   "metadata": {},
   "outputs": [],
   "source": []
  }
 ],
 "metadata": {
  "kernelspec": {
   "display_name": "Python 3 (ipykernel)",
   "language": "python",
   "name": "python3"
  },
  "language_info": {
   "codemirror_mode": {
    "name": "ipython",
    "version": 3
   },
   "file_extension": ".py",
   "mimetype": "text/x-python",
   "name": "python",
   "nbconvert_exporter": "python",
   "pygments_lexer": "ipython3",
   "version": "3.9.12"
  }
 },
 "nbformat": 4,
 "nbformat_minor": 5
}
