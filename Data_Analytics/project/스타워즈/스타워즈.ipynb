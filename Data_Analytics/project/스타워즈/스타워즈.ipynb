{
 "cells": [
  {
   "cell_type": "markdown",
   "id": "0bb4f8d0",
   "metadata": {},
   "source": [
    "###  스타워즈"
   ]
  },
  {
   "cell_type": "markdown",
   "id": "986b510d",
   "metadata": {},
   "source": [
    "#### 라이브러리 로드"
   ]
  },
  {
   "cell_type": "code",
   "execution_count": 2,
   "id": "8c1399ee",
   "metadata": {},
   "outputs": [],
   "source": [
    "import pandas as pd"
   ]
  },
  {
   "cell_type": "code",
   "execution_count": 3,
   "id": "1935d65e",
   "metadata": {},
   "outputs": [],
   "source": [
    "import warnings\n",
    "warnings.simplefilter(\"ignore\")"
   ]
  },
  {
   "cell_type": "code",
   "execution_count": 4,
   "id": "8e967a59",
   "metadata": {},
   "outputs": [],
   "source": [
    "import seaborn as sns\n",
    "\n",
    "sns.set(font_scale=1) # seaborn 기초 세팅"
   ]
  },
  {
   "cell_type": "code",
   "execution_count": 5,
   "id": "dc4f2ce0",
   "metadata": {},
   "outputs": [],
   "source": [
    "import matplotlib.pyplot as plt\n",
    "\n",
    "plt.rcParams['axes.unicode_minus'] = False # \" - \" 기호 Unicode 처리\n",
    "plt.rcParams['font.family'] = 'Malgun Gothic' # 한글 폰트 설정"
   ]
  },
  {
   "cell_type": "markdown",
   "id": "1dca76e0",
   "metadata": {},
   "source": [
    "#### 데이터 로드"
   ]
  },
  {
   "cell_type": "code",
   "execution_count": 6,
   "id": "7ed18688",
   "metadata": {},
   "outputs": [
    {
     "data": {
      "text/html": [
       "<div>\n",
       "<style scoped>\n",
       "    .dataframe tbody tr th:only-of-type {\n",
       "        vertical-align: middle;\n",
       "    }\n",
       "\n",
       "    .dataframe tbody tr th {\n",
       "        vertical-align: top;\n",
       "    }\n",
       "\n",
       "    .dataframe thead th {\n",
       "        text-align: right;\n",
       "    }\n",
       "</style>\n",
       "<table border=\"1\" class=\"dataframe\">\n",
       "  <thead>\n",
       "    <tr style=\"text-align: right;\">\n",
       "      <th></th>\n",
       "      <th>name</th>\n",
       "      <th>height</th>\n",
       "      <th>mass</th>\n",
       "      <th>hair_color</th>\n",
       "      <th>skin_color</th>\n",
       "      <th>eye_color</th>\n",
       "      <th>birth_year</th>\n",
       "      <th>sex</th>\n",
       "      <th>gender</th>\n",
       "      <th>homeworld</th>\n",
       "      <th>species</th>\n",
       "    </tr>\n",
       "  </thead>\n",
       "  <tbody>\n",
       "    <tr>\n",
       "      <th>0</th>\n",
       "      <td>Luke Skywalker</td>\n",
       "      <td>172.0</td>\n",
       "      <td>77.0</td>\n",
       "      <td>blond</td>\n",
       "      <td>fair</td>\n",
       "      <td>blue</td>\n",
       "      <td>19.0</td>\n",
       "      <td>male</td>\n",
       "      <td>masculine</td>\n",
       "      <td>Tatooine</td>\n",
       "      <td>Human</td>\n",
       "    </tr>\n",
       "    <tr>\n",
       "      <th>1</th>\n",
       "      <td>C-3PO</td>\n",
       "      <td>167.0</td>\n",
       "      <td>75.0</td>\n",
       "      <td>NaN</td>\n",
       "      <td>gold</td>\n",
       "      <td>yellow</td>\n",
       "      <td>112.0</td>\n",
       "      <td>none</td>\n",
       "      <td>masculine</td>\n",
       "      <td>Tatooine</td>\n",
       "      <td>Droid</td>\n",
       "    </tr>\n",
       "    <tr>\n",
       "      <th>2</th>\n",
       "      <td>R2-D2</td>\n",
       "      <td>96.0</td>\n",
       "      <td>32.0</td>\n",
       "      <td>NaN</td>\n",
       "      <td>white, blue</td>\n",
       "      <td>red</td>\n",
       "      <td>33.0</td>\n",
       "      <td>none</td>\n",
       "      <td>masculine</td>\n",
       "      <td>Naboo</td>\n",
       "      <td>Droid</td>\n",
       "    </tr>\n",
       "    <tr>\n",
       "      <th>3</th>\n",
       "      <td>Darth Vader</td>\n",
       "      <td>202.0</td>\n",
       "      <td>136.0</td>\n",
       "      <td>none</td>\n",
       "      <td>white</td>\n",
       "      <td>yellow</td>\n",
       "      <td>41.9</td>\n",
       "      <td>male</td>\n",
       "      <td>masculine</td>\n",
       "      <td>Tatooine</td>\n",
       "      <td>Human</td>\n",
       "    </tr>\n",
       "    <tr>\n",
       "      <th>4</th>\n",
       "      <td>Leia Organa</td>\n",
       "      <td>150.0</td>\n",
       "      <td>49.0</td>\n",
       "      <td>brown</td>\n",
       "      <td>light</td>\n",
       "      <td>brown</td>\n",
       "      <td>19.0</td>\n",
       "      <td>female</td>\n",
       "      <td>feminine</td>\n",
       "      <td>Alderaan</td>\n",
       "      <td>Human</td>\n",
       "    </tr>\n",
       "    <tr>\n",
       "      <th>...</th>\n",
       "      <td>...</td>\n",
       "      <td>...</td>\n",
       "      <td>...</td>\n",
       "      <td>...</td>\n",
       "      <td>...</td>\n",
       "      <td>...</td>\n",
       "      <td>...</td>\n",
       "      <td>...</td>\n",
       "      <td>...</td>\n",
       "      <td>...</td>\n",
       "      <td>...</td>\n",
       "    </tr>\n",
       "    <tr>\n",
       "      <th>82</th>\n",
       "      <td>Rey</td>\n",
       "      <td>NaN</td>\n",
       "      <td>NaN</td>\n",
       "      <td>brown</td>\n",
       "      <td>light</td>\n",
       "      <td>hazel</td>\n",
       "      <td>NaN</td>\n",
       "      <td>female</td>\n",
       "      <td>feminine</td>\n",
       "      <td>NaN</td>\n",
       "      <td>Human</td>\n",
       "    </tr>\n",
       "    <tr>\n",
       "      <th>83</th>\n",
       "      <td>Poe Dameron</td>\n",
       "      <td>NaN</td>\n",
       "      <td>NaN</td>\n",
       "      <td>brown</td>\n",
       "      <td>light</td>\n",
       "      <td>brown</td>\n",
       "      <td>NaN</td>\n",
       "      <td>male</td>\n",
       "      <td>masculine</td>\n",
       "      <td>NaN</td>\n",
       "      <td>Human</td>\n",
       "    </tr>\n",
       "    <tr>\n",
       "      <th>84</th>\n",
       "      <td>BB8</td>\n",
       "      <td>NaN</td>\n",
       "      <td>NaN</td>\n",
       "      <td>none</td>\n",
       "      <td>none</td>\n",
       "      <td>black</td>\n",
       "      <td>NaN</td>\n",
       "      <td>none</td>\n",
       "      <td>masculine</td>\n",
       "      <td>NaN</td>\n",
       "      <td>Droid</td>\n",
       "    </tr>\n",
       "    <tr>\n",
       "      <th>85</th>\n",
       "      <td>Captain Phasma</td>\n",
       "      <td>NaN</td>\n",
       "      <td>NaN</td>\n",
       "      <td>unknown</td>\n",
       "      <td>unknown</td>\n",
       "      <td>unknown</td>\n",
       "      <td>NaN</td>\n",
       "      <td>NaN</td>\n",
       "      <td>NaN</td>\n",
       "      <td>NaN</td>\n",
       "      <td>NaN</td>\n",
       "    </tr>\n",
       "    <tr>\n",
       "      <th>86</th>\n",
       "      <td>Padm? Amidala</td>\n",
       "      <td>165.0</td>\n",
       "      <td>45.0</td>\n",
       "      <td>brown</td>\n",
       "      <td>light</td>\n",
       "      <td>brown</td>\n",
       "      <td>46.0</td>\n",
       "      <td>female</td>\n",
       "      <td>feminine</td>\n",
       "      <td>Naboo</td>\n",
       "      <td>Human</td>\n",
       "    </tr>\n",
       "  </tbody>\n",
       "</table>\n",
       "<p>87 rows × 11 columns</p>\n",
       "</div>"
      ],
      "text/plain": [
       "              name  height   mass hair_color   skin_color eye_color  \\\n",
       "0   Luke Skywalker   172.0   77.0      blond         fair      blue   \n",
       "1            C-3PO   167.0   75.0        NaN         gold    yellow   \n",
       "2            R2-D2    96.0   32.0        NaN  white, blue       red   \n",
       "3      Darth Vader   202.0  136.0       none        white    yellow   \n",
       "4      Leia Organa   150.0   49.0      brown        light     brown   \n",
       "..             ...     ...    ...        ...          ...       ...   \n",
       "82             Rey     NaN    NaN      brown        light     hazel   \n",
       "83     Poe Dameron     NaN    NaN      brown        light     brown   \n",
       "84             BB8     NaN    NaN       none         none     black   \n",
       "85  Captain Phasma     NaN    NaN    unknown      unknown   unknown   \n",
       "86   Padm? Amidala   165.0   45.0      brown        light     brown   \n",
       "\n",
       "    birth_year     sex     gender homeworld species  \n",
       "0         19.0    male  masculine  Tatooine   Human  \n",
       "1        112.0    none  masculine  Tatooine   Droid  \n",
       "2         33.0    none  masculine     Naboo   Droid  \n",
       "3         41.9    male  masculine  Tatooine   Human  \n",
       "4         19.0  female   feminine  Alderaan   Human  \n",
       "..         ...     ...        ...       ...     ...  \n",
       "82         NaN  female   feminine       NaN   Human  \n",
       "83         NaN    male  masculine       NaN   Human  \n",
       "84         NaN    none  masculine       NaN   Droid  \n",
       "85         NaN     NaN        NaN       NaN     NaN  \n",
       "86        46.0  female   feminine     Naboo   Human  \n",
       "\n",
       "[87 rows x 11 columns]"
      ]
     },
     "execution_count": 6,
     "metadata": {},
     "output_type": "execute_result"
    }
   ],
   "source": [
    "df = pd.read_csv(\"../../data/dataset/Starwars.csv\")\n",
    "df"
   ]
  },
  {
   "cell_type": "markdown",
   "id": "3a22484b",
   "metadata": {},
   "source": [
    "#### 데이터 탐색"
   ]
  },
  {
   "cell_type": "code",
   "execution_count": 7,
   "id": "56611a4e",
   "metadata": {},
   "outputs": [
    {
     "name": "stdout",
     "output_type": "stream",
     "text": [
      "<class 'pandas.core.frame.DataFrame'>\n",
      "RangeIndex: 87 entries, 0 to 86\n",
      "Data columns (total 11 columns):\n",
      " #   Column      Non-Null Count  Dtype  \n",
      "---  ------      --------------  -----  \n",
      " 0   name        87 non-null     object \n",
      " 1   height      81 non-null     float64\n",
      " 2   mass        59 non-null     float64\n",
      " 3   hair_color  82 non-null     object \n",
      " 4   skin_color  87 non-null     object \n",
      " 5   eye_color   87 non-null     object \n",
      " 6   birth_year  43 non-null     float64\n",
      " 7   sex         83 non-null     object \n",
      " 8   gender      83 non-null     object \n",
      " 9   homeworld   77 non-null     object \n",
      " 10  species     83 non-null     object \n",
      "dtypes: float64(3), object(8)\n",
      "memory usage: 7.6+ KB\n"
     ]
    }
   ],
   "source": [
    "df.info()"
   ]
  },
  {
   "cell_type": "markdown",
   "id": "b46489d0",
   "metadata": {},
   "source": [
    "- name : 이름\n",
    "- height : 신장\n",
    "- mass : 체중\n",
    "- hair_color : 머리 색\n",
    "- skin_color : 피부 색\n",
    "- eye_color : 눈동자 색\n",
    "- birth_year : 생년\n",
    "- sex : 생물학적 성별\n",
    "- gender : 생물학적 성별\n",
    "- homeworld : 고향 행성\n",
    "- species : 종"
   ]
  },
  {
   "cell_type": "markdown",
   "id": "dcdabe6e",
   "metadata": {},
   "source": [
    "> - 범주형 변수 : 빈도 (Frequency) 계산\n",
    ">  - name, hair_color, skin_color, eye_color, gender, sex, homeworld, species\n",
    "\n",
    "> - 연속형 변수 : 수치계산이 가능한 데이터\n",
    ">  - height, mass, birth_year"
   ]
  },
  {
   "cell_type": "code",
   "execution_count": 8,
   "id": "964dd4d1",
   "metadata": {},
   "outputs": [
    {
     "data": {
      "text/plain": [
       "(87, 11)"
      ]
     },
     "execution_count": 8,
     "metadata": {},
     "output_type": "execute_result"
    }
   ],
   "source": [
    "df.shape"
   ]
  },
  {
   "cell_type": "code",
   "execution_count": 9,
   "id": "8b05613d",
   "metadata": {},
   "outputs": [
    {
     "data": {
      "text/html": [
       "<div>\n",
       "<style scoped>\n",
       "    .dataframe tbody tr th:only-of-type {\n",
       "        vertical-align: middle;\n",
       "    }\n",
       "\n",
       "    .dataframe tbody tr th {\n",
       "        vertical-align: top;\n",
       "    }\n",
       "\n",
       "    .dataframe thead th {\n",
       "        text-align: right;\n",
       "    }\n",
       "</style>\n",
       "<table border=\"1\" class=\"dataframe\">\n",
       "  <thead>\n",
       "    <tr style=\"text-align: right;\">\n",
       "      <th></th>\n",
       "      <th>height</th>\n",
       "      <th>mass</th>\n",
       "      <th>birth_year</th>\n",
       "    </tr>\n",
       "  </thead>\n",
       "  <tbody>\n",
       "    <tr>\n",
       "      <th>count</th>\n",
       "      <td>81.000000</td>\n",
       "      <td>59.000000</td>\n",
       "      <td>43.000000</td>\n",
       "    </tr>\n",
       "    <tr>\n",
       "      <th>mean</th>\n",
       "      <td>174.358025</td>\n",
       "      <td>97.311864</td>\n",
       "      <td>87.565116</td>\n",
       "    </tr>\n",
       "    <tr>\n",
       "      <th>std</th>\n",
       "      <td>34.770429</td>\n",
       "      <td>169.457163</td>\n",
       "      <td>154.691439</td>\n",
       "    </tr>\n",
       "    <tr>\n",
       "      <th>min</th>\n",
       "      <td>66.000000</td>\n",
       "      <td>15.000000</td>\n",
       "      <td>8.000000</td>\n",
       "    </tr>\n",
       "    <tr>\n",
       "      <th>25%</th>\n",
       "      <td>167.000000</td>\n",
       "      <td>55.600000</td>\n",
       "      <td>35.000000</td>\n",
       "    </tr>\n",
       "    <tr>\n",
       "      <th>50%</th>\n",
       "      <td>180.000000</td>\n",
       "      <td>79.000000</td>\n",
       "      <td>52.000000</td>\n",
       "    </tr>\n",
       "    <tr>\n",
       "      <th>75%</th>\n",
       "      <td>191.000000</td>\n",
       "      <td>84.500000</td>\n",
       "      <td>72.000000</td>\n",
       "    </tr>\n",
       "    <tr>\n",
       "      <th>max</th>\n",
       "      <td>264.000000</td>\n",
       "      <td>1358.000000</td>\n",
       "      <td>896.000000</td>\n",
       "    </tr>\n",
       "  </tbody>\n",
       "</table>\n",
       "</div>"
      ],
      "text/plain": [
       "           height         mass  birth_year\n",
       "count   81.000000    59.000000   43.000000\n",
       "mean   174.358025    97.311864   87.565116\n",
       "std     34.770429   169.457163  154.691439\n",
       "min     66.000000    15.000000    8.000000\n",
       "25%    167.000000    55.600000   35.000000\n",
       "50%    180.000000    79.000000   52.000000\n",
       "75%    191.000000    84.500000   72.000000\n",
       "max    264.000000  1358.000000  896.000000"
      ]
     },
     "execution_count": 9,
     "metadata": {},
     "output_type": "execute_result"
    }
   ],
   "source": [
    "df.describe()"
   ]
  },
  {
   "cell_type": "code",
   "execution_count": 10,
   "id": "a009fd19",
   "metadata": {},
   "outputs": [
    {
     "data": {
      "text/html": [
       "<div>\n",
       "<style scoped>\n",
       "    .dataframe tbody tr th:only-of-type {\n",
       "        vertical-align: middle;\n",
       "    }\n",
       "\n",
       "    .dataframe tbody tr th {\n",
       "        vertical-align: top;\n",
       "    }\n",
       "\n",
       "    .dataframe thead th {\n",
       "        text-align: right;\n",
       "    }\n",
       "</style>\n",
       "<table border=\"1\" class=\"dataframe\">\n",
       "  <thead>\n",
       "    <tr style=\"text-align: right;\">\n",
       "      <th></th>\n",
       "      <th>name</th>\n",
       "      <th>hair_color</th>\n",
       "      <th>skin_color</th>\n",
       "      <th>eye_color</th>\n",
       "      <th>sex</th>\n",
       "      <th>gender</th>\n",
       "      <th>homeworld</th>\n",
       "      <th>species</th>\n",
       "    </tr>\n",
       "  </thead>\n",
       "  <tbody>\n",
       "    <tr>\n",
       "      <th>count</th>\n",
       "      <td>87</td>\n",
       "      <td>82</td>\n",
       "      <td>87</td>\n",
       "      <td>87</td>\n",
       "      <td>83</td>\n",
       "      <td>83</td>\n",
       "      <td>77</td>\n",
       "      <td>83</td>\n",
       "    </tr>\n",
       "    <tr>\n",
       "      <th>unique</th>\n",
       "      <td>87</td>\n",
       "      <td>12</td>\n",
       "      <td>31</td>\n",
       "      <td>15</td>\n",
       "      <td>4</td>\n",
       "      <td>2</td>\n",
       "      <td>48</td>\n",
       "      <td>37</td>\n",
       "    </tr>\n",
       "    <tr>\n",
       "      <th>top</th>\n",
       "      <td>Luke Skywalker</td>\n",
       "      <td>none</td>\n",
       "      <td>fair</td>\n",
       "      <td>brown</td>\n",
       "      <td>male</td>\n",
       "      <td>masculine</td>\n",
       "      <td>Naboo</td>\n",
       "      <td>Human</td>\n",
       "    </tr>\n",
       "    <tr>\n",
       "      <th>freq</th>\n",
       "      <td>1</td>\n",
       "      <td>37</td>\n",
       "      <td>17</td>\n",
       "      <td>21</td>\n",
       "      <td>60</td>\n",
       "      <td>66</td>\n",
       "      <td>11</td>\n",
       "      <td>35</td>\n",
       "    </tr>\n",
       "  </tbody>\n",
       "</table>\n",
       "</div>"
      ],
      "text/plain": [
       "                  name hair_color skin_color eye_color   sex     gender  \\\n",
       "count               87         82         87        87    83         83   \n",
       "unique              87         12         31        15     4          2   \n",
       "top     Luke Skywalker       none       fair     brown  male  masculine   \n",
       "freq                 1         37         17        21    60         66   \n",
       "\n",
       "       homeworld species  \n",
       "count         77      83  \n",
       "unique        48      37  \n",
       "top        Naboo   Human  \n",
       "freq          11      35  "
      ]
     },
     "execution_count": 10,
     "metadata": {},
     "output_type": "execute_result"
    }
   ],
   "source": [
    "df.describe(include='object')"
   ]
  },
  {
   "cell_type": "markdown",
   "id": "53ac3810",
   "metadata": {},
   "source": [
    "#### 1) 범주형 컬럼 안에 들어있는 유니크 값 확인"
   ]
  },
  {
   "cell_type": "code",
   "execution_count": 11,
   "id": "b94a214c",
   "metadata": {},
   "outputs": [
    {
     "data": {
      "text/plain": [
       "array(['blond', nan, 'none', 'brown', 'brown, grey', 'black',\n",
       "       'auburn, white', 'auburn, grey', 'white', 'grey', 'auburn',\n",
       "       'blonde', 'unknown'], dtype=object)"
      ]
     },
     "execution_count": 11,
     "metadata": {},
     "output_type": "execute_result"
    }
   ],
   "source": [
    "df['hair_color'].unique()"
   ]
  },
  {
   "cell_type": "markdown",
   "id": "300185d2",
   "metadata": {},
   "source": [
    "> 범주가 적을수록 범주별 그래프를 그리기 쉬움 ( sex, gender ... )"
   ]
  },
  {
   "cell_type": "markdown",
   "id": "36627d0a",
   "metadata": {},
   "source": [
    "#### 2) 어떤 칼럼에 NaN 값이 있는지 확인"
   ]
  },
  {
   "cell_type": "code",
   "execution_count": 12,
   "id": "b3cb1cf1",
   "metadata": {},
   "outputs": [
    {
     "data": {
      "text/plain": [
       "name           0\n",
       "height         6\n",
       "mass          28\n",
       "hair_color     5\n",
       "skin_color     0\n",
       "eye_color      0\n",
       "birth_year    44\n",
       "sex            4\n",
       "gender         4\n",
       "homeworld     10\n",
       "species        4\n",
       "dtype: int64"
      ]
     },
     "execution_count": 12,
     "metadata": {},
     "output_type": "execute_result"
    }
   ],
   "source": [
    "df.isnull().sum()"
   ]
  },
  {
   "cell_type": "markdown",
   "id": "9ac8fa5a",
   "metadata": {},
   "source": [
    "#### 3) 총 데이터 개수"
   ]
  },
  {
   "cell_type": "code",
   "execution_count": 13,
   "id": "1dade8e8",
   "metadata": {},
   "outputs": [],
   "source": [
    "total = df.shape[0] * df.shape[1]"
   ]
  },
  {
   "cell_type": "markdown",
   "id": "b5547f22",
   "metadata": {},
   "source": [
    "#### 4) 총 결측치 비율 "
   ]
  },
  {
   "cell_type": "code",
   "execution_count": 14,
   "id": "407ad650",
   "metadata": {},
   "outputs": [
    {
     "name": "stdout",
     "output_type": "stream",
     "text": [
      "총 결측치 : 105\n",
      "총 결측치 비율 : 10.9717868338558\n"
     ]
    }
   ],
   "source": [
    "ratio = df.isnull().sum().sum() / total * 100\n",
    "print(f\"총 결측치 : {df.isnull().sum().sum()}\\n총 결측치 비율 : {ratio}\")"
   ]
  },
  {
   "cell_type": "markdown",
   "id": "122b8e7e",
   "metadata": {},
   "source": [
    "#### 5) 스타워즈에 등장하는 전체 인물의 숫자"
   ]
  },
  {
   "cell_type": "code",
   "execution_count": 15,
   "id": "3c3e1b82",
   "metadata": {},
   "outputs": [
    {
     "data": {
      "text/plain": [
       "87"
      ]
     },
     "execution_count": 15,
     "metadata": {},
     "output_type": "execute_result"
    }
   ],
   "source": [
    "df['name'].nunique()"
   ]
  },
  {
   "cell_type": "markdown",
   "id": "eee64a06",
   "metadata": {},
   "source": [
    "#### 6) 스타워즈에 등장하는 종족 숫자 "
   ]
  },
  {
   "cell_type": "code",
   "execution_count": 16,
   "id": "c0936aba",
   "metadata": {},
   "outputs": [
    {
     "data": {
      "text/plain": [
       "37"
      ]
     },
     "execution_count": 16,
     "metadata": {},
     "output_type": "execute_result"
    }
   ],
   "source": [
    "df['species'].nunique()"
   ]
  },
  {
   "cell_type": "markdown",
   "id": "14bea7a9",
   "metadata": {},
   "source": [
    "### 데이터 전처리"
   ]
  },
  {
   "cell_type": "code",
   "execution_count": 17,
   "id": "2474fb9e",
   "metadata": {},
   "outputs": [
    {
     "data": {
      "text/plain": [
       "name           0\n",
       "height         6\n",
       "mass          28\n",
       "hair_color     5\n",
       "skin_color     0\n",
       "eye_color      0\n",
       "birth_year    44\n",
       "sex            4\n",
       "gender         4\n",
       "homeworld     10\n",
       "species        4\n",
       "dtype: int64"
      ]
     },
     "execution_count": 17,
     "metadata": {},
     "output_type": "execute_result"
    }
   ],
   "source": [
    "df.isnull().sum()"
   ]
  },
  {
   "cell_type": "markdown",
   "id": "26c3ca48",
   "metadata": {},
   "source": [
    "#### 1) NaN 처리\n",
    "- fillna()\n",
    "- dropna()"
   ]
  },
  {
   "cell_type": "code",
   "execution_count": 46,
   "id": "85b5b7f5",
   "metadata": {},
   "outputs": [],
   "source": [
    "# height, mass 컬럼 NaN => 0\n",
    "df.iloc[:, 2].fillna(0,inplace=True)\n",
    "df.iloc[:, 1].fillna(0,inplace=True)"
   ]
  },
  {
   "cell_type": "code",
   "execution_count": 47,
   "id": "97948798",
   "metadata": {},
   "outputs": [
    {
     "data": {
      "text/plain": [
       "name           0\n",
       "height         0\n",
       "mass           0\n",
       "hair_color     5\n",
       "skin_color     0\n",
       "eye_color      0\n",
       "birth_year    44\n",
       "sex            4\n",
       "gender         4\n",
       "homeworld     10\n",
       "species        4\n",
       "dtype: int64"
      ]
     },
     "execution_count": 47,
     "metadata": {},
     "output_type": "execute_result"
    }
   ],
   "source": [
    "df.isnull().sum()"
   ]
  },
  {
   "cell_type": "code",
   "execution_count": 20,
   "id": "d5f0ae6a",
   "metadata": {},
   "outputs": [
    {
     "data": {
      "text/plain": [
       "array(['male', 'none', 'female', 'hermaphroditic', nan], dtype=object)"
      ]
     },
     "execution_count": 20,
     "metadata": {},
     "output_type": "execute_result"
    }
   ],
   "source": [
    "df['sex'].unique()"
   ]
  },
  {
   "cell_type": "code",
   "execution_count": 21,
   "id": "a86d4830",
   "metadata": {},
   "outputs": [
    {
     "data": {
      "text/html": [
       "<div>\n",
       "<style scoped>\n",
       "    .dataframe tbody tr th:only-of-type {\n",
       "        vertical-align: middle;\n",
       "    }\n",
       "\n",
       "    .dataframe tbody tr th {\n",
       "        vertical-align: top;\n",
       "    }\n",
       "\n",
       "    .dataframe thead th {\n",
       "        text-align: right;\n",
       "    }\n",
       "</style>\n",
       "<table border=\"1\" class=\"dataframe\">\n",
       "  <thead>\n",
       "    <tr style=\"text-align: right;\">\n",
       "      <th></th>\n",
       "      <th>name</th>\n",
       "      <th>height</th>\n",
       "      <th>mass</th>\n",
       "      <th>hair_color</th>\n",
       "      <th>skin_color</th>\n",
       "      <th>eye_color</th>\n",
       "      <th>birth_year</th>\n",
       "      <th>sex</th>\n",
       "      <th>gender</th>\n",
       "      <th>homeworld</th>\n",
       "      <th>species</th>\n",
       "    </tr>\n",
       "  </thead>\n",
       "  <tbody>\n",
       "    <tr>\n",
       "      <th>1</th>\n",
       "      <td>C-3PO</td>\n",
       "      <td>167.0</td>\n",
       "      <td>75.0</td>\n",
       "      <td>NaN</td>\n",
       "      <td>gold</td>\n",
       "      <td>yellow</td>\n",
       "      <td>112.0</td>\n",
       "      <td>none</td>\n",
       "      <td>masculine</td>\n",
       "      <td>Tatooine</td>\n",
       "      <td>Droid</td>\n",
       "    </tr>\n",
       "    <tr>\n",
       "      <th>2</th>\n",
       "      <td>R2-D2</td>\n",
       "      <td>96.0</td>\n",
       "      <td>32.0</td>\n",
       "      <td>NaN</td>\n",
       "      <td>white, blue</td>\n",
       "      <td>red</td>\n",
       "      <td>33.0</td>\n",
       "      <td>none</td>\n",
       "      <td>masculine</td>\n",
       "      <td>Naboo</td>\n",
       "      <td>Droid</td>\n",
       "    </tr>\n",
       "    <tr>\n",
       "      <th>7</th>\n",
       "      <td>R5-D4</td>\n",
       "      <td>97.0</td>\n",
       "      <td>32.0</td>\n",
       "      <td>NaN</td>\n",
       "      <td>white, red</td>\n",
       "      <td>red</td>\n",
       "      <td>NaN</td>\n",
       "      <td>none</td>\n",
       "      <td>masculine</td>\n",
       "      <td>Tatooine</td>\n",
       "      <td>Droid</td>\n",
       "    </tr>\n",
       "    <tr>\n",
       "      <th>21</th>\n",
       "      <td>IG-88</td>\n",
       "      <td>200.0</td>\n",
       "      <td>140.0</td>\n",
       "      <td>none</td>\n",
       "      <td>metal</td>\n",
       "      <td>red</td>\n",
       "      <td>15.0</td>\n",
       "      <td>none</td>\n",
       "      <td>masculine</td>\n",
       "      <td>NaN</td>\n",
       "      <td>Droid</td>\n",
       "    </tr>\n",
       "    <tr>\n",
       "      <th>72</th>\n",
       "      <td>R4-P17</td>\n",
       "      <td>96.0</td>\n",
       "      <td>0.0</td>\n",
       "      <td>none</td>\n",
       "      <td>silver, red</td>\n",
       "      <td>red, blue</td>\n",
       "      <td>NaN</td>\n",
       "      <td>none</td>\n",
       "      <td>feminine</td>\n",
       "      <td>NaN</td>\n",
       "      <td>Droid</td>\n",
       "    </tr>\n",
       "    <tr>\n",
       "      <th>84</th>\n",
       "      <td>BB8</td>\n",
       "      <td>NaN</td>\n",
       "      <td>0.0</td>\n",
       "      <td>none</td>\n",
       "      <td>none</td>\n",
       "      <td>black</td>\n",
       "      <td>NaN</td>\n",
       "      <td>none</td>\n",
       "      <td>masculine</td>\n",
       "      <td>NaN</td>\n",
       "      <td>Droid</td>\n",
       "    </tr>\n",
       "  </tbody>\n",
       "</table>\n",
       "</div>"
      ],
      "text/plain": [
       "      name  height   mass hair_color   skin_color  eye_color  birth_year  \\\n",
       "1    C-3PO   167.0   75.0        NaN         gold     yellow       112.0   \n",
       "2    R2-D2    96.0   32.0        NaN  white, blue        red        33.0   \n",
       "7    R5-D4    97.0   32.0        NaN   white, red        red         NaN   \n",
       "21   IG-88   200.0  140.0       none        metal        red        15.0   \n",
       "72  R4-P17    96.0    0.0       none  silver, red  red, blue         NaN   \n",
       "84     BB8     NaN    0.0       none         none      black         NaN   \n",
       "\n",
       "     sex     gender homeworld species  \n",
       "1   none  masculine  Tatooine   Droid  \n",
       "2   none  masculine     Naboo   Droid  \n",
       "7   none  masculine  Tatooine   Droid  \n",
       "21  none  masculine       NaN   Droid  \n",
       "72  none   feminine       NaN   Droid  \n",
       "84  none  masculine       NaN   Droid  "
      ]
     },
     "execution_count": 21,
     "metadata": {},
     "output_type": "execute_result"
    }
   ],
   "source": [
    "df[df['sex'] == 'none'] # none 비교 가능"
   ]
  },
  {
   "cell_type": "code",
   "execution_count": 22,
   "id": "6b3e69e6",
   "metadata": {},
   "outputs": [
    {
     "data": {
      "text/html": [
       "<div>\n",
       "<style scoped>\n",
       "    .dataframe tbody tr th:only-of-type {\n",
       "        vertical-align: middle;\n",
       "    }\n",
       "\n",
       "    .dataframe tbody tr th {\n",
       "        vertical-align: top;\n",
       "    }\n",
       "\n",
       "    .dataframe thead th {\n",
       "        text-align: right;\n",
       "    }\n",
       "</style>\n",
       "<table border=\"1\" class=\"dataframe\">\n",
       "  <thead>\n",
       "    <tr style=\"text-align: right;\">\n",
       "      <th></th>\n",
       "      <th>name</th>\n",
       "      <th>height</th>\n",
       "      <th>mass</th>\n",
       "      <th>hair_color</th>\n",
       "      <th>skin_color</th>\n",
       "      <th>eye_color</th>\n",
       "      <th>birth_year</th>\n",
       "      <th>sex</th>\n",
       "      <th>gender</th>\n",
       "      <th>homeworld</th>\n",
       "      <th>species</th>\n",
       "    </tr>\n",
       "  </thead>\n",
       "  <tbody>\n",
       "    <tr>\n",
       "      <th>36</th>\n",
       "      <td>Ric Oli?</td>\n",
       "      <td>183.0</td>\n",
       "      <td>0.0</td>\n",
       "      <td>brown</td>\n",
       "      <td>fair</td>\n",
       "      <td>blue</td>\n",
       "      <td>NaN</td>\n",
       "      <td>NaN</td>\n",
       "      <td>NaN</td>\n",
       "      <td>Naboo</td>\n",
       "      <td>NaN</td>\n",
       "    </tr>\n",
       "    <tr>\n",
       "      <th>39</th>\n",
       "      <td>Quarsh Panaka</td>\n",
       "      <td>183.0</td>\n",
       "      <td>0.0</td>\n",
       "      <td>black</td>\n",
       "      <td>dark</td>\n",
       "      <td>brown</td>\n",
       "      <td>62.0</td>\n",
       "      <td>NaN</td>\n",
       "      <td>NaN</td>\n",
       "      <td>Naboo</td>\n",
       "      <td>NaN</td>\n",
       "    </tr>\n",
       "    <tr>\n",
       "      <th>79</th>\n",
       "      <td>Sly Moore</td>\n",
       "      <td>178.0</td>\n",
       "      <td>48.0</td>\n",
       "      <td>none</td>\n",
       "      <td>pale</td>\n",
       "      <td>white</td>\n",
       "      <td>NaN</td>\n",
       "      <td>NaN</td>\n",
       "      <td>NaN</td>\n",
       "      <td>Umbara</td>\n",
       "      <td>NaN</td>\n",
       "    </tr>\n",
       "    <tr>\n",
       "      <th>85</th>\n",
       "      <td>Captain Phasma</td>\n",
       "      <td>NaN</td>\n",
       "      <td>0.0</td>\n",
       "      <td>unknown</td>\n",
       "      <td>unknown</td>\n",
       "      <td>unknown</td>\n",
       "      <td>NaN</td>\n",
       "      <td>NaN</td>\n",
       "      <td>NaN</td>\n",
       "      <td>NaN</td>\n",
       "      <td>NaN</td>\n",
       "    </tr>\n",
       "  </tbody>\n",
       "</table>\n",
       "</div>"
      ],
      "text/plain": [
       "              name  height  mass hair_color skin_color eye_color  birth_year  \\\n",
       "36        Ric Oli?   183.0   0.0      brown       fair      blue         NaN   \n",
       "39   Quarsh Panaka   183.0   0.0      black       dark     brown        62.0   \n",
       "79       Sly Moore   178.0  48.0       none       pale     white         NaN   \n",
       "85  Captain Phasma     NaN   0.0    unknown    unknown   unknown         NaN   \n",
       "\n",
       "    sex gender homeworld species  \n",
       "36  NaN    NaN     Naboo     NaN  \n",
       "39  NaN    NaN     Naboo     NaN  \n",
       "79  NaN    NaN    Umbara     NaN  \n",
       "85  NaN    NaN       NaN     NaN  "
      ]
     },
     "execution_count": 22,
     "metadata": {},
     "output_type": "execute_result"
    }
   ],
   "source": [
    "df[df['sex'].isnull()] # NaN 비교 불가"
   ]
  },
  {
   "cell_type": "markdown",
   "id": "6fd02e09",
   "metadata": {},
   "source": [
    "#### sex == 'none' 인 경우 sex 컬럼의 값을 'robot' 으로 변경"
   ]
  },
  {
   "cell_type": "code",
   "execution_count": 23,
   "id": "e8ea1776",
   "metadata": {},
   "outputs": [],
   "source": [
    "df.loc[df['sex'] == 'none', 'sex'] = 'robot'"
   ]
  },
  {
   "cell_type": "markdown",
   "id": "622f78ee",
   "metadata": {},
   "source": [
    "### EDA & Visualization"
   ]
  },
  {
   "cell_type": "markdown",
   "id": "46d4d5c9",
   "metadata": {},
   "source": [
    "#### 1) 스타워즈 캐릭터의 성별 비율 알아보기"
   ]
  },
  {
   "cell_type": "code",
   "execution_count": 24,
   "id": "4d4a5f60",
   "metadata": {},
   "outputs": [
    {
     "name": "stdout",
     "output_type": "stream",
     "text": [
      "['male' 'robot' 'female' 'hermaphroditic' nan]\n",
      "4\n",
      "male              60\n",
      "female            16\n",
      "robot              6\n",
      "hermaphroditic     1\n",
      "Name: sex, dtype: int64\n"
     ]
    }
   ],
   "source": [
    "print(df['sex'].unique())\n",
    "print(df['sex'].nunique())\n",
    "print(df['sex'].value_counts())"
   ]
  },
  {
   "cell_type": "code",
   "execution_count": 25,
   "id": "9f9352a4",
   "metadata": {},
   "outputs": [],
   "source": [
    "gender_data = df['gender'].value_counts()"
   ]
  },
  {
   "cell_type": "code",
   "execution_count": 26,
   "id": "7fcd81f6",
   "metadata": {},
   "outputs": [
    {
     "data": {
      "text/plain": [
       "array([66, 17], dtype=int64)"
      ]
     },
     "execution_count": 26,
     "metadata": {},
     "output_type": "execute_result"
    }
   ],
   "source": [
    "gender_data.values"
   ]
  },
  {
   "cell_type": "code",
   "execution_count": 27,
   "id": "a4ca80dc",
   "metadata": {},
   "outputs": [
    {
     "data": {
      "text/plain": [
       "<AxesSubplot:xlabel='count', ylabel='sex'>"
      ]
     },
     "execution_count": 27,
     "metadata": {},
     "output_type": "execute_result"
    },
    {
     "data": {
      "image/png": "[encoded data removed]",
      "text/plain": [
       "<Figure size 432x288 with 1 Axes>"
      ]
     },
     "metadata": {},
     "output_type": "display_data"
    }
   ],
   "source": [
    "# explode = [0.05, 0.05]\n",
    "# plt.figure(figsize=(10, 10))\n",
    "# plt.title(\"Starwars : Gender\", size=18)\n",
    "# plt.pie(gender_data.values, labels=gender_data.index, autopct=\"%.1f%%\", shadow=True, explode=explode)\n",
    "# plt.show()\n",
    "\n",
    "sns.countplot(data=df, y='sex')"
   ]
  },
  {
   "cell_type": "markdown",
   "id": "e6878173",
   "metadata": {},
   "source": [
    "#### 2) 스타워즈 캐릭터의 성별에 따른 신장의 분포 알아보기"
   ]
  },
  {
   "cell_type": "code",
   "execution_count": 28,
   "id": "8e9be91f",
   "metadata": {},
   "outputs": [
    {
     "data": {
      "text/plain": [
       "count     81.000000\n",
       "mean     174.358025\n",
       "std       34.770429\n",
       "min       66.000000\n",
       "25%      167.000000\n",
       "50%      180.000000\n",
       "75%      191.000000\n",
       "max      264.000000\n",
       "Name: height, dtype: float64"
      ]
     },
     "execution_count": 28,
     "metadata": {},
     "output_type": "execute_result"
    }
   ],
   "source": [
    "df['height'].describe()"
   ]
  },
  {
   "cell_type": "code",
   "execution_count": 29,
   "id": "46795b55",
   "metadata": {
    "scrolled": true
   },
   "outputs": [
    {
     "name": "stdout",
     "output_type": "stream",
     "text": [
      "왜도 : -1.0645924737589698\n",
      "첨도 : 2.0969653827126526\n"
     ]
    }
   ],
   "source": [
    "print(f\"왜도 : {df['height'].skew()}\")\n",
    "print(f\"첨도 : {df['height'].kurt()}\")"
   ]
  },
  {
   "cell_type": "code",
   "execution_count": 48,
   "id": "1d22a7a4",
   "metadata": {},
   "outputs": [
    {
     "data": {
      "text/plain": [
       "<matplotlib.legend.Legend at 0x1f3caa93c10>"
      ]
     },
     "execution_count": 48,
     "metadata": {},
     "output_type": "execute_result"
    },
    {
     "data": {
      "image/png": "[encoded data removed]",
      "text/plain": [
       "<Figure size 1152x360 with 2 Axes>"
      ]
     },
     "metadata": {},
     "output_type": "display_data"
    }
   ],
   "source": [
    "plt.style.use('seaborn')\n",
    "fig, ax = plt.subplots(1, 2, figsize=(16, 5))\n",
    "\n",
    "sns.histplot(df[df['sex'] == 'male']['height'], ax = ax[0], kde=True, stat='density', color='red')\n",
    "sns.histplot(df[df['sex'] == 'female']['height'], ax = ax[0], kde=True, stat='density', color='blue')\n",
    "sns.histplot(df[df['sex'] == 'robot']['height'], ax = ax[0], kde=True, stat='density')\n",
    "ax[0].legend(['male', 'female', 'robot'])\n",
    "\n",
    "# kedplot : 확률 분포를 부드럽게 그려줌\n",
    "sns.kdeplot(df[df['gender'] == 'masculine']['height'], ax=ax[1])\n",
    "sns.kdeplot(df[df['gender'] == 'feminine']['height'], ax=ax[1])\n",
    "ax[1].legend(['masculine', 'feminine'])"
   ]
  },
  {
   "cell_type": "markdown",
   "id": "ca6a4a3c",
   "metadata": {},
   "source": [
    "#### 3) 가장 무거운 캐릭터와 가장 가벼운 캐릭터 알아보기\n",
    "- 단, 가장 가벼운 캐릭터의 경우 0 을 제외한다"
   ]
  },
  {
   "cell_type": "code",
   "execution_count": 31,
   "id": "067f600e",
   "metadata": {},
   "outputs": [],
   "source": [
    "df_min = df[df['mass'] > 0]"
   ]
  },
  {
   "cell_type": "code",
   "execution_count": 32,
   "id": "2b60caf8",
   "metadata": {},
   "outputs": [
    {
     "data": {
      "text/plain": [
       "array(['Ratts Tyerell'], dtype=object)"
      ]
     },
     "execution_count": 32,
     "metadata": {},
     "output_type": "execute_result"
    }
   ],
   "source": [
    "df_min[df_min['mass'] == min(df_min['mass'])]['name'].values"
   ]
  },
  {
   "cell_type": "code",
   "execution_count": 33,
   "id": "68fc6140",
   "metadata": {},
   "outputs": [
    {
     "data": {
      "text/plain": [
       "array(['Jabba Desilijic Tiure'], dtype=object)"
      ]
     },
     "execution_count": 33,
     "metadata": {},
     "output_type": "execute_result"
    }
   ],
   "source": [
    "df_min[df_min['mass'] == max(df_min['mass'])]['name'].values"
   ]
  },
  {
   "cell_type": "code",
   "execution_count": 34,
   "id": "e7d0af12",
   "metadata": {},
   "outputs": [
    {
     "name": "stdout",
     "output_type": "stream",
     "text": [
      "['Ratts Tyerell'] 의 몸무게가 15.0 로 가장 가볍다.\n",
      "['Jabba Desilijic Tiure'] 의 몸무게가 1358.0 로 가장 무겁다.\n"
     ]
    }
   ],
   "source": [
    "print(f\"{df_min[df_min['mass'] == min(df_min['mass'])]['name'].values} 의 몸무게가 {min(df_min['mass'])} 로 가장 가볍다.\")\n",
    "print(f\"{df_min[df_min['mass'] == max(df_min['mass'])]['name'].values} 의 몸무게가 {max(df_min['mass'])} 로 가장 무겁다.\")"
   ]
  },
  {
   "cell_type": "markdown",
   "id": "147635ec",
   "metadata": {},
   "source": [
    "#### 4) 스타워즈 캐릭터의 키와 몸무게는 상관관계가 있는지 알아보기"
   ]
  },
  {
   "cell_type": "code",
   "execution_count": 35,
   "id": "1570d342",
   "metadata": {},
   "outputs": [
    {
     "data": {
      "text/html": [
       "<div>\n",
       "<style scoped>\n",
       "    .dataframe tbody tr th:only-of-type {\n",
       "        vertical-align: middle;\n",
       "    }\n",
       "\n",
       "    .dataframe tbody tr th {\n",
       "        vertical-align: top;\n",
       "    }\n",
       "\n",
       "    .dataframe thead th {\n",
       "        text-align: right;\n",
       "    }\n",
       "</style>\n",
       "<table border=\"1\" class=\"dataframe\">\n",
       "  <thead>\n",
       "    <tr style=\"text-align: right;\">\n",
       "      <th></th>\n",
       "      <th>mass</th>\n",
       "    </tr>\n",
       "    <tr>\n",
       "      <th>species</th>\n",
       "      <th></th>\n",
       "    </tr>\n",
       "  </thead>\n",
       "  <tbody>\n",
       "    <tr>\n",
       "      <th>Aleena</th>\n",
       "      <td>15.0</td>\n",
       "    </tr>\n",
       "    <tr>\n",
       "      <th>Besalisk</th>\n",
       "      <td>102.0</td>\n",
       "    </tr>\n",
       "    <tr>\n",
       "      <th>Cerean</th>\n",
       "      <td>82.0</td>\n",
       "    </tr>\n",
       "    <tr>\n",
       "      <th>Chagrian</th>\n",
       "      <td>0.0</td>\n",
       "    </tr>\n",
       "    <tr>\n",
       "      <th>Clawdite</th>\n",
       "      <td>55.0</td>\n",
       "    </tr>\n",
       "  </tbody>\n",
       "</table>\n",
       "</div>"
      ],
      "text/plain": [
       "           mass\n",
       "species        \n",
       "Aleena     15.0\n",
       "Besalisk  102.0\n",
       "Cerean     82.0\n",
       "Chagrian    0.0\n",
       "Clawdite   55.0"
      ]
     },
     "execution_count": 35,
     "metadata": {},
     "output_type": "execute_result"
    }
   ],
   "source": [
    "weight = df[['species', 'mass']].groupby('species').mean()\n",
    "weight.head()"
   ]
  },
  {
   "cell_type": "code",
   "execution_count": 36,
   "id": "e4db8b7f",
   "metadata": {},
   "outputs": [],
   "source": [
    "# 몸무게 많이 나가는 순으로 상위 10개 종족의 몸무게를 bar 그래프로 생성\n",
    "weight.sort_values('mass', ascending=False, inplace=True)"
   ]
  },
  {
   "cell_type": "code",
   "execution_count": 37,
   "id": "aa4bad60",
   "metadata": {},
   "outputs": [
    {
     "data": {
      "image/png": "[encoded data removed]",
      "text/plain": [
       "<Figure size 864x432 with 1 Axes>"
      ]
     },
     "metadata": {},
     "output_type": "display_data"
    }
   ],
   "source": [
    "plt.figure(figsize=(12,6))\n",
    "plt.bar(x=weight.index[:11], height=weight['mass'][:11], width=0.5, color='red', label='mass')\n",
    "plt.legend()\n",
    "plt.show()"
   ]
  },
  {
   "cell_type": "markdown",
   "id": "67468fee",
   "metadata": {},
   "source": [
    "#### 5) 스타워즈 캐릭터의 몸무게 - 키 의 상관관계\n",
    "- 몸무게가 1358, 0 인 캐릭터 제외"
   ]
  },
  {
   "cell_type": "code",
   "execution_count": 38,
   "id": "74258896",
   "metadata": {},
   "outputs": [
    {
     "data": {
      "text/plain": [
       "(87, 11)"
      ]
     },
     "execution_count": 38,
     "metadata": {},
     "output_type": "execute_result"
    }
   ],
   "source": [
    "df.shape"
   ]
  },
  {
   "cell_type": "code",
   "execution_count": 39,
   "id": "fd45bc2d",
   "metadata": {},
   "outputs": [],
   "source": [
    "out1 = ~df['species'].isin(['Hutt'])"
   ]
  },
  {
   "cell_type": "code",
   "execution_count": 40,
   "id": "8f1f05d5",
   "metadata": {},
   "outputs": [],
   "source": [
    "out2 = ~df['mass'].isin([0.0])"
   ]
  },
  {
   "cell_type": "code",
   "execution_count": 41,
   "id": "26bddfd2",
   "metadata": {},
   "outputs": [
    {
     "data": {
      "text/plain": [
       "(58, 11)"
      ]
     },
     "execution_count": 41,
     "metadata": {},
     "output_type": "execute_result"
    }
   ],
   "source": [
    "df.loc[out1 & out2].shape"
   ]
  },
  {
   "cell_type": "code",
   "execution_count": 42,
   "id": "f527ddc5",
   "metadata": {},
   "outputs": [
    {
     "data": {
      "text/plain": [
       "<AxesSubplot:xlabel='height', ylabel='mass'>"
      ]
     },
     "execution_count": 42,
     "metadata": {},
     "output_type": "execute_result"
    },
    {
     "data": {
      "image/png": "[encoded data removed]",
      "text/plain": [
       "<Figure size 576x396 with 1 Axes>"
      ]
     },
     "metadata": {},
     "output_type": "display_data"
    }
   ],
   "source": [
    "sns.regplot(data=df.loc[out1 & out2], x='height', y='mass')"
   ]
  },
  {
   "cell_type": "code",
   "execution_count": 43,
   "id": "4e0c5ed4",
   "metadata": {},
   "outputs": [
    {
     "data": {
      "text/plain": [
       "<seaborn.axisgrid.FacetGrid at 0x1f3c9790f40>"
      ]
     },
     "execution_count": 43,
     "metadata": {},
     "output_type": "execute_result"
    },
    {
     "data": {
      "image/png": "[encoded data removed]",
      "text/plain": [
       "<Figure size 441.375x360 with 1 Axes>"
      ]
     },
     "metadata": {},
     "output_type": "display_data"
    }
   ],
   "source": [
    "sns.lmplot(data=df.loc[out1 & out2], x='height', y='mass', hue='gender')"
   ]
  }
 ],
 "metadata": {
  "kernelspec": {
   "display_name": "Python 3 (ipykernel)",
   "language": "python",
   "name": "python3"
  },
  "language_info": {
   "codemirror_mode": {
    "name": "ipython",
    "version": 3
   },
   "file_extension": ".py",
   "mimetype": "text/x-python",
   "name": "python",
   "nbconvert_exporter": "python",
   "pygments_lexer": "ipython3",
   "version": "3.9.12"
  }
 },
 "nbformat": 4,
 "nbformat_minor": 5
}
