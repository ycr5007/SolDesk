{
 "cells": [
  {
   "cell_type": "markdown",
   "id": "05356aae",
   "metadata": {},
   "source": [
    "### 데이터 수집\n",
    "- 서울 열린 데이터 광장 홈페이지 (https://data.seoul.go.kr/)\n",
    " - 서울시 주민등록인구(구별) 통계\n",
    " - 서울시 자치구 년도별 CCTV 설치 현황\n",
    " - 서울시 5대 범죄 발생현황 통계"
   ]
  },
  {
   "cell_type": "code",
   "execution_count": 1,
   "id": "6c8ede04",
   "metadata": {},
   "outputs": [],
   "source": [
    "import seaborn as sns\n",
    "\n",
    "sns.set(font_scale=1) # seaborn 기초 세팅"
   ]
  },
  {
   "cell_type": "code",
   "execution_count": 2,
   "id": "d42d3ae2",
   "metadata": {},
   "outputs": [],
   "source": [
    "import pandas as pd\n",
    "import matplotlib.pyplot as plt\n",
    "import numpy as np\n",
    "\n",
    "plt.rcParams['axes.unicode_minus'] = False # \" - \" 기호 Unicode 처리\n",
    "plt.rcParams['font.family'] = 'Malgun Gothic' # 한글 폰트 설정"
   ]
  },
  {
   "cell_type": "code",
   "execution_count": 68,
   "id": "26e48f11",
   "metadata": {},
   "outputs": [],
   "source": [
    "import warnings\n",
    "warnings.simplefilter(\"ignore\")"
   ]
  },
  {
   "cell_type": "markdown",
   "id": "a5ca50a0",
   "metadata": {},
   "source": [
    "# 1. CCTV 설치 현황"
   ]
  },
  {
   "cell_type": "code",
   "execution_count": 14,
   "id": "9374ec6c",
   "metadata": {},
   "outputs": [
    {
     "data": {
      "text/html": [
       "<div>\n",
       "<style scoped>\n",
       "    .dataframe tbody tr th:only-of-type {\n",
       "        vertical-align: middle;\n",
       "    }\n",
       "\n",
       "    .dataframe tbody tr th {\n",
       "        vertical-align: top;\n",
       "    }\n",
       "\n",
       "    .dataframe thead th {\n",
       "        text-align: right;\n",
       "    }\n",
       "</style>\n",
       "<table border=\"1\" class=\"dataframe\">\n",
       "  <thead>\n",
       "    <tr style=\"text-align: right;\">\n",
       "      <th></th>\n",
       "      <th>구분</th>\n",
       "      <th>총계</th>\n",
       "      <th>2012년 이전</th>\n",
       "      <th>2012년</th>\n",
       "      <th>2013년</th>\n",
       "      <th>2014년</th>\n",
       "      <th>2015년</th>\n",
       "      <th>2016년</th>\n",
       "      <th>2017년</th>\n",
       "      <th>2018년</th>\n",
       "      <th>2019년</th>\n",
       "      <th>2020년</th>\n",
       "      <th>2021년</th>\n",
       "    </tr>\n",
       "  </thead>\n",
       "  <tbody>\n",
       "    <tr>\n",
       "      <th>0</th>\n",
       "      <td>종로구</td>\n",
       "      <td>1715</td>\n",
       "      <td>815</td>\n",
       "      <td>NaN</td>\n",
       "      <td>NaN</td>\n",
       "      <td>195</td>\n",
       "      <td>150</td>\n",
       "      <td>0</td>\n",
       "      <td>261</td>\n",
       "      <td>85</td>\n",
       "      <td>9</td>\n",
       "      <td>200</td>\n",
       "      <td>0</td>\n",
       "    </tr>\n",
       "    <tr>\n",
       "      <th>1</th>\n",
       "      <td>중 구</td>\n",
       "      <td>2447</td>\n",
       "      <td>16</td>\n",
       "      <td>114.0</td>\n",
       "      <td>87.0</td>\n",
       "      <td>77</td>\n",
       "      <td>236</td>\n",
       "      <td>240</td>\n",
       "      <td>372</td>\n",
       "      <td>386</td>\n",
       "      <td>155</td>\n",
       "      <td>361</td>\n",
       "      <td>403</td>\n",
       "    </tr>\n",
       "    <tr>\n",
       "      <th>2</th>\n",
       "      <td>용산구</td>\n",
       "      <td>2611</td>\n",
       "      <td>34</td>\n",
       "      <td>71.0</td>\n",
       "      <td>234.0</td>\n",
       "      <td>125</td>\n",
       "      <td>221</td>\n",
       "      <td>298</td>\n",
       "      <td>351</td>\n",
       "      <td>125</td>\n",
       "      <td>307</td>\n",
       "      <td>617</td>\n",
       "      <td>228</td>\n",
       "    </tr>\n",
       "    <tr>\n",
       "      <th>3</th>\n",
       "      <td>성동구</td>\n",
       "      <td>3829</td>\n",
       "      <td>163</td>\n",
       "      <td>144.0</td>\n",
       "      <td>208.0</td>\n",
       "      <td>107</td>\n",
       "      <td>325</td>\n",
       "      <td>255</td>\n",
       "      <td>967</td>\n",
       "      <td>415</td>\n",
       "      <td>490</td>\n",
       "      <td>472</td>\n",
       "      <td>283</td>\n",
       "    </tr>\n",
       "    <tr>\n",
       "      <th>4</th>\n",
       "      <td>광진구</td>\n",
       "      <td>3211</td>\n",
       "      <td>35</td>\n",
       "      <td>57.0</td>\n",
       "      <td>100.0</td>\n",
       "      <td>187</td>\n",
       "      <td>98</td>\n",
       "      <td>52</td>\n",
       "      <td>675</td>\n",
       "      <td>465</td>\n",
       "      <td>712</td>\n",
       "      <td>175</td>\n",
       "      <td>655</td>\n",
       "    </tr>\n",
       "  </tbody>\n",
       "</table>\n",
       "</div>"
      ],
      "text/plain": [
       "    구분    총계  2012년 이전  2012년  2013년  2014년  2015년  2016년  2017년  2018년  \\\n",
       "0  종로구  1715       815    NaN    NaN    195    150      0    261     85   \n",
       "1  중 구  2447        16  114.0   87.0     77    236    240    372    386   \n",
       "2  용산구  2611        34   71.0  234.0    125    221    298    351    125   \n",
       "3  성동구  3829       163  144.0  208.0    107    325    255    967    415   \n",
       "4  광진구  3211        35   57.0  100.0    187     98     52    675    465   \n",
       "\n",
       "   2019년  2020년  2021년  \n",
       "0      9    200      0  \n",
       "1    155    361    403  \n",
       "2    307    617    228  \n",
       "3    490    472    283  \n",
       "4    712    175    655  "
      ]
     },
     "execution_count": 14,
     "metadata": {},
     "output_type": "execute_result"
    }
   ],
   "source": [
    "cctv = pd.read_csv(\"../../data/dataset/서울시CCTV설치운영현황(자치구)_년도별_211231기준.csv\", encoding=\"cp949\", skiprows=[0, 2], thousands=',')\n",
    "cctv.head()"
   ]
  },
  {
   "cell_type": "code",
   "execution_count": 15,
   "id": "117eb556",
   "metadata": {},
   "outputs": [
    {
     "data": {
      "text/plain": [
       "(25, 13)"
      ]
     },
     "execution_count": 15,
     "metadata": {},
     "output_type": "execute_result"
    }
   ],
   "source": [
    "cctv.shape"
   ]
  },
  {
   "cell_type": "code",
   "execution_count": 17,
   "id": "10a2ec9b",
   "metadata": {},
   "outputs": [
    {
     "name": "stdout",
     "output_type": "stream",
     "text": [
      "<class 'pandas.core.frame.DataFrame'>\n",
      "RangeIndex: 25 entries, 0 to 24\n",
      "Data columns (total 13 columns):\n",
      " #   Column    Non-Null Count  Dtype  \n",
      "---  ------    --------------  -----  \n",
      " 0   구분        25 non-null     object \n",
      " 1   총계        25 non-null     int64  \n",
      " 2   2012년 이전  25 non-null     int64  \n",
      " 3   2012년     24 non-null     float64\n",
      " 4   2013년     24 non-null     float64\n",
      " 5   2014년     25 non-null     int64  \n",
      " 6   2015년     25 non-null     int64  \n",
      " 7   2016년     25 non-null     int64  \n",
      " 8   2017년     25 non-null     int64  \n",
      " 9   2018년     25 non-null     int64  \n",
      " 10  2019년     25 non-null     int64  \n",
      " 11  2020년     25 non-null     int64  \n",
      " 12  2021년     25 non-null     int64  \n",
      "dtypes: float64(2), int64(10), object(1)\n",
      "memory usage: 2.7+ KB\n"
     ]
    }
   ],
   "source": [
    "cctv.info()"
   ]
  },
  {
   "cell_type": "markdown",
   "id": "5c7e0709",
   "metadata": {},
   "source": [
    "### 데이터 전처리"
   ]
  },
  {
   "cell_type": "markdown",
   "id": "c8bdedf0",
   "metadata": {},
   "source": [
    "#### 1 ) NaN 처리 - 0으로 채우기"
   ]
  },
  {
   "cell_type": "code",
   "execution_count": 19,
   "id": "6ca1e7cd",
   "metadata": {},
   "outputs": [
    {
     "data": {
      "text/html": [
       "<div>\n",
       "<style scoped>\n",
       "    .dataframe tbody tr th:only-of-type {\n",
       "        vertical-align: middle;\n",
       "    }\n",
       "\n",
       "    .dataframe tbody tr th {\n",
       "        vertical-align: top;\n",
       "    }\n",
       "\n",
       "    .dataframe thead th {\n",
       "        text-align: right;\n",
       "    }\n",
       "</style>\n",
       "<table border=\"1\" class=\"dataframe\">\n",
       "  <thead>\n",
       "    <tr style=\"text-align: right;\">\n",
       "      <th></th>\n",
       "      <th>구분</th>\n",
       "      <th>총계</th>\n",
       "      <th>2012년 이전</th>\n",
       "      <th>2012년</th>\n",
       "      <th>2013년</th>\n",
       "      <th>2014년</th>\n",
       "      <th>2015년</th>\n",
       "      <th>2016년</th>\n",
       "      <th>2017년</th>\n",
       "      <th>2018년</th>\n",
       "      <th>2019년</th>\n",
       "      <th>2020년</th>\n",
       "      <th>2021년</th>\n",
       "    </tr>\n",
       "  </thead>\n",
       "  <tbody>\n",
       "    <tr>\n",
       "      <th>0</th>\n",
       "      <td>종로구</td>\n",
       "      <td>1715</td>\n",
       "      <td>815</td>\n",
       "      <td>0.0</td>\n",
       "      <td>0.0</td>\n",
       "      <td>195</td>\n",
       "      <td>150</td>\n",
       "      <td>0</td>\n",
       "      <td>261</td>\n",
       "      <td>85</td>\n",
       "      <td>9</td>\n",
       "      <td>200</td>\n",
       "      <td>0</td>\n",
       "    </tr>\n",
       "    <tr>\n",
       "      <th>1</th>\n",
       "      <td>중 구</td>\n",
       "      <td>2447</td>\n",
       "      <td>16</td>\n",
       "      <td>114.0</td>\n",
       "      <td>87.0</td>\n",
       "      <td>77</td>\n",
       "      <td>236</td>\n",
       "      <td>240</td>\n",
       "      <td>372</td>\n",
       "      <td>386</td>\n",
       "      <td>155</td>\n",
       "      <td>361</td>\n",
       "      <td>403</td>\n",
       "    </tr>\n",
       "    <tr>\n",
       "      <th>2</th>\n",
       "      <td>용산구</td>\n",
       "      <td>2611</td>\n",
       "      <td>34</td>\n",
       "      <td>71.0</td>\n",
       "      <td>234.0</td>\n",
       "      <td>125</td>\n",
       "      <td>221</td>\n",
       "      <td>298</td>\n",
       "      <td>351</td>\n",
       "      <td>125</td>\n",
       "      <td>307</td>\n",
       "      <td>617</td>\n",
       "      <td>228</td>\n",
       "    </tr>\n",
       "    <tr>\n",
       "      <th>3</th>\n",
       "      <td>성동구</td>\n",
       "      <td>3829</td>\n",
       "      <td>163</td>\n",
       "      <td>144.0</td>\n",
       "      <td>208.0</td>\n",
       "      <td>107</td>\n",
       "      <td>325</td>\n",
       "      <td>255</td>\n",
       "      <td>967</td>\n",
       "      <td>415</td>\n",
       "      <td>490</td>\n",
       "      <td>472</td>\n",
       "      <td>283</td>\n",
       "    </tr>\n",
       "    <tr>\n",
       "      <th>4</th>\n",
       "      <td>광진구</td>\n",
       "      <td>3211</td>\n",
       "      <td>35</td>\n",
       "      <td>57.0</td>\n",
       "      <td>100.0</td>\n",
       "      <td>187</td>\n",
       "      <td>98</td>\n",
       "      <td>52</td>\n",
       "      <td>675</td>\n",
       "      <td>465</td>\n",
       "      <td>712</td>\n",
       "      <td>175</td>\n",
       "      <td>655</td>\n",
       "    </tr>\n",
       "  </tbody>\n",
       "</table>\n",
       "</div>"
      ],
      "text/plain": [
       "    구분    총계  2012년 이전  2012년  2013년  2014년  2015년  2016년  2017년  2018년  \\\n",
       "0  종로구  1715       815    0.0    0.0    195    150      0    261     85   \n",
       "1  중 구  2447        16  114.0   87.0     77    236    240    372    386   \n",
       "2  용산구  2611        34   71.0  234.0    125    221    298    351    125   \n",
       "3  성동구  3829       163  144.0  208.0    107    325    255    967    415   \n",
       "4  광진구  3211        35   57.0  100.0    187     98     52    675    465   \n",
       "\n",
       "   2019년  2020년  2021년  \n",
       "0      9    200      0  \n",
       "1    155    361    403  \n",
       "2    307    617    228  \n",
       "3    490    472    283  \n",
       "4    712    175    655  "
      ]
     },
     "execution_count": 19,
     "metadata": {},
     "output_type": "execute_result"
    }
   ],
   "source": [
    "cctv.fillna(0, inplace=True)\n",
    "cctv.head()"
   ]
  },
  {
   "cell_type": "markdown",
   "id": "c4dad818",
   "metadata": {},
   "source": [
    "#### 2 ) 컬럼명 변경\n",
    "- 구분 => 구 별, 총계 => cctv 총계"
   ]
  },
  {
   "cell_type": "code",
   "execution_count": 27,
   "id": "e7fdecb8",
   "metadata": {},
   "outputs": [
    {
     "data": {
      "text/html": [
       "<div>\n",
       "<style scoped>\n",
       "    .dataframe tbody tr th:only-of-type {\n",
       "        vertical-align: middle;\n",
       "    }\n",
       "\n",
       "    .dataframe tbody tr th {\n",
       "        vertical-align: top;\n",
       "    }\n",
       "\n",
       "    .dataframe thead th {\n",
       "        text-align: right;\n",
       "    }\n",
       "</style>\n",
       "<table border=\"1\" class=\"dataframe\">\n",
       "  <thead>\n",
       "    <tr style=\"text-align: right;\">\n",
       "      <th></th>\n",
       "      <th>구 분</th>\n",
       "      <th>cctv 총계</th>\n",
       "      <th>2012년 이전</th>\n",
       "      <th>2012년</th>\n",
       "      <th>2013년</th>\n",
       "      <th>2014년</th>\n",
       "      <th>2015년</th>\n",
       "      <th>2016년</th>\n",
       "      <th>2017년</th>\n",
       "      <th>2018년</th>\n",
       "      <th>2019년</th>\n",
       "      <th>2020년</th>\n",
       "      <th>2021년</th>\n",
       "    </tr>\n",
       "  </thead>\n",
       "  <tbody>\n",
       "    <tr>\n",
       "      <th>0</th>\n",
       "      <td>종로구</td>\n",
       "      <td>1715</td>\n",
       "      <td>815</td>\n",
       "      <td>0.0</td>\n",
       "      <td>0.0</td>\n",
       "      <td>195</td>\n",
       "      <td>150</td>\n",
       "      <td>0</td>\n",
       "      <td>261</td>\n",
       "      <td>85</td>\n",
       "      <td>9</td>\n",
       "      <td>200</td>\n",
       "      <td>0</td>\n",
       "    </tr>\n",
       "    <tr>\n",
       "      <th>1</th>\n",
       "      <td>중 구</td>\n",
       "      <td>2447</td>\n",
       "      <td>16</td>\n",
       "      <td>114.0</td>\n",
       "      <td>87.0</td>\n",
       "      <td>77</td>\n",
       "      <td>236</td>\n",
       "      <td>240</td>\n",
       "      <td>372</td>\n",
       "      <td>386</td>\n",
       "      <td>155</td>\n",
       "      <td>361</td>\n",
       "      <td>403</td>\n",
       "    </tr>\n",
       "    <tr>\n",
       "      <th>2</th>\n",
       "      <td>용산구</td>\n",
       "      <td>2611</td>\n",
       "      <td>34</td>\n",
       "      <td>71.0</td>\n",
       "      <td>234.0</td>\n",
       "      <td>125</td>\n",
       "      <td>221</td>\n",
       "      <td>298</td>\n",
       "      <td>351</td>\n",
       "      <td>125</td>\n",
       "      <td>307</td>\n",
       "      <td>617</td>\n",
       "      <td>228</td>\n",
       "    </tr>\n",
       "  </tbody>\n",
       "</table>\n",
       "</div>"
      ],
      "text/plain": [
       "   구 분  cctv 총계  2012년 이전  2012년  2013년  2014년  2015년  2016년  2017년  2018년  \\\n",
       "0  종로구     1715       815    0.0    0.0    195    150      0    261     85   \n",
       "1  중 구     2447        16  114.0   87.0     77    236    240    372    386   \n",
       "2  용산구     2611        34   71.0  234.0    125    221    298    351    125   \n",
       "\n",
       "   2019년  2020년  2021년  \n",
       "0      9    200      0  \n",
       "1    155    361    403  \n",
       "2    307    617    228  "
      ]
     },
     "execution_count": 27,
     "metadata": {},
     "output_type": "execute_result"
    }
   ],
   "source": [
    "cctv.rename({'구분':'구 분', '총계':'cctv 총계'}, axis=1, inplace=True)\n",
    "cctv.head(3)"
   ]
  },
  {
   "cell_type": "markdown",
   "id": "5e0ed320",
   "metadata": {},
   "source": [
    "#### 3 ) 2019년 이전 컬럼 생성\n",
    "- 2012년 이전 ~ 2019년 데이터 합"
   ]
  },
  {
   "cell_type": "code",
   "execution_count": 41,
   "id": "f8e0a1ce",
   "metadata": {},
   "outputs": [],
   "source": [
    "cctv['2019년 이전'] = cctv.iloc[:,2:-2].T.sum()"
   ]
  },
  {
   "cell_type": "code",
   "execution_count": 43,
   "id": "77b95576",
   "metadata": {},
   "outputs": [],
   "source": [
    "cctv.drop(columns=['2019년 이전'], inplace=True)"
   ]
  },
  {
   "cell_type": "code",
   "execution_count": 49,
   "id": "1087caea",
   "metadata": {},
   "outputs": [],
   "source": [
    "# cctv['2019년 이전'] = cctv[cctv.columns.difference(['구 분','cctv 총계', '2020년', '2021년'])].sum(axis=1)"
   ]
  },
  {
   "cell_type": "markdown",
   "id": "546c50f5",
   "metadata": {},
   "source": [
    "#### 2019년 이전 컬럼 삭제"
   ]
  },
  {
   "cell_type": "code",
   "execution_count": 51,
   "id": "5bb46df2",
   "metadata": {},
   "outputs": [],
   "source": [
    "cctv.drop(columns=cctv.columns.difference(['구 분','cctv 총계', '2020년', '2021년', '2019년 이전']), inplace=True)"
   ]
  },
  {
   "cell_type": "markdown",
   "id": "b0ddb19e",
   "metadata": {},
   "source": [
    "#### 4 ) ETC..."
   ]
  },
  {
   "cell_type": "code",
   "execution_count": 86,
   "id": "e3e94550",
   "metadata": {},
   "outputs": [],
   "source": [
    "cctv.iloc[1, 0] = '중구'"
   ]
  },
  {
   "cell_type": "markdown",
   "id": "f6d17096",
   "metadata": {},
   "source": [
    "> ## EDA"
   ]
  },
  {
   "cell_type": "markdown",
   "id": "81767f05",
   "metadata": {},
   "source": [
    "#### 1) 구별 CCTV 가 가장 적게 설치되어 있는 구"
   ]
  },
  {
   "cell_type": "code",
   "execution_count": 52,
   "id": "33f6c387",
   "metadata": {},
   "outputs": [
    {
     "data": {
      "text/html": [
       "<div>\n",
       "<style scoped>\n",
       "    .dataframe tbody tr th:only-of-type {\n",
       "        vertical-align: middle;\n",
       "    }\n",
       "\n",
       "    .dataframe tbody tr th {\n",
       "        vertical-align: top;\n",
       "    }\n",
       "\n",
       "    .dataframe thead th {\n",
       "        text-align: right;\n",
       "    }\n",
       "</style>\n",
       "<table border=\"1\" class=\"dataframe\">\n",
       "  <thead>\n",
       "    <tr style=\"text-align: right;\">\n",
       "      <th></th>\n",
       "      <th>구 분</th>\n",
       "      <th>cctv 총계</th>\n",
       "      <th>2020년</th>\n",
       "      <th>2021년</th>\n",
       "      <th>2019년 이전</th>\n",
       "    </tr>\n",
       "  </thead>\n",
       "  <tbody>\n",
       "    <tr>\n",
       "      <th>0</th>\n",
       "      <td>종로구</td>\n",
       "      <td>1715</td>\n",
       "      <td>200</td>\n",
       "      <td>0</td>\n",
       "      <td>1515.0</td>\n",
       "    </tr>\n",
       "  </tbody>\n",
       "</table>\n",
       "</div>"
      ],
      "text/plain": [
       "   구 분  cctv 총계  2020년  2021년  2019년 이전\n",
       "0  종로구     1715    200      0    1515.0"
      ]
     },
     "execution_count": 52,
     "metadata": {},
     "output_type": "execute_result"
    }
   ],
   "source": [
    "cctv.sort_values('cctv 총계').head(1)"
   ]
  },
  {
   "cell_type": "markdown",
   "id": "400d1cd1",
   "metadata": {},
   "source": [
    "#### 2) 구별 CCTV 가 가장 많이 설치되어 있는 구"
   ]
  },
  {
   "cell_type": "code",
   "execution_count": 80,
   "id": "7d509a49",
   "metadata": {},
   "outputs": [
    {
     "data": {
      "text/html": [
       "<div>\n",
       "<style scoped>\n",
       "    .dataframe tbody tr th:only-of-type {\n",
       "        vertical-align: middle;\n",
       "    }\n",
       "\n",
       "    .dataframe tbody tr th {\n",
       "        vertical-align: top;\n",
       "    }\n",
       "\n",
       "    .dataframe thead th {\n",
       "        text-align: right;\n",
       "    }\n",
       "</style>\n",
       "<table border=\"1\" class=\"dataframe\">\n",
       "  <thead>\n",
       "    <tr style=\"text-align: right;\">\n",
       "      <th></th>\n",
       "      <th>구 분</th>\n",
       "      <th>cctv 총계</th>\n",
       "      <th>2020년</th>\n",
       "      <th>2021년</th>\n",
       "      <th>2019년 이전</th>\n",
       "    </tr>\n",
       "  </thead>\n",
       "  <tbody>\n",
       "    <tr>\n",
       "      <th>22</th>\n",
       "      <td>강남구</td>\n",
       "      <td>6871</td>\n",
       "      <td>926</td>\n",
       "      <td>516</td>\n",
       "      <td>5429.0</td>\n",
       "    </tr>\n",
       "  </tbody>\n",
       "</table>\n",
       "</div>"
      ],
      "text/plain": [
       "    구 분  cctv 총계  2020년  2021년  2019년 이전\n",
       "22  강남구     6871    926    516    5429.0"
      ]
     },
     "execution_count": 80,
     "metadata": {},
     "output_type": "execute_result"
    }
   ],
   "source": [
    "cctv.sort_values('cctv 총계').tail(1)"
   ]
  },
  {
   "cell_type": "markdown",
   "id": "a44ba050",
   "metadata": {},
   "source": [
    "# 2. 서울시 구별 인구 통계"
   ]
  },
  {
   "cell_type": "code",
   "execution_count": 81,
   "id": "f3858ef5",
   "metadata": {},
   "outputs": [
    {
     "data": {
      "text/html": [
       "<div>\n",
       "<style scoped>\n",
       "    .dataframe tbody tr th:only-of-type {\n",
       "        vertical-align: middle;\n",
       "    }\n",
       "\n",
       "    .dataframe tbody tr th {\n",
       "        vertical-align: top;\n",
       "    }\n",
       "\n",
       "    .dataframe thead th {\n",
       "        text-align: right;\n",
       "    }\n",
       "</style>\n",
       "<table border=\"1\" class=\"dataframe\">\n",
       "  <thead>\n",
       "    <tr style=\"text-align: right;\">\n",
       "      <th></th>\n",
       "      <th>자치구</th>\n",
       "      <th>계</th>\n",
       "      <th>계.1</th>\n",
       "      <th>계.2</th>\n",
       "      <th>65세이상고령자</th>\n",
       "    </tr>\n",
       "  </thead>\n",
       "  <tbody>\n",
       "    <tr>\n",
       "      <th>0</th>\n",
       "      <td>종로구</td>\n",
       "      <td>153684</td>\n",
       "      <td>144275</td>\n",
       "      <td>9409</td>\n",
       "      <td>28064</td>\n",
       "    </tr>\n",
       "    <tr>\n",
       "      <th>1</th>\n",
       "      <td>중구</td>\n",
       "      <td>131450</td>\n",
       "      <td>122173</td>\n",
       "      <td>9277</td>\n",
       "      <td>24742</td>\n",
       "    </tr>\n",
       "    <tr>\n",
       "      <th>2</th>\n",
       "      <td>용산구</td>\n",
       "      <td>236518</td>\n",
       "      <td>222169</td>\n",
       "      <td>14349</td>\n",
       "      <td>39461</td>\n",
       "    </tr>\n",
       "  </tbody>\n",
       "</table>\n",
       "</div>"
      ],
      "text/plain": [
       "   자치구       계     계.1    계.2  65세이상고령자\n",
       "0  종로구  153684  144275   9409     28064\n",
       "1   중구  131450  122173   9277     24742\n",
       "2  용산구  236518  222169  14349     39461"
      ]
     },
     "execution_count": 81,
     "metadata": {},
     "output_type": "execute_result"
    }
   ],
   "source": [
    "pop_data = pd.read_excel(\"../../data/dataset/서울시구별인구통계.xls\", skiprows=[0,1,3])\n",
    "pop = pop_data[['자치구', '계', '계.1', '계.2', '65세이상고령자']]\n",
    "pop.head(3)"
   ]
  },
  {
   "cell_type": "code",
   "execution_count": 82,
   "id": "5341e160",
   "metadata": {},
   "outputs": [
    {
     "data": {
      "text/html": [
       "<div>\n",
       "<style scoped>\n",
       "    .dataframe tbody tr th:only-of-type {\n",
       "        vertical-align: middle;\n",
       "    }\n",
       "\n",
       "    .dataframe tbody tr th {\n",
       "        vertical-align: top;\n",
       "    }\n",
       "\n",
       "    .dataframe thead th {\n",
       "        text-align: right;\n",
       "    }\n",
       "</style>\n",
       "<table border=\"1\" class=\"dataframe\">\n",
       "  <thead>\n",
       "    <tr style=\"text-align: right;\">\n",
       "      <th></th>\n",
       "      <th>구 분</th>\n",
       "      <th>총인구</th>\n",
       "      <th>한국인</th>\n",
       "      <th>외국인</th>\n",
       "      <th>고령자</th>\n",
       "    </tr>\n",
       "  </thead>\n",
       "  <tbody>\n",
       "    <tr>\n",
       "      <th>0</th>\n",
       "      <td>종로구</td>\n",
       "      <td>153684</td>\n",
       "      <td>144275</td>\n",
       "      <td>9409</td>\n",
       "      <td>28064</td>\n",
       "    </tr>\n",
       "  </tbody>\n",
       "</table>\n",
       "</div>"
      ],
      "text/plain": [
       "   구 분     총인구     한국인   외국인    고령자\n",
       "0  종로구  153684  144275  9409  28064"
      ]
     },
     "execution_count": 82,
     "metadata": {},
     "output_type": "execute_result"
    }
   ],
   "source": [
    "pop.rename({'자치구':'구 분', '계':'총인구', '계.1':'한국인', '계.2':'외국인', '65세이상고령자':'고령자'}, axis=1, inplace=True)\n",
    "pop.head(1)"
   ]
  },
  {
   "cell_type": "markdown",
   "id": "bf9c6124",
   "metadata": {},
   "source": [
    "> ## EDA"
   ]
  },
  {
   "cell_type": "markdown",
   "id": "26eb366d",
   "metadata": {},
   "source": [
    "#### 1) 외국인이 가장 많은 거주 구"
   ]
  },
  {
   "cell_type": "code",
   "execution_count": 83,
   "id": "91fd9da9",
   "metadata": {},
   "outputs": [
    {
     "data": {
      "text/html": [
       "<div>\n",
       "<style scoped>\n",
       "    .dataframe tbody tr th:only-of-type {\n",
       "        vertical-align: middle;\n",
       "    }\n",
       "\n",
       "    .dataframe tbody tr th {\n",
       "        vertical-align: top;\n",
       "    }\n",
       "\n",
       "    .dataframe thead th {\n",
       "        text-align: right;\n",
       "    }\n",
       "</style>\n",
       "<table border=\"1\" class=\"dataframe\">\n",
       "  <thead>\n",
       "    <tr style=\"text-align: right;\">\n",
       "      <th></th>\n",
       "      <th>구 분</th>\n",
       "      <th>총인구</th>\n",
       "      <th>한국인</th>\n",
       "      <th>외국인</th>\n",
       "      <th>고령자</th>\n",
       "    </tr>\n",
       "  </thead>\n",
       "  <tbody>\n",
       "    <tr>\n",
       "      <th>16</th>\n",
       "      <td>구로구</td>\n",
       "      <td>419984</td>\n",
       "      <td>396017</td>\n",
       "      <td>23967</td>\n",
       "      <td>73864</td>\n",
       "    </tr>\n",
       "  </tbody>\n",
       "</table>\n",
       "</div>"
      ],
      "text/plain": [
       "    구 분     총인구     한국인    외국인    고령자\n",
       "16  구로구  419984  396017  23967  73864"
      ]
     },
     "execution_count": 83,
     "metadata": {},
     "output_type": "execute_result"
    }
   ],
   "source": [
    "pop.sort_values('외국인', ascending=False).head(1)"
   ]
  },
  {
   "cell_type": "markdown",
   "id": "9b98e82c",
   "metadata": {},
   "source": [
    "#### 2) 고령자가 가장 많은 거주 구"
   ]
  },
  {
   "cell_type": "code",
   "execution_count": 84,
   "id": "5a3e4915",
   "metadata": {},
   "outputs": [
    {
     "data": {
      "text/html": [
       "<div>\n",
       "<style scoped>\n",
       "    .dataframe tbody tr th:only-of-type {\n",
       "        vertical-align: middle;\n",
       "    }\n",
       "\n",
       "    .dataframe tbody tr th {\n",
       "        vertical-align: top;\n",
       "    }\n",
       "\n",
       "    .dataframe thead th {\n",
       "        text-align: right;\n",
       "    }\n",
       "</style>\n",
       "<table border=\"1\" class=\"dataframe\">\n",
       "  <thead>\n",
       "    <tr style=\"text-align: right;\">\n",
       "      <th></th>\n",
       "      <th>구 분</th>\n",
       "      <th>총인구</th>\n",
       "      <th>한국인</th>\n",
       "      <th>외국인</th>\n",
       "      <th>고령자</th>\n",
       "    </tr>\n",
       "  </thead>\n",
       "  <tbody>\n",
       "    <tr>\n",
       "      <th>23</th>\n",
       "      <td>송파구</td>\n",
       "      <td>668261</td>\n",
       "      <td>662607</td>\n",
       "      <td>5654</td>\n",
       "      <td>99854</td>\n",
       "    </tr>\n",
       "  </tbody>\n",
       "</table>\n",
       "</div>"
      ],
      "text/plain": [
       "    구 분     총인구     한국인   외국인    고령자\n",
       "23  송파구  668261  662607  5654  99854"
      ]
     },
     "execution_count": 84,
     "metadata": {},
     "output_type": "execute_result"
    }
   ],
   "source": [
    "pop.sort_values('고령자', ascending=False).head(1)"
   ]
  },
  {
   "cell_type": "markdown",
   "id": "248017ea",
   "metadata": {},
   "source": [
    "---"
   ]
  },
  {
   "cell_type": "markdown",
   "id": "0766355d",
   "metadata": {},
   "source": [
    "#### CCTV 설치 대수 대비 범죄율 파악\n",
    "- 서울시 구별 인구 + cctv merge"
   ]
  },
  {
   "cell_type": "code",
   "execution_count": 93,
   "id": "dd794b54",
   "metadata": {},
   "outputs": [],
   "source": [
    "seoul = pd.merge(pop, cctv, on='구 분')"
   ]
  },
  {
   "cell_type": "markdown",
   "id": "90f22117",
   "metadata": {},
   "source": [
    "#### 구 분 컬럼을 인덱스로 설정"
   ]
  },
  {
   "cell_type": "code",
   "execution_count": 115,
   "id": "aa09b5a3",
   "metadata": {},
   "outputs": [],
   "source": [
    "seoul.set_index('구 분', inplace=True)"
   ]
  },
  {
   "cell_type": "markdown",
   "id": "33709ba4",
   "metadata": {},
   "source": [
    "#### 1 인당 cctv 비율 컬럼을 생성"
   ]
  },
  {
   "cell_type": "code",
   "execution_count": 95,
   "id": "4d718b63",
   "metadata": {},
   "outputs": [],
   "source": [
    "seoul['1인당 cctv비율'] = seoul['cctv 총계'] / seoul['총인구'] * 100"
   ]
  },
  {
   "cell_type": "code",
   "execution_count": 96,
   "id": "d3109231",
   "metadata": {},
   "outputs": [
    {
     "data": {
      "text/html": [
       "<div>\n",
       "<style scoped>\n",
       "    .dataframe tbody tr th:only-of-type {\n",
       "        vertical-align: middle;\n",
       "    }\n",
       "\n",
       "    .dataframe tbody tr th {\n",
       "        vertical-align: top;\n",
       "    }\n",
       "\n",
       "    .dataframe thead th {\n",
       "        text-align: right;\n",
       "    }\n",
       "</style>\n",
       "<table border=\"1\" class=\"dataframe\">\n",
       "  <thead>\n",
       "    <tr style=\"text-align: right;\">\n",
       "      <th></th>\n",
       "      <th>구 분</th>\n",
       "      <th>총인구</th>\n",
       "      <th>한국인</th>\n",
       "      <th>외국인</th>\n",
       "      <th>고령자</th>\n",
       "      <th>cctv 총계</th>\n",
       "      <th>2020년</th>\n",
       "      <th>2021년</th>\n",
       "      <th>2019년 이전</th>\n",
       "      <th>1인당 cctv비율</th>\n",
       "    </tr>\n",
       "  </thead>\n",
       "  <tbody>\n",
       "    <tr>\n",
       "      <th>0</th>\n",
       "      <td>종로구</td>\n",
       "      <td>153684</td>\n",
       "      <td>144275</td>\n",
       "      <td>9409</td>\n",
       "      <td>28064</td>\n",
       "      <td>1715</td>\n",
       "      <td>200</td>\n",
       "      <td>0</td>\n",
       "      <td>1515.0</td>\n",
       "      <td>1.115926</td>\n",
       "    </tr>\n",
       "    <tr>\n",
       "      <th>1</th>\n",
       "      <td>중구</td>\n",
       "      <td>131450</td>\n",
       "      <td>122173</td>\n",
       "      <td>9277</td>\n",
       "      <td>24742</td>\n",
       "      <td>2447</td>\n",
       "      <td>361</td>\n",
       "      <td>403</td>\n",
       "      <td>1683.0</td>\n",
       "      <td>1.861544</td>\n",
       "    </tr>\n",
       "    <tr>\n",
       "      <th>2</th>\n",
       "      <td>용산구</td>\n",
       "      <td>236518</td>\n",
       "      <td>222169</td>\n",
       "      <td>14349</td>\n",
       "      <td>39461</td>\n",
       "      <td>2611</td>\n",
       "      <td>617</td>\n",
       "      <td>228</td>\n",
       "      <td>1766.0</td>\n",
       "      <td>1.103933</td>\n",
       "    </tr>\n",
       "    <tr>\n",
       "      <th>3</th>\n",
       "      <td>성동구</td>\n",
       "      <td>291609</td>\n",
       "      <td>285073</td>\n",
       "      <td>6536</td>\n",
       "      <td>46896</td>\n",
       "      <td>3829</td>\n",
       "      <td>472</td>\n",
       "      <td>283</td>\n",
       "      <td>3074.0</td>\n",
       "      <td>1.313060</td>\n",
       "    </tr>\n",
       "    <tr>\n",
       "      <th>4</th>\n",
       "      <td>광진구</td>\n",
       "      <td>353110</td>\n",
       "      <td>340707</td>\n",
       "      <td>12403</td>\n",
       "      <td>52604</td>\n",
       "      <td>3211</td>\n",
       "      <td>175</td>\n",
       "      <td>655</td>\n",
       "      <td>2381.0</td>\n",
       "      <td>0.909348</td>\n",
       "    </tr>\n",
       "  </tbody>\n",
       "</table>\n",
       "</div>"
      ],
      "text/plain": [
       "   구 분     총인구     한국인    외국인    고령자  cctv 총계  2020년  2021년  2019년 이전  \\\n",
       "0  종로구  153684  144275   9409  28064     1715    200      0    1515.0   \n",
       "1   중구  131450  122173   9277  24742     2447    361    403    1683.0   \n",
       "2  용산구  236518  222169  14349  39461     2611    617    228    1766.0   \n",
       "3  성동구  291609  285073   6536  46896     3829    472    283    3074.0   \n",
       "4  광진구  353110  340707  12403  52604     3211    175    655    2381.0   \n",
       "\n",
       "   1인당 cctv비율  \n",
       "0    1.115926  \n",
       "1    1.861544  \n",
       "2    1.103933  \n",
       "3    1.313060  \n",
       "4    0.909348  "
      ]
     },
     "execution_count": 96,
     "metadata": {},
     "output_type": "execute_result"
    }
   ],
   "source": [
    "seoul.head()"
   ]
  },
  {
   "cell_type": "markdown",
   "id": "09503db1",
   "metadata": {},
   "source": [
    "#### 상관관계\n",
    "- 변수간의 관계의 정도와 방향을 수치로 요약해주는 지표\n",
    "- 상관계수는 -1 ~ 1 사이의 값으로 나타냄\n",
    "- 0 에 가까울수록 상관관계도는 낮아지며, -1이나 +1 에 가까울 수록 상관관계도가 높아짐\n",
    "- 증감의 방향이 + 인경우 긍정적인 상관관계, - 인경우에는 부정적인 상관관계가 있다고 봄"
   ]
  },
  {
   "cell_type": "markdown",
   "id": "6eede5cc",
   "metadata": {},
   "source": [
    "**총인구와 cctv 총대수 상관관계**"
   ]
  },
  {
   "cell_type": "code",
   "execution_count": 99,
   "id": "3b2a6ab6",
   "metadata": {},
   "outputs": [
    {
     "data": {
      "text/plain": [
       "0.48461538461538467"
      ]
     },
     "execution_count": 99,
     "metadata": {},
     "output_type": "execute_result"
    }
   ],
   "source": [
    "seoul['총인구'].corr(seoul['cctv 총계'], method='spearman')"
   ]
  },
  {
   "cell_type": "markdown",
   "id": "c328ea2e",
   "metadata": {},
   "source": [
    "**외국인과 cctv 총대수 상관관계**"
   ]
  },
  {
   "cell_type": "code",
   "execution_count": 101,
   "id": "64575b3c",
   "metadata": {},
   "outputs": [
    {
     "data": {
      "text/plain": [
       "0.05615384615384616"
      ]
     },
     "execution_count": 101,
     "metadata": {},
     "output_type": "execute_result"
    }
   ],
   "source": [
    "seoul['외국인'].corr(seoul['cctv 총계'], method='spearman')"
   ]
  },
  {
   "cell_type": "markdown",
   "id": "b4c6adc1",
   "metadata": {},
   "source": [
    "#### 시각화 - 1인당 cctv 비율 bar 차트"
   ]
  },
  {
   "cell_type": "code",
   "execution_count": 117,
   "id": "5fec6ac3",
   "metadata": {},
   "outputs": [
    {
     "data": {
      "image/png": "[encoded data removed]",
      "text/plain": [
       "<Figure size 864x432 with 1 Axes>"
      ]
     },
     "metadata": {},
     "output_type": "display_data"
    }
   ],
   "source": [
    "plt.figure(figsize=(12,6))\n",
    "plt.title('1인당 cctv 비율', fontsize=18)\n",
    "sns.barplot(data=seoul, y='1인당 cctv비율', x=seoul.index, order=seoul['1인당 cctv비율'].sort_values(ascending=False).index)\n",
    "plt.xticks(rotation=45)\n",
    "plt.show();"
   ]
  },
  {
   "cell_type": "markdown",
   "id": "3c5f3c57",
   "metadata": {},
   "source": [
    "# 3. 범죄율"
   ]
  },
  {
   "cell_type": "code",
   "execution_count": 134,
   "id": "ac9e8845",
   "metadata": {},
   "outputs": [
    {
     "data": {
      "text/html": [
       "<div>\n",
       "<style scoped>\n",
       "    .dataframe tbody tr th:only-of-type {\n",
       "        vertical-align: middle;\n",
       "    }\n",
       "\n",
       "    .dataframe tbody tr th {\n",
       "        vertical-align: top;\n",
       "    }\n",
       "\n",
       "    .dataframe thead th {\n",
       "        text-align: right;\n",
       "    }\n",
       "</style>\n",
       "<table border=\"1\" class=\"dataframe\">\n",
       "  <thead>\n",
       "    <tr style=\"text-align: right;\">\n",
       "      <th></th>\n",
       "      <th>자치구</th>\n",
       "      <th>발생</th>\n",
       "      <th>검거</th>\n",
       "    </tr>\n",
       "  </thead>\n",
       "  <tbody>\n",
       "    <tr>\n",
       "      <th>0</th>\n",
       "      <td>종로구</td>\n",
       "      <td>3102</td>\n",
       "      <td>3343</td>\n",
       "    </tr>\n",
       "    <tr>\n",
       "      <th>1</th>\n",
       "      <td>중구</td>\n",
       "      <td>3411</td>\n",
       "      <td>2323</td>\n",
       "    </tr>\n",
       "    <tr>\n",
       "      <th>2</th>\n",
       "      <td>용산구</td>\n",
       "      <td>2969</td>\n",
       "      <td>2056</td>\n",
       "    </tr>\n",
       "    <tr>\n",
       "      <th>3</th>\n",
       "      <td>성동구</td>\n",
       "      <td>2362</td>\n",
       "      <td>1774</td>\n",
       "    </tr>\n",
       "    <tr>\n",
       "      <th>4</th>\n",
       "      <td>광진구</td>\n",
       "      <td>3601</td>\n",
       "      <td>2511</td>\n",
       "    </tr>\n",
       "  </tbody>\n",
       "</table>\n",
       "</div>"
      ],
      "text/plain": [
       "   자치구    발생    검거\n",
       "0  종로구  3102  3343\n",
       "1   중구  3411  2323\n",
       "2  용산구  2969  2056\n",
       "3  성동구  2362  1774\n",
       "4  광진구  3601  2511"
      ]
     },
     "execution_count": 134,
     "metadata": {},
     "output_type": "execute_result"
    }
   ],
   "source": [
    "crime = pd.read_excel(\"../../data/dataset/서울시5대범죄.xls\", skiprows=[0,2], usecols=['자치구', '발생', '검거'])\n",
    "crime.head()"
   ]
  },
  {
   "cell_type": "markdown",
   "id": "a3baee8e",
   "metadata": {},
   "source": [
    "#### 1) 컬럼명 변경\n",
    "- '구 분', '범죄건', '검거건'"
   ]
  },
  {
   "cell_type": "code",
   "execution_count": 135,
   "id": "d58ba9ee",
   "metadata": {},
   "outputs": [],
   "source": [
    "crime.columns = ['구 분', '범죄건', '검거건']"
   ]
  },
  {
   "cell_type": "code",
   "execution_count": 136,
   "id": "296d6cfd",
   "metadata": {},
   "outputs": [
    {
     "data": {
      "text/html": [
       "<div>\n",
       "<style scoped>\n",
       "    .dataframe tbody tr th:only-of-type {\n",
       "        vertical-align: middle;\n",
       "    }\n",
       "\n",
       "    .dataframe tbody tr th {\n",
       "        vertical-align: top;\n",
       "    }\n",
       "\n",
       "    .dataframe thead th {\n",
       "        text-align: right;\n",
       "    }\n",
       "</style>\n",
       "<table border=\"1\" class=\"dataframe\">\n",
       "  <thead>\n",
       "    <tr style=\"text-align: right;\">\n",
       "      <th></th>\n",
       "      <th>구 분</th>\n",
       "      <th>범죄건</th>\n",
       "      <th>검거건</th>\n",
       "    </tr>\n",
       "  </thead>\n",
       "  <tbody>\n",
       "    <tr>\n",
       "      <th>0</th>\n",
       "      <td>종로구</td>\n",
       "      <td>3102</td>\n",
       "      <td>3343</td>\n",
       "    </tr>\n",
       "    <tr>\n",
       "      <th>1</th>\n",
       "      <td>중구</td>\n",
       "      <td>3411</td>\n",
       "      <td>2323</td>\n",
       "    </tr>\n",
       "    <tr>\n",
       "      <th>2</th>\n",
       "      <td>용산구</td>\n",
       "      <td>2969</td>\n",
       "      <td>2056</td>\n",
       "    </tr>\n",
       "  </tbody>\n",
       "</table>\n",
       "</div>"
      ],
      "text/plain": [
       "   구 분   범죄건   검거건\n",
       "0  종로구  3102  3343\n",
       "1   중구  3411  2323\n",
       "2  용산구  2969  2056"
      ]
     },
     "execution_count": 136,
     "metadata": {},
     "output_type": "execute_result"
    }
   ],
   "source": [
    "crime.head(3)"
   ]
  },
  {
   "cell_type": "markdown",
   "id": "a54611dc",
   "metadata": {},
   "source": [
    "#### 2) 구별 인덱스 설정"
   ]
  },
  {
   "cell_type": "code",
   "execution_count": 137,
   "id": "9d834ff7",
   "metadata": {},
   "outputs": [
    {
     "data": {
      "text/html": [
       "<div>\n",
       "<style scoped>\n",
       "    .dataframe tbody tr th:only-of-type {\n",
       "        vertical-align: middle;\n",
       "    }\n",
       "\n",
       "    .dataframe tbody tr th {\n",
       "        vertical-align: top;\n",
       "    }\n",
       "\n",
       "    .dataframe thead th {\n",
       "        text-align: right;\n",
       "    }\n",
       "</style>\n",
       "<table border=\"1\" class=\"dataframe\">\n",
       "  <thead>\n",
       "    <tr style=\"text-align: right;\">\n",
       "      <th></th>\n",
       "      <th>범죄건</th>\n",
       "      <th>검거건</th>\n",
       "    </tr>\n",
       "    <tr>\n",
       "      <th>구 분</th>\n",
       "      <th></th>\n",
       "      <th></th>\n",
       "    </tr>\n",
       "  </thead>\n",
       "  <tbody>\n",
       "    <tr>\n",
       "      <th>종로구</th>\n",
       "      <td>3102</td>\n",
       "      <td>3343</td>\n",
       "    </tr>\n",
       "  </tbody>\n",
       "</table>\n",
       "</div>"
      ],
      "text/plain": [
       "      범죄건   검거건\n",
       "구 분            \n",
       "종로구  3102  3343"
      ]
     },
     "execution_count": 137,
     "metadata": {},
     "output_type": "execute_result"
    }
   ],
   "source": [
    "crime.set_index('구 분', inplace=True)\n",
    "crime.head(1)"
   ]
  },
  {
   "cell_type": "markdown",
   "id": "9f8db647",
   "metadata": {},
   "source": [
    "#### 3) 검거율 컬럼 생성\n",
    "- 검거건 / 범죄건 * 100"
   ]
  },
  {
   "cell_type": "code",
   "execution_count": 140,
   "id": "d1748980",
   "metadata": {},
   "outputs": [],
   "source": [
    "crime['검거율'] = (crime['검거건'] / crime['범죄건']) * 100"
   ]
  },
  {
   "cell_type": "code",
   "execution_count": 141,
   "id": "3d6cfa83",
   "metadata": {},
   "outputs": [
    {
     "data": {
      "text/html": [
       "<div>\n",
       "<style scoped>\n",
       "    .dataframe tbody tr th:only-of-type {\n",
       "        vertical-align: middle;\n",
       "    }\n",
       "\n",
       "    .dataframe tbody tr th {\n",
       "        vertical-align: top;\n",
       "    }\n",
       "\n",
       "    .dataframe thead th {\n",
       "        text-align: right;\n",
       "    }\n",
       "</style>\n",
       "<table border=\"1\" class=\"dataframe\">\n",
       "  <thead>\n",
       "    <tr style=\"text-align: right;\">\n",
       "      <th></th>\n",
       "      <th>범죄건</th>\n",
       "      <th>검거건</th>\n",
       "      <th>검거율</th>\n",
       "    </tr>\n",
       "    <tr>\n",
       "      <th>구 분</th>\n",
       "      <th></th>\n",
       "      <th></th>\n",
       "      <th></th>\n",
       "    </tr>\n",
       "  </thead>\n",
       "  <tbody>\n",
       "    <tr>\n",
       "      <th>종로구</th>\n",
       "      <td>3102</td>\n",
       "      <td>3343</td>\n",
       "      <td>107.769181</td>\n",
       "    </tr>\n",
       "    <tr>\n",
       "      <th>중구</th>\n",
       "      <td>3411</td>\n",
       "      <td>2323</td>\n",
       "      <td>68.103196</td>\n",
       "    </tr>\n",
       "    <tr>\n",
       "      <th>용산구</th>\n",
       "      <td>2969</td>\n",
       "      <td>2056</td>\n",
       "      <td>69.248905</td>\n",
       "    </tr>\n",
       "  </tbody>\n",
       "</table>\n",
       "</div>"
      ],
      "text/plain": [
       "      범죄건   검거건         검거율\n",
       "구 분                        \n",
       "종로구  3102  3343  107.769181\n",
       "중구   3411  2323   68.103196\n",
       "용산구  2969  2056   69.248905"
      ]
     },
     "execution_count": 141,
     "metadata": {},
     "output_type": "execute_result"
    }
   ],
   "source": [
    "crime.head(3)"
   ]
  },
  {
   "cell_type": "markdown",
   "id": "82a9f9f4",
   "metadata": {},
   "source": [
    "#### 4) seoul / crime concat"
   ]
  },
  {
   "cell_type": "code",
   "execution_count": 145,
   "id": "3ba38803",
   "metadata": {},
   "outputs": [],
   "source": [
    "merge_crime = pd.concat([seoul, crime], axis=1)"
   ]
  },
  {
   "cell_type": "code",
   "execution_count": 148,
   "id": "8f4cde1e",
   "metadata": {},
   "outputs": [
    {
     "data": {
      "text/plain": [
       "Text(0.5, 0, '검거건/범죄건')"
      ]
     },
     "execution_count": 148,
     "metadata": {},
     "output_type": "execute_result"
    },
    {
     "data": {
      "image/png": "[encoded data removed]",
      "text/plain": [
       "<Figure size 432x288 with 1 Axes>"
      ]
     },
     "metadata": {},
     "output_type": "display_data"
    }
   ],
   "source": [
    "ax1 = merge_crime.plot.scatter(x='검거건', y='cctv 총계', color='red', s=50, label='검거')\n",
    "merge_crime.plot.scatter(x='범죄건', y='cctv 총계', color='blue', s=30, label='범죄', ax=ax1)\n",
    "plt.xlabel('검거건/범죄건')"
   ]
  },
  {
   "cell_type": "code",
   "execution_count": null,
   "id": "fa22011e",
   "metadata": {},
   "outputs": [],
   "source": []
  }
 ],
 "metadata": {
  "kernelspec": {
   "display_name": "Python 3 (ipykernel)",
   "language": "python",
   "name": "python3"
  },
  "language_info": {
   "codemirror_mode": {
    "name": "ipython",
    "version": 3
   },
   "file_extension": ".py",
   "mimetype": "text/x-python",
   "name": "python",
   "nbconvert_exporter": "python",
   "pygments_lexer": "ipython3",
   "version": "3.9.12"
  }
 },
 "nbformat": 4,
 "nbformat_minor": 5
}
