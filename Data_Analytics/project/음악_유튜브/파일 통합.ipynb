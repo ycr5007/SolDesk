{
 "cells": [
  {
   "cell_type": "markdown",
   "id": "19990f62",
   "metadata": {},
   "source": [
    "### 수집된 음악 파일 통합\n",
    "\n",
    "1. 세 개의 엑셀 파일을 읽어와서 하나의 데이터 프레임으로 생성"
   ]
  },
  {
   "cell_type": "code",
   "execution_count": 1,
   "id": "8273f211",
   "metadata": {},
   "outputs": [],
   "source": [
    "import pandas as pd"
   ]
  },
  {
   "cell_type": "code",
   "execution_count": 3,
   "id": "4a5c5a46",
   "metadata": {},
   "outputs": [],
   "source": [
    "excel_files = [\"../../data/dataset/melon.xlsx\", \"../../data/dataset/bugs.xlsx\", \"../../data/dataset/genie.xlsx\"]\n",
    "\n",
    "music_df = pd.DataFrame()\n",
    "\n",
    "for file in excel_files :\n",
    "    music = pd.read_excel(file)\n",
    "    # DataFrame 연결\n",
    "    music_df = pd.concat([music_df, music])"
   ]
  },
  {
   "cell_type": "code",
   "execution_count": 6,
   "id": "fff95e9c",
   "metadata": {},
   "outputs": [
    {
     "data": {
      "text/html": [
       "<div>\n",
       "<style scoped>\n",
       "    .dataframe tbody tr th:only-of-type {\n",
       "        vertical-align: middle;\n",
       "    }\n",
       "\n",
       "    .dataframe tbody tr th {\n",
       "        vertical-align: top;\n",
       "    }\n",
       "\n",
       "    .dataframe thead th {\n",
       "        text-align: right;\n",
       "    }\n",
       "</style>\n",
       "<table border=\"1\" class=\"dataframe\">\n",
       "  <thead>\n",
       "    <tr style=\"text-align: right;\">\n",
       "      <th></th>\n",
       "      <th>서비스</th>\n",
       "      <th>순위</th>\n",
       "      <th>타이틀</th>\n",
       "      <th>가수</th>\n",
       "    </tr>\n",
       "  </thead>\n",
       "  <tbody>\n",
       "    <tr>\n",
       "      <th>0</th>\n",
       "      <td>멜론</td>\n",
       "      <td>1</td>\n",
       "      <td>LOVE DIVE</td>\n",
       "      <td>IVE (아이브)</td>\n",
       "    </tr>\n",
       "    <tr>\n",
       "      <th>1</th>\n",
       "      <td>멜론</td>\n",
       "      <td>2</td>\n",
       "      <td>That That (prod. &amp; feat. SUGA of BTS)</td>\n",
       "      <td>싸이 (PSY)</td>\n",
       "    </tr>\n",
       "    <tr>\n",
       "      <th>2</th>\n",
       "      <td>멜론</td>\n",
       "      <td>3</td>\n",
       "      <td>TOMBOY</td>\n",
       "      <td>(여자)아이들</td>\n",
       "    </tr>\n",
       "    <tr>\n",
       "      <th>3</th>\n",
       "      <td>멜론</td>\n",
       "      <td>4</td>\n",
       "      <td>POP!</td>\n",
       "      <td>나연 (TWICE)</td>\n",
       "    </tr>\n",
       "    <tr>\n",
       "      <th>4</th>\n",
       "      <td>멜론</td>\n",
       "      <td>5</td>\n",
       "      <td>정이라고 하자 (Feat. 10CM)</td>\n",
       "      <td>BIG Naughty (서동현)</td>\n",
       "    </tr>\n",
       "  </tbody>\n",
       "</table>\n",
       "</div>"
      ],
      "text/plain": [
       "  서비스  순위                                    타이틀                 가수\n",
       "0  멜론   1                              LOVE DIVE          IVE (아이브)\n",
       "1  멜론   2  That That (prod. & feat. SUGA of BTS)           싸이 (PSY)\n",
       "2  멜론   3                                 TOMBOY            (여자)아이들\n",
       "3  멜론   4                                   POP!         나연 (TWICE)\n",
       "4  멜론   5                   정이라고 하자 (Feat. 10CM)  BIG Naughty (서동현)"
      ]
     },
     "execution_count": 6,
     "metadata": {},
     "output_type": "execute_result"
    }
   ],
   "source": [
    "music_df.head()"
   ]
  },
  {
   "cell_type": "code",
   "execution_count": 7,
   "id": "497fb3b0",
   "metadata": {},
   "outputs": [
    {
     "name": "stdout",
     "output_type": "stream",
     "text": [
      "<class 'pandas.core.frame.DataFrame'>\n",
      "Int64Index: 300 entries, 0 to 99\n",
      "Data columns (total 4 columns):\n",
      " #   Column  Non-Null Count  Dtype \n",
      "---  ------  --------------  ----- \n",
      " 0   서비스     300 non-null    object\n",
      " 1   순위      300 non-null    int64 \n",
      " 2   타이틀     300 non-null    object\n",
      " 3   가수      300 non-null    object\n",
      "dtypes: int64(1), object(3)\n",
      "memory usage: 11.7+ KB\n"
     ]
    }
   ],
   "source": [
    "music_df.info()"
   ]
  },
  {
   "cell_type": "code",
   "execution_count": 8,
   "id": "c515e38a",
   "metadata": {},
   "outputs": [],
   "source": [
    "music_df.to_excel(\"../../data/dataset/total.xlsx\", index=False)"
   ]
  }
 ],
 "metadata": {
  "kernelspec": {
   "display_name": "Python 3 (ipykernel)",
   "language": "python",
   "name": "python3"
  },
  "language_info": {
   "codemirror_mode": {
    "name": "ipython",
    "version": 3
   },
   "file_extension": ".py",
   "mimetype": "text/x-python",
   "name": "python",
   "nbconvert_exporter": "python",
   "pygments_lexer": "ipython3",
   "version": "3.9.12"
  }
 },
 "nbformat": 4,
 "nbformat_minor": 5
}
