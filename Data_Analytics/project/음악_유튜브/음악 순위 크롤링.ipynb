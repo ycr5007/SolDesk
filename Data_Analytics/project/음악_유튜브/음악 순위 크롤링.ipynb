{
 "cells": [
  {
   "cell_type": "markdown",
   "id": "a09fb619",
   "metadata": {},
   "source": [
    "### 멜론, 벅스, 지니 음악 순위 크롤링\n",
    "* 각 음악 사이트의 크롤링 정보를 엑셀로 저장\n",
    "* 저장된 정보를 읽어온 후 3개의 데이터 합치기"
   ]
  },
  {
   "cell_type": "markdown",
   "id": "631e6151",
   "metadata": {},
   "source": [
    "#### selenium 라이브러리 import"
   ]
  },
  {
   "cell_type": "code",
   "execution_count": 7,
   "id": "965a9921",
   "metadata": {},
   "outputs": [],
   "source": [
    "from selenium import webdriver\n",
    "from selenium.webdriver.common.by import By\n",
    "from selenium.webdriver.common.keys import Keys\n",
    "from bs4 import BeautifulSoup\n",
    "import time"
   ]
  },
  {
   "cell_type": "code",
   "execution_count": 34,
   "id": "90a8d197",
   "metadata": {},
   "outputs": [],
   "source": [
    "import pandas as pd"
   ]
  },
  {
   "cell_type": "code",
   "execution_count": 8,
   "id": "6107e815",
   "metadata": {},
   "outputs": [],
   "source": [
    "url = \"https://www.melon.com/chart/index.htm\""
   ]
  },
  {
   "cell_type": "code",
   "execution_count": 17,
   "id": "f0d8bb06",
   "metadata": {},
   "outputs": [
    {
     "name": "stderr",
     "output_type": "stream",
     "text": [
      "C:\\Users\\Public\\Documents\\ESTsoft\\CreatorTemp\\ipykernel_3716\\4293136720.py:1: DeprecationWarning: executable_path has been deprecated, please pass in a Service object\n",
      "  browser = webdriver.Chrome('../../chromedriver')\n"
     ]
    }
   ],
   "source": [
    "browser = webdriver.Chrome('../../chromedriver')\n",
    "browser.get(url)\n",
    "\n",
    "time.sleep(2)\n",
    "\n",
    "soup = BeautifulSoup(browser.page_source, 'lxml')"
   ]
  },
  {
   "cell_type": "markdown",
   "id": "cee2f87f",
   "metadata": {},
   "source": [
    "### Melon 음악정보 가져오기 ( 순위, 가수명, 가수이름 )"
   ]
  },
  {
   "cell_type": "code",
   "execution_count": 35,
   "id": "e9ca99c7",
   "metadata": {},
   "outputs": [],
   "source": [
    "ranking50 = soup.select(\"#lst50\")\n",
    "ranking100 = soup.select(\"#lst100\")\n",
    "\n",
    "melon_list = []\n",
    "for rank in ranking50:\n",
    "    r = rank.select_one('span.rank').get_text()\n",
    "    s = rank.select_one('div.rank02 > a').get_text()\n",
    "    t = rank.select_one('div.rank01 > span > a').get_text()\n",
    "    melon_list.append({\"서비스\":\"멜론\", \"순위\":r, \"타이틀\":t, \"가수\":s})\n",
    "\n",
    "for rank in ranking100:\n",
    "    r = rank.select_one('span.rank').get_text()\n",
    "    s = rank.select_one('div.rank02 > a').get_text()\n",
    "    t = rank.select_one('div.rank01 > span > a').get_text()\n",
    "    melon_list.append({\"서비스\":\"멜론\", \"순위\":r, \"타이틀\":t, \"가수\":s})"
   ]
  },
  {
   "cell_type": "markdown",
   "id": "b74e000d",
   "metadata": {},
   "source": [
    "### 크롤링 결과 엑셀 저장"
   ]
  },
  {
   "cell_type": "code",
   "execution_count": 36,
   "id": "42388a8e",
   "metadata": {},
   "outputs": [
    {
     "data": {
      "text/html": [
       "<div>\n",
       "<style scoped>\n",
       "    .dataframe tbody tr th:only-of-type {\n",
       "        vertical-align: middle;\n",
       "    }\n",
       "\n",
       "    .dataframe tbody tr th {\n",
       "        vertical-align: top;\n",
       "    }\n",
       "\n",
       "    .dataframe thead th {\n",
       "        text-align: right;\n",
       "    }\n",
       "</style>\n",
       "<table border=\"1\" class=\"dataframe\">\n",
       "  <thead>\n",
       "    <tr style=\"text-align: right;\">\n",
       "      <th></th>\n",
       "      <th>서비스</th>\n",
       "      <th>순위</th>\n",
       "      <th>타이틀</th>\n",
       "      <th>가수</th>\n",
       "    </tr>\n",
       "  </thead>\n",
       "  <tbody>\n",
       "    <tr>\n",
       "      <th>0</th>\n",
       "      <td>멜론</td>\n",
       "      <td>1</td>\n",
       "      <td>LOVE DIVE</td>\n",
       "      <td>IVE (아이브)</td>\n",
       "    </tr>\n",
       "    <tr>\n",
       "      <th>1</th>\n",
       "      <td>멜론</td>\n",
       "      <td>2</td>\n",
       "      <td>That That (prod. &amp; feat. SUGA of BTS)</td>\n",
       "      <td>싸이 (PSY)</td>\n",
       "    </tr>\n",
       "    <tr>\n",
       "      <th>2</th>\n",
       "      <td>멜론</td>\n",
       "      <td>3</td>\n",
       "      <td>TOMBOY</td>\n",
       "      <td>(여자)아이들</td>\n",
       "    </tr>\n",
       "    <tr>\n",
       "      <th>3</th>\n",
       "      <td>멜론</td>\n",
       "      <td>4</td>\n",
       "      <td>정이라고 하자 (Feat. 10CM)</td>\n",
       "      <td>BIG Naughty (서동현)</td>\n",
       "    </tr>\n",
       "    <tr>\n",
       "      <th>4</th>\n",
       "      <td>멜론</td>\n",
       "      <td>5</td>\n",
       "      <td>사랑인가 봐</td>\n",
       "      <td>멜로망스</td>\n",
       "    </tr>\n",
       "  </tbody>\n",
       "</table>\n",
       "</div>"
      ],
      "text/plain": [
       "  서비스 순위                                    타이틀                 가수\n",
       "0  멜론  1                              LOVE DIVE          IVE (아이브)\n",
       "1  멜론  2  That That (prod. & feat. SUGA of BTS)           싸이 (PSY)\n",
       "2  멜론  3                                 TOMBOY            (여자)아이들\n",
       "3  멜론  4                   정이라고 하자 (Feat. 10CM)  BIG Naughty (서동현)\n",
       "4  멜론  5                                 사랑인가 봐               멜로망스"
      ]
     },
     "execution_count": 36,
     "metadata": {},
     "output_type": "execute_result"
    }
   ],
   "source": [
    "columns = ['서비스', '순위', '타이틀', '가수']\n",
    "\n",
    "df = pd.DataFrame(melon_list, columns=columns)\n",
    "df.head()"
   ]
  },
  {
   "cell_type": "code",
   "execution_count": 37,
   "id": "2c935f1a",
   "metadata": {},
   "outputs": [],
   "source": [
    "df.to_excel(\"../../data/dataset/melon.xlsx\")"
   ]
  },
  {
   "cell_type": "code",
   "execution_count": null,
   "id": "5c1f074e",
   "metadata": {},
   "outputs": [],
   "source": []
  },
  {
   "cell_type": "code",
   "execution_count": null,
   "id": "3b7fac9d",
   "metadata": {},
   "outputs": [],
   "source": []
  },
  {
   "cell_type": "code",
   "execution_count": null,
   "id": "33c70046",
   "metadata": {},
   "outputs": [],
   "source": []
  }
 ],
 "metadata": {
  "kernelspec": {
   "display_name": "Python 3 (ipykernel)",
   "language": "python",
   "name": "python3"
  },
  "language_info": {
   "codemirror_mode": {
    "name": "ipython",
    "version": 3
   },
   "file_extension": ".py",
   "mimetype": "text/x-python",
   "name": "python",
   "nbconvert_exporter": "python",
   "pygments_lexer": "ipython3",
   "version": "3.9.12"
  }
 },
 "nbformat": 4,
 "nbformat_minor": 5
}
