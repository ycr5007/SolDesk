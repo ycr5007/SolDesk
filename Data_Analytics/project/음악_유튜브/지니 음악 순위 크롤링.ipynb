{
 "cells": [
  {
   "cell_type": "markdown",
   "id": "a09fb619",
   "metadata": {},
   "source": [
    "### 멜론, 벅스, 지니 음악 순위 크롤링\n",
    "* 각 음악 사이트의 크롤링 정보를 엑셀로 저장\n",
    "* 저장된 정보를 읽어온 후 3개의 데이터 합치기"
   ]
  },
  {
   "cell_type": "markdown",
   "id": "631e6151",
   "metadata": {},
   "source": [
    "#### selenium 라이브러리 import"
   ]
  },
  {
   "cell_type": "code",
   "execution_count": 4,
   "id": "965a9921",
   "metadata": {},
   "outputs": [],
   "source": [
    "from selenium import webdriver\n",
    "from selenium.webdriver.common.by import By\n",
    "from selenium.webdriver.common.keys import Keys\n",
    "from bs4 import BeautifulSoup\n",
    "import time"
   ]
  },
  {
   "cell_type": "code",
   "execution_count": 5,
   "id": "90a8d197",
   "metadata": {},
   "outputs": [],
   "source": [
    "import pandas as pd"
   ]
  },
  {
   "cell_type": "markdown",
   "id": "cee2f87f",
   "metadata": {},
   "source": [
    "### Genie 음악정보 가져오기 ( 순위, 가수명, 가수이름 )"
   ]
  },
  {
   "cell_type": "code",
   "execution_count": 6,
   "id": "ebac20e2",
   "metadata": {},
   "outputs": [],
   "source": [
    "genie_list = []"
   ]
  },
  {
   "cell_type": "code",
   "execution_count": 22,
   "id": "f0d8bb06",
   "metadata": {},
   "outputs": [
    {
     "name": "stderr",
     "output_type": "stream",
     "text": [
      "C:\\Users\\Public\\Documents\\ESTsoft\\CreatorTemp\\ipykernel_17860\\3771271692.py:3: DeprecationWarning: executable_path has been deprecated, please pass in a Service object\n",
      "  browser = webdriver.Chrome('../../chromedriver')\n"
     ]
    }
   ],
   "source": [
    "for page in range(1, 3):\n",
    "    url = \"https://www.genie.co.kr/chart/top200?ditc=D&ymd=20220705&hh=09&rtm=Y&pg=\" + str(page)\n",
    "    browser = webdriver.Chrome('../../chromedriver')\n",
    "    browser.get(url)\n",
    "\n",
    "    time.sleep(2)\n",
    "\n",
    "    soup = BeautifulSoup(browser.page_source, 'lxml')\n",
    "    \n",
    "    ranking = soup.select(\"table.list-wrap > tbody > tr\")\n",
    "\n",
    "    for rank in ranking :\n",
    "        r = rank.select_one(\"td.number\").get_text()\n",
    "        s = rank.select_one(\"a.artist\").get_text()\n",
    "        t = rank.select_one(\"a.title\").get_text()\n",
    "        if str.strip(t[:4]) == \"19금\":\n",
    "            t = t[4:]\n",
    "\n",
    "        genie_list.append({\"서비스\":\"지니\", \"순위\":str.strip(r[0:5]), \"타이틀\":str.strip(t), \"가수\":str.strip(s)})\n",
    "    \n",
    "    del soup"
   ]
  },
  {
   "cell_type": "code",
   "execution_count": 24,
   "id": "c3606e12",
   "metadata": {},
   "outputs": [
    {
     "data": {
      "text/html": [
       "<div>\n",
       "<style scoped>\n",
       "    .dataframe tbody tr th:only-of-type {\n",
       "        vertical-align: middle;\n",
       "    }\n",
       "\n",
       "    .dataframe tbody tr th {\n",
       "        vertical-align: top;\n",
       "    }\n",
       "\n",
       "    .dataframe thead th {\n",
       "        text-align: right;\n",
       "    }\n",
       "</style>\n",
       "<table border=\"1\" class=\"dataframe\">\n",
       "  <thead>\n",
       "    <tr style=\"text-align: right;\">\n",
       "      <th></th>\n",
       "      <th>서비스</th>\n",
       "      <th>순위</th>\n",
       "      <th>타이틀</th>\n",
       "      <th>가수</th>\n",
       "    </tr>\n",
       "  </thead>\n",
       "  <tbody>\n",
       "    <tr>\n",
       "      <th>0</th>\n",
       "      <td>지니</td>\n",
       "      <td>1</td>\n",
       "      <td>LOVE DIVE</td>\n",
       "      <td>IVE (아이브)</td>\n",
       "    </tr>\n",
       "    <tr>\n",
       "      <th>1</th>\n",
       "      <td>지니</td>\n",
       "      <td>2</td>\n",
       "      <td>That That (Prod. &amp; Feat. SUGA of BTS)</td>\n",
       "      <td>싸이 (Psy)</td>\n",
       "    </tr>\n",
       "    <tr>\n",
       "      <th>2</th>\n",
       "      <td>지니</td>\n",
       "      <td>3</td>\n",
       "      <td>TOMBOY</td>\n",
       "      <td>(여자)아이들</td>\n",
       "    </tr>\n",
       "    <tr>\n",
       "      <th>3</th>\n",
       "      <td>지니</td>\n",
       "      <td>4</td>\n",
       "      <td>POP!</td>\n",
       "      <td>나연 (TWICE)</td>\n",
       "    </tr>\n",
       "    <tr>\n",
       "      <th>4</th>\n",
       "      <td>지니</td>\n",
       "      <td>5</td>\n",
       "      <td>사랑인가 봐</td>\n",
       "      <td>멜로망스 (MeloMance)</td>\n",
       "    </tr>\n",
       "  </tbody>\n",
       "</table>\n",
       "</div>"
      ],
      "text/plain": [
       "  서비스 순위                                    타이틀                가수\n",
       "0  지니  1                              LOVE DIVE         IVE (아이브)\n",
       "1  지니  2  That That (Prod. & Feat. SUGA of BTS)          싸이 (Psy)\n",
       "2  지니  3                                 TOMBOY           (여자)아이들\n",
       "3  지니  4                                   POP!        나연 (TWICE)\n",
       "4  지니  5                                 사랑인가 봐  멜로망스 (MeloMance)"
      ]
     },
     "execution_count": 24,
     "metadata": {},
     "output_type": "execute_result"
    }
   ],
   "source": [
    "columns = ['서비스', '순위', '타이틀', '가수']\n",
    "\n",
    "df = pd.DataFrame(genie_list, columns=columns)\n",
    "df.head()"
   ]
  },
  {
   "cell_type": "code",
   "execution_count": 25,
   "id": "75877234",
   "metadata": {},
   "outputs": [],
   "source": [
    "df.to_excel(\"../../data/dataset/genie.xlsx\", index=False)"
   ]
  }
 ],
 "metadata": {
  "kernelspec": {
   "display_name": "Python 3 (ipykernel)",
   "language": "python",
   "name": "python3"
  },
  "language_info": {
   "codemirror_mode": {
    "name": "ipython",
    "version": 3
   },
   "file_extension": ".py",
   "mimetype": "text/x-python",
   "name": "python",
   "nbconvert_exporter": "python",
   "pygments_lexer": "ipython3",
   "version": "3.9.12"
  }
 },
 "nbformat": 4,
 "nbformat_minor": 5
}
