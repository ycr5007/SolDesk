{
 "cells": [
  {
   "cell_type": "code",
   "execution_count": 1,
   "id": "965a9921",
   "metadata": {},
   "outputs": [],
   "source": [
    "from selenium import webdriver\n",
    "from selenium.webdriver.common.by import By\n",
    "from selenium.webdriver.common.keys import Keys\n",
    "from bs4 import BeautifulSoup\n",
    "import time"
   ]
  },
  {
   "cell_type": "code",
   "execution_count": 2,
   "id": "90a8d197",
   "metadata": {},
   "outputs": [],
   "source": [
    "import pandas as pd"
   ]
  },
  {
   "cell_type": "code",
   "execution_count": 3,
   "id": "6107e815",
   "metadata": {},
   "outputs": [],
   "source": [
    "url = \"https://music.bugs.co.kr/chart\""
   ]
  },
  {
   "cell_type": "code",
   "execution_count": 8,
   "id": "f0d8bb06",
   "metadata": {},
   "outputs": [
    {
     "name": "stderr",
     "output_type": "stream",
     "text": [
      "C:\\Users\\Public\\Documents\\ESTsoft\\CreatorTemp\\ipykernel_20456\\4293136720.py:1: DeprecationWarning: executable_path has been deprecated, please pass in a Service object\n",
      "  browser = webdriver.Chrome('../../chromedriver')\n"
     ]
    }
   ],
   "source": [
    "browser = webdriver.Chrome('../../chromedriver')\n",
    "browser.get(url)\n",
    "\n",
    "time.sleep(2)\n",
    "\n",
    "soup = BeautifulSoup(browser.page_source, 'lxml')"
   ]
  },
  {
   "cell_type": "markdown",
   "id": "cee2f87f",
   "metadata": {},
   "source": [
    "### Bugs음악정보 가져오기 ( 순위, 가수명, 가수이름 )"
   ]
  },
  {
   "cell_type": "code",
   "execution_count": 18,
   "id": "d5c21285",
   "metadata": {},
   "outputs": [],
   "source": [
    "bugs_list = []\n",
    "ranking = soup.select(\"table.byChart > tbody > tr\")\n",
    "\n",
    "for rank in ranking:\n",
    "    r = rank.select_one(\"div.ranking > strong\").get_text()\n",
    "    s = rank.select_one(\"p.artist > a\").get_text()\n",
    "    t = rank.select_one(\"p.title > a\").get_text()\n",
    "    bugs_list.append({\"서비스\":\"벅스\", \"순위\":r, \"타이틀\":t, \"가수\":s})"
   ]
  },
  {
   "cell_type": "code",
   "execution_count": 19,
   "id": "dafdf76b",
   "metadata": {},
   "outputs": [
    {
     "data": {
      "text/html": [
       "<div>\n",
       "<style scoped>\n",
       "    .dataframe tbody tr th:only-of-type {\n",
       "        vertical-align: middle;\n",
       "    }\n",
       "\n",
       "    .dataframe tbody tr th {\n",
       "        vertical-align: top;\n",
       "    }\n",
       "\n",
       "    .dataframe thead th {\n",
       "        text-align: right;\n",
       "    }\n",
       "</style>\n",
       "<table border=\"1\" class=\"dataframe\">\n",
       "  <thead>\n",
       "    <tr style=\"text-align: right;\">\n",
       "      <th></th>\n",
       "      <th>서비스</th>\n",
       "      <th>순위</th>\n",
       "      <th>타이틀</th>\n",
       "      <th>가수</th>\n",
       "    </tr>\n",
       "  </thead>\n",
       "  <tbody>\n",
       "    <tr>\n",
       "      <th>0</th>\n",
       "      <td>벅스</td>\n",
       "      <td>1</td>\n",
       "      <td>Future Perfect (Pass the MIC)</td>\n",
       "      <td>ENHYPEN</td>\n",
       "    </tr>\n",
       "    <tr>\n",
       "      <th>1</th>\n",
       "      <td>벅스</td>\n",
       "      <td>2</td>\n",
       "      <td>TFW (That Feeling When)</td>\n",
       "      <td>ENHYPEN</td>\n",
       "    </tr>\n",
       "    <tr>\n",
       "      <th>2</th>\n",
       "      <td>벅스</td>\n",
       "      <td>3</td>\n",
       "      <td>그라데이션</td>\n",
       "      <td>10CM</td>\n",
       "    </tr>\n",
       "    <tr>\n",
       "      <th>3</th>\n",
       "      <td>벅스</td>\n",
       "      <td>4</td>\n",
       "      <td>SHOUT OUT</td>\n",
       "      <td>ENHYPEN</td>\n",
       "    </tr>\n",
       "    <tr>\n",
       "      <th>4</th>\n",
       "      <td>벅스</td>\n",
       "      <td>5</td>\n",
       "      <td>POP!</td>\n",
       "      <td>나연 (TWICE)</td>\n",
       "    </tr>\n",
       "  </tbody>\n",
       "</table>\n",
       "</div>"
      ],
      "text/plain": [
       "  서비스 순위                            타이틀          가수\n",
       "0  벅스  1  Future Perfect (Pass the MIC)     ENHYPEN\n",
       "1  벅스  2        TFW (That Feeling When)     ENHYPEN\n",
       "2  벅스  3                          그라데이션        10CM\n",
       "3  벅스  4                      SHOUT OUT     ENHYPEN\n",
       "4  벅스  5                           POP!  나연 (TWICE)"
      ]
     },
     "execution_count": 19,
     "metadata": {},
     "output_type": "execute_result"
    }
   ],
   "source": [
    "columns = [\"서비스\", \"순위\", \"타이틀\", \"가수\"]\n",
    "\n",
    "df = pd.DataFrame(bugs_list, columns=columns)\n",
    "df.head()"
   ]
  },
  {
   "cell_type": "code",
   "execution_count": 20,
   "id": "6833b0d9",
   "metadata": {},
   "outputs": [],
   "source": [
    "df.to_excel(\"../../data/dataset/bugs.xlsx\", index=False)"
   ]
  }
 ],
 "metadata": {
  "kernelspec": {
   "display_name": "Python 3 (ipykernel)",
   "language": "python",
   "name": "python3"
  },
  "language_info": {
   "codemirror_mode": {
    "name": "ipython",
    "version": 3
   },
   "file_extension": ".py",
   "mimetype": "text/x-python",
   "name": "python",
   "nbconvert_exporter": "python",
   "pygments_lexer": "ipython3",
   "version": "3.9.12"
  }
 },
 "nbformat": 4,
 "nbformat_minor": 5
}
