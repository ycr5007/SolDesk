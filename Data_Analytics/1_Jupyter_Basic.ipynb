{
 "cells": [
  {
   "cell_type": "markdown",
   "id": "76a92e48",
   "metadata": {},
   "source": [
    "# Anaconda ( 데이터 사이언스 - 빅데이터 분석 Tool )\n",
    "\n",
    "Jupyter root 경로 변경\n",
    "\n",
    "1 . Jupyter Notebook ( 속성 ( % HOMEPATH % / % USERPROFILE % ) 삭제 )\n",
    "\n",
    "2 . Anaconda Prompt ( 실행 후 다음 명령어 입력 )\n",
    "\n",
    "3 . jupyter notebook --generate-config ( 특정 경로에 jupyter 설정 파일 생성 ( C:\\Users\\ycr50\\.jupyter\\jupyter_notebook_config.py ) )\n",
    "\n",
    "4 . c.NotebookApp.notebook_dir = 'D:/' ( 주석 제거 및 dir 부분 수정 )\n",
    "\n",
    "( Jupyter 노트북 온라인 사용 ==> Colab ( Google ) )"
   ]
  },
  {
   "cell_type": "markdown",
   "id": "d4051498",
   "metadata": {},
   "source": [
    "<span style=\"color: #f00;\">실행 : Ctrl - Enter / Shift - Enter<span>"
   ]
  },
  {
   "cell_type": "markdown",
   "id": "812c94cf",
   "metadata": {},
   "source": [
    "<span style=\"color: #f00;\">종료 : Jupyter 디렉토리 → Shutdown 해줄 것 ( 메모리 사용 문제 )</span>"
   ]
  },
  {
   "cell_type": "code",
   "execution_count": 1,
   "id": "131cb158",
   "metadata": {
    "scrolled": true
   },
   "outputs": [
    {
     "name": "stdout",
     "output_type": "stream",
     "text": [
      "Hello\n"
     ]
    }
   ],
   "source": [
    "print('Hello')"
   ]
  },
  {
   "cell_type": "code",
   "execution_count": 2,
   "id": "e9e53efa",
   "metadata": {},
   "outputs": [
    {
     "name": "stdout",
     "output_type": "stream",
     "text": [
      "0\n",
      "1\n",
      "2\n",
      "3\n",
      "4\n",
      "5\n",
      "6\n",
      "7\n",
      "8\n",
      "9\n"
     ]
    }
   ],
   "source": [
    "for i in range(10):\n",
    "    print(i)"
   ]
  },
  {
   "cell_type": "markdown",
   "id": "5f868f1a",
   "metadata": {},
   "source": [
    "### 마크다운 - ( ### :: # 개수만큼 heading 단계 설정)"
   ]
  },
  {
   "cell_type": "markdown",
   "id": "eafe0d19",
   "metadata": {},
   "source": [
    "<h3>마크다운 - ( h3 ) </h3>"
   ]
  },
  {
   "cell_type": "markdown",
   "id": "db1c0ef5",
   "metadata": {},
   "source": [
    "<img src=\"https://blog.kakaocdn.net/dn/bDzG2E/btqENZbKdAQ/Z3dg2KXn8Sk64fqcDkUjFk/img.png\" width=\"300\" height=\"300\">"
   ]
  },
  {
   "cell_type": "markdown",
   "id": "fabb1e32",
   "metadata": {},
   "source": [
    "> 인용구 \" > \"\n",
    ">> 인용구 안에 \" >> \" 인용구 사용"
   ]
  },
  {
   "cell_type": "markdown",
   "id": "bc5531f0",
   "metadata": {},
   "source": [
    "1. 순서가 있는 리스트는 숫자로 표현한다.\n",
    "2. 두 번째\n",
    "3. 세 번째\n",
    "\n",
    "* 순서가 없는 리스트는 ( * / + / - ) 로 표현할 수 있으며 혼용 가능하다.\n",
    "* 별표 ( * )\n",
    "+ 플러스 ( + )\n",
    "- 마이너스 ( - )\n",
    "    * 깊이는 띄어쓰기 또는 Tab 으로 줄 수 있다.\n",
    "2. 또한 순서가 있는 리스트와 없는 리스트 혼용이 가능하다.\n",
    "    * 혼용\n",
    "    \n",
    "수평선은 \n",
    "*** \n",
    "---\n",
    "<hr>\n",
    "다음 세 방법으로 처리 가능하며\n",
    "\n",
    "줄바꿈은\n",
    "space( 공백 ) 을 2번  \n",
    "(br)<br> \n",
    "을 넣어 처리 가능하다"
   ]
  }
 ],
 "metadata": {
  "kernelspec": {
   "display_name": "Python 3 (ipykernel)",
   "language": "python",
   "name": "python3"
  },
  "language_info": {
   "codemirror_mode": {
    "name": "ipython",
    "version": 3
   },
   "file_extension": ".py",
   "mimetype": "text/x-python",
   "name": "python",
   "nbconvert_exporter": "python",
   "pygments_lexer": "ipython3",
   "version": "3.9.12"
  }
 },
 "nbformat": 4,
 "nbformat_minor": 5
}
