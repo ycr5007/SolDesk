{
 "cells": [
  {
   "cell_type": "markdown",
   "id": "4e664c00",
   "metadata": {},
   "source": [
    "# 위스콘신 유방암"
   ]
  },
  {
   "cell_type": "code",
   "execution_count": null,
   "id": "c870fba9",
   "metadata": {},
   "outputs": [],
   "source": []
  },
  {
   "cell_type": "code",
   "execution_count": null,
   "id": "7627ba51",
   "metadata": {},
   "outputs": [],
   "source": []
  },
  {
   "cell_type": "code",
   "execution_count": null,
   "id": "90cd95a8",
   "metadata": {},
   "outputs": [],
   "source": []
  },
  {
   "cell_type": "code",
   "execution_count": null,
   "id": "93bcd55f",
   "metadata": {},
   "outputs": [],
   "source": []
  },
  {
   "cell_type": "markdown",
   "id": "d2c324c5",
   "metadata": {},
   "source": [
    "**세포정보들**\n",
    "\n",
    "- mean radius : 반경(중심에서 외벽까지 거리들의 평균값)\n",
    "- mean texture : 질감\n",
    "- mean perimeter : 둘레\n",
    "- mean smoothness : 매끄러움\n",
    "- mean compactness : 조그만 정도\n",
    "- mean concavity : 오목함\n",
    "- mean concave points : 오목한 점의 수\n",
    "- mean symmetry : 대칭\n",
    "- mean fractal dimension : 프랙탈 차원\n",
    "- radius error \n",
    "- texture error\n",
    "- perimeter error \n",
    "- area error \n",
    "- smoothness error \n",
    "- compactness error \n",
    "- concavity error \n",
    "- concave points error\n",
    "- symmetry error\n",
    "- fractal dimension error\n",
    "- worst radius \n",
    "- worst texture\n",
    "- worst perimeter \n",
    "- worst area\n",
    "- worst smoothness \n",
    "- worst compactness\n",
    "- worst concavity \n",
    "- worst concave points\n",
    "- worst symmetry\n",
    "- worst fractal dimension\n",
    "- target : 생존여부"
   ]
  },
  {
   "cell_type": "code",
   "execution_count": null,
   "id": "7994a3be",
   "metadata": {},
   "outputs": [],
   "source": []
  },
  {
   "cell_type": "code",
   "execution_count": null,
   "id": "2645f46e",
   "metadata": {},
   "outputs": [],
   "source": []
  },
  {
   "cell_type": "code",
   "execution_count": null,
   "id": "4533d9f0",
   "metadata": {},
   "outputs": [],
   "source": []
  },
  {
   "cell_type": "markdown",
   "id": "eeee3cdb",
   "metadata": {},
   "source": [
    "#### 모델 평가(정확도)"
   ]
  },
  {
   "cell_type": "code",
   "execution_count": null,
   "id": "1d901cf0",
   "metadata": {},
   "outputs": [],
   "source": []
  }
 ],
 "metadata": {
  "kernelspec": {
   "display_name": "Python 3 (ipykernel)",
   "language": "python",
   "name": "python3"
  },
  "language_info": {
   "codemirror_mode": {
    "name": "ipython",
    "version": 3
   },
   "file_extension": ".py",
   "mimetype": "text/x-python",
   "name": "python",
   "nbconvert_exporter": "python",
   "pygments_lexer": "ipython3",
   "version": "3.9.12"
  }
 },
 "nbformat": 4,
 "nbformat_minor": 5
}
