{
 "cells": [
  {
   "cell_type": "markdown",
   "id": "a95a7f40",
   "metadata": {},
   "source": [
    "### 보스턴 주택 가격 데이터 셋"
   ]
  },
  {
   "cell_type": "code",
   "execution_count": null,
   "id": "cf3b70b1",
   "metadata": {},
   "outputs": [],
   "source": []
  },
  {
   "cell_type": "markdown",
   "id": "58cf2109",
   "metadata": {},
   "source": [
    "### 데이터 셋 로드\n",
    "\n",
    "#### 1978 보스턴 주택 가격(506개 타운의 주택 가격 중앙값 - 단위:1000달러)"
   ]
  },
  {
   "cell_type": "code",
   "execution_count": null,
   "id": "7d64a4e8",
   "metadata": {},
   "outputs": [],
   "source": []
  },
  {
   "cell_type": "code",
   "execution_count": null,
   "id": "a0eaa254",
   "metadata": {},
   "outputs": [],
   "source": []
  },
  {
   "cell_type": "code",
   "execution_count": null,
   "id": "97104d0f",
   "metadata": {},
   "outputs": [],
   "source": []
  },
  {
   "cell_type": "code",
   "execution_count": null,
   "id": "6d7fc2d0",
   "metadata": {},
   "outputs": [],
   "source": []
  },
  {
   "cell_type": "markdown",
   "id": "7ffd43e4",
   "metadata": {},
   "source": [
    "```\n",
    "X (독립변수)\n",
    "\n",
    "CRIM     지역별 범죄 발생율\n",
    "ZN       25,000 평방 피트를 초과하는 거주 지역의 비율\n",
    "INDUS    비 소매상업 지역 면적 비율\n",
    "CHAS     찰스강에 대한 더미 변수(강의 경계에 위치한 경우는 1, 아니면 0)\n",
    "NOX      일산화질소 농도\n",
    "RM       거주할 수 있는 방 개수\n",
    "AGE      1940년 이전에 건축된 소유 주택의 비율\n",
    "DIS      5개 주요 고용센터까지의 가중 거리\n",
    "RAD      고속도로 접근 용이도\n",
    "TAX      10,000 달러당 재산세율\n",
    "PTRATIO  지역의 교사와 학생 수 비율\n",
    "B        지역의 흑인 비율\n",
    "LSTAT    하위 계층의 비율\n",
    "\n",
    "\n",
    "y (종속변수)\n",
    "\n",
    "PRICE    본인 소유의 주택 가격(중앙값)\n",
    "```"
   ]
  },
  {
   "cell_type": "code",
   "execution_count": null,
   "id": "7d9778de",
   "metadata": {},
   "outputs": [],
   "source": []
  }
 ],
 "metadata": {
  "kernelspec": {
   "display_name": "Python 3 (ipykernel)",
   "language": "python",
   "name": "python3"
  },
  "language_info": {
   "codemirror_mode": {
    "name": "ipython",
    "version": 3
   },
   "file_extension": ".py",
   "mimetype": "text/x-python",
   "name": "python",
   "nbconvert_exporter": "python",
   "pygments_lexer": "ipython3",
   "version": "3.9.12"
  }
 },
 "nbformat": 4,
 "nbformat_minor": 5
}
