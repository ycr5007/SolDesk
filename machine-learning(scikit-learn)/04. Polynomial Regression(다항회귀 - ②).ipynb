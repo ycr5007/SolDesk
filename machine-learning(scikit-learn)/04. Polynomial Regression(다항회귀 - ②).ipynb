{
 "cells": [
  {
   "cell_type": "markdown",
   "id": "a95a7f40",
   "metadata": {},
   "source": [
    "### 보스턴 주택 가격 데이터 셋"
   ]
  },
  {
   "cell_type": "code",
   "execution_count": 1,
   "id": "cf3b70b1",
   "metadata": {},
   "outputs": [],
   "source": [
    "import matplotlib.pyplot as plt\n",
    "import seaborn as sns\n",
    "import pandas as pd\n",
    "\n",
    "# 한글처리\n",
    "plt.rcParams['font.family'] = 'Malgun Gothic'\n",
    "# 음수처리\n",
    "plt.rcParams['axes.unicode_minus'] = False\n",
    "\n",
    "\n",
    "import warnings\n",
    "warnings.filterwarnings('ignore')"
   ]
  },
  {
   "cell_type": "markdown",
   "id": "58cf2109",
   "metadata": {},
   "source": [
    "### 데이터 셋 로드\n",
    "\n",
    "#### 1978 보스턴 주택 가격(506개 타운의 주택 가격 중앙값 - 단위:1000달러)"
   ]
  },
  {
   "cell_type": "code",
   "execution_count": 2,
   "id": "cb3bd364",
   "metadata": {},
   "outputs": [],
   "source": [
    "from sklearn.datasets import load_boston\n",
    "\n",
    "boston = load_boston()"
   ]
  },
  {
   "cell_type": "code",
   "execution_count": 3,
   "id": "f812e9e4",
   "metadata": {},
   "outputs": [],
   "source": [
    "boston_df = pd.DataFrame(boston.data, columns=boston.feature_names)"
   ]
  },
  {
   "cell_type": "code",
   "execution_count": 4,
   "id": "a159157a",
   "metadata": {},
   "outputs": [],
   "source": [
    "boston_df['PRICE'] = boston.target"
   ]
  },
  {
   "cell_type": "code",
   "execution_count": 5,
   "id": "3051ea8d",
   "metadata": {},
   "outputs": [
    {
     "data": {
      "text/html": [
       "<div>\n",
       "<style scoped>\n",
       "    .dataframe tbody tr th:only-of-type {\n",
       "        vertical-align: middle;\n",
       "    }\n",
       "\n",
       "    .dataframe tbody tr th {\n",
       "        vertical-align: top;\n",
       "    }\n",
       "\n",
       "    .dataframe thead th {\n",
       "        text-align: right;\n",
       "    }\n",
       "</style>\n",
       "<table border=\"1\" class=\"dataframe\">\n",
       "  <thead>\n",
       "    <tr style=\"text-align: right;\">\n",
       "      <th></th>\n",
       "      <th>CRIM</th>\n",
       "      <th>ZN</th>\n",
       "      <th>INDUS</th>\n",
       "      <th>CHAS</th>\n",
       "      <th>NOX</th>\n",
       "      <th>RM</th>\n",
       "      <th>AGE</th>\n",
       "      <th>DIS</th>\n",
       "      <th>RAD</th>\n",
       "      <th>TAX</th>\n",
       "      <th>PTRATIO</th>\n",
       "      <th>B</th>\n",
       "      <th>LSTAT</th>\n",
       "      <th>PRICE</th>\n",
       "    </tr>\n",
       "  </thead>\n",
       "  <tbody>\n",
       "    <tr>\n",
       "      <th>0</th>\n",
       "      <td>0.00632</td>\n",
       "      <td>18.0</td>\n",
       "      <td>2.31</td>\n",
       "      <td>0.0</td>\n",
       "      <td>0.538</td>\n",
       "      <td>6.575</td>\n",
       "      <td>65.2</td>\n",
       "      <td>4.0900</td>\n",
       "      <td>1.0</td>\n",
       "      <td>296.0</td>\n",
       "      <td>15.3</td>\n",
       "      <td>396.90</td>\n",
       "      <td>4.98</td>\n",
       "      <td>24.0</td>\n",
       "    </tr>\n",
       "    <tr>\n",
       "      <th>1</th>\n",
       "      <td>0.02731</td>\n",
       "      <td>0.0</td>\n",
       "      <td>7.07</td>\n",
       "      <td>0.0</td>\n",
       "      <td>0.469</td>\n",
       "      <td>6.421</td>\n",
       "      <td>78.9</td>\n",
       "      <td>4.9671</td>\n",
       "      <td>2.0</td>\n",
       "      <td>242.0</td>\n",
       "      <td>17.8</td>\n",
       "      <td>396.90</td>\n",
       "      <td>9.14</td>\n",
       "      <td>21.6</td>\n",
       "    </tr>\n",
       "    <tr>\n",
       "      <th>2</th>\n",
       "      <td>0.02729</td>\n",
       "      <td>0.0</td>\n",
       "      <td>7.07</td>\n",
       "      <td>0.0</td>\n",
       "      <td>0.469</td>\n",
       "      <td>7.185</td>\n",
       "      <td>61.1</td>\n",
       "      <td>4.9671</td>\n",
       "      <td>2.0</td>\n",
       "      <td>242.0</td>\n",
       "      <td>17.8</td>\n",
       "      <td>392.83</td>\n",
       "      <td>4.03</td>\n",
       "      <td>34.7</td>\n",
       "    </tr>\n",
       "    <tr>\n",
       "      <th>3</th>\n",
       "      <td>0.03237</td>\n",
       "      <td>0.0</td>\n",
       "      <td>2.18</td>\n",
       "      <td>0.0</td>\n",
       "      <td>0.458</td>\n",
       "      <td>6.998</td>\n",
       "      <td>45.8</td>\n",
       "      <td>6.0622</td>\n",
       "      <td>3.0</td>\n",
       "      <td>222.0</td>\n",
       "      <td>18.7</td>\n",
       "      <td>394.63</td>\n",
       "      <td>2.94</td>\n",
       "      <td>33.4</td>\n",
       "    </tr>\n",
       "    <tr>\n",
       "      <th>4</th>\n",
       "      <td>0.06905</td>\n",
       "      <td>0.0</td>\n",
       "      <td>2.18</td>\n",
       "      <td>0.0</td>\n",
       "      <td>0.458</td>\n",
       "      <td>7.147</td>\n",
       "      <td>54.2</td>\n",
       "      <td>6.0622</td>\n",
       "      <td>3.0</td>\n",
       "      <td>222.0</td>\n",
       "      <td>18.7</td>\n",
       "      <td>396.90</td>\n",
       "      <td>5.33</td>\n",
       "      <td>36.2</td>\n",
       "    </tr>\n",
       "  </tbody>\n",
       "</table>\n",
       "</div>"
      ],
      "text/plain": [
       "      CRIM    ZN  INDUS  CHAS    NOX     RM   AGE     DIS  RAD    TAX  \\\n",
       "0  0.00632  18.0   2.31   0.0  0.538  6.575  65.2  4.0900  1.0  296.0   \n",
       "1  0.02731   0.0   7.07   0.0  0.469  6.421  78.9  4.9671  2.0  242.0   \n",
       "2  0.02729   0.0   7.07   0.0  0.469  7.185  61.1  4.9671  2.0  242.0   \n",
       "3  0.03237   0.0   2.18   0.0  0.458  6.998  45.8  6.0622  3.0  222.0   \n",
       "4  0.06905   0.0   2.18   0.0  0.458  7.147  54.2  6.0622  3.0  222.0   \n",
       "\n",
       "   PTRATIO       B  LSTAT  PRICE  \n",
       "0     15.3  396.90   4.98   24.0  \n",
       "1     17.8  396.90   9.14   21.6  \n",
       "2     17.8  392.83   4.03   34.7  \n",
       "3     18.7  394.63   2.94   33.4  \n",
       "4     18.7  396.90   5.33   36.2  "
      ]
     },
     "execution_count": 5,
     "metadata": {},
     "output_type": "execute_result"
    }
   ],
   "source": [
    "boston_df.head()"
   ]
  },
  {
   "cell_type": "markdown",
   "id": "7ffd43e4",
   "metadata": {},
   "source": [
    "```\n",
    "X (독립변수)\n",
    "\n",
    "CRIM     지역별 범죄 발생율\n",
    "ZN       25,000 평방 피트를 초과하는 거주 지역의 비율\n",
    "INDUS    비 소매상업 지역 면적 비율\n",
    "CHAS     찰스강에 대한 더미 변수(강의 경계에 위치한 경우는 1, 아니면 0)\n",
    "NOX      일산화질소 농도\n",
    "RM       거주할 수 있는 방 개수\n",
    "AGE      1940년 이전에 건축된 소유 주택의 비율\n",
    "DIS      5개 주요 고용센터까지의 가중 거리\n",
    "RAD      고속도로 접근 용이도\n",
    "TAX      10,000 달러당 재산세율\n",
    "PTRATIO  지역의 교사와 학생 수 비율\n",
    "B        지역의 흑인 비율\n",
    "LSTAT    하위 계층의 비율\n",
    "\n",
    "\n",
    "y (종속변수)\n",
    "\n",
    "PRICE    본인 소유의 주택 가격(중앙값)\n",
    "```"
   ]
  },
  {
   "cell_type": "code",
   "execution_count": 6,
   "id": "7d9778de",
   "metadata": {},
   "outputs": [],
   "source": [
    "from sklearn.model_selection import train_test_split\n",
    "from sklearn.linear_model import LinearRegression\n",
    "from sklearn.metrics import mean_squared_error, r2_score"
   ]
  },
  {
   "cell_type": "code",
   "execution_count": 7,
   "id": "7e7de6de",
   "metadata": {},
   "outputs": [],
   "source": [
    "X = boston_df.iloc[:, :-1]\n",
    "y = boston_df['PRICE']"
   ]
  },
  {
   "cell_type": "code",
   "execution_count": 9,
   "id": "b3b959b5",
   "metadata": {},
   "outputs": [],
   "source": [
    "train_X, test_X, train_y, test_y = train_test_split(X, y, test_size=0.3, random_state=156)"
   ]
  },
  {
   "cell_type": "markdown",
   "id": "185229ce",
   "metadata": {},
   "source": [
    "#### 다항회귀\n",
    "- PolynomialFeatures 를 통해 단항 피처를 다항 피처로 변환 후 LinearRegression 적용"
   ]
  },
  {
   "cell_type": "code",
   "execution_count": 10,
   "id": "6b698d03",
   "metadata": {},
   "outputs": [],
   "source": [
    "from sklearn.preprocessing import PolynomialFeatures\n",
    "from sklearn.pipeline import Pipeline"
   ]
  },
  {
   "cell_type": "code",
   "execution_count": 11,
   "id": "6d52af3c",
   "metadata": {},
   "outputs": [],
   "source": [
    "p_model = Pipeline([('poly', PolynomialFeatures(degree=2, include_bias=False)), ('linear', LinearRegression())])"
   ]
  },
  {
   "cell_type": "code",
   "execution_count": 14,
   "id": "75e10aef",
   "metadata": {},
   "outputs": [],
   "source": [
    "p_model.fit(train_X, train_y)\n",
    "pred_y = p_model.predict(test_X)"
   ]
  },
  {
   "cell_type": "code",
   "execution_count": 15,
   "id": "9e9b674d",
   "metadata": {},
   "outputs": [],
   "source": [
    "mse = mean_squared_error(test_y, pred_y)\n",
    "rmse = mean_squared_error(test_y, pred_y, squared=False)\n",
    "r2 = r2_score(test_y, pred_y)"
   ]
  },
  {
   "cell_type": "code",
   "execution_count": 16,
   "id": "7eeca49f",
   "metadata": {},
   "outputs": [
    {
     "name": "stdout",
     "output_type": "stream",
     "text": [
      "MSE :: 15.556\n",
      "RMSE :: 3.944\n",
      "R2 :: 0.782\n"
     ]
    }
   ],
   "source": [
    "print('MSE :: {0:.3f}'.format(mse))\n",
    "print('RMSE :: {0:.3f}'.format(rmse))\n",
    "print('R2 :: {0:.3f}'.format(r2))"
   ]
  },
  {
   "cell_type": "markdown",
   "id": "507627f1",
   "metadata": {},
   "source": [
    "***\n",
    "3 차 "
   ]
  },
  {
   "cell_type": "code",
   "execution_count": 17,
   "id": "453aa285",
   "metadata": {},
   "outputs": [],
   "source": [
    "p_model = Pipeline([('poly', PolynomialFeatures(degree=3, include_bias=False)), ('linear', LinearRegression())])"
   ]
  },
  {
   "cell_type": "code",
   "execution_count": 18,
   "id": "5e8304f5",
   "metadata": {},
   "outputs": [],
   "source": [
    "p_model.fit(train_X, train_y)\n",
    "pred_y = p_model.predict(test_X)"
   ]
  },
  {
   "cell_type": "code",
   "execution_count": 19,
   "id": "8d13184f",
   "metadata": {},
   "outputs": [],
   "source": [
    "mse = mean_squared_error(test_y, pred_y)\n",
    "rmse = mean_squared_error(test_y, pred_y, squared=False)\n",
    "r2 = r2_score(test_y, pred_y)"
   ]
  },
  {
   "cell_type": "code",
   "execution_count": 20,
   "id": "ecf44d5a",
   "metadata": {},
   "outputs": [
    {
     "name": "stdout",
     "output_type": "stream",
     "text": [
      "MSE :: 79625.593\n",
      "RMSE :: 282.180\n",
      "R2 :: -1116.598\n"
     ]
    }
   ],
   "source": [
    "print('MSE :: {0:.3f}'.format(mse))\n",
    "print('RMSE :: {0:.3f}'.format(rmse))\n",
    "print('R2 :: {0:.3f}'.format(r2))"
   ]
  },
  {
   "cell_type": "code",
   "execution_count": null,
   "id": "ab460ef0",
   "metadata": {},
   "outputs": [],
   "source": []
  }
 ],
 "metadata": {
  "kernelspec": {
   "display_name": "Python 3 (ipykernel)",
   "language": "python",
   "name": "python3"
  },
  "language_info": {
   "codemirror_mode": {
    "name": "ipython",
    "version": 3
   },
   "file_extension": ".py",
   "mimetype": "text/x-python",
   "name": "python",
   "nbconvert_exporter": "python",
   "pygments_lexer": "ipython3",
   "version": "3.9.12"
  }
 },
 "nbformat": 4,
 "nbformat_minor": 5
}
