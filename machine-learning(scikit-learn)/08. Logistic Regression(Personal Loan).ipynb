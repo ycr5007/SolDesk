{
 "cells": [
  {
   "cell_type": "markdown",
   "metadata": {
    "id": "ziBPzVMsPks3"
   },
   "source": [
    "# Personal Loan data\n",
    "* Data from: [Personal Loan](https://www.kaggle.com/itsmesunil/bank-loan-modelling)  \n",
    "Personal Loan 데이터는 고객을 더 늘리고자 하는 가상의 은행 데이터이다.  \n",
    "이 회사의 경영진은 부채를 가진 고객을 개인 대출 고객으로 전환하는 방법을 모색하려고 한다.\n",
    "\n",
    "\n",
    "- 금융 회사에서 흔히 볼 수 있는 기본적인 데이터이며, 목적을 가진 데이터\n",
    "- 간단한 로지스틱 회귀 분석을 통해 모델링을 해보고, 결과를 분석"
   ]
  },
  {
   "cell_type": "markdown",
   "metadata": {
    "id": "2gXycufmPvUQ"
   },
   "source": [
    "## 1.데이터 둘러보기"
   ]
  },
  {
   "cell_type": "code",
   "execution_count": null,
   "metadata": {},
   "outputs": [],
   "source": []
  },
  {
   "cell_type": "code",
   "execution_count": null,
   "metadata": {},
   "outputs": [],
   "source": []
  },
  {
   "cell_type": "markdown",
   "metadata": {
    "id": "KXuwQVyrP-Bd"
   },
   "source": [
    "<컬럼 설명>\n",
    "\n",
    "* ID: 고객 번호\n",
    "* Age: 나이\n",
    "* Experience:   \n",
    "* Income: 연간 수입(000)  \n",
    "* Zipcode: 우편번호  \n",
    "* Family: 가족 구성원 수\n",
    "* CCAvg: 신용카드 월평균 이용 금액(000)  \n",
    "* Education: 학력(1: Undergrad, 2: Graduate, 3: Advanced/Professional)\n",
    "* Mortgage: 주택 담보 대출 금액(000)\n",
    "* Personal Loan: 지난번 영업에서 고객이 개인대출을 받았는가?(0: N, 1: Y)  \n",
    "* Securities Account: 보험 유무(0: N, 1: Y)  \n",
    "* CD Account:양도성 예금증서 보유 유무(0: N, 1: Y)  \n",
    "* Online: 온라인 뱅킹 유무(0: N, 1: Y)\n",
    "* Credit Card: 신용카드 보유 유무(0: N, 1: Y)\n"
   ]
  },
  {
   "cell_type": "markdown",
   "metadata": {
    "id": "E8CxrBd8P8o_"
   },
   "source": [
    "* 범주형 변수: *빈도frequency 계산 가능*\n",
    "               ID, zipcode, educaiont, personal loan, securities account, cd account, online, credit card\n",
    "* 연속형 변수: *평균, 표준편차, min/max 등 수치 계산 가능*\n",
    "               age, experience, income, family, ccavg, mortgage"
   ]
  },
  {
   "cell_type": "code",
   "execution_count": null,
   "metadata": {},
   "outputs": [],
   "source": []
  },
  {
   "cell_type": "code",
   "execution_count": null,
   "metadata": {},
   "outputs": [],
   "source": []
  },
  {
   "cell_type": "code",
   "execution_count": null,
   "metadata": {},
   "outputs": [],
   "source": []
  },
  {
   "cell_type": "markdown",
   "metadata": {
    "id": "JNpwP5AKZ9G6"
   },
   "source": [
    "## 3.데이터 정비하기"
   ]
  },
  {
   "cell_type": "markdown",
   "metadata": {
    "id": "xyXu15R-Z9sr"
   },
   "source": [
    "### 3-1. 컬럼명 바꾸기"
   ]
  },
  {
   "cell_type": "code",
   "execution_count": null,
   "metadata": {},
   "outputs": [],
   "source": []
  },
  {
   "cell_type": "code",
   "execution_count": null,
   "metadata": {},
   "outputs": [],
   "source": []
  },
  {
   "cell_type": "code",
   "execution_count": null,
   "metadata": {},
   "outputs": [],
   "source": []
  },
  {
   "cell_type": "markdown",
   "metadata": {
    "id": "GazAqikW87eH"
   },
   "source": [
    "### 3-2. 필요없는 컬럼 제거"
   ]
  },
  {
   "cell_type": "code",
   "execution_count": null,
   "metadata": {},
   "outputs": [],
   "source": []
  },
  {
   "cell_type": "code",
   "execution_count": null,
   "metadata": {},
   "outputs": [],
   "source": []
  },
  {
   "cell_type": "code",
   "execution_count": null,
   "metadata": {},
   "outputs": [],
   "source": []
  },
  {
   "cell_type": "code",
   "execution_count": null,
   "metadata": {},
   "outputs": [],
   "source": []
  },
  {
   "cell_type": "markdown",
   "metadata": {
    "id": "42kOwzrCZ3mm"
   },
   "source": [
    "## 2.질문하기\n",
    "\n",
    "* 수입/월평균신용카드사용량/가족인원수와 대출 사이의 관계는?\n",
    "* 월 평균 사용 금액을 구간화 해서 특징을 볼 수 있을까?\n",
    "* 로지스틱 회귀 분석을 사용해서 신규 고객의 대출여부를 예측하는 모델 만들기\n"
   ]
  },
  {
   "cell_type": "markdown",
   "metadata": {
    "id": "2pTlwIs6alAC"
   },
   "source": [
    "## 4.EDA & Visualization"
   ]
  },
  {
   "cell_type": "markdown",
   "metadata": {
    "id": "3QQQJVaZanW5"
   },
   "source": [
    "### 4-1. 간단한 분석"
   ]
  },
  {
   "cell_type": "code",
   "execution_count": null,
   "metadata": {},
   "outputs": [],
   "source": []
  },
  {
   "cell_type": "code",
   "execution_count": null,
   "metadata": {},
   "outputs": [],
   "source": []
  },
  {
   "cell_type": "code",
   "execution_count": null,
   "metadata": {},
   "outputs": [],
   "source": []
  },
  {
   "cell_type": "code",
   "execution_count": null,
   "metadata": {},
   "outputs": [],
   "source": []
  },
  {
   "cell_type": "markdown",
   "metadata": {
    "id": "4bP2p6gkdb9d"
   },
   "source": [
    "### 변수의 분포 확인하기"
   ]
  },
  {
   "cell_type": "code",
   "execution_count": null,
   "metadata": {},
   "outputs": [],
   "source": []
  },
  {
   "cell_type": "code",
   "execution_count": null,
   "metadata": {},
   "outputs": [],
   "source": []
  },
  {
   "cell_type": "code",
   "execution_count": null,
   "metadata": {},
   "outputs": [],
   "source": []
  },
  {
   "cell_type": "code",
   "execution_count": null,
   "metadata": {},
   "outputs": [],
   "source": []
  },
  {
   "cell_type": "markdown",
   "metadata": {
    "id": "CEIyq0xv3n_w"
   },
   "source": [
    "### 변수 간 상관관계 파악하기"
   ]
  },
  {
   "cell_type": "code",
   "execution_count": null,
   "metadata": {},
   "outputs": [],
   "source": []
  },
  {
   "cell_type": "code",
   "execution_count": null,
   "metadata": {},
   "outputs": [],
   "source": []
  },
  {
   "cell_type": "code",
   "execution_count": null,
   "metadata": {},
   "outputs": [],
   "source": []
  },
  {
   "cell_type": "markdown",
   "metadata": {
    "id": "LjoRXj3JUNLq"
   },
   "source": [
    "### 구간화 해서 그래프 그리기"
   ]
  },
  {
   "cell_type": "code",
   "execution_count": null,
   "metadata": {},
   "outputs": [],
   "source": []
  },
  {
   "cell_type": "code",
   "execution_count": null,
   "metadata": {},
   "outputs": [],
   "source": []
  },
  {
   "cell_type": "code",
   "execution_count": null,
   "metadata": {},
   "outputs": [],
   "source": []
  },
  {
   "cell_type": "markdown",
   "metadata": {
    "id": "ZWfXKwrAgnJB"
   },
   "source": [
    "## 로지스틱 회귀분석  \n",
    "로지스틱 회귀분석(Logistic regression):  \n",
    "종속변수와 독립변수 사이의 관계를 함수로 나타내어, 이 다음을 예측하는 방식.  \n",
    "독립변수 사이의 선형 결합으로 종속변수를 설명하는 것은 선형 회귀와 동일하지만, **종속변수가 범주형 데이터를 대상**으로 한다는 점이 다르다."
   ]
  },
  {
   "cell_type": "code",
   "execution_count": null,
   "metadata": {},
   "outputs": [],
   "source": []
  },
  {
   "cell_type": "code",
   "execution_count": null,
   "metadata": {},
   "outputs": [],
   "source": []
  },
  {
   "cell_type": "code",
   "execution_count": null,
   "metadata": {},
   "outputs": [],
   "source": []
  },
  {
   "cell_type": "code",
   "execution_count": null,
   "metadata": {
    "id": "hB65egX7-ZPZ"
   },
   "outputs": [],
   "source": []
  }
 ],
 "metadata": {
  "colab": {
   "authorship_tag": "ABX9TyPLCN62CdTydWN3MgbtZ7G3",
   "collapsed_sections": [],
   "name": "파이썬실습05_PersonalLoan_ex.ipynb",
   "provenance": [],
   "toc_visible": true
  },
  "hide_input": false,
  "kernelspec": {
   "display_name": "Python 3 (ipykernel)",
   "language": "python",
   "name": "python3"
  },
  "language_info": {
   "codemirror_mode": {
    "name": "ipython",
    "version": 3
   },
   "file_extension": ".py",
   "mimetype": "text/x-python",
   "name": "python",
   "nbconvert_exporter": "python",
   "pygments_lexer": "ipython3",
   "version": "3.9.12"
  },
  "toc": {
   "base_numbering": 1,
   "nav_menu": {},
   "number_sections": true,
   "sideBar": true,
   "skip_h1_title": false,
   "title_cell": "Table of Contents",
   "title_sidebar": "Contents",
   "toc_cell": false,
   "toc_position": {},
   "toc_section_display": true,
   "toc_window_display": false
  },
  "varInspector": {
   "cols": {
    "lenName": 16,
    "lenType": 16,
    "lenVar": 40
   },
   "kernels_config": {
    "python": {
     "delete_cmd_postfix": "",
     "delete_cmd_prefix": "del ",
     "library": "var_list.py",
     "varRefreshCmd": "print(var_dic_list())"
    },
    "r": {
     "delete_cmd_postfix": ") ",
     "delete_cmd_prefix": "rm(",
     "library": "var_list.r",
     "varRefreshCmd": "cat(var_dic_list()) "
    }
   },
   "types_to_exclude": [
    "module",
    "function",
    "builtin_function_or_method",
    "instance",
    "_Feature"
   ],
   "window_display": false
  }
 },
 "nbformat": 4,
 "nbformat_minor": 1
}
