{
 "cells": [
  {
   "cell_type": "markdown",
   "id": "a95a7f40",
   "metadata": {},
   "source": [
    "### 보스턴 주택 가격 데이터 셋"
   ]
  },
  {
   "cell_type": "code",
   "execution_count": 2,
   "id": "77b90648",
   "metadata": {},
   "outputs": [],
   "source": [
    "import matplotlib.pyplot as plt\n",
    "import seaborn as sns\n",
    "import pandas as pd\n",
    "\n",
    "# 한글처리\n",
    "plt.rcParams['font.family'] = 'Malgun Gothic'\n",
    "# 음수처리\n",
    "plt.rcParams['axes.unicode_minus'] = False\n",
    "\n",
    "\n",
    "import warnings\n",
    "warnings.filterwarnings('ignore')"
   ]
  },
  {
   "cell_type": "code",
   "execution_count": 3,
   "id": "5bba6aa4",
   "metadata": {},
   "outputs": [],
   "source": [
    "from sklearn.datasets import load_boston\n",
    "\n",
    "boston = load_boston()"
   ]
  },
  {
   "cell_type": "code",
   "execution_count": 4,
   "id": "1d330ad2",
   "metadata": {},
   "outputs": [],
   "source": [
    "boston_df = pd.DataFrame(boston.data, columns=boston.feature_names)"
   ]
  },
  {
   "cell_type": "code",
   "execution_count": 5,
   "id": "e43a1be8",
   "metadata": {},
   "outputs": [],
   "source": [
    "boston_df['PRICE'] = boston.target"
   ]
  },
  {
   "cell_type": "code",
   "execution_count": 6,
   "id": "51d9741d",
   "metadata": {},
   "outputs": [
    {
     "data": {
      "text/html": [
       "<div>\n",
       "<style scoped>\n",
       "    .dataframe tbody tr th:only-of-type {\n",
       "        vertical-align: middle;\n",
       "    }\n",
       "\n",
       "    .dataframe tbody tr th {\n",
       "        vertical-align: top;\n",
       "    }\n",
       "\n",
       "    .dataframe thead th {\n",
       "        text-align: right;\n",
       "    }\n",
       "</style>\n",
       "<table border=\"1\" class=\"dataframe\">\n",
       "  <thead>\n",
       "    <tr style=\"text-align: right;\">\n",
       "      <th></th>\n",
       "      <th>CRIM</th>\n",
       "      <th>ZN</th>\n",
       "      <th>INDUS</th>\n",
       "      <th>CHAS</th>\n",
       "      <th>NOX</th>\n",
       "      <th>RM</th>\n",
       "      <th>AGE</th>\n",
       "      <th>DIS</th>\n",
       "      <th>RAD</th>\n",
       "      <th>TAX</th>\n",
       "      <th>PTRATIO</th>\n",
       "      <th>B</th>\n",
       "      <th>LSTAT</th>\n",
       "      <th>PRICE</th>\n",
       "    </tr>\n",
       "  </thead>\n",
       "  <tbody>\n",
       "    <tr>\n",
       "      <th>0</th>\n",
       "      <td>0.00632</td>\n",
       "      <td>18.0</td>\n",
       "      <td>2.31</td>\n",
       "      <td>0.0</td>\n",
       "      <td>0.538</td>\n",
       "      <td>6.575</td>\n",
       "      <td>65.2</td>\n",
       "      <td>4.0900</td>\n",
       "      <td>1.0</td>\n",
       "      <td>296.0</td>\n",
       "      <td>15.3</td>\n",
       "      <td>396.90</td>\n",
       "      <td>4.98</td>\n",
       "      <td>24.0</td>\n",
       "    </tr>\n",
       "    <tr>\n",
       "      <th>1</th>\n",
       "      <td>0.02731</td>\n",
       "      <td>0.0</td>\n",
       "      <td>7.07</td>\n",
       "      <td>0.0</td>\n",
       "      <td>0.469</td>\n",
       "      <td>6.421</td>\n",
       "      <td>78.9</td>\n",
       "      <td>4.9671</td>\n",
       "      <td>2.0</td>\n",
       "      <td>242.0</td>\n",
       "      <td>17.8</td>\n",
       "      <td>396.90</td>\n",
       "      <td>9.14</td>\n",
       "      <td>21.6</td>\n",
       "    </tr>\n",
       "    <tr>\n",
       "      <th>2</th>\n",
       "      <td>0.02729</td>\n",
       "      <td>0.0</td>\n",
       "      <td>7.07</td>\n",
       "      <td>0.0</td>\n",
       "      <td>0.469</td>\n",
       "      <td>7.185</td>\n",
       "      <td>61.1</td>\n",
       "      <td>4.9671</td>\n",
       "      <td>2.0</td>\n",
       "      <td>242.0</td>\n",
       "      <td>17.8</td>\n",
       "      <td>392.83</td>\n",
       "      <td>4.03</td>\n",
       "      <td>34.7</td>\n",
       "    </tr>\n",
       "    <tr>\n",
       "      <th>3</th>\n",
       "      <td>0.03237</td>\n",
       "      <td>0.0</td>\n",
       "      <td>2.18</td>\n",
       "      <td>0.0</td>\n",
       "      <td>0.458</td>\n",
       "      <td>6.998</td>\n",
       "      <td>45.8</td>\n",
       "      <td>6.0622</td>\n",
       "      <td>3.0</td>\n",
       "      <td>222.0</td>\n",
       "      <td>18.7</td>\n",
       "      <td>394.63</td>\n",
       "      <td>2.94</td>\n",
       "      <td>33.4</td>\n",
       "    </tr>\n",
       "    <tr>\n",
       "      <th>4</th>\n",
       "      <td>0.06905</td>\n",
       "      <td>0.0</td>\n",
       "      <td>2.18</td>\n",
       "      <td>0.0</td>\n",
       "      <td>0.458</td>\n",
       "      <td>7.147</td>\n",
       "      <td>54.2</td>\n",
       "      <td>6.0622</td>\n",
       "      <td>3.0</td>\n",
       "      <td>222.0</td>\n",
       "      <td>18.7</td>\n",
       "      <td>396.90</td>\n",
       "      <td>5.33</td>\n",
       "      <td>36.2</td>\n",
       "    </tr>\n",
       "  </tbody>\n",
       "</table>\n",
       "</div>"
      ],
      "text/plain": [
       "      CRIM    ZN  INDUS  CHAS    NOX     RM   AGE     DIS  RAD    TAX  \\\n",
       "0  0.00632  18.0   2.31   0.0  0.538  6.575  65.2  4.0900  1.0  296.0   \n",
       "1  0.02731   0.0   7.07   0.0  0.469  6.421  78.9  4.9671  2.0  242.0   \n",
       "2  0.02729   0.0   7.07   0.0  0.469  7.185  61.1  4.9671  2.0  242.0   \n",
       "3  0.03237   0.0   2.18   0.0  0.458  6.998  45.8  6.0622  3.0  222.0   \n",
       "4  0.06905   0.0   2.18   0.0  0.458  7.147  54.2  6.0622  3.0  222.0   \n",
       "\n",
       "   PTRATIO       B  LSTAT  PRICE  \n",
       "0     15.3  396.90   4.98   24.0  \n",
       "1     17.8  396.90   9.14   21.6  \n",
       "2     17.8  392.83   4.03   34.7  \n",
       "3     18.7  394.63   2.94   33.4  \n",
       "4     18.7  396.90   5.33   36.2  "
      ]
     },
     "execution_count": 6,
     "metadata": {},
     "output_type": "execute_result"
    }
   ],
   "source": [
    "boston_df.head()"
   ]
  },
  {
   "cell_type": "code",
   "execution_count": 7,
   "id": "d2d5ce68",
   "metadata": {},
   "outputs": [],
   "source": [
    "import statsmodels.api as sm"
   ]
  },
  {
   "cell_type": "code",
   "execution_count": 19,
   "id": "64dc995e",
   "metadata": {},
   "outputs": [],
   "source": [
    "X = boston_df[['CRIM','RM','LSTAT']]"
   ]
  },
  {
   "cell_type": "code",
   "execution_count": 20,
   "id": "bef26092",
   "metadata": {},
   "outputs": [],
   "source": [
    "X_data = sm.add_constant(X, has_constant=\"add\")"
   ]
  },
  {
   "cell_type": "code",
   "execution_count": 21,
   "id": "0ffd3091",
   "metadata": {},
   "outputs": [],
   "source": [
    "target = boston_df[['PRICE']]"
   ]
  },
  {
   "cell_type": "code",
   "execution_count": 22,
   "id": "21dbd7e5",
   "metadata": {},
   "outputs": [],
   "source": [
    "multi_model1 = sm.OLS(target,X_data) # 기본 선형 회귀 공식 결과 확인\n",
    "fitted_multi_model1 = multi_model1.fit()"
   ]
  },
  {
   "cell_type": "code",
   "execution_count": 23,
   "id": "557fb735",
   "metadata": {},
   "outputs": [
    {
     "data": {
      "text/html": [
       "<table class=\"simpletable\">\n",
       "<caption>OLS Regression Results</caption>\n",
       "<tr>\n",
       "  <th>Dep. Variable:</th>          <td>PRICE</td>      <th>  R-squared:         </th> <td>   0.646</td> \n",
       "</tr>\n",
       "<tr>\n",
       "  <th>Model:</th>                   <td>OLS</td>       <th>  Adj. R-squared:    </th> <td>   0.644</td> \n",
       "</tr>\n",
       "<tr>\n",
       "  <th>Method:</th>             <td>Least Squares</td>  <th>  F-statistic:       </th> <td>   305.2</td> \n",
       "</tr>\n",
       "<tr>\n",
       "  <th>Date:</th>             <td>Wed, 17 Aug 2022</td> <th>  Prob (F-statistic):</th> <td>1.01e-112</td>\n",
       "</tr>\n",
       "<tr>\n",
       "  <th>Time:</th>                 <td>11:05:38</td>     <th>  Log-Likelihood:    </th> <td> -1577.6</td> \n",
       "</tr>\n",
       "<tr>\n",
       "  <th>No. Observations:</th>      <td>   506</td>      <th>  AIC:               </th> <td>   3163.</td> \n",
       "</tr>\n",
       "<tr>\n",
       "  <th>Df Residuals:</th>          <td>   502</td>      <th>  BIC:               </th> <td>   3180.</td> \n",
       "</tr>\n",
       "<tr>\n",
       "  <th>Df Model:</th>              <td>     3</td>      <th>                     </th>     <td> </td>    \n",
       "</tr>\n",
       "<tr>\n",
       "  <th>Covariance Type:</th>      <td>nonrobust</td>    <th>                     </th>     <td> </td>    \n",
       "</tr>\n",
       "</table>\n",
       "<table class=\"simpletable\">\n",
       "<tr>\n",
       "    <td></td>       <th>coef</th>     <th>std err</th>      <th>t</th>      <th>P>|t|</th>  <th>[0.025</th>    <th>0.975]</th>  \n",
       "</tr>\n",
       "<tr>\n",
       "  <th>const</th> <td>   -2.5623</td> <td>    3.166</td> <td>   -0.809</td> <td> 0.419</td> <td>   -8.783</td> <td>    3.658</td>\n",
       "</tr>\n",
       "<tr>\n",
       "  <th>CRIM</th>  <td>   -0.1029</td> <td>    0.032</td> <td>   -3.215</td> <td> 0.001</td> <td>   -0.166</td> <td>   -0.040</td>\n",
       "</tr>\n",
       "<tr>\n",
       "  <th>RM</th>    <td>    5.2170</td> <td>    0.442</td> <td>   11.802</td> <td> 0.000</td> <td>    4.348</td> <td>    6.085</td>\n",
       "</tr>\n",
       "<tr>\n",
       "  <th>LSTAT</th> <td>   -0.5785</td> <td>    0.048</td> <td>  -12.135</td> <td> 0.000</td> <td>   -0.672</td> <td>   -0.485</td>\n",
       "</tr>\n",
       "</table>\n",
       "<table class=\"simpletable\">\n",
       "<tr>\n",
       "  <th>Omnibus:</th>       <td>171.754</td> <th>  Durbin-Watson:     </th> <td>   0.822</td> \n",
       "</tr>\n",
       "<tr>\n",
       "  <th>Prob(Omnibus):</th> <td> 0.000</td>  <th>  Jarque-Bera (JB):  </th> <td> 628.308</td> \n",
       "</tr>\n",
       "<tr>\n",
       "  <th>Skew:</th>          <td> 1.535</td>  <th>  Prob(JB):          </th> <td>3.67e-137</td>\n",
       "</tr>\n",
       "<tr>\n",
       "  <th>Kurtosis:</th>      <td> 7.514</td>  <th>  Cond. No.          </th> <td>    216.</td> \n",
       "</tr>\n",
       "</table><br/><br/>Notes:<br/>[1] Standard Errors assume that the covariance matrix of the errors is correctly specified."
      ],
      "text/plain": [
       "<class 'statsmodels.iolib.summary.Summary'>\n",
       "\"\"\"\n",
       "                            OLS Regression Results                            \n",
       "==============================================================================\n",
       "Dep. Variable:                  PRICE   R-squared:                       0.646\n",
       "Model:                            OLS   Adj. R-squared:                  0.644\n",
       "Method:                 Least Squares   F-statistic:                     305.2\n",
       "Date:                Wed, 17 Aug 2022   Prob (F-statistic):          1.01e-112\n",
       "Time:                        11:05:38   Log-Likelihood:                -1577.6\n",
       "No. Observations:                 506   AIC:                             3163.\n",
       "Df Residuals:                     502   BIC:                             3180.\n",
       "Df Model:                           3                                         \n",
       "Covariance Type:            nonrobust                                         \n",
       "==============================================================================\n",
       "                 coef    std err          t      P>|t|      [0.025      0.975]\n",
       "------------------------------------------------------------------------------\n",
       "const         -2.5623      3.166     -0.809      0.419      -8.783       3.658\n",
       "CRIM          -0.1029      0.032     -3.215      0.001      -0.166      -0.040\n",
       "RM             5.2170      0.442     11.802      0.000       4.348       6.085\n",
       "LSTAT         -0.5785      0.048    -12.135      0.000      -0.672      -0.485\n",
       "==============================================================================\n",
       "Omnibus:                      171.754   Durbin-Watson:                   0.822\n",
       "Prob(Omnibus):                  0.000   Jarque-Bera (JB):              628.308\n",
       "Skew:                           1.535   Prob(JB):                    3.67e-137\n",
       "Kurtosis:                       7.514   Cond. No.                         216.\n",
       "==============================================================================\n",
       "\n",
       "Notes:\n",
       "[1] Standard Errors assume that the covariance matrix of the errors is correctly specified.\n",
       "\"\"\""
      ]
     },
     "execution_count": 23,
     "metadata": {},
     "output_type": "execute_result"
    }
   ],
   "source": [
    "fitted_multi_model1.summary()\n",
    "# R-squared : 결정 계수 ( 독립변수가 예측 결과에 영향을 주는 지수 ) - https://m.blog.naver.com/tlrror9496/222055889079\n",
    "# coef : 회귀 계수\n",
    "    # const : 절편"
   ]
  },
  {
   "cell_type": "markdown",
   "id": "d0782ca6",
   "metadata": {},
   "source": [
    "- R-squared: 0.646 : 'CRIM','RM','LSTAT' 가 가격을 결정하는 점유율\n",
    "- CRIM\t-0.1029 : 가격이 1 단위 증가할 때 crim -0.10 감소\n",
    "- RM\t5.2170 : 가격이 1 단위 증가할 때 rm 5.2 증가\n",
    "- LSTAT\t-0.5785 : 가격이 1 단위 증가할 때 lstat -0.5 감소"
   ]
  },
  {
   "cell_type": "markdown",
   "id": "b515310d",
   "metadata": {},
   "source": [
    "#### 9개의 X (독립변수) 요소 추가"
   ]
  },
  {
   "cell_type": "code",
   "execution_count": 24,
   "id": "342b6c77",
   "metadata": {},
   "outputs": [],
   "source": [
    "X_data2 = boston_df[['CRIM','RM','LSTAT', 'B', 'TAX', 'AGE', 'ZN', 'NOX', 'INDUS']]\n",
    "\n",
    "# 상수항 추가 - 회귀 모델을 계산하기 편하게 하기 위함\n",
    "multi_model = X_data = sm.add_constant(X_data2, has_constant=\"add\")"
   ]
  },
  {
   "cell_type": "code",
   "execution_count": 25,
   "id": "dd54e7dc",
   "metadata": {},
   "outputs": [
    {
     "data": {
      "text/html": [
       "<div>\n",
       "<style scoped>\n",
       "    .dataframe tbody tr th:only-of-type {\n",
       "        vertical-align: middle;\n",
       "    }\n",
       "\n",
       "    .dataframe tbody tr th {\n",
       "        vertical-align: top;\n",
       "    }\n",
       "\n",
       "    .dataframe thead th {\n",
       "        text-align: right;\n",
       "    }\n",
       "</style>\n",
       "<table border=\"1\" class=\"dataframe\">\n",
       "  <thead>\n",
       "    <tr style=\"text-align: right;\">\n",
       "      <th></th>\n",
       "      <th>const</th>\n",
       "      <th>CRIM</th>\n",
       "      <th>RM</th>\n",
       "      <th>LSTAT</th>\n",
       "      <th>B</th>\n",
       "      <th>TAX</th>\n",
       "      <th>AGE</th>\n",
       "      <th>ZN</th>\n",
       "      <th>NOX</th>\n",
       "      <th>INDUS</th>\n",
       "    </tr>\n",
       "  </thead>\n",
       "  <tbody>\n",
       "    <tr>\n",
       "      <th>0</th>\n",
       "      <td>1.0</td>\n",
       "      <td>0.00632</td>\n",
       "      <td>6.575</td>\n",
       "      <td>4.98</td>\n",
       "      <td>396.90</td>\n",
       "      <td>296.0</td>\n",
       "      <td>65.2</td>\n",
       "      <td>18.0</td>\n",
       "      <td>0.538</td>\n",
       "      <td>2.31</td>\n",
       "    </tr>\n",
       "    <tr>\n",
       "      <th>1</th>\n",
       "      <td>1.0</td>\n",
       "      <td>0.02731</td>\n",
       "      <td>6.421</td>\n",
       "      <td>9.14</td>\n",
       "      <td>396.90</td>\n",
       "      <td>242.0</td>\n",
       "      <td>78.9</td>\n",
       "      <td>0.0</td>\n",
       "      <td>0.469</td>\n",
       "      <td>7.07</td>\n",
       "    </tr>\n",
       "    <tr>\n",
       "      <th>2</th>\n",
       "      <td>1.0</td>\n",
       "      <td>0.02729</td>\n",
       "      <td>7.185</td>\n",
       "      <td>4.03</td>\n",
       "      <td>392.83</td>\n",
       "      <td>242.0</td>\n",
       "      <td>61.1</td>\n",
       "      <td>0.0</td>\n",
       "      <td>0.469</td>\n",
       "      <td>7.07</td>\n",
       "    </tr>\n",
       "    <tr>\n",
       "      <th>3</th>\n",
       "      <td>1.0</td>\n",
       "      <td>0.03237</td>\n",
       "      <td>6.998</td>\n",
       "      <td>2.94</td>\n",
       "      <td>394.63</td>\n",
       "      <td>222.0</td>\n",
       "      <td>45.8</td>\n",
       "      <td>0.0</td>\n",
       "      <td>0.458</td>\n",
       "      <td>2.18</td>\n",
       "    </tr>\n",
       "    <tr>\n",
       "      <th>4</th>\n",
       "      <td>1.0</td>\n",
       "      <td>0.06905</td>\n",
       "      <td>7.147</td>\n",
       "      <td>5.33</td>\n",
       "      <td>396.90</td>\n",
       "      <td>222.0</td>\n",
       "      <td>54.2</td>\n",
       "      <td>0.0</td>\n",
       "      <td>0.458</td>\n",
       "      <td>2.18</td>\n",
       "    </tr>\n",
       "    <tr>\n",
       "      <th>...</th>\n",
       "      <td>...</td>\n",
       "      <td>...</td>\n",
       "      <td>...</td>\n",
       "      <td>...</td>\n",
       "      <td>...</td>\n",
       "      <td>...</td>\n",
       "      <td>...</td>\n",
       "      <td>...</td>\n",
       "      <td>...</td>\n",
       "      <td>...</td>\n",
       "    </tr>\n",
       "    <tr>\n",
       "      <th>501</th>\n",
       "      <td>1.0</td>\n",
       "      <td>0.06263</td>\n",
       "      <td>6.593</td>\n",
       "      <td>9.67</td>\n",
       "      <td>391.99</td>\n",
       "      <td>273.0</td>\n",
       "      <td>69.1</td>\n",
       "      <td>0.0</td>\n",
       "      <td>0.573</td>\n",
       "      <td>11.93</td>\n",
       "    </tr>\n",
       "    <tr>\n",
       "      <th>502</th>\n",
       "      <td>1.0</td>\n",
       "      <td>0.04527</td>\n",
       "      <td>6.120</td>\n",
       "      <td>9.08</td>\n",
       "      <td>396.90</td>\n",
       "      <td>273.0</td>\n",
       "      <td>76.7</td>\n",
       "      <td>0.0</td>\n",
       "      <td>0.573</td>\n",
       "      <td>11.93</td>\n",
       "    </tr>\n",
       "    <tr>\n",
       "      <th>503</th>\n",
       "      <td>1.0</td>\n",
       "      <td>0.06076</td>\n",
       "      <td>6.976</td>\n",
       "      <td>5.64</td>\n",
       "      <td>396.90</td>\n",
       "      <td>273.0</td>\n",
       "      <td>91.0</td>\n",
       "      <td>0.0</td>\n",
       "      <td>0.573</td>\n",
       "      <td>11.93</td>\n",
       "    </tr>\n",
       "    <tr>\n",
       "      <th>504</th>\n",
       "      <td>1.0</td>\n",
       "      <td>0.10959</td>\n",
       "      <td>6.794</td>\n",
       "      <td>6.48</td>\n",
       "      <td>393.45</td>\n",
       "      <td>273.0</td>\n",
       "      <td>89.3</td>\n",
       "      <td>0.0</td>\n",
       "      <td>0.573</td>\n",
       "      <td>11.93</td>\n",
       "    </tr>\n",
       "    <tr>\n",
       "      <th>505</th>\n",
       "      <td>1.0</td>\n",
       "      <td>0.04741</td>\n",
       "      <td>6.030</td>\n",
       "      <td>7.88</td>\n",
       "      <td>396.90</td>\n",
       "      <td>273.0</td>\n",
       "      <td>80.8</td>\n",
       "      <td>0.0</td>\n",
       "      <td>0.573</td>\n",
       "      <td>11.93</td>\n",
       "    </tr>\n",
       "  </tbody>\n",
       "</table>\n",
       "<p>506 rows × 10 columns</p>\n",
       "</div>"
      ],
      "text/plain": [
       "     const     CRIM     RM  LSTAT       B    TAX   AGE    ZN    NOX  INDUS\n",
       "0      1.0  0.00632  6.575   4.98  396.90  296.0  65.2  18.0  0.538   2.31\n",
       "1      1.0  0.02731  6.421   9.14  396.90  242.0  78.9   0.0  0.469   7.07\n",
       "2      1.0  0.02729  7.185   4.03  392.83  242.0  61.1   0.0  0.469   7.07\n",
       "3      1.0  0.03237  6.998   2.94  394.63  222.0  45.8   0.0  0.458   2.18\n",
       "4      1.0  0.06905  7.147   5.33  396.90  222.0  54.2   0.0  0.458   2.18\n",
       "..     ...      ...    ...    ...     ...    ...   ...   ...    ...    ...\n",
       "501    1.0  0.06263  6.593   9.67  391.99  273.0  69.1   0.0  0.573  11.93\n",
       "502    1.0  0.04527  6.120   9.08  396.90  273.0  76.7   0.0  0.573  11.93\n",
       "503    1.0  0.06076  6.976   5.64  396.90  273.0  91.0   0.0  0.573  11.93\n",
       "504    1.0  0.10959  6.794   6.48  393.45  273.0  89.3   0.0  0.573  11.93\n",
       "505    1.0  0.04741  6.030   7.88  396.90  273.0  80.8   0.0  0.573  11.93\n",
       "\n",
       "[506 rows x 10 columns]"
      ]
     },
     "execution_count": 25,
     "metadata": {},
     "output_type": "execute_result"
    }
   ],
   "source": [
    "multi_model"
   ]
  },
  {
   "cell_type": "code",
   "execution_count": 26,
   "id": "fca9c6c5",
   "metadata": {},
   "outputs": [],
   "source": [
    "# 선형모델\n",
    "multi_model = sm.OLS(target, multi_model)\n",
    "\n",
    "# 학습\n",
    "fitted_multi_model2 = multi_model.fit()"
   ]
  },
  {
   "cell_type": "code",
   "execution_count": 27,
   "id": "0fea5feb",
   "metadata": {},
   "outputs": [
    {
     "data": {
      "text/html": [
       "<table class=\"simpletable\">\n",
       "<caption>OLS Regression Results</caption>\n",
       "<tr>\n",
       "  <th>Dep. Variable:</th>          <td>PRICE</td>      <th>  R-squared:         </th> <td>   0.662</td> \n",
       "</tr>\n",
       "<tr>\n",
       "  <th>Model:</th>                   <td>OLS</td>       <th>  Adj. R-squared:    </th> <td>   0.656</td> \n",
       "</tr>\n",
       "<tr>\n",
       "  <th>Method:</th>             <td>Least Squares</td>  <th>  F-statistic:       </th> <td>   108.1</td> \n",
       "</tr>\n",
       "<tr>\n",
       "  <th>Date:</th>             <td>Wed, 17 Aug 2022</td> <th>  Prob (F-statistic):</th> <td>5.76e-111</td>\n",
       "</tr>\n",
       "<tr>\n",
       "  <th>Time:</th>                 <td>11:05:44</td>     <th>  Log-Likelihood:    </th> <td> -1565.5</td> \n",
       "</tr>\n",
       "<tr>\n",
       "  <th>No. Observations:</th>      <td>   506</td>      <th>  AIC:               </th> <td>   3151.</td> \n",
       "</tr>\n",
       "<tr>\n",
       "  <th>Df Residuals:</th>          <td>   496</td>      <th>  BIC:               </th> <td>   3193.</td> \n",
       "</tr>\n",
       "<tr>\n",
       "  <th>Df Model:</th>              <td>     9</td>      <th>                     </th>     <td> </td>    \n",
       "</tr>\n",
       "<tr>\n",
       "  <th>Covariance Type:</th>      <td>nonrobust</td>    <th>                     </th>     <td> </td>    \n",
       "</tr>\n",
       "</table>\n",
       "<table class=\"simpletable\">\n",
       "<tr>\n",
       "    <td></td>       <th>coef</th>     <th>std err</th>      <th>t</th>      <th>P>|t|</th>  <th>[0.025</th>    <th>0.975]</th>  \n",
       "</tr>\n",
       "<tr>\n",
       "  <th>const</th> <td>   -7.1088</td> <td>    3.828</td> <td>   -1.857</td> <td> 0.064</td> <td>  -14.631</td> <td>    0.413</td>\n",
       "</tr>\n",
       "<tr>\n",
       "  <th>CRIM</th>  <td>   -0.0453</td> <td>    0.036</td> <td>   -1.269</td> <td> 0.205</td> <td>   -0.115</td> <td>    0.025</td>\n",
       "</tr>\n",
       "<tr>\n",
       "  <th>RM</th>    <td>    5.0922</td> <td>    0.458</td> <td>   11.109</td> <td> 0.000</td> <td>    4.192</td> <td>    5.993</td>\n",
       "</tr>\n",
       "<tr>\n",
       "  <th>LSTAT</th> <td>   -0.5651</td> <td>    0.057</td> <td>   -9.854</td> <td> 0.000</td> <td>   -0.678</td> <td>   -0.452</td>\n",
       "</tr>\n",
       "<tr>\n",
       "  <th>B</th>     <td>    0.0090</td> <td>    0.003</td> <td>    2.952</td> <td> 0.003</td> <td>    0.003</td> <td>    0.015</td>\n",
       "</tr>\n",
       "<tr>\n",
       "  <th>TAX</th>   <td>   -0.0060</td> <td>    0.002</td> <td>   -2.480</td> <td> 0.013</td> <td>   -0.011</td> <td>   -0.001</td>\n",
       "</tr>\n",
       "<tr>\n",
       "  <th>AGE</th>   <td>    0.0236</td> <td>    0.014</td> <td>    1.653</td> <td> 0.099</td> <td>   -0.004</td> <td>    0.052</td>\n",
       "</tr>\n",
       "<tr>\n",
       "  <th>ZN</th>    <td>    0.0294</td> <td>    0.013</td> <td>    2.198</td> <td> 0.028</td> <td>    0.003</td> <td>    0.056</td>\n",
       "</tr>\n",
       "<tr>\n",
       "  <th>NOX</th>   <td>    3.4838</td> <td>    3.833</td> <td>    0.909</td> <td> 0.364</td> <td>   -4.047</td> <td>   11.014</td>\n",
       "</tr>\n",
       "<tr>\n",
       "  <th>INDUS</th> <td>    0.0293</td> <td>    0.065</td> <td>    0.449</td> <td> 0.654</td> <td>   -0.099</td> <td>    0.157</td>\n",
       "</tr>\n",
       "</table>\n",
       "<table class=\"simpletable\">\n",
       "<tr>\n",
       "  <th>Omnibus:</th>       <td>195.490</td> <th>  Durbin-Watson:     </th> <td>   0.848</td> \n",
       "</tr>\n",
       "<tr>\n",
       "  <th>Prob(Omnibus):</th> <td> 0.000</td>  <th>  Jarque-Bera (JB):  </th> <td> 872.873</td> \n",
       "</tr>\n",
       "<tr>\n",
       "  <th>Skew:</th>          <td> 1.686</td>  <th>  Prob(JB):          </th> <td>2.87e-190</td>\n",
       "</tr>\n",
       "<tr>\n",
       "  <th>Kurtosis:</th>      <td> 8.479</td>  <th>  Cond. No.          </th> <td>1.04e+04</td> \n",
       "</tr>\n",
       "</table><br/><br/>Notes:<br/>[1] Standard Errors assume that the covariance matrix of the errors is correctly specified.<br/>[2] The condition number is large, 1.04e+04. This might indicate that there are<br/>strong multicollinearity or other numerical problems."
      ],
      "text/plain": [
       "<class 'statsmodels.iolib.summary.Summary'>\n",
       "\"\"\"\n",
       "                            OLS Regression Results                            \n",
       "==============================================================================\n",
       "Dep. Variable:                  PRICE   R-squared:                       0.662\n",
       "Model:                            OLS   Adj. R-squared:                  0.656\n",
       "Method:                 Least Squares   F-statistic:                     108.1\n",
       "Date:                Wed, 17 Aug 2022   Prob (F-statistic):          5.76e-111\n",
       "Time:                        11:05:44   Log-Likelihood:                -1565.5\n",
       "No. Observations:                 506   AIC:                             3151.\n",
       "Df Residuals:                     496   BIC:                             3193.\n",
       "Df Model:                           9                                         \n",
       "Covariance Type:            nonrobust                                         \n",
       "==============================================================================\n",
       "                 coef    std err          t      P>|t|      [0.025      0.975]\n",
       "------------------------------------------------------------------------------\n",
       "const         -7.1088      3.828     -1.857      0.064     -14.631       0.413\n",
       "CRIM          -0.0453      0.036     -1.269      0.205      -0.115       0.025\n",
       "RM             5.0922      0.458     11.109      0.000       4.192       5.993\n",
       "LSTAT         -0.5651      0.057     -9.854      0.000      -0.678      -0.452\n",
       "B              0.0090      0.003      2.952      0.003       0.003       0.015\n",
       "TAX           -0.0060      0.002     -2.480      0.013      -0.011      -0.001\n",
       "AGE            0.0236      0.014      1.653      0.099      -0.004       0.052\n",
       "ZN             0.0294      0.013      2.198      0.028       0.003       0.056\n",
       "NOX            3.4838      3.833      0.909      0.364      -4.047      11.014\n",
       "INDUS          0.0293      0.065      0.449      0.654      -0.099       0.157\n",
       "==============================================================================\n",
       "Omnibus:                      195.490   Durbin-Watson:                   0.848\n",
       "Prob(Omnibus):                  0.000   Jarque-Bera (JB):              872.873\n",
       "Skew:                           1.686   Prob(JB):                    2.87e-190\n",
       "Kurtosis:                       8.479   Cond. No.                     1.04e+04\n",
       "==============================================================================\n",
       "\n",
       "Notes:\n",
       "[1] Standard Errors assume that the covariance matrix of the errors is correctly specified.\n",
       "[2] The condition number is large, 1.04e+04. This might indicate that there are\n",
       "strong multicollinearity or other numerical problems.\n",
       "\"\"\""
      ]
     },
     "execution_count": 27,
     "metadata": {},
     "output_type": "execute_result"
    }
   ],
   "source": [
    "# 학습결과 확인\n",
    "fitted_multi_model2.summary()"
   ]
  },
  {
   "cell_type": "markdown",
   "id": "d793a444",
   "metadata": {},
   "source": [
    "- P>|t| : 0.00001 보다 작게 유지하는 것이 좋음 ( 작을수록 좋은 데이터 )"
   ]
  },
  {
   "cell_type": "code",
   "execution_count": 28,
   "id": "2fa2bef8",
   "metadata": {},
   "outputs": [
    {
     "data": {
      "text/plain": [
       "const   -2.562251\n",
       "CRIM    -0.102941\n",
       "RM       5.216955\n",
       "LSTAT   -0.578486\n",
       "dtype: float64"
      ]
     },
     "execution_count": 28,
     "metadata": {},
     "output_type": "execute_result"
    }
   ],
   "source": [
    "fitted_multi_model1.params"
   ]
  },
  {
   "cell_type": "code",
   "execution_count": 29,
   "id": "982fe218",
   "metadata": {},
   "outputs": [
    {
     "data": {
      "text/plain": [
       "const   -7.108827\n",
       "CRIM    -0.045293\n",
       "RM       5.092238\n",
       "LSTAT   -0.565133\n",
       "B        0.008974\n",
       "TAX     -0.006025\n",
       "AGE      0.023619\n",
       "ZN       0.029377\n",
       "NOX      3.483832\n",
       "INDUS    0.029270\n",
       "dtype: float64"
      ]
     },
     "execution_count": 29,
     "metadata": {},
     "output_type": "execute_result"
    }
   ],
   "source": [
    "fitted_multi_model2.params"
   ]
  },
  {
   "cell_type": "markdown",
   "id": "c3ee6280",
   "metadata": {},
   "source": [
    "- R-squared (0.662) :[['CRIM','RM','LSTAT', 'B', 'TAX', 'AGE', 'ZN', 'NOX', 'INDUS']] 독립 변수들이 가격에 영향을 미치는 점유율\n",
    "    - 3개의 독립변수 ( 0.646 ), 9개의 독립변수 ( 0.662 ) 이기 때문에, 효율적인 측면에서 3개의 독립변수가 더 좋음"
   ]
  },
  {
   "cell_type": "markdown",
   "id": "e94a5edd",
   "metadata": {},
   "source": [
    "### 다중공선성 - 상관계수 / 산점도(Scatter / HeatMap ) 으로 확인"
   ]
  },
  {
   "cell_type": "code",
   "execution_count": 30,
   "id": "d960639b",
   "metadata": {},
   "outputs": [
    {
     "data": {
      "text/html": [
       "<div>\n",
       "<style scoped>\n",
       "    .dataframe tbody tr th:only-of-type {\n",
       "        vertical-align: middle;\n",
       "    }\n",
       "\n",
       "    .dataframe tbody tr th {\n",
       "        vertical-align: top;\n",
       "    }\n",
       "\n",
       "    .dataframe thead th {\n",
       "        text-align: right;\n",
       "    }\n",
       "</style>\n",
       "<table border=\"1\" class=\"dataframe\">\n",
       "  <thead>\n",
       "    <tr style=\"text-align: right;\">\n",
       "      <th></th>\n",
       "      <th>CRIM</th>\n",
       "      <th>RM</th>\n",
       "      <th>LSTAT</th>\n",
       "      <th>B</th>\n",
       "      <th>TAX</th>\n",
       "      <th>AGE</th>\n",
       "      <th>ZN</th>\n",
       "      <th>NOX</th>\n",
       "      <th>INDUS</th>\n",
       "    </tr>\n",
       "  </thead>\n",
       "  <tbody>\n",
       "    <tr>\n",
       "      <th>CRIM</th>\n",
       "      <td>1.000000</td>\n",
       "      <td>-0.219247</td>\n",
       "      <td>0.455621</td>\n",
       "      <td>-0.385064</td>\n",
       "      <td>0.582764</td>\n",
       "      <td>0.352734</td>\n",
       "      <td>-0.200469</td>\n",
       "      <td>0.420972</td>\n",
       "      <td>0.406583</td>\n",
       "    </tr>\n",
       "    <tr>\n",
       "      <th>RM</th>\n",
       "      <td>-0.219247</td>\n",
       "      <td>1.000000</td>\n",
       "      <td>-0.613808</td>\n",
       "      <td>0.128069</td>\n",
       "      <td>-0.292048</td>\n",
       "      <td>-0.240265</td>\n",
       "      <td>0.311991</td>\n",
       "      <td>-0.302188</td>\n",
       "      <td>-0.391676</td>\n",
       "    </tr>\n",
       "    <tr>\n",
       "      <th>LSTAT</th>\n",
       "      <td>0.455621</td>\n",
       "      <td>-0.613808</td>\n",
       "      <td>1.000000</td>\n",
       "      <td>-0.366087</td>\n",
       "      <td>0.543993</td>\n",
       "      <td>0.602339</td>\n",
       "      <td>-0.412995</td>\n",
       "      <td>0.590879</td>\n",
       "      <td>0.603800</td>\n",
       "    </tr>\n",
       "    <tr>\n",
       "      <th>B</th>\n",
       "      <td>-0.385064</td>\n",
       "      <td>0.128069</td>\n",
       "      <td>-0.366087</td>\n",
       "      <td>1.000000</td>\n",
       "      <td>-0.441808</td>\n",
       "      <td>-0.273534</td>\n",
       "      <td>0.175520</td>\n",
       "      <td>-0.380051</td>\n",
       "      <td>-0.356977</td>\n",
       "    </tr>\n",
       "    <tr>\n",
       "      <th>TAX</th>\n",
       "      <td>0.582764</td>\n",
       "      <td>-0.292048</td>\n",
       "      <td>0.543993</td>\n",
       "      <td>-0.441808</td>\n",
       "      <td>1.000000</td>\n",
       "      <td>0.506456</td>\n",
       "      <td>-0.314563</td>\n",
       "      <td>0.668023</td>\n",
       "      <td>0.720760</td>\n",
       "    </tr>\n",
       "    <tr>\n",
       "      <th>AGE</th>\n",
       "      <td>0.352734</td>\n",
       "      <td>-0.240265</td>\n",
       "      <td>0.602339</td>\n",
       "      <td>-0.273534</td>\n",
       "      <td>0.506456</td>\n",
       "      <td>1.000000</td>\n",
       "      <td>-0.569537</td>\n",
       "      <td>0.731470</td>\n",
       "      <td>0.644779</td>\n",
       "    </tr>\n",
       "    <tr>\n",
       "      <th>ZN</th>\n",
       "      <td>-0.200469</td>\n",
       "      <td>0.311991</td>\n",
       "      <td>-0.412995</td>\n",
       "      <td>0.175520</td>\n",
       "      <td>-0.314563</td>\n",
       "      <td>-0.569537</td>\n",
       "      <td>1.000000</td>\n",
       "      <td>-0.516604</td>\n",
       "      <td>-0.533828</td>\n",
       "    </tr>\n",
       "    <tr>\n",
       "      <th>NOX</th>\n",
       "      <td>0.420972</td>\n",
       "      <td>-0.302188</td>\n",
       "      <td>0.590879</td>\n",
       "      <td>-0.380051</td>\n",
       "      <td>0.668023</td>\n",
       "      <td>0.731470</td>\n",
       "      <td>-0.516604</td>\n",
       "      <td>1.000000</td>\n",
       "      <td>0.763651</td>\n",
       "    </tr>\n",
       "    <tr>\n",
       "      <th>INDUS</th>\n",
       "      <td>0.406583</td>\n",
       "      <td>-0.391676</td>\n",
       "      <td>0.603800</td>\n",
       "      <td>-0.356977</td>\n",
       "      <td>0.720760</td>\n",
       "      <td>0.644779</td>\n",
       "      <td>-0.533828</td>\n",
       "      <td>0.763651</td>\n",
       "      <td>1.000000</td>\n",
       "    </tr>\n",
       "  </tbody>\n",
       "</table>\n",
       "</div>"
      ],
      "text/plain": [
       "           CRIM        RM     LSTAT         B       TAX       AGE        ZN  \\\n",
       "CRIM   1.000000 -0.219247  0.455621 -0.385064  0.582764  0.352734 -0.200469   \n",
       "RM    -0.219247  1.000000 -0.613808  0.128069 -0.292048 -0.240265  0.311991   \n",
       "LSTAT  0.455621 -0.613808  1.000000 -0.366087  0.543993  0.602339 -0.412995   \n",
       "B     -0.385064  0.128069 -0.366087  1.000000 -0.441808 -0.273534  0.175520   \n",
       "TAX    0.582764 -0.292048  0.543993 -0.441808  1.000000  0.506456 -0.314563   \n",
       "AGE    0.352734 -0.240265  0.602339 -0.273534  0.506456  1.000000 -0.569537   \n",
       "ZN    -0.200469  0.311991 -0.412995  0.175520 -0.314563 -0.569537  1.000000   \n",
       "NOX    0.420972 -0.302188  0.590879 -0.380051  0.668023  0.731470 -0.516604   \n",
       "INDUS  0.406583 -0.391676  0.603800 -0.356977  0.720760  0.644779 -0.533828   \n",
       "\n",
       "            NOX     INDUS  \n",
       "CRIM   0.420972  0.406583  \n",
       "RM    -0.302188 -0.391676  \n",
       "LSTAT  0.590879  0.603800  \n",
       "B     -0.380051 -0.356977  \n",
       "TAX    0.668023  0.720760  \n",
       "AGE    0.731470  0.644779  \n",
       "ZN    -0.516604 -0.533828  \n",
       "NOX    1.000000  0.763651  \n",
       "INDUS  0.763651  1.000000  "
      ]
     },
     "execution_count": 30,
     "metadata": {},
     "output_type": "execute_result"
    }
   ],
   "source": [
    "X_data2.corr()"
   ]
  },
  {
   "cell_type": "code",
   "execution_count": 31,
   "id": "f118810c",
   "metadata": {
    "scrolled": true
   },
   "outputs": [
    {
     "data": {
      "text/plain": [
       "<AxesSubplot:>"
      ]
     },
     "execution_count": 31,
     "metadata": {},
     "output_type": "execute_result"
    },
    {
     "data": {
      "image/png": "[encoded data removed]",
      "text/plain": [
       "<Figure size 432x288 with 2 Axes>"
      ]
     },
     "metadata": {
      "needs_background": "light"
     },
     "output_type": "display_data"
    }
   ],
   "source": [
    "sns.heatmap(X_data2.corr(), annot=True)"
   ]
  },
  {
   "cell_type": "markdown",
   "id": "6f9dad23",
   "metadata": {},
   "source": [
    "### 다중공선성 확인 결과 NOX 변수의 상관계수가 문제가 있어 nox 변수 제거 후 모델 재 생성"
   ]
  },
  {
   "cell_type": "code",
   "execution_count": 32,
   "id": "ef5dfaa4",
   "metadata": {},
   "outputs": [],
   "source": [
    "X_data3 = X_data2.drop(columns='NOX')"
   ]
  },
  {
   "cell_type": "code",
   "execution_count": 33,
   "id": "8a8f72dc",
   "metadata": {},
   "outputs": [],
   "source": [
    "# 상수항 추가 - 회귀 모델을 계산하기 편하게 하기 위함\n",
    "multi_model3 = X_data = sm.add_constant(X_data3, has_constant=\"add\")\n",
    "\n",
    "# 선형모델\n",
    "multi_model3 = sm.OLS(target, multi_model3)\n",
    "\n",
    "# 학습\n",
    "fitted_multi_model3 = multi_model3.fit()"
   ]
  },
  {
   "cell_type": "code",
   "execution_count": 34,
   "id": "95a79926",
   "metadata": {},
   "outputs": [
    {
     "data": {
      "text/html": [
       "<table class=\"simpletable\">\n",
       "<caption>OLS Regression Results</caption>\n",
       "<tr>\n",
       "  <th>Dep. Variable:</th>          <td>PRICE</td>      <th>  R-squared:         </th> <td>   0.662</td> \n",
       "</tr>\n",
       "<tr>\n",
       "  <th>Model:</th>                   <td>OLS</td>       <th>  Adj. R-squared:    </th> <td>   0.656</td> \n",
       "</tr>\n",
       "<tr>\n",
       "  <th>Method:</th>             <td>Least Squares</td>  <th>  F-statistic:       </th> <td>   121.6</td> \n",
       "</tr>\n",
       "<tr>\n",
       "  <th>Date:</th>             <td>Wed, 17 Aug 2022</td> <th>  Prob (F-statistic):</th> <td>7.62e-112</td>\n",
       "</tr>\n",
       "<tr>\n",
       "  <th>Time:</th>                 <td>11:34:59</td>     <th>  Log-Likelihood:    </th> <td> -1566.0</td> \n",
       "</tr>\n",
       "<tr>\n",
       "  <th>No. Observations:</th>      <td>   506</td>      <th>  AIC:               </th> <td>   3150.</td> \n",
       "</tr>\n",
       "<tr>\n",
       "  <th>Df Residuals:</th>          <td>   497</td>      <th>  BIC:               </th> <td>   3188.</td> \n",
       "</tr>\n",
       "<tr>\n",
       "  <th>Df Model:</th>              <td>     8</td>      <th>                     </th>     <td> </td>    \n",
       "</tr>\n",
       "<tr>\n",
       "  <th>Covariance Type:</th>      <td>nonrobust</td>    <th>                     </th>     <td> </td>    \n",
       "</tr>\n",
       "</table>\n",
       "<table class=\"simpletable\">\n",
       "<tr>\n",
       "    <td></td>       <th>coef</th>     <th>std err</th>      <th>t</th>      <th>P>|t|</th>  <th>[0.025</th>    <th>0.975]</th>  \n",
       "</tr>\n",
       "<tr>\n",
       "  <th>const</th> <td>   -5.9162</td> <td>    3.596</td> <td>   -1.645</td> <td> 0.101</td> <td>  -12.981</td> <td>    1.149</td>\n",
       "</tr>\n",
       "<tr>\n",
       "  <th>CRIM</th>  <td>   -0.0451</td> <td>    0.036</td> <td>   -1.264</td> <td> 0.207</td> <td>   -0.115</td> <td>    0.025</td>\n",
       "</tr>\n",
       "<tr>\n",
       "  <th>RM</th>    <td>    5.1027</td> <td>    0.458</td> <td>   11.138</td> <td> 0.000</td> <td>    4.203</td> <td>    6.003</td>\n",
       "</tr>\n",
       "<tr>\n",
       "  <th>LSTAT</th> <td>   -0.5628</td> <td>    0.057</td> <td>   -9.825</td> <td> 0.000</td> <td>   -0.675</td> <td>   -0.450</td>\n",
       "</tr>\n",
       "<tr>\n",
       "  <th>B</th>     <td>    0.0087</td> <td>    0.003</td> <td>    2.880</td> <td> 0.004</td> <td>    0.003</td> <td>    0.015</td>\n",
       "</tr>\n",
       "<tr>\n",
       "  <th>TAX</th>   <td>   -0.0056</td> <td>    0.002</td> <td>   -2.344</td> <td> 0.019</td> <td>   -0.010</td> <td>   -0.001</td>\n",
       "</tr>\n",
       "<tr>\n",
       "  <th>AGE</th>   <td>    0.0287</td> <td>    0.013</td> <td>    2.179</td> <td> 0.030</td> <td>    0.003</td> <td>    0.055</td>\n",
       "</tr>\n",
       "<tr>\n",
       "  <th>ZN</th>    <td>    0.0284</td> <td>    0.013</td> <td>    2.130</td> <td> 0.034</td> <td>    0.002</td> <td>    0.055</td>\n",
       "</tr>\n",
       "<tr>\n",
       "  <th>INDUS</th> <td>    0.0486</td> <td>    0.062</td> <td>    0.789</td> <td> 0.431</td> <td>   -0.072</td> <td>    0.170</td>\n",
       "</tr>\n",
       "</table>\n",
       "<table class=\"simpletable\">\n",
       "<tr>\n",
       "  <th>Omnibus:</th>       <td>193.530</td> <th>  Durbin-Watson:     </th> <td>   0.849</td> \n",
       "</tr>\n",
       "<tr>\n",
       "  <th>Prob(Omnibus):</th> <td> 0.000</td>  <th>  Jarque-Bera (JB):  </th> <td> 843.773</td> \n",
       "</tr>\n",
       "<tr>\n",
       "  <th>Skew:</th>          <td> 1.677</td>  <th>  Prob(JB):          </th> <td>5.98e-184</td>\n",
       "</tr>\n",
       "<tr>\n",
       "  <th>Kurtosis:</th>      <td> 8.364</td>  <th>  Cond. No.          </th> <td>8.44e+03</td> \n",
       "</tr>\n",
       "</table><br/><br/>Notes:<br/>[1] Standard Errors assume that the covariance matrix of the errors is correctly specified.<br/>[2] The condition number is large, 8.44e+03. This might indicate that there are<br/>strong multicollinearity or other numerical problems."
      ],
      "text/plain": [
       "<class 'statsmodels.iolib.summary.Summary'>\n",
       "\"\"\"\n",
       "                            OLS Regression Results                            \n",
       "==============================================================================\n",
       "Dep. Variable:                  PRICE   R-squared:                       0.662\n",
       "Model:                            OLS   Adj. R-squared:                  0.656\n",
       "Method:                 Least Squares   F-statistic:                     121.6\n",
       "Date:                Wed, 17 Aug 2022   Prob (F-statistic):          7.62e-112\n",
       "Time:                        11:34:59   Log-Likelihood:                -1566.0\n",
       "No. Observations:                 506   AIC:                             3150.\n",
       "Df Residuals:                     497   BIC:                             3188.\n",
       "Df Model:                           8                                         \n",
       "Covariance Type:            nonrobust                                         \n",
       "==============================================================================\n",
       "                 coef    std err          t      P>|t|      [0.025      0.975]\n",
       "------------------------------------------------------------------------------\n",
       "const         -5.9162      3.596     -1.645      0.101     -12.981       1.149\n",
       "CRIM          -0.0451      0.036     -1.264      0.207      -0.115       0.025\n",
       "RM             5.1027      0.458     11.138      0.000       4.203       6.003\n",
       "LSTAT         -0.5628      0.057     -9.825      0.000      -0.675      -0.450\n",
       "B              0.0087      0.003      2.880      0.004       0.003       0.015\n",
       "TAX           -0.0056      0.002     -2.344      0.019      -0.010      -0.001\n",
       "AGE            0.0287      0.013      2.179      0.030       0.003       0.055\n",
       "ZN             0.0284      0.013      2.130      0.034       0.002       0.055\n",
       "INDUS          0.0486      0.062      0.789      0.431      -0.072       0.170\n",
       "==============================================================================\n",
       "Omnibus:                      193.530   Durbin-Watson:                   0.849\n",
       "Prob(Omnibus):                  0.000   Jarque-Bera (JB):              843.773\n",
       "Skew:                           1.677   Prob(JB):                    5.98e-184\n",
       "Kurtosis:                       8.364   Cond. No.                     8.44e+03\n",
       "==============================================================================\n",
       "\n",
       "Notes:\n",
       "[1] Standard Errors assume that the covariance matrix of the errors is correctly specified.\n",
       "[2] The condition number is large, 8.44e+03. This might indicate that there are\n",
       "strong multicollinearity or other numerical problems.\n",
       "\"\"\""
      ]
     },
     "execution_count": 34,
     "metadata": {},
     "output_type": "execute_result"
    }
   ],
   "source": [
    "fitted_multi_model3.summary()"
   ]
  },
  {
   "cell_type": "code",
   "execution_count": 37,
   "id": "f4a2a508",
   "metadata": {},
   "outputs": [
    {
     "data": {
      "text/plain": [
       "(const   -7.108827\n",
       " CRIM    -0.045293\n",
       " RM       5.092238\n",
       " LSTAT   -0.565133\n",
       " B        0.008974\n",
       " TAX     -0.006025\n",
       " AGE      0.023619\n",
       " ZN       0.029377\n",
       " NOX      3.483832\n",
       " INDUS    0.029270\n",
       " dtype: float64,\n",
       " const   -5.916224\n",
       " CRIM    -0.045112\n",
       " RM       5.102725\n",
       " LSTAT   -0.562816\n",
       " B        0.008717\n",
       " TAX     -0.005572\n",
       " AGE      0.028681\n",
       " ZN       0.028366\n",
       " INDUS    0.048611\n",
       " dtype: float64)"
      ]
     },
     "execution_count": 37,
     "metadata": {},
     "output_type": "execute_result"
    }
   ],
   "source": [
    "fitted_multi_model2.params, fitted_multi_model3.params"
   ]
  },
  {
   "cell_type": "markdown",
   "id": "defdba70",
   "metadata": {},
   "source": [
    "### 중요 데이터 RM 제거 후 학습"
   ]
  },
  {
   "cell_type": "code",
   "execution_count": 38,
   "id": "3e9b4b76",
   "metadata": {},
   "outputs": [],
   "source": [
    "X_data4 = X_data3.drop(columns='RM')"
   ]
  },
  {
   "cell_type": "code",
   "execution_count": 39,
   "id": "fcad2494",
   "metadata": {},
   "outputs": [],
   "source": [
    "# 상수항 추가 - 회귀 모델을 계산하기 편하게 하기 위함\n",
    "multi_model4 = X_data = sm.add_constant(X_data4, has_constant=\"add\")\n",
    "\n",
    "# 선형모델\n",
    "multi_model4 = sm.OLS(target, multi_model4)\n",
    "\n",
    "# 학습\n",
    "fitted_multi_model4 = multi_model4.fit()"
   ]
  },
  {
   "cell_type": "code",
   "execution_count": 40,
   "id": "13fc6a7a",
   "metadata": {},
   "outputs": [
    {
     "data": {
      "text/html": [
       "<table class=\"simpletable\">\n",
       "<caption>OLS Regression Results</caption>\n",
       "<tr>\n",
       "  <th>Dep. Variable:</th>          <td>PRICE</td>      <th>  R-squared:         </th> <td>   0.577</td>\n",
       "</tr>\n",
       "<tr>\n",
       "  <th>Model:</th>                   <td>OLS</td>       <th>  Adj. R-squared:    </th> <td>   0.571</td>\n",
       "</tr>\n",
       "<tr>\n",
       "  <th>Method:</th>             <td>Least Squares</td>  <th>  F-statistic:       </th> <td>   97.20</td>\n",
       "</tr>\n",
       "<tr>\n",
       "  <th>Date:</th>             <td>Wed, 17 Aug 2022</td> <th>  Prob (F-statistic):</th> <td>5.53e-89</td>\n",
       "</tr>\n",
       "<tr>\n",
       "  <th>Time:</th>                 <td>11:40:09</td>     <th>  Log-Likelihood:    </th> <td> -1622.3</td>\n",
       "</tr>\n",
       "<tr>\n",
       "  <th>No. Observations:</th>      <td>   506</td>      <th>  AIC:               </th> <td>   3261.</td>\n",
       "</tr>\n",
       "<tr>\n",
       "  <th>Df Residuals:</th>          <td>   498</td>      <th>  BIC:               </th> <td>   3294.</td>\n",
       "</tr>\n",
       "<tr>\n",
       "  <th>Df Model:</th>              <td>     7</td>      <th>                     </th>     <td> </td>   \n",
       "</tr>\n",
       "<tr>\n",
       "  <th>Covariance Type:</th>      <td>nonrobust</td>    <th>                     </th>     <td> </td>   \n",
       "</tr>\n",
       "</table>\n",
       "<table class=\"simpletable\">\n",
       "<tr>\n",
       "    <td></td>       <th>coef</th>     <th>std err</th>      <th>t</th>      <th>P>|t|</th>  <th>[0.025</th>    <th>0.975]</th>  \n",
       "</tr>\n",
       "<tr>\n",
       "  <th>const</th> <td>   29.6634</td> <td>    1.844</td> <td>   16.087</td> <td> 0.000</td> <td>   26.041</td> <td>   33.286</td>\n",
       "</tr>\n",
       "<tr>\n",
       "  <th>CRIM</th>  <td>   -0.0329</td> <td>    0.040</td> <td>   -0.825</td> <td> 0.410</td> <td>   -0.111</td> <td>    0.045</td>\n",
       "</tr>\n",
       "<tr>\n",
       "  <th>LSTAT</th> <td>   -0.9256</td> <td>    0.053</td> <td>  -17.589</td> <td> 0.000</td> <td>   -1.029</td> <td>   -0.822</td>\n",
       "</tr>\n",
       "<tr>\n",
       "  <th>B</th>     <td>    0.0046</td> <td>    0.003</td> <td>    1.384</td> <td> 0.167</td> <td>   -0.002</td> <td>    0.011</td>\n",
       "</tr>\n",
       "<tr>\n",
       "  <th>TAX</th>   <td>   -0.0048</td> <td>    0.003</td> <td>   -1.814</td> <td> 0.070</td> <td>   -0.010</td> <td>    0.000</td>\n",
       "</tr>\n",
       "<tr>\n",
       "  <th>AGE</th>   <td>    0.0703</td> <td>    0.014</td> <td>    4.993</td> <td> 0.000</td> <td>    0.043</td> <td>    0.098</td>\n",
       "</tr>\n",
       "<tr>\n",
       "  <th>ZN</th>    <td>    0.0513</td> <td>    0.015</td> <td>    3.490</td> <td> 0.001</td> <td>    0.022</td> <td>    0.080</td>\n",
       "</tr>\n",
       "<tr>\n",
       "  <th>INDUS</th> <td>   -0.0357</td> <td>    0.068</td> <td>   -0.523</td> <td> 0.601</td> <td>   -0.170</td> <td>    0.098</td>\n",
       "</tr>\n",
       "</table>\n",
       "<table class=\"simpletable\">\n",
       "<tr>\n",
       "  <th>Omnibus:</th>       <td>138.742</td> <th>  Durbin-Watson:     </th> <td>   0.960</td>\n",
       "</tr>\n",
       "<tr>\n",
       "  <th>Prob(Omnibus):</th> <td> 0.000</td>  <th>  Jarque-Bera (JB):  </th> <td> 316.077</td>\n",
       "</tr>\n",
       "<tr>\n",
       "  <th>Skew:</th>          <td> 1.427</td>  <th>  Prob(JB):          </th> <td>2.32e-69</td>\n",
       "</tr>\n",
       "<tr>\n",
       "  <th>Kurtosis:</th>      <td> 5.617</td>  <th>  Cond. No.          </th> <td>3.85e+03</td>\n",
       "</tr>\n",
       "</table><br/><br/>Notes:<br/>[1] Standard Errors assume that the covariance matrix of the errors is correctly specified.<br/>[2] The condition number is large, 3.85e+03. This might indicate that there are<br/>strong multicollinearity or other numerical problems."
      ],
      "text/plain": [
       "<class 'statsmodels.iolib.summary.Summary'>\n",
       "\"\"\"\n",
       "                            OLS Regression Results                            \n",
       "==============================================================================\n",
       "Dep. Variable:                  PRICE   R-squared:                       0.577\n",
       "Model:                            OLS   Adj. R-squared:                  0.571\n",
       "Method:                 Least Squares   F-statistic:                     97.20\n",
       "Date:                Wed, 17 Aug 2022   Prob (F-statistic):           5.53e-89\n",
       "Time:                        11:40:09   Log-Likelihood:                -1622.3\n",
       "No. Observations:                 506   AIC:                             3261.\n",
       "Df Residuals:                     498   BIC:                             3294.\n",
       "Df Model:                           7                                         \n",
       "Covariance Type:            nonrobust                                         \n",
       "==============================================================================\n",
       "                 coef    std err          t      P>|t|      [0.025      0.975]\n",
       "------------------------------------------------------------------------------\n",
       "const         29.6634      1.844     16.087      0.000      26.041      33.286\n",
       "CRIM          -0.0329      0.040     -0.825      0.410      -0.111       0.045\n",
       "LSTAT         -0.9256      0.053    -17.589      0.000      -1.029      -0.822\n",
       "B              0.0046      0.003      1.384      0.167      -0.002       0.011\n",
       "TAX           -0.0048      0.003     -1.814      0.070      -0.010       0.000\n",
       "AGE            0.0703      0.014      4.993      0.000       0.043       0.098\n",
       "ZN             0.0513      0.015      3.490      0.001       0.022       0.080\n",
       "INDUS         -0.0357      0.068     -0.523      0.601      -0.170       0.098\n",
       "==============================================================================\n",
       "Omnibus:                      138.742   Durbin-Watson:                   0.960\n",
       "Prob(Omnibus):                  0.000   Jarque-Bera (JB):              316.077\n",
       "Skew:                           1.427   Prob(JB):                     2.32e-69\n",
       "Kurtosis:                       5.617   Cond. No.                     3.85e+03\n",
       "==============================================================================\n",
       "\n",
       "Notes:\n",
       "[1] Standard Errors assume that the covariance matrix of the errors is correctly specified.\n",
       "[2] The condition number is large, 3.85e+03. This might indicate that there are\n",
       "strong multicollinearity or other numerical problems.\n",
       "\"\"\""
      ]
     },
     "execution_count": 40,
     "metadata": {},
     "output_type": "execute_result"
    }
   ],
   "source": [
    "fitted_multi_model4.summary()"
   ]
  },
  {
   "cell_type": "markdown",
   "id": "9c5b9cfa",
   "metadata": {},
   "source": [
    "## scikit-learn 활용\n",
    "\n",
    "1. 독립변수와 종속변수 분리\n",
    "2. 학습 데이터, 테스트 데이터의 분리\n",
    "3. 모델생성\n",
    "4. 학습\n",
    "5. 예측\n",
    "6. 모델평가 ( 정확성 )"
   ]
  },
  {
   "cell_type": "code",
   "execution_count": 44,
   "id": "e323eafc",
   "metadata": {},
   "outputs": [],
   "source": [
    "from sklearn.model_selection import train_test_split\n",
    "from sklearn.linear_model import LinearRegression\n",
    "from sklearn.metrics import mean_squared_error, r2_score"
   ]
  },
  {
   "cell_type": "code",
   "execution_count": 41,
   "id": "d656aa6e",
   "metadata": {},
   "outputs": [
    {
     "data": {
      "text/html": [
       "<div>\n",
       "<style scoped>\n",
       "    .dataframe tbody tr th:only-of-type {\n",
       "        vertical-align: middle;\n",
       "    }\n",
       "\n",
       "    .dataframe tbody tr th {\n",
       "        vertical-align: top;\n",
       "    }\n",
       "\n",
       "    .dataframe thead th {\n",
       "        text-align: right;\n",
       "    }\n",
       "</style>\n",
       "<table border=\"1\" class=\"dataframe\">\n",
       "  <thead>\n",
       "    <tr style=\"text-align: right;\">\n",
       "      <th></th>\n",
       "      <th>CRIM</th>\n",
       "      <th>ZN</th>\n",
       "      <th>INDUS</th>\n",
       "      <th>CHAS</th>\n",
       "      <th>NOX</th>\n",
       "      <th>RM</th>\n",
       "      <th>AGE</th>\n",
       "      <th>DIS</th>\n",
       "      <th>RAD</th>\n",
       "      <th>TAX</th>\n",
       "      <th>PTRATIO</th>\n",
       "      <th>B</th>\n",
       "      <th>LSTAT</th>\n",
       "      <th>PRICE</th>\n",
       "    </tr>\n",
       "  </thead>\n",
       "  <tbody>\n",
       "    <tr>\n",
       "      <th>0</th>\n",
       "      <td>0.00632</td>\n",
       "      <td>18.0</td>\n",
       "      <td>2.31</td>\n",
       "      <td>0.0</td>\n",
       "      <td>0.538</td>\n",
       "      <td>6.575</td>\n",
       "      <td>65.2</td>\n",
       "      <td>4.0900</td>\n",
       "      <td>1.0</td>\n",
       "      <td>296.0</td>\n",
       "      <td>15.3</td>\n",
       "      <td>396.90</td>\n",
       "      <td>4.98</td>\n",
       "      <td>24.0</td>\n",
       "    </tr>\n",
       "    <tr>\n",
       "      <th>1</th>\n",
       "      <td>0.02731</td>\n",
       "      <td>0.0</td>\n",
       "      <td>7.07</td>\n",
       "      <td>0.0</td>\n",
       "      <td>0.469</td>\n",
       "      <td>6.421</td>\n",
       "      <td>78.9</td>\n",
       "      <td>4.9671</td>\n",
       "      <td>2.0</td>\n",
       "      <td>242.0</td>\n",
       "      <td>17.8</td>\n",
       "      <td>396.90</td>\n",
       "      <td>9.14</td>\n",
       "      <td>21.6</td>\n",
       "    </tr>\n",
       "    <tr>\n",
       "      <th>2</th>\n",
       "      <td>0.02729</td>\n",
       "      <td>0.0</td>\n",
       "      <td>7.07</td>\n",
       "      <td>0.0</td>\n",
       "      <td>0.469</td>\n",
       "      <td>7.185</td>\n",
       "      <td>61.1</td>\n",
       "      <td>4.9671</td>\n",
       "      <td>2.0</td>\n",
       "      <td>242.0</td>\n",
       "      <td>17.8</td>\n",
       "      <td>392.83</td>\n",
       "      <td>4.03</td>\n",
       "      <td>34.7</td>\n",
       "    </tr>\n",
       "    <tr>\n",
       "      <th>3</th>\n",
       "      <td>0.03237</td>\n",
       "      <td>0.0</td>\n",
       "      <td>2.18</td>\n",
       "      <td>0.0</td>\n",
       "      <td>0.458</td>\n",
       "      <td>6.998</td>\n",
       "      <td>45.8</td>\n",
       "      <td>6.0622</td>\n",
       "      <td>3.0</td>\n",
       "      <td>222.0</td>\n",
       "      <td>18.7</td>\n",
       "      <td>394.63</td>\n",
       "      <td>2.94</td>\n",
       "      <td>33.4</td>\n",
       "    </tr>\n",
       "    <tr>\n",
       "      <th>4</th>\n",
       "      <td>0.06905</td>\n",
       "      <td>0.0</td>\n",
       "      <td>2.18</td>\n",
       "      <td>0.0</td>\n",
       "      <td>0.458</td>\n",
       "      <td>7.147</td>\n",
       "      <td>54.2</td>\n",
       "      <td>6.0622</td>\n",
       "      <td>3.0</td>\n",
       "      <td>222.0</td>\n",
       "      <td>18.7</td>\n",
       "      <td>396.90</td>\n",
       "      <td>5.33</td>\n",
       "      <td>36.2</td>\n",
       "    </tr>\n",
       "  </tbody>\n",
       "</table>\n",
       "</div>"
      ],
      "text/plain": [
       "      CRIM    ZN  INDUS  CHAS    NOX     RM   AGE     DIS  RAD    TAX  \\\n",
       "0  0.00632  18.0   2.31   0.0  0.538  6.575  65.2  4.0900  1.0  296.0   \n",
       "1  0.02731   0.0   7.07   0.0  0.469  6.421  78.9  4.9671  2.0  242.0   \n",
       "2  0.02729   0.0   7.07   0.0  0.469  7.185  61.1  4.9671  2.0  242.0   \n",
       "3  0.03237   0.0   2.18   0.0  0.458  6.998  45.8  6.0622  3.0  222.0   \n",
       "4  0.06905   0.0   2.18   0.0  0.458  7.147  54.2  6.0622  3.0  222.0   \n",
       "\n",
       "   PTRATIO       B  LSTAT  PRICE  \n",
       "0     15.3  396.90   4.98   24.0  \n",
       "1     17.8  396.90   9.14   21.6  \n",
       "2     17.8  392.83   4.03   34.7  \n",
       "3     18.7  394.63   2.94   33.4  \n",
       "4     18.7  396.90   5.33   36.2  "
      ]
     },
     "execution_count": 41,
     "metadata": {},
     "output_type": "execute_result"
    }
   ],
   "source": [
    "boston_df.head()"
   ]
  },
  {
   "cell_type": "code",
   "execution_count": 43,
   "id": "2a963567",
   "metadata": {},
   "outputs": [],
   "source": [
    "X = boston_df.iloc[:, :-1]\n",
    "y = boston_df['PRICE']"
   ]
  },
  {
   "cell_type": "code",
   "execution_count": 45,
   "id": "69ffdebf",
   "metadata": {},
   "outputs": [],
   "source": [
    "X_train, X_test, y_train, y_test = train_test_split(X, y, test_size=0.3, random_state=156)"
   ]
  },
  {
   "cell_type": "code",
   "execution_count": 46,
   "id": "9ad1b8ba",
   "metadata": {},
   "outputs": [
    {
     "data": {
      "text/plain": [
       "((354, 13), (152, 13), (354,), (152,))"
      ]
     },
     "execution_count": 46,
     "metadata": {},
     "output_type": "execute_result"
    }
   ],
   "source": [
    "X_train.shape, X_test.shape, y_train.shape, y_test.shape"
   ]
  },
  {
   "cell_type": "code",
   "execution_count": 47,
   "id": "b6853e44",
   "metadata": {},
   "outputs": [],
   "source": [
    "lr = LinearRegression()"
   ]
  },
  {
   "cell_type": "code",
   "execution_count": 48,
   "id": "a862b234",
   "metadata": {},
   "outputs": [
    {
     "data": {
      "text/html": [
       "<style>#sk-container-id-1 {color: black;background-color: white;}#sk-container-id-1 pre{padding: 0;}#sk-container-id-1 div.sk-toggleable {background-color: white;}#sk-container-id-1 label.sk-toggleable__label {cursor: pointer;display: block;width: 100%;margin-bottom: 0;padding: 0.3em;box-sizing: border-box;text-align: center;}#sk-container-id-1 label.sk-toggleable__label-arrow:before {content: \"▸\";float: left;margin-right: 0.25em;color: #696969;}#sk-container-id-1 label.sk-toggleable__label-arrow:hover:before {color: black;}#sk-container-id-1 div.sk-estimator:hover label.sk-toggleable__label-arrow:before {color: black;}#sk-container-id-1 div.sk-toggleable__content {max-height: 0;max-width: 0;overflow: hidden;text-align: left;background-color: #f0f8ff;}#sk-container-id-1 div.sk-toggleable__content pre {margin: 0.2em;color: black;border-radius: 0.25em;background-color: #f0f8ff;}#sk-container-id-1 input.sk-toggleable__control:checked~div.sk-toggleable__content {max-height: 200px;max-width: 100%;overflow: auto;}#sk-container-id-1 input.sk-toggleable__control:checked~label.sk-toggleable__label-arrow:before {content: \"▾\";}#sk-container-id-1 div.sk-estimator input.sk-toggleable__control:checked~label.sk-toggleable__label {background-color: #d4ebff;}#sk-container-id-1 div.sk-label input.sk-toggleable__control:checked~label.sk-toggleable__label {background-color: #d4ebff;}#sk-container-id-1 input.sk-hidden--visually {border: 0;clip: rect(1px 1px 1px 1px);clip: rect(1px, 1px, 1px, 1px);height: 1px;margin: -1px;overflow: hidden;padding: 0;position: absolute;width: 1px;}#sk-container-id-1 div.sk-estimator {font-family: monospace;background-color: #f0f8ff;border: 1px dotted black;border-radius: 0.25em;box-sizing: border-box;margin-bottom: 0.5em;}#sk-container-id-1 div.sk-estimator:hover {background-color: #d4ebff;}#sk-container-id-1 div.sk-parallel-item::after {content: \"\";width: 100%;border-bottom: 1px solid gray;flex-grow: 1;}#sk-container-id-1 div.sk-label:hover label.sk-toggleable__label {background-color: #d4ebff;}#sk-container-id-1 div.sk-serial::before {content: \"\";position: absolute;border-left: 1px solid gray;box-sizing: border-box;top: 0;bottom: 0;left: 50%;z-index: 0;}#sk-container-id-1 div.sk-serial {display: flex;flex-direction: column;align-items: center;background-color: white;padding-right: 0.2em;padding-left: 0.2em;position: relative;}#sk-container-id-1 div.sk-item {position: relative;z-index: 1;}#sk-container-id-1 div.sk-parallel {display: flex;align-items: stretch;justify-content: center;background-color: white;position: relative;}#sk-container-id-1 div.sk-item::before, #sk-container-id-1 div.sk-parallel-item::before {content: \"\";position: absolute;border-left: 1px solid gray;box-sizing: border-box;top: 0;bottom: 0;left: 50%;z-index: -1;}#sk-container-id-1 div.sk-parallel-item {display: flex;flex-direction: column;z-index: 1;position: relative;background-color: white;}#sk-container-id-1 div.sk-parallel-item:first-child::after {align-self: flex-end;width: 50%;}#sk-container-id-1 div.sk-parallel-item:last-child::after {align-self: flex-start;width: 50%;}#sk-container-id-1 div.sk-parallel-item:only-child::after {width: 0;}#sk-container-id-1 div.sk-dashed-wrapped {border: 1px dashed gray;margin: 0 0.4em 0.5em 0.4em;box-sizing: border-box;padding-bottom: 0.4em;background-color: white;}#sk-container-id-1 div.sk-label label {font-family: monospace;font-weight: bold;display: inline-block;line-height: 1.2em;}#sk-container-id-1 div.sk-label-container {text-align: center;}#sk-container-id-1 div.sk-container {/* jupyter's `normalize.less` sets `[hidden] { display: none; }` but bootstrap.min.css set `[hidden] { display: none !important; }` so we also need the `!important` here to be able to override the default hidden behavior on the sphinx rendered scikit-learn.org. See: https://github.com/scikit-learn/scikit-learn/issues/21755 */display: inline-block !important;position: relative;}#sk-container-id-1 div.sk-text-repr-fallback {display: none;}</style><div id=\"sk-container-id-1\" class=\"sk-top-container\"><div class=\"sk-text-repr-fallback\"><pre>LinearRegression()</pre><b>In a Jupyter environment, please rerun this cell to show the HTML representation or trust the notebook. <br />On GitHub, the HTML representation is unable to render, please try loading this page with nbviewer.org.</b></div><div class=\"sk-container\" hidden><div class=\"sk-item\"><div class=\"sk-estimator sk-toggleable\"><input class=\"sk-toggleable__control sk-hidden--visually\" id=\"sk-estimator-id-1\" type=\"checkbox\" checked><label for=\"sk-estimator-id-1\" class=\"sk-toggleable__label sk-toggleable__label-arrow\">LinearRegression</label><div class=\"sk-toggleable__content\"><pre>LinearRegression()</pre></div></div></div></div></div>"
      ],
      "text/plain": [
       "LinearRegression()"
      ]
     },
     "execution_count": 48,
     "metadata": {},
     "output_type": "execute_result"
    }
   ],
   "source": [
    "lr.fit(X_train, y_train)"
   ]
  },
  {
   "cell_type": "code",
   "execution_count": 50,
   "id": "57a2cd8b",
   "metadata": {},
   "outputs": [
    {
     "name": "stdout",
     "output_type": "stream",
     "text": [
      "절편값 :  40.995595172164336\n",
      "기울기 :  [ -0.1   0.1   0.    3.  -19.8   3.4   0.   -1.7   0.4  -0.   -0.9   0.\n",
      "  -0.6]\n"
     ]
    }
   ],
   "source": [
    "import numpy as np\n",
    "# y = mx + b ( m, b 에 대한 변수값을 학습을 통해 값을 찾아냄 )\n",
    "\n",
    "print(\"절편값 : \", lr.intercept_)\n",
    "print(\"기울기 : \", np.round(lr.coef_, 1))"
   ]
  },
  {
   "cell_type": "code",
   "execution_count": 51,
   "id": "61d6329e",
   "metadata": {},
   "outputs": [],
   "source": [
    "y_pred = lr.predict(X_test)"
   ]
  },
  {
   "cell_type": "code",
   "execution_count": 52,
   "id": "345bab37",
   "metadata": {},
   "outputs": [
    {
     "data": {
      "text/plain": [
       "array([23.15424087, 19.65590246, 36.42005168, 19.96705124, 32.40150641,\n",
       "       17.66341192, 30.32844101, 17.8513932 , 10.86187069, 12.83177966,\n",
       "       21.18350434, 16.41212257, 28.66817527, 37.01110952, 23.42172197,\n",
       "       24.56906089, 14.55434775, 11.51023436, 30.27784089, 23.48027467])"
      ]
     },
     "execution_count": 52,
     "metadata": {},
     "output_type": "execute_result"
    }
   ],
   "source": [
    "y_pred[:20] # 예측 가격"
   ]
  },
  {
   "cell_type": "code",
   "execution_count": 53,
   "id": "e2abc680",
   "metadata": {},
   "outputs": [
    {
     "data": {
      "text/plain": [
       "210    21.7\n",
       "15     19.9\n",
       "264    36.5\n",
       "396    12.5\n",
       "234    29.0\n",
       "135    18.1\n",
       "201    24.1\n",
       "209    20.0\n",
       "392     9.7\n",
       "456    12.7\n",
       "476    16.7\n",
       "352    18.6\n",
       "239    23.3\n",
       "233    48.3\n",
       "332    19.4\n",
       "318    23.1\n",
       "380    10.4\n",
       "30     12.7\n",
       "0      24.0\n",
       "121    20.3\n",
       "Name: PRICE, dtype: float64"
      ]
     },
     "execution_count": 53,
     "metadata": {},
     "output_type": "execute_result"
    }
   ],
   "source": [
    "y_test[:20] # 실제 가격"
   ]
  },
  {
   "cell_type": "markdown",
   "id": "27c0faee",
   "metadata": {},
   "source": [
    "MSE :: (실제값-예측값)<sup>2</sup>"
   ]
  },
  {
   "cell_type": "code",
   "execution_count": 54,
   "id": "844cf513",
   "metadata": {},
   "outputs": [
    {
     "data": {
      "text/plain": [
       "17.29691590790215"
      ]
     },
     "execution_count": 54,
     "metadata": {},
     "output_type": "execute_result"
    }
   ],
   "source": [
    "mean_squared_error(y_test, y_pred) # 실제 값과, 예측 값의 차이"
   ]
  },
  {
   "cell_type": "markdown",
   "id": "8ad47f5e",
   "metadata": {},
   "source": [
    "RMSE :: (실제값-예측값)<sup>2</sup> 에 root 적용"
   ]
  },
  {
   "cell_type": "code",
   "execution_count": 56,
   "id": "a7516d5b",
   "metadata": {},
   "outputs": [
    {
     "data": {
      "text/plain": [
       "4.158956107955715"
      ]
     },
     "execution_count": 56,
     "metadata": {},
     "output_type": "execute_result"
    }
   ],
   "source": [
    "mean_squared_error(y_test, y_pred, squared=False)"
   ]
  },
  {
   "cell_type": "markdown",
   "id": "9768d474",
   "metadata": {},
   "source": [
    "R_squared :: 1 에 근접할수록 좋음"
   ]
  },
  {
   "cell_type": "code",
   "execution_count": 57,
   "id": "e86e0825",
   "metadata": {},
   "outputs": [
    {
     "data": {
      "text/plain": [
       "0.7572263323138921"
      ]
     },
     "execution_count": 57,
     "metadata": {},
     "output_type": "execute_result"
    }
   ],
   "source": [
    "r2_score(y_test, y_pred)"
   ]
  },
  {
   "cell_type": "code",
   "execution_count": null,
   "id": "2b2548c0",
   "metadata": {},
   "outputs": [],
   "source": []
  }
 ],
 "metadata": {
  "kernelspec": {
   "display_name": "Python 3 (ipykernel)",
   "language": "python",
   "name": "python3"
  },
  "language_info": {
   "codemirror_mode": {
    "name": "ipython",
    "version": 3
   },
   "file_extension": ".py",
   "mimetype": "text/x-python",
   "name": "python",
   "nbconvert_exporter": "python",
   "pygments_lexer": "ipython3",
   "version": "3.9.12"
  }
 },
 "nbformat": 4,
 "nbformat_minor": 5
}
