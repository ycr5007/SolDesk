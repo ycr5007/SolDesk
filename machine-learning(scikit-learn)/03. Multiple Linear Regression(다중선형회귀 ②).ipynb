{
 "cells": [
  {
   "cell_type": "markdown",
   "id": "a95a7f40",
   "metadata": {},
   "source": [
    "### 보스턴 주택 가격 데이터 셋"
   ]
  },
  {
   "cell_type": "code",
   "execution_count": null,
   "id": "77b90648",
   "metadata": {},
   "outputs": [],
   "source": []
  }
 ],
 "metadata": {
  "kernelspec": {
   "display_name": "Python 3 (ipykernel)",
   "language": "python",
   "name": "python3"
  },
  "language_info": {
   "codemirror_mode": {
    "name": "ipython",
    "version": 3
   },
   "file_extension": ".py",
   "mimetype": "text/x-python",
   "name": "python",
   "nbconvert_exporter": "python",
   "pygments_lexer": "ipython3",
   "version": "3.9.12"
  }
 },
 "nbformat": 4,
 "nbformat_minor": 5
}
