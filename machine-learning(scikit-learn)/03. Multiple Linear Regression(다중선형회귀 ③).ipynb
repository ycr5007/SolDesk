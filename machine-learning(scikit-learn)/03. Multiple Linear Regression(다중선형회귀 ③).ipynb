{
 "cells": [
  {
   "cell_type": "markdown",
   "id": "311bbda2",
   "metadata": {},
   "source": [
    "# Toyota 자동차 - 중고차 가격"
   ]
  },
  {
   "cell_type": "code",
   "execution_count": 2,
   "id": "663cf495",
   "metadata": {},
   "outputs": [],
   "source": [
    "import matplotlib.pyplot as plt\n",
    "import seaborn as sns\n",
    "import pandas as pd\n",
    "import numpy as np\n",
    "\n",
    "# 한글처리\n",
    "plt.rcParams['font.family'] = 'Malgun Gothic'\n",
    "# 음수처리\n",
    "plt.rcParams['axes.unicode_minus'] = False\n",
    "\n",
    "\n",
    "import warnings\n",
    "warnings.filterwarnings('ignore')"
   ]
  },
  {
   "cell_type": "code",
   "execution_count": 3,
   "id": "3dc73eb7",
   "metadata": {},
   "outputs": [],
   "source": [
    "from sklearn.model_selection import train_test_split\n",
    "from sklearn.linear_model import LinearRegression\n",
    "from sklearn.metrics import mean_squared_error, r2_score"
   ]
  },
  {
   "cell_type": "code",
   "execution_count": 4,
   "id": "e5139d24",
   "metadata": {},
   "outputs": [
    {
     "data": {
      "text/html": [
       "<div>\n",
       "<style scoped>\n",
       "    .dataframe tbody tr th:only-of-type {\n",
       "        vertical-align: middle;\n",
       "    }\n",
       "\n",
       "    .dataframe tbody tr th {\n",
       "        vertical-align: top;\n",
       "    }\n",
       "\n",
       "    .dataframe thead th {\n",
       "        text-align: right;\n",
       "    }\n",
       "</style>\n",
       "<table border=\"1\" class=\"dataframe\">\n",
       "  <thead>\n",
       "    <tr style=\"text-align: right;\">\n",
       "      <th></th>\n",
       "      <th>Id</th>\n",
       "      <th>Model</th>\n",
       "      <th>Price</th>\n",
       "      <th>Age_08_04</th>\n",
       "      <th>Mfg_Month</th>\n",
       "      <th>Mfg_Year</th>\n",
       "      <th>KM</th>\n",
       "      <th>Fuel_Type</th>\n",
       "      <th>HP</th>\n",
       "      <th>Met_Color</th>\n",
       "      <th>...</th>\n",
       "      <th>Central_Lock</th>\n",
       "      <th>Powered_Windows</th>\n",
       "      <th>Power_Steering</th>\n",
       "      <th>Radio</th>\n",
       "      <th>Mistlamps</th>\n",
       "      <th>Sport_Model</th>\n",
       "      <th>Backseat_Divider</th>\n",
       "      <th>Metallic_Rim</th>\n",
       "      <th>Radio_cassette</th>\n",
       "      <th>Tow_Bar</th>\n",
       "    </tr>\n",
       "  </thead>\n",
       "  <tbody>\n",
       "    <tr>\n",
       "      <th>0</th>\n",
       "      <td>1</td>\n",
       "      <td>TOYOTA Corolla 2.0 D4D HATCHB TERRA 2/3-Doors</td>\n",
       "      <td>13500</td>\n",
       "      <td>23</td>\n",
       "      <td>10</td>\n",
       "      <td>2002</td>\n",
       "      <td>46986</td>\n",
       "      <td>Diesel</td>\n",
       "      <td>90</td>\n",
       "      <td>1</td>\n",
       "      <td>...</td>\n",
       "      <td>1</td>\n",
       "      <td>1</td>\n",
       "      <td>1</td>\n",
       "      <td>0</td>\n",
       "      <td>0</td>\n",
       "      <td>0</td>\n",
       "      <td>1</td>\n",
       "      <td>0</td>\n",
       "      <td>0</td>\n",
       "      <td>0</td>\n",
       "    </tr>\n",
       "    <tr>\n",
       "      <th>1</th>\n",
       "      <td>2</td>\n",
       "      <td>TOYOTA Corolla 2.0 D4D HATCHB TERRA 2/3-Doors</td>\n",
       "      <td>13750</td>\n",
       "      <td>23</td>\n",
       "      <td>10</td>\n",
       "      <td>2002</td>\n",
       "      <td>72937</td>\n",
       "      <td>Diesel</td>\n",
       "      <td>90</td>\n",
       "      <td>1</td>\n",
       "      <td>...</td>\n",
       "      <td>1</td>\n",
       "      <td>0</td>\n",
       "      <td>1</td>\n",
       "      <td>0</td>\n",
       "      <td>0</td>\n",
       "      <td>0</td>\n",
       "      <td>1</td>\n",
       "      <td>0</td>\n",
       "      <td>0</td>\n",
       "      <td>0</td>\n",
       "    </tr>\n",
       "    <tr>\n",
       "      <th>2</th>\n",
       "      <td>3</td>\n",
       "      <td>?TOYOTA Corolla 2.0 D4D HATCHB TERRA 2/3-Doors</td>\n",
       "      <td>13950</td>\n",
       "      <td>24</td>\n",
       "      <td>9</td>\n",
       "      <td>2002</td>\n",
       "      <td>41711</td>\n",
       "      <td>Diesel</td>\n",
       "      <td>90</td>\n",
       "      <td>1</td>\n",
       "      <td>...</td>\n",
       "      <td>0</td>\n",
       "      <td>0</td>\n",
       "      <td>1</td>\n",
       "      <td>0</td>\n",
       "      <td>0</td>\n",
       "      <td>0</td>\n",
       "      <td>1</td>\n",
       "      <td>0</td>\n",
       "      <td>0</td>\n",
       "      <td>0</td>\n",
       "    </tr>\n",
       "    <tr>\n",
       "      <th>3</th>\n",
       "      <td>4</td>\n",
       "      <td>TOYOTA Corolla 2.0 D4D HATCHB TERRA 2/3-Doors</td>\n",
       "      <td>14950</td>\n",
       "      <td>26</td>\n",
       "      <td>7</td>\n",
       "      <td>2002</td>\n",
       "      <td>48000</td>\n",
       "      <td>Diesel</td>\n",
       "      <td>90</td>\n",
       "      <td>0</td>\n",
       "      <td>...</td>\n",
       "      <td>0</td>\n",
       "      <td>0</td>\n",
       "      <td>1</td>\n",
       "      <td>0</td>\n",
       "      <td>0</td>\n",
       "      <td>0</td>\n",
       "      <td>1</td>\n",
       "      <td>0</td>\n",
       "      <td>0</td>\n",
       "      <td>0</td>\n",
       "    </tr>\n",
       "    <tr>\n",
       "      <th>4</th>\n",
       "      <td>5</td>\n",
       "      <td>TOYOTA Corolla 2.0 D4D HATCHB SOL 2/3-Doors</td>\n",
       "      <td>13750</td>\n",
       "      <td>30</td>\n",
       "      <td>3</td>\n",
       "      <td>2002</td>\n",
       "      <td>38500</td>\n",
       "      <td>Diesel</td>\n",
       "      <td>90</td>\n",
       "      <td>0</td>\n",
       "      <td>...</td>\n",
       "      <td>1</td>\n",
       "      <td>1</td>\n",
       "      <td>1</td>\n",
       "      <td>0</td>\n",
       "      <td>1</td>\n",
       "      <td>0</td>\n",
       "      <td>1</td>\n",
       "      <td>0</td>\n",
       "      <td>0</td>\n",
       "      <td>0</td>\n",
       "    </tr>\n",
       "  </tbody>\n",
       "</table>\n",
       "<p>5 rows × 37 columns</p>\n",
       "</div>"
      ],
      "text/plain": [
       "   Id                                           Model  Price  Age_08_04  \\\n",
       "0   1   TOYOTA Corolla 2.0 D4D HATCHB TERRA 2/3-Doors  13500         23   \n",
       "1   2   TOYOTA Corolla 2.0 D4D HATCHB TERRA 2/3-Doors  13750         23   \n",
       "2   3  ?TOYOTA Corolla 2.0 D4D HATCHB TERRA 2/3-Doors  13950         24   \n",
       "3   4   TOYOTA Corolla 2.0 D4D HATCHB TERRA 2/3-Doors  14950         26   \n",
       "4   5     TOYOTA Corolla 2.0 D4D HATCHB SOL 2/3-Doors  13750         30   \n",
       "\n",
       "   Mfg_Month  Mfg_Year     KM Fuel_Type  HP  Met_Color  ...  Central_Lock  \\\n",
       "0         10      2002  46986    Diesel  90          1  ...             1   \n",
       "1         10      2002  72937    Diesel  90          1  ...             1   \n",
       "2          9      2002  41711    Diesel  90          1  ...             0   \n",
       "3          7      2002  48000    Diesel  90          0  ...             0   \n",
       "4          3      2002  38500    Diesel  90          0  ...             1   \n",
       "\n",
       "   Powered_Windows  Power_Steering  Radio  Mistlamps  Sport_Model  \\\n",
       "0                1               1      0          0            0   \n",
       "1                0               1      0          0            0   \n",
       "2                0               1      0          0            0   \n",
       "3                0               1      0          0            0   \n",
       "4                1               1      0          1            0   \n",
       "\n",
       "   Backseat_Divider  Metallic_Rim  Radio_cassette  Tow_Bar  \n",
       "0                 1             0               0        0  \n",
       "1                 1             0               0        0  \n",
       "2                 1             0               0        0  \n",
       "3                 1             0               0        0  \n",
       "4                 1             0               0        0  \n",
       "\n",
       "[5 rows x 37 columns]"
      ]
     },
     "execution_count": 4,
     "metadata": {},
     "output_type": "execute_result"
    }
   ],
   "source": [
    "toyota_df = pd.read_csv(\"./dataset/ToyotaCorolla.csv\")\n",
    "toyota_df.head()"
   ]
  },
  {
   "cell_type": "code",
   "execution_count": 5,
   "id": "029fc64d",
   "metadata": {},
   "outputs": [
    {
     "data": {
      "text/plain": [
       "(1436, 37)"
      ]
     },
     "execution_count": 5,
     "metadata": {},
     "output_type": "execute_result"
    }
   ],
   "source": [
    "toyota_df.shape"
   ]
  },
  {
   "cell_type": "markdown",
   "id": "c94e3730",
   "metadata": {},
   "source": [
    "#### 범주형 변수 ==> 이산형 변수 "
   ]
  },
  {
   "cell_type": "code",
   "execution_count": 7,
   "id": "41b58f85",
   "metadata": {},
   "outputs": [
    {
     "data": {
      "text/plain": [
       "array(['Diesel', 'Petrol', 'CNG'], dtype=object)"
      ]
     },
     "execution_count": 7,
     "metadata": {},
     "output_type": "execute_result"
    }
   ],
   "source": [
    "toyota_df['Fuel_Type'].unique()"
   ]
  },
  {
   "cell_type": "markdown",
   "id": "bc18f322",
   "metadata": {},
   "source": [
    "###### Pandas 함수 :: get_dummies() > 원-핫 인코딩"
   ]
  },
  {
   "cell_type": "code",
   "execution_count": 10,
   "id": "396e005d",
   "metadata": {},
   "outputs": [],
   "source": [
    "Fuel = pd.get_dummies(toyota_df['Fuel_Type'])"
   ]
  },
  {
   "cell_type": "markdown",
   "id": "937751e2",
   "metadata": {},
   "source": [
    "#### 사용하지 않는 변수 제거"
   ]
  },
  {
   "cell_type": "code",
   "execution_count": 11,
   "id": "3219902a",
   "metadata": {},
   "outputs": [],
   "source": [
    "toyota_df1 = toyota_df.drop(columns=['Id', 'Model', 'Fuel_Type'])\n",
    "\n",
    "toyota_corolla = pd.concat([toyota_df1, Fuel], 1)"
   ]
  },
  {
   "cell_type": "code",
   "execution_count": 12,
   "id": "40e99068",
   "metadata": {},
   "outputs": [
    {
     "data": {
      "text/html": [
       "<div>\n",
       "<style scoped>\n",
       "    .dataframe tbody tr th:only-of-type {\n",
       "        vertical-align: middle;\n",
       "    }\n",
       "\n",
       "    .dataframe tbody tr th {\n",
       "        vertical-align: top;\n",
       "    }\n",
       "\n",
       "    .dataframe thead th {\n",
       "        text-align: right;\n",
       "    }\n",
       "</style>\n",
       "<table border=\"1\" class=\"dataframe\">\n",
       "  <thead>\n",
       "    <tr style=\"text-align: right;\">\n",
       "      <th></th>\n",
       "      <th>Price</th>\n",
       "      <th>Age_08_04</th>\n",
       "      <th>Mfg_Month</th>\n",
       "      <th>Mfg_Year</th>\n",
       "      <th>KM</th>\n",
       "      <th>HP</th>\n",
       "      <th>Met_Color</th>\n",
       "      <th>Automatic</th>\n",
       "      <th>cc</th>\n",
       "      <th>Doors</th>\n",
       "      <th>...</th>\n",
       "      <th>Radio</th>\n",
       "      <th>Mistlamps</th>\n",
       "      <th>Sport_Model</th>\n",
       "      <th>Backseat_Divider</th>\n",
       "      <th>Metallic_Rim</th>\n",
       "      <th>Radio_cassette</th>\n",
       "      <th>Tow_Bar</th>\n",
       "      <th>CNG</th>\n",
       "      <th>Diesel</th>\n",
       "      <th>Petrol</th>\n",
       "    </tr>\n",
       "  </thead>\n",
       "  <tbody>\n",
       "    <tr>\n",
       "      <th>0</th>\n",
       "      <td>13500</td>\n",
       "      <td>23</td>\n",
       "      <td>10</td>\n",
       "      <td>2002</td>\n",
       "      <td>46986</td>\n",
       "      <td>90</td>\n",
       "      <td>1</td>\n",
       "      <td>0</td>\n",
       "      <td>2000</td>\n",
       "      <td>3</td>\n",
       "      <td>...</td>\n",
       "      <td>0</td>\n",
       "      <td>0</td>\n",
       "      <td>0</td>\n",
       "      <td>1</td>\n",
       "      <td>0</td>\n",
       "      <td>0</td>\n",
       "      <td>0</td>\n",
       "      <td>0</td>\n",
       "      <td>1</td>\n",
       "      <td>0</td>\n",
       "    </tr>\n",
       "    <tr>\n",
       "      <th>1</th>\n",
       "      <td>13750</td>\n",
       "      <td>23</td>\n",
       "      <td>10</td>\n",
       "      <td>2002</td>\n",
       "      <td>72937</td>\n",
       "      <td>90</td>\n",
       "      <td>1</td>\n",
       "      <td>0</td>\n",
       "      <td>2000</td>\n",
       "      <td>3</td>\n",
       "      <td>...</td>\n",
       "      <td>0</td>\n",
       "      <td>0</td>\n",
       "      <td>0</td>\n",
       "      <td>1</td>\n",
       "      <td>0</td>\n",
       "      <td>0</td>\n",
       "      <td>0</td>\n",
       "      <td>0</td>\n",
       "      <td>1</td>\n",
       "      <td>0</td>\n",
       "    </tr>\n",
       "    <tr>\n",
       "      <th>2</th>\n",
       "      <td>13950</td>\n",
       "      <td>24</td>\n",
       "      <td>9</td>\n",
       "      <td>2002</td>\n",
       "      <td>41711</td>\n",
       "      <td>90</td>\n",
       "      <td>1</td>\n",
       "      <td>0</td>\n",
       "      <td>2000</td>\n",
       "      <td>3</td>\n",
       "      <td>...</td>\n",
       "      <td>0</td>\n",
       "      <td>0</td>\n",
       "      <td>0</td>\n",
       "      <td>1</td>\n",
       "      <td>0</td>\n",
       "      <td>0</td>\n",
       "      <td>0</td>\n",
       "      <td>0</td>\n",
       "      <td>1</td>\n",
       "      <td>0</td>\n",
       "    </tr>\n",
       "    <tr>\n",
       "      <th>3</th>\n",
       "      <td>14950</td>\n",
       "      <td>26</td>\n",
       "      <td>7</td>\n",
       "      <td>2002</td>\n",
       "      <td>48000</td>\n",
       "      <td>90</td>\n",
       "      <td>0</td>\n",
       "      <td>0</td>\n",
       "      <td>2000</td>\n",
       "      <td>3</td>\n",
       "      <td>...</td>\n",
       "      <td>0</td>\n",
       "      <td>0</td>\n",
       "      <td>0</td>\n",
       "      <td>1</td>\n",
       "      <td>0</td>\n",
       "      <td>0</td>\n",
       "      <td>0</td>\n",
       "      <td>0</td>\n",
       "      <td>1</td>\n",
       "      <td>0</td>\n",
       "    </tr>\n",
       "    <tr>\n",
       "      <th>4</th>\n",
       "      <td>13750</td>\n",
       "      <td>30</td>\n",
       "      <td>3</td>\n",
       "      <td>2002</td>\n",
       "      <td>38500</td>\n",
       "      <td>90</td>\n",
       "      <td>0</td>\n",
       "      <td>0</td>\n",
       "      <td>2000</td>\n",
       "      <td>3</td>\n",
       "      <td>...</td>\n",
       "      <td>0</td>\n",
       "      <td>1</td>\n",
       "      <td>0</td>\n",
       "      <td>1</td>\n",
       "      <td>0</td>\n",
       "      <td>0</td>\n",
       "      <td>0</td>\n",
       "      <td>0</td>\n",
       "      <td>1</td>\n",
       "      <td>0</td>\n",
       "    </tr>\n",
       "  </tbody>\n",
       "</table>\n",
       "<p>5 rows × 37 columns</p>\n",
       "</div>"
      ],
      "text/plain": [
       "   Price  Age_08_04  Mfg_Month  Mfg_Year     KM  HP  Met_Color  Automatic  \\\n",
       "0  13500         23         10      2002  46986  90          1          0   \n",
       "1  13750         23         10      2002  72937  90          1          0   \n",
       "2  13950         24          9      2002  41711  90          1          0   \n",
       "3  14950         26          7      2002  48000  90          0          0   \n",
       "4  13750         30          3      2002  38500  90          0          0   \n",
       "\n",
       "     cc  Doors  ...  Radio  Mistlamps  Sport_Model  Backseat_Divider  \\\n",
       "0  2000      3  ...      0          0            0                 1   \n",
       "1  2000      3  ...      0          0            0                 1   \n",
       "2  2000      3  ...      0          0            0                 1   \n",
       "3  2000      3  ...      0          0            0                 1   \n",
       "4  2000      3  ...      0          1            0                 1   \n",
       "\n",
       "   Metallic_Rim  Radio_cassette  Tow_Bar  CNG  Diesel  Petrol  \n",
       "0             0               0        0    0       1       0  \n",
       "1             0               0        0    0       1       0  \n",
       "2             0               0        0    0       1       0  \n",
       "3             0               0        0    0       1       0  \n",
       "4             0               0        0    0       1       0  \n",
       "\n",
       "[5 rows x 37 columns]"
      ]
     },
     "execution_count": 12,
     "metadata": {},
     "output_type": "execute_result"
    }
   ],
   "source": [
    "toyota_corolla.head()"
   ]
  },
  {
   "cell_type": "code",
   "execution_count": 13,
   "id": "42d66e44",
   "metadata": {},
   "outputs": [],
   "source": [
    "import statsmodels.api as sm"
   ]
  },
  {
   "cell_type": "code",
   "execution_count": 14,
   "id": "13d8be4d",
   "metadata": {},
   "outputs": [],
   "source": [
    "# 상수항 추가\n",
    "toyota_corolla = sm.add_constant(toyota_corolla, has_constant=\"add\")"
   ]
  },
  {
   "cell_type": "code",
   "execution_count": 15,
   "id": "e0ff9978",
   "metadata": {},
   "outputs": [
    {
     "data": {
      "text/html": [
       "<div>\n",
       "<style scoped>\n",
       "    .dataframe tbody tr th:only-of-type {\n",
       "        vertical-align: middle;\n",
       "    }\n",
       "\n",
       "    .dataframe tbody tr th {\n",
       "        vertical-align: top;\n",
       "    }\n",
       "\n",
       "    .dataframe thead th {\n",
       "        text-align: right;\n",
       "    }\n",
       "</style>\n",
       "<table border=\"1\" class=\"dataframe\">\n",
       "  <thead>\n",
       "    <tr style=\"text-align: right;\">\n",
       "      <th></th>\n",
       "      <th>const</th>\n",
       "      <th>Price</th>\n",
       "      <th>Age_08_04</th>\n",
       "      <th>Mfg_Month</th>\n",
       "      <th>Mfg_Year</th>\n",
       "      <th>KM</th>\n",
       "      <th>HP</th>\n",
       "      <th>Met_Color</th>\n",
       "      <th>Automatic</th>\n",
       "      <th>cc</th>\n",
       "      <th>...</th>\n",
       "      <th>Radio</th>\n",
       "      <th>Mistlamps</th>\n",
       "      <th>Sport_Model</th>\n",
       "      <th>Backseat_Divider</th>\n",
       "      <th>Metallic_Rim</th>\n",
       "      <th>Radio_cassette</th>\n",
       "      <th>Tow_Bar</th>\n",
       "      <th>CNG</th>\n",
       "      <th>Diesel</th>\n",
       "      <th>Petrol</th>\n",
       "    </tr>\n",
       "  </thead>\n",
       "  <tbody>\n",
       "    <tr>\n",
       "      <th>0</th>\n",
       "      <td>1.0</td>\n",
       "      <td>13500</td>\n",
       "      <td>23</td>\n",
       "      <td>10</td>\n",
       "      <td>2002</td>\n",
       "      <td>46986</td>\n",
       "      <td>90</td>\n",
       "      <td>1</td>\n",
       "      <td>0</td>\n",
       "      <td>2000</td>\n",
       "      <td>...</td>\n",
       "      <td>0</td>\n",
       "      <td>0</td>\n",
       "      <td>0</td>\n",
       "      <td>1</td>\n",
       "      <td>0</td>\n",
       "      <td>0</td>\n",
       "      <td>0</td>\n",
       "      <td>0</td>\n",
       "      <td>1</td>\n",
       "      <td>0</td>\n",
       "    </tr>\n",
       "    <tr>\n",
       "      <th>1</th>\n",
       "      <td>1.0</td>\n",
       "      <td>13750</td>\n",
       "      <td>23</td>\n",
       "      <td>10</td>\n",
       "      <td>2002</td>\n",
       "      <td>72937</td>\n",
       "      <td>90</td>\n",
       "      <td>1</td>\n",
       "      <td>0</td>\n",
       "      <td>2000</td>\n",
       "      <td>...</td>\n",
       "      <td>0</td>\n",
       "      <td>0</td>\n",
       "      <td>0</td>\n",
       "      <td>1</td>\n",
       "      <td>0</td>\n",
       "      <td>0</td>\n",
       "      <td>0</td>\n",
       "      <td>0</td>\n",
       "      <td>1</td>\n",
       "      <td>0</td>\n",
       "    </tr>\n",
       "    <tr>\n",
       "      <th>2</th>\n",
       "      <td>1.0</td>\n",
       "      <td>13950</td>\n",
       "      <td>24</td>\n",
       "      <td>9</td>\n",
       "      <td>2002</td>\n",
       "      <td>41711</td>\n",
       "      <td>90</td>\n",
       "      <td>1</td>\n",
       "      <td>0</td>\n",
       "      <td>2000</td>\n",
       "      <td>...</td>\n",
       "      <td>0</td>\n",
       "      <td>0</td>\n",
       "      <td>0</td>\n",
       "      <td>1</td>\n",
       "      <td>0</td>\n",
       "      <td>0</td>\n",
       "      <td>0</td>\n",
       "      <td>0</td>\n",
       "      <td>1</td>\n",
       "      <td>0</td>\n",
       "    </tr>\n",
       "    <tr>\n",
       "      <th>3</th>\n",
       "      <td>1.0</td>\n",
       "      <td>14950</td>\n",
       "      <td>26</td>\n",
       "      <td>7</td>\n",
       "      <td>2002</td>\n",
       "      <td>48000</td>\n",
       "      <td>90</td>\n",
       "      <td>0</td>\n",
       "      <td>0</td>\n",
       "      <td>2000</td>\n",
       "      <td>...</td>\n",
       "      <td>0</td>\n",
       "      <td>0</td>\n",
       "      <td>0</td>\n",
       "      <td>1</td>\n",
       "      <td>0</td>\n",
       "      <td>0</td>\n",
       "      <td>0</td>\n",
       "      <td>0</td>\n",
       "      <td>1</td>\n",
       "      <td>0</td>\n",
       "    </tr>\n",
       "    <tr>\n",
       "      <th>4</th>\n",
       "      <td>1.0</td>\n",
       "      <td>13750</td>\n",
       "      <td>30</td>\n",
       "      <td>3</td>\n",
       "      <td>2002</td>\n",
       "      <td>38500</td>\n",
       "      <td>90</td>\n",
       "      <td>0</td>\n",
       "      <td>0</td>\n",
       "      <td>2000</td>\n",
       "      <td>...</td>\n",
       "      <td>0</td>\n",
       "      <td>1</td>\n",
       "      <td>0</td>\n",
       "      <td>1</td>\n",
       "      <td>0</td>\n",
       "      <td>0</td>\n",
       "      <td>0</td>\n",
       "      <td>0</td>\n",
       "      <td>1</td>\n",
       "      <td>0</td>\n",
       "    </tr>\n",
       "  </tbody>\n",
       "</table>\n",
       "<p>5 rows × 38 columns</p>\n",
       "</div>"
      ],
      "text/plain": [
       "   const  Price  Age_08_04  Mfg_Month  Mfg_Year     KM  HP  Met_Color  \\\n",
       "0    1.0  13500         23         10      2002  46986  90          1   \n",
       "1    1.0  13750         23         10      2002  72937  90          1   \n",
       "2    1.0  13950         24          9      2002  41711  90          1   \n",
       "3    1.0  14950         26          7      2002  48000  90          0   \n",
       "4    1.0  13750         30          3      2002  38500  90          0   \n",
       "\n",
       "   Automatic    cc  ...  Radio  Mistlamps  Sport_Model  Backseat_Divider  \\\n",
       "0          0  2000  ...      0          0            0                 1   \n",
       "1          0  2000  ...      0          0            0                 1   \n",
       "2          0  2000  ...      0          0            0                 1   \n",
       "3          0  2000  ...      0          0            0                 1   \n",
       "4          0  2000  ...      0          1            0                 1   \n",
       "\n",
       "   Metallic_Rim  Radio_cassette  Tow_Bar  CNG  Diesel  Petrol  \n",
       "0             0               0        0    0       1       0  \n",
       "1             0               0        0    0       1       0  \n",
       "2             0               0        0    0       1       0  \n",
       "3             0               0        0    0       1       0  \n",
       "4             0               0        0    0       1       0  \n",
       "\n",
       "[5 rows x 38 columns]"
      ]
     },
     "execution_count": 15,
     "metadata": {},
     "output_type": "execute_result"
    }
   ],
   "source": [
    "toyota_corolla.head()"
   ]
  },
  {
   "cell_type": "markdown",
   "id": "a972207f",
   "metadata": {},
   "source": [
    "### 데이터 셋 분리 - 학습 / 테스트 데이터"
   ]
  },
  {
   "cell_type": "code",
   "execution_count": 16,
   "id": "88b2369c",
   "metadata": {},
   "outputs": [],
   "source": [
    "X_data = toyota_corolla.drop(columns=['Price'])\n",
    "y_data = toyota_corolla['Price']"
   ]
  },
  {
   "cell_type": "code",
   "execution_count": 17,
   "id": "ab377509",
   "metadata": {},
   "outputs": [
    {
     "data": {
      "text/plain": [
       "Index(['const', 'Age_08_04', 'Mfg_Month', 'Mfg_Year', 'KM', 'HP', 'Met_Color',\n",
       "       'Automatic', 'cc', 'Doors', 'Cylinders', 'Gears', 'Quarterly_Tax',\n",
       "       'Weight', 'Mfr_Guarantee', 'BOVAG_Guarantee', 'Guarantee_Period', 'ABS',\n",
       "       'Airbag_1', 'Airbag_2', 'Airco', 'Automatic_airco', 'Boardcomputer',\n",
       "       'CD_Player', 'Central_Lock', 'Powered_Windows', 'Power_Steering',\n",
       "       'Radio', 'Mistlamps', 'Sport_Model', 'Backseat_Divider', 'Metallic_Rim',\n",
       "       'Radio_cassette', 'Tow_Bar', 'CNG', 'Diesel', 'Petrol'],\n",
       "      dtype='object')"
      ]
     },
     "execution_count": 17,
     "metadata": {},
     "output_type": "execute_result"
    }
   ],
   "source": [
    "X_data.columns"
   ]
  },
  {
   "cell_type": "code",
   "execution_count": 18,
   "id": "035df37b",
   "metadata": {},
   "outputs": [],
   "source": [
    "X_train, X_test, y_train, y_test = train_test_split(X_data, y_data, test_size=0.3, random_state=156)"
   ]
  },
  {
   "cell_type": "code",
   "execution_count": 19,
   "id": "9c767b15",
   "metadata": {},
   "outputs": [],
   "source": [
    "train_model_fit = sm.OLS(y_train, X_train).fit()"
   ]
  },
  {
   "cell_type": "code",
   "execution_count": 20,
   "id": "812df63e",
   "metadata": {},
   "outputs": [
    {
     "data": {
      "text/html": [
       "<table class=\"simpletable\">\n",
       "<caption>OLS Regression Results</caption>\n",
       "<tr>\n",
       "  <th>Dep. Variable:</th>          <td>Price</td>      <th>  R-squared:         </th> <td>   0.912</td> \n",
       "</tr>\n",
       "<tr>\n",
       "  <th>Model:</th>                   <td>OLS</td>       <th>  Adj. R-squared:    </th> <td>   0.909</td> \n",
       "</tr>\n",
       "<tr>\n",
       "  <th>Method:</th>             <td>Least Squares</td>  <th>  F-statistic:       </th> <td>   304.4</td> \n",
       "</tr>\n",
       "<tr>\n",
       "  <th>Date:</th>             <td>Wed, 17 Aug 2022</td> <th>  Prob (F-statistic):</th>  <td>  0.00</td>  \n",
       "</tr>\n",
       "<tr>\n",
       "  <th>Time:</th>                 <td>15:51:45</td>     <th>  Log-Likelihood:    </th> <td> -8418.4</td> \n",
       "</tr>\n",
       "<tr>\n",
       "  <th>No. Observations:</th>      <td>  1005</td>      <th>  AIC:               </th> <td>1.690e+04</td>\n",
       "</tr>\n",
       "<tr>\n",
       "  <th>Df Residuals:</th>          <td>   971</td>      <th>  BIC:               </th> <td>1.707e+04</td>\n",
       "</tr>\n",
       "<tr>\n",
       "  <th>Df Model:</th>              <td>    33</td>      <th>                     </th>     <td> </td>    \n",
       "</tr>\n",
       "<tr>\n",
       "  <th>Covariance Type:</th>      <td>nonrobust</td>    <th>                     </th>     <td> </td>    \n",
       "</tr>\n",
       "</table>\n",
       "<table class=\"simpletable\">\n",
       "<tr>\n",
       "          <td></td>            <th>coef</th>     <th>std err</th>      <th>t</th>      <th>P>|t|</th>  <th>[0.025</th>    <th>0.975]</th>  \n",
       "</tr>\n",
       "<tr>\n",
       "  <th>const</th>            <td>   -0.0091</td> <td>    0.001</td> <td>  -15.116</td> <td> 0.000</td> <td>   -0.010</td> <td>   -0.008</td>\n",
       "</tr>\n",
       "<tr>\n",
       "  <th>Age_08_04</th>        <td> -115.2100</td> <td>    3.991</td> <td>  -28.867</td> <td> 0.000</td> <td> -123.042</td> <td> -107.378</td>\n",
       "</tr>\n",
       "<tr>\n",
       "  <th>Mfg_Month</th>        <td>  -96.9936</td> <td>   10.652</td> <td>   -9.106</td> <td> 0.000</td> <td> -117.897</td> <td>  -76.091</td>\n",
       "</tr>\n",
       "<tr>\n",
       "  <th>Mfg_Year</th>         <td>   -0.6059</td> <td>    0.935</td> <td>   -0.648</td> <td> 0.517</td> <td>   -2.440</td> <td>    1.228</td>\n",
       "</tr>\n",
       "<tr>\n",
       "  <th>KM</th>               <td>   -0.0170</td> <td>    0.001</td> <td>  -12.823</td> <td> 0.000</td> <td>   -0.020</td> <td>   -0.014</td>\n",
       "</tr>\n",
       "<tr>\n",
       "  <th>HP</th>               <td>   13.1382</td> <td>    3.704</td> <td>    3.547</td> <td> 0.000</td> <td>    5.869</td> <td>   20.407</td>\n",
       "</tr>\n",
       "<tr>\n",
       "  <th>Met_Color</th>        <td>  -73.5491</td> <td>   76.717</td> <td>   -0.959</td> <td> 0.338</td> <td> -224.100</td> <td>   77.002</td>\n",
       "</tr>\n",
       "<tr>\n",
       "  <th>Automatic</th>        <td>  201.3095</td> <td>  160.928</td> <td>    1.251</td> <td> 0.211</td> <td> -114.496</td> <td>  517.115</td>\n",
       "</tr>\n",
       "<tr>\n",
       "  <th>cc</th>               <td>   -0.0658</td> <td>    0.076</td> <td>   -0.867</td> <td> 0.386</td> <td>   -0.215</td> <td>    0.083</td>\n",
       "</tr>\n",
       "<tr>\n",
       "  <th>Doors</th>            <td>   37.1714</td> <td>   42.709</td> <td>    0.870</td> <td> 0.384</td> <td>  -46.641</td> <td>  120.984</td>\n",
       "</tr>\n",
       "<tr>\n",
       "  <th>Cylinders</th>        <td>   -0.0365</td> <td>    0.002</td> <td>  -15.116</td> <td> 0.000</td> <td>   -0.041</td> <td>   -0.032</td>\n",
       "</tr>\n",
       "<tr>\n",
       "  <th>Gears</th>            <td>  288.8070</td> <td>  200.124</td> <td>    1.443</td> <td> 0.149</td> <td> -103.919</td> <td>  681.533</td>\n",
       "</tr>\n",
       "<tr>\n",
       "  <th>Quarterly_Tax</th>    <td>   10.8998</td> <td>    1.900</td> <td>    5.737</td> <td> 0.000</td> <td>    7.172</td> <td>   14.628</td>\n",
       "</tr>\n",
       "<tr>\n",
       "  <th>Weight</th>           <td>   13.5187</td> <td>    1.529</td> <td>    8.840</td> <td> 0.000</td> <td>   10.518</td> <td>   16.520</td>\n",
       "</tr>\n",
       "<tr>\n",
       "  <th>Mfr_Guarantee</th>    <td>  251.4368</td> <td>   75.265</td> <td>    3.341</td> <td> 0.001</td> <td>  103.736</td> <td>  399.138</td>\n",
       "</tr>\n",
       "<tr>\n",
       "  <th>BOVAG_Guarantee</th>  <td>  488.0830</td> <td>  129.495</td> <td>    3.769</td> <td> 0.000</td> <td>  233.960</td> <td>  742.206</td>\n",
       "</tr>\n",
       "<tr>\n",
       "  <th>Guarantee_Period</th> <td>   58.3430</td> <td>   13.577</td> <td>    4.297</td> <td> 0.000</td> <td>   31.699</td> <td>   84.987</td>\n",
       "</tr>\n",
       "<tr>\n",
       "  <th>ABS</th>              <td> -258.9086</td> <td>  129.515</td> <td>   -1.999</td> <td> 0.046</td> <td> -513.071</td> <td>   -4.746</td>\n",
       "</tr>\n",
       "<tr>\n",
       "  <th>Airbag_1</th>         <td>  166.0755</td> <td>  254.421</td> <td>    0.653</td> <td> 0.514</td> <td> -333.203</td> <td>  665.355</td>\n",
       "</tr>\n",
       "<tr>\n",
       "  <th>Airbag_2</th>         <td> -148.3031</td> <td>  131.875</td> <td>   -1.125</td> <td> 0.261</td> <td> -407.095</td> <td>  110.489</td>\n",
       "</tr>\n",
       "<tr>\n",
       "  <th>Airco</th>            <td>  320.7073</td> <td>   91.208</td> <td>    3.516</td> <td> 0.000</td> <td>  141.719</td> <td>  499.695</td>\n",
       "</tr>\n",
       "<tr>\n",
       "  <th>Automatic_airco</th>  <td> 2356.2134</td> <td>  194.500</td> <td>   12.114</td> <td> 0.000</td> <td> 1974.524</td> <td> 2737.902</td>\n",
       "</tr>\n",
       "<tr>\n",
       "  <th>Boardcomputer</th>    <td> -182.5524</td> <td>  120.944</td> <td>   -1.509</td> <td> 0.132</td> <td> -419.893</td> <td>   54.789</td>\n",
       "</tr>\n",
       "<tr>\n",
       "  <th>CD_Player</th>        <td>  243.5870</td> <td>  103.123</td> <td>    2.362</td> <td> 0.018</td> <td>   41.217</td> <td>  445.957</td>\n",
       "</tr>\n",
       "<tr>\n",
       "  <th>Central_Lock</th>     <td>  -83.7407</td> <td>  156.736</td> <td>   -0.534</td> <td> 0.593</td> <td> -391.322</td> <td>  223.840</td>\n",
       "</tr>\n",
       "<tr>\n",
       "  <th>Powered_Windows</th>  <td>  300.5367</td> <td>  156.209</td> <td>    1.924</td> <td> 0.055</td> <td>   -6.010</td> <td>  607.084</td>\n",
       "</tr>\n",
       "<tr>\n",
       "  <th>Power_Steering</th>   <td>   56.1153</td> <td>  284.074</td> <td>    0.198</td> <td> 0.843</td> <td> -501.355</td> <td>  613.585</td>\n",
       "</tr>\n",
       "<tr>\n",
       "  <th>Radio</th>            <td> 1370.7371</td> <td>  775.113</td> <td>    1.768</td> <td> 0.077</td> <td> -150.353</td> <td> 2891.827</td>\n",
       "</tr>\n",
       "<tr>\n",
       "  <th>Mistlamps</th>        <td>  -89.6491</td> <td>  109.714</td> <td>   -0.817</td> <td> 0.414</td> <td> -304.953</td> <td>  125.655</td>\n",
       "</tr>\n",
       "<tr>\n",
       "  <th>Sport_Model</th>      <td>  312.9580</td> <td>   92.004</td> <td>    3.402</td> <td> 0.001</td> <td>  132.408</td> <td>  493.508</td>\n",
       "</tr>\n",
       "<tr>\n",
       "  <th>Backseat_Divider</th> <td> -232.8277</td> <td>  129.333</td> <td>   -1.800</td> <td> 0.072</td> <td> -486.632</td> <td>   20.976</td>\n",
       "</tr>\n",
       "<tr>\n",
       "  <th>Metallic_Rim</th>     <td>  234.7035</td> <td>   97.092</td> <td>    2.417</td> <td> 0.016</td> <td>   44.170</td> <td>  425.237</td>\n",
       "</tr>\n",
       "<tr>\n",
       "  <th>Radio_cassette</th>   <td>-1478.5349</td> <td>  773.040</td> <td>   -1.913</td> <td> 0.056</td> <td>-2995.557</td> <td>   38.488</td>\n",
       "</tr>\n",
       "<tr>\n",
       "  <th>Tow_Bar</th>          <td> -192.4677</td> <td>   81.094</td> <td>   -2.373</td> <td> 0.018</td> <td> -351.607</td> <td>  -33.328</td>\n",
       "</tr>\n",
       "<tr>\n",
       "  <th>CNG</th>              <td> -857.7121</td> <td>  214.942</td> <td>   -3.990</td> <td> 0.000</td> <td>-1279.516</td> <td> -435.909</td>\n",
       "</tr>\n",
       "<tr>\n",
       "  <th>Diesel</th>           <td> -217.9471</td> <td>  195.757</td> <td>   -1.113</td> <td> 0.266</td> <td> -602.102</td> <td>  166.208</td>\n",
       "</tr>\n",
       "<tr>\n",
       "  <th>Petrol</th>           <td> 1075.6501</td> <td>  198.205</td> <td>    5.427</td> <td> 0.000</td> <td>  686.691</td> <td> 1464.609</td>\n",
       "</tr>\n",
       "</table>\n",
       "<table class=\"simpletable\">\n",
       "<tr>\n",
       "  <th>Omnibus:</th>       <td>89.900</td> <th>  Durbin-Watson:     </th> <td>   1.907</td>\n",
       "</tr>\n",
       "<tr>\n",
       "  <th>Prob(Omnibus):</th> <td> 0.000</td> <th>  Jarque-Bera (JB):  </th> <td> 355.754</td>\n",
       "</tr>\n",
       "<tr>\n",
       "  <th>Skew:</th>          <td> 0.333</td> <th>  Prob(JB):          </th> <td>5.61e-78</td>\n",
       "</tr>\n",
       "<tr>\n",
       "  <th>Kurtosis:</th>      <td> 5.838</td> <th>  Cond. No.          </th> <td>2.81e+19</td>\n",
       "</tr>\n",
       "</table><br/><br/>Notes:<br/>[1] Standard Errors assume that the covariance matrix of the errors is correctly specified.<br/>[2] The smallest eigenvalue is 7.97e-27. This might indicate that there are<br/>strong multicollinearity problems or that the design matrix is singular."
      ],
      "text/plain": [
       "<class 'statsmodels.iolib.summary.Summary'>\n",
       "\"\"\"\n",
       "                            OLS Regression Results                            \n",
       "==============================================================================\n",
       "Dep. Variable:                  Price   R-squared:                       0.912\n",
       "Model:                            OLS   Adj. R-squared:                  0.909\n",
       "Method:                 Least Squares   F-statistic:                     304.4\n",
       "Date:                Wed, 17 Aug 2022   Prob (F-statistic):               0.00\n",
       "Time:                        15:51:45   Log-Likelihood:                -8418.4\n",
       "No. Observations:                1005   AIC:                         1.690e+04\n",
       "Df Residuals:                     971   BIC:                         1.707e+04\n",
       "Df Model:                          33                                         \n",
       "Covariance Type:            nonrobust                                         \n",
       "====================================================================================\n",
       "                       coef    std err          t      P>|t|      [0.025      0.975]\n",
       "------------------------------------------------------------------------------------\n",
       "const               -0.0091      0.001    -15.116      0.000      -0.010      -0.008\n",
       "Age_08_04         -115.2100      3.991    -28.867      0.000    -123.042    -107.378\n",
       "Mfg_Month          -96.9936     10.652     -9.106      0.000    -117.897     -76.091\n",
       "Mfg_Year            -0.6059      0.935     -0.648      0.517      -2.440       1.228\n",
       "KM                  -0.0170      0.001    -12.823      0.000      -0.020      -0.014\n",
       "HP                  13.1382      3.704      3.547      0.000       5.869      20.407\n",
       "Met_Color          -73.5491     76.717     -0.959      0.338    -224.100      77.002\n",
       "Automatic          201.3095    160.928      1.251      0.211    -114.496     517.115\n",
       "cc                  -0.0658      0.076     -0.867      0.386      -0.215       0.083\n",
       "Doors               37.1714     42.709      0.870      0.384     -46.641     120.984\n",
       "Cylinders           -0.0365      0.002    -15.116      0.000      -0.041      -0.032\n",
       "Gears              288.8070    200.124      1.443      0.149    -103.919     681.533\n",
       "Quarterly_Tax       10.8998      1.900      5.737      0.000       7.172      14.628\n",
       "Weight              13.5187      1.529      8.840      0.000      10.518      16.520\n",
       "Mfr_Guarantee      251.4368     75.265      3.341      0.001     103.736     399.138\n",
       "BOVAG_Guarantee    488.0830    129.495      3.769      0.000     233.960     742.206\n",
       "Guarantee_Period    58.3430     13.577      4.297      0.000      31.699      84.987\n",
       "ABS               -258.9086    129.515     -1.999      0.046    -513.071      -4.746\n",
       "Airbag_1           166.0755    254.421      0.653      0.514    -333.203     665.355\n",
       "Airbag_2          -148.3031    131.875     -1.125      0.261    -407.095     110.489\n",
       "Airco              320.7073     91.208      3.516      0.000     141.719     499.695\n",
       "Automatic_airco   2356.2134    194.500     12.114      0.000    1974.524    2737.902\n",
       "Boardcomputer     -182.5524    120.944     -1.509      0.132    -419.893      54.789\n",
       "CD_Player          243.5870    103.123      2.362      0.018      41.217     445.957\n",
       "Central_Lock       -83.7407    156.736     -0.534      0.593    -391.322     223.840\n",
       "Powered_Windows    300.5367    156.209      1.924      0.055      -6.010     607.084\n",
       "Power_Steering      56.1153    284.074      0.198      0.843    -501.355     613.585\n",
       "Radio             1370.7371    775.113      1.768      0.077    -150.353    2891.827\n",
       "Mistlamps          -89.6491    109.714     -0.817      0.414    -304.953     125.655\n",
       "Sport_Model        312.9580     92.004      3.402      0.001     132.408     493.508\n",
       "Backseat_Divider  -232.8277    129.333     -1.800      0.072    -486.632      20.976\n",
       "Metallic_Rim       234.7035     97.092      2.417      0.016      44.170     425.237\n",
       "Radio_cassette   -1478.5349    773.040     -1.913      0.056   -2995.557      38.488\n",
       "Tow_Bar           -192.4677     81.094     -2.373      0.018    -351.607     -33.328\n",
       "CNG               -857.7121    214.942     -3.990      0.000   -1279.516    -435.909\n",
       "Diesel            -217.9471    195.757     -1.113      0.266    -602.102     166.208\n",
       "Petrol            1075.6501    198.205      5.427      0.000     686.691    1464.609\n",
       "==============================================================================\n",
       "Omnibus:                       89.900   Durbin-Watson:                   1.907\n",
       "Prob(Omnibus):                  0.000   Jarque-Bera (JB):              355.754\n",
       "Skew:                           0.333   Prob(JB):                     5.61e-78\n",
       "Kurtosis:                       5.838   Cond. No.                     2.81e+19\n",
       "==============================================================================\n",
       "\n",
       "Notes:\n",
       "[1] Standard Errors assume that the covariance matrix of the errors is correctly specified.\n",
       "[2] The smallest eigenvalue is 7.97e-27. This might indicate that there are\n",
       "strong multicollinearity problems or that the design matrix is singular.\n",
       "\"\"\""
      ]
     },
     "execution_count": 20,
     "metadata": {},
     "output_type": "execute_result"
    }
   ],
   "source": [
    "train_model_fit.summary()"
   ]
  },
  {
   "cell_type": "code",
   "execution_count": 22,
   "id": "a4c6d1dc",
   "metadata": {},
   "outputs": [],
   "source": [
    "# 학습 데이터 예측치\n",
    "pred_y = train_model_fit.predict(X_train)"
   ]
  },
  {
   "cell_type": "code",
   "execution_count": 23,
   "id": "303edaba",
   "metadata": {},
   "outputs": [],
   "source": [
    "#학습 데이터 잔차 ( 실제값 - 추정치 )\n",
    "res = train_model_fit.resid"
   ]
  },
  {
   "cell_type": "code",
   "execution_count": 25,
   "id": "5e4cbfdd",
   "metadata": {},
   "outputs": [
    {
     "data": {
      "image/png": "[encoded data removed]",
      "text/plain": [
       "<Figure size 432x288 with 1 Axes>"
      ]
     },
     "metadata": {
      "needs_background": "light"
     },
     "output_type": "display_data"
    }
   ],
   "source": [
    "plt.scatter(pred_y, res, s=4)\n",
    "plt.xlim(4000, 30000)\n",
    "plt.xlabel('Fitted values')\n",
    "plt.ylabel('Residual')\n",
    "plt.show()"
   ]
  },
  {
   "cell_type": "code",
   "execution_count": 29,
   "id": "98b625fa",
   "metadata": {},
   "outputs": [],
   "source": [
    "# 테스트 데이터 예측\n",
    "pred_y2 = train_model_fit.predict(X_test)"
   ]
  },
  {
   "cell_type": "code",
   "execution_count": 30,
   "id": "a601960a",
   "metadata": {},
   "outputs": [
    {
     "data": {
      "text/plain": [
       "[<matplotlib.lines.Line2D at 0x1fcbb31d1c0>]"
      ]
     },
     "execution_count": 30,
     "metadata": {},
     "output_type": "execute_result"
    },
    {
     "data": {
      "image/png": "[encoded data removed]",
      "text/plain": [
       "<Figure size 432x288 with 1 Axes>"
      ]
     },
     "metadata": {
      "needs_background": "light"
     },
     "output_type": "display_data"
    }
   ],
   "source": [
    "plt.plot(np.array(y_test-pred_y2))"
   ]
  },
  {
   "cell_type": "markdown",
   "id": "2b5fc859",
   "metadata": {},
   "source": [
    "### 사이킷-런"
   ]
  },
  {
   "cell_type": "code",
   "execution_count": 34,
   "id": "bdfbdead",
   "metadata": {},
   "outputs": [],
   "source": [
    "toyota_corolla = pd.concat([toyota_df1, Fuel], 1)"
   ]
  },
  {
   "cell_type": "code",
   "execution_count": 35,
   "id": "99b45b5d",
   "metadata": {},
   "outputs": [],
   "source": [
    "lr = LinearRegression()"
   ]
  },
  {
   "cell_type": "code",
   "execution_count": 36,
   "id": "11781011",
   "metadata": {},
   "outputs": [
    {
     "data": {
      "text/html": [
       "<style>#sk-container-id-1 {color: black;background-color: white;}#sk-container-id-1 pre{padding: 0;}#sk-container-id-1 div.sk-toggleable {background-color: white;}#sk-container-id-1 label.sk-toggleable__label {cursor: pointer;display: block;width: 100%;margin-bottom: 0;padding: 0.3em;box-sizing: border-box;text-align: center;}#sk-container-id-1 label.sk-toggleable__label-arrow:before {content: \"▸\";float: left;margin-right: 0.25em;color: #696969;}#sk-container-id-1 label.sk-toggleable__label-arrow:hover:before {color: black;}#sk-container-id-1 div.sk-estimator:hover label.sk-toggleable__label-arrow:before {color: black;}#sk-container-id-1 div.sk-toggleable__content {max-height: 0;max-width: 0;overflow: hidden;text-align: left;background-color: #f0f8ff;}#sk-container-id-1 div.sk-toggleable__content pre {margin: 0.2em;color: black;border-radius: 0.25em;background-color: #f0f8ff;}#sk-container-id-1 input.sk-toggleable__control:checked~div.sk-toggleable__content {max-height: 200px;max-width: 100%;overflow: auto;}#sk-container-id-1 input.sk-toggleable__control:checked~label.sk-toggleable__label-arrow:before {content: \"▾\";}#sk-container-id-1 div.sk-estimator input.sk-toggleable__control:checked~label.sk-toggleable__label {background-color: #d4ebff;}#sk-container-id-1 div.sk-label input.sk-toggleable__control:checked~label.sk-toggleable__label {background-color: #d4ebff;}#sk-container-id-1 input.sk-hidden--visually {border: 0;clip: rect(1px 1px 1px 1px);clip: rect(1px, 1px, 1px, 1px);height: 1px;margin: -1px;overflow: hidden;padding: 0;position: absolute;width: 1px;}#sk-container-id-1 div.sk-estimator {font-family: monospace;background-color: #f0f8ff;border: 1px dotted black;border-radius: 0.25em;box-sizing: border-box;margin-bottom: 0.5em;}#sk-container-id-1 div.sk-estimator:hover {background-color: #d4ebff;}#sk-container-id-1 div.sk-parallel-item::after {content: \"\";width: 100%;border-bottom: 1px solid gray;flex-grow: 1;}#sk-container-id-1 div.sk-label:hover label.sk-toggleable__label {background-color: #d4ebff;}#sk-container-id-1 div.sk-serial::before {content: \"\";position: absolute;border-left: 1px solid gray;box-sizing: border-box;top: 0;bottom: 0;left: 50%;z-index: 0;}#sk-container-id-1 div.sk-serial {display: flex;flex-direction: column;align-items: center;background-color: white;padding-right: 0.2em;padding-left: 0.2em;position: relative;}#sk-container-id-1 div.sk-item {position: relative;z-index: 1;}#sk-container-id-1 div.sk-parallel {display: flex;align-items: stretch;justify-content: center;background-color: white;position: relative;}#sk-container-id-1 div.sk-item::before, #sk-container-id-1 div.sk-parallel-item::before {content: \"\";position: absolute;border-left: 1px solid gray;box-sizing: border-box;top: 0;bottom: 0;left: 50%;z-index: -1;}#sk-container-id-1 div.sk-parallel-item {display: flex;flex-direction: column;z-index: 1;position: relative;background-color: white;}#sk-container-id-1 div.sk-parallel-item:first-child::after {align-self: flex-end;width: 50%;}#sk-container-id-1 div.sk-parallel-item:last-child::after {align-self: flex-start;width: 50%;}#sk-container-id-1 div.sk-parallel-item:only-child::after {width: 0;}#sk-container-id-1 div.sk-dashed-wrapped {border: 1px dashed gray;margin: 0 0.4em 0.5em 0.4em;box-sizing: border-box;padding-bottom: 0.4em;background-color: white;}#sk-container-id-1 div.sk-label label {font-family: monospace;font-weight: bold;display: inline-block;line-height: 1.2em;}#sk-container-id-1 div.sk-label-container {text-align: center;}#sk-container-id-1 div.sk-container {/* jupyter's `normalize.less` sets `[hidden] { display: none; }` but bootstrap.min.css set `[hidden] { display: none !important; }` so we also need the `!important` here to be able to override the default hidden behavior on the sphinx rendered scikit-learn.org. See: https://github.com/scikit-learn/scikit-learn/issues/21755 */display: inline-block !important;position: relative;}#sk-container-id-1 div.sk-text-repr-fallback {display: none;}</style><div id=\"sk-container-id-1\" class=\"sk-top-container\"><div class=\"sk-text-repr-fallback\"><pre>LinearRegression()</pre><b>In a Jupyter environment, please rerun this cell to show the HTML representation or trust the notebook. <br />On GitHub, the HTML representation is unable to render, please try loading this page with nbviewer.org.</b></div><div class=\"sk-container\" hidden><div class=\"sk-item\"><div class=\"sk-estimator sk-toggleable\"><input class=\"sk-toggleable__control sk-hidden--visually\" id=\"sk-estimator-id-1\" type=\"checkbox\" checked><label for=\"sk-estimator-id-1\" class=\"sk-toggleable__label sk-toggleable__label-arrow\">LinearRegression</label><div class=\"sk-toggleable__content\"><pre>LinearRegression()</pre></div></div></div></div></div>"
      ],
      "text/plain": [
       "LinearRegression()"
      ]
     },
     "execution_count": 36,
     "metadata": {},
     "output_type": "execute_result"
    }
   ],
   "source": [
    "lr.fit(X_train, y_train)"
   ]
  },
  {
   "cell_type": "code",
   "execution_count": 37,
   "id": "a66464ac",
   "metadata": {},
   "outputs": [
    {
     "data": {
      "text/plain": [
       "-36163.79286696841"
      ]
     },
     "execution_count": 37,
     "metadata": {},
     "output_type": "execute_result"
    }
   ],
   "source": [
    "lr.intercept_"
   ]
  },
  {
   "cell_type": "code",
   "execution_count": 38,
   "id": "1ef8a8d9",
   "metadata": {},
   "outputs": [
    {
     "data": {
      "text/plain": [
       "array([-7.37833743e-09, -1.13706727e+02, -9.54903850e+01,  1.74330926e+01,\n",
       "       -1.70383394e-02,  1.31381751e+01, -7.35490609e+01,  2.01309499e+02,\n",
       "       -6.57556948e-02,  3.71713788e+01,  6.82121026e-13,  2.88806955e+02,\n",
       "        1.08998362e+01,  1.35187449e+01,  2.51436797e+02,  4.88082965e+02,\n",
       "        5.83430119e+01, -2.58908616e+02,  1.66075538e+02, -1.48303130e+02,\n",
       "        3.20707263e+02,  2.35621337e+03, -1.82552382e+02,  2.43587015e+02,\n",
       "       -8.37407095e+01,  3.00536679e+02,  5.61153424e+01,  1.37073710e+03,\n",
       "       -8.96491300e+01,  3.12958013e+02, -2.32827700e+02,  2.34703465e+02,\n",
       "       -1.47853492e+03, -1.92467678e+02, -8.57709101e+02, -2.17944039e+02,\n",
       "        1.07565314e+03])"
      ]
     },
     "execution_count": 38,
     "metadata": {},
     "output_type": "execute_result"
    }
   ],
   "source": [
    "lr.coef_"
   ]
  },
  {
   "cell_type": "code",
   "execution_count": 39,
   "id": "f6633158",
   "metadata": {},
   "outputs": [],
   "source": [
    "y_pred = lr.predict(X_test)"
   ]
  },
  {
   "cell_type": "code",
   "execution_count": 41,
   "id": "ed45fce5",
   "metadata": {},
   "outputs": [],
   "source": [
    "mse = mean_squared_error(y_test, y_pred)\n",
    "rmse = np.sqrt(mse)"
   ]
  },
  {
   "cell_type": "code",
   "execution_count": 43,
   "id": "c4586f24",
   "metadata": {},
   "outputs": [
    {
     "name": "stdout",
     "output_type": "stream",
     "text": [
      "MSE :: 1487505.826\n",
      "RMSE :: 1219.633\n",
      "R2 :: 0.898\n"
     ]
    }
   ],
   "source": [
    "print('MSE :: {0:.3f}'.format(mse))\n",
    "print('RMSE :: {0:.3f}'.format(rmse))\n",
    "print('R2 :: {0:.3f}'.format(r2_score(y_test, y_pred)))"
   ]
  },
  {
   "cell_type": "code",
   "execution_count": 44,
   "id": "ef704544",
   "metadata": {},
   "outputs": [
    {
     "data": {
      "text/plain": [
       "0.8975054391019354"
      ]
     },
     "execution_count": 44,
     "metadata": {},
     "output_type": "execute_result"
    }
   ],
   "source": [
    "lr.score(X_test, y_test)"
   ]
  },
  {
   "cell_type": "code",
   "execution_count": 45,
   "id": "f8598670",
   "metadata": {},
   "outputs": [
    {
     "data": {
      "text/plain": [
       "0.9118639280998729"
      ]
     },
     "execution_count": 45,
     "metadata": {},
     "output_type": "execute_result"
    }
   ],
   "source": [
    "lr.score(X_train, y_train)"
   ]
  },
  {
   "cell_type": "code",
   "execution_count": null,
   "id": "9f844ce5",
   "metadata": {},
   "outputs": [],
   "source": []
  }
 ],
 "metadata": {
  "kernelspec": {
   "display_name": "Python 3 (ipykernel)",
   "language": "python",
   "name": "python3"
  },
  "language_info": {
   "codemirror_mode": {
    "name": "ipython",
    "version": 3
   },
   "file_extension": ".py",
   "mimetype": "text/x-python",
   "name": "python",
   "nbconvert_exporter": "python",
   "pygments_lexer": "ipython3",
   "version": "3.9.12"
  }
 },
 "nbformat": 4,
 "nbformat_minor": 5
}
